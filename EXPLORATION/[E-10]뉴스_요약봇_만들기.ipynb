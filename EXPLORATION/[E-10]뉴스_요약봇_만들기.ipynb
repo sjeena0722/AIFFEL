{
 "cells": [
  {
   "cell_type": "markdown",
   "id": "prospective-habitat",
   "metadata": {},
   "source": [
    "# EXPLORATION_10"
   ]
  },
  {
   "cell_type": "markdown",
   "id": "eight-right",
   "metadata": {},
   "source": [
    "## 프로젝트: 뉴스기사 요약해보기\n",
    "새로운 데이터셋에 대해서 추상적 요약과 추출적 요약을 모두 해보는 시간을 가져봐요."
   ]
  },
  {
   "cell_type": "code",
   "execution_count": 150,
   "id": "sunset-phone",
   "metadata": {},
   "outputs": [
    {
     "name": "stdout",
     "output_type": "stream",
     "text": [
      "=3\n"
     ]
    },
    {
     "name": "stderr",
     "output_type": "stream",
     "text": [
      "[nltk_data] Downloading package stopwords to /aiffel/nltk_data...\n",
      "[nltk_data]   Package stopwords is already up-to-date!\n"
     ]
    }
   ],
   "source": [
    "import nltk\n",
    "nltk.download('stopwords')\n",
    "\n",
    "import numpy as np\n",
    "import pandas as pd\n",
    "import os\n",
    "import re\n",
    "import matplotlib.pyplot as plt\n",
    "from nltk.corpus import stopwords\n",
    "from bs4 import BeautifulSoup \n",
    "from tensorflow.keras.preprocessing.text import Tokenizer \n",
    "from tensorflow.keras.preprocessing.sequence import pad_sequences\n",
    "import urllib.request\n",
    "\n",
    "print('=3')"
   ]
  },
  {
   "cell_type": "markdown",
   "id": "accredited-assumption",
   "metadata": {},
   "source": [
    "## 1. 데이터 수집하기"
   ]
  },
  {
   "cell_type": "code",
   "execution_count": 151,
   "id": "motivated-blond",
   "metadata": {},
   "outputs": [],
   "source": [
    "import urllib.request\n",
    "urllib.request.urlretrieve(\"https://raw.githubusercontent.com/sunnysai12345/News_Summary/master/news_summary_more.csv\", filename=\"news_summary_more.csv\")\n",
    "data = pd.read_csv('news_summary_more.csv', encoding='iso-8859-1')"
   ]
  },
  {
   "cell_type": "code",
   "execution_count": 152,
   "id": "robust-housing",
   "metadata": {
    "scrolled": true
   },
   "outputs": [
    {
     "data": {
      "text/html": [
       "<div>\n",
       "<style scoped>\n",
       "    .dataframe tbody tr th:only-of-type {\n",
       "        vertical-align: middle;\n",
       "    }\n",
       "\n",
       "    .dataframe tbody tr th {\n",
       "        vertical-align: top;\n",
       "    }\n",
       "\n",
       "    .dataframe thead th {\n",
       "        text-align: right;\n",
       "    }\n",
       "</style>\n",
       "<table border=\"1\" class=\"dataframe\">\n",
       "  <thead>\n",
       "    <tr style=\"text-align: right;\">\n",
       "      <th></th>\n",
       "      <th>headlines</th>\n",
       "      <th>text</th>\n",
       "    </tr>\n",
       "  </thead>\n",
       "  <tbody>\n",
       "    <tr>\n",
       "      <th>37335</th>\n",
       "      <td>Bihar CM Nitish Kumar skips International Yoga...</td>\n",
       "      <td>After Bihar Chief Minister Nitish Kumar skippe...</td>\n",
       "    </tr>\n",
       "    <tr>\n",
       "      <th>89887</th>\n",
       "      <td>FB to delete thousands of fake profiles ahead ...</td>\n",
       "      <td>Facebook will be deleting \"tens of thousands\" ...</td>\n",
       "    </tr>\n",
       "    <tr>\n",
       "      <th>43953</th>\n",
       "      <td>Iran backs Pakistan over Kashmir issue</td>\n",
       "      <td>Iran has backed Pakistan over the Kashmir issu...</td>\n",
       "    </tr>\n",
       "    <tr>\n",
       "      <th>39998</th>\n",
       "      <td>Rao, Bhumi in Kareena, Akshay's next film with...</td>\n",
       "      <td>Rajkummar Rao and Bhumi Pednekar will star opp...</td>\n",
       "    </tr>\n",
       "    <tr>\n",
       "      <th>57267</th>\n",
       "      <td>PM slams Cong for choosing leader supporting '...</td>\n",
       "      <td>Prime Minister Narendra Modi on Saturday attac...</td>\n",
       "    </tr>\n",
       "    <tr>\n",
       "      <th>39138</th>\n",
       "      <td>China hacked sensitive US Navy undersea warfar...</td>\n",
       "      <td>China reportedly hacked the computers of a US ...</td>\n",
       "    </tr>\n",
       "    <tr>\n",
       "      <th>13488</th>\n",
       "      <td>Bishop granted conditional bail in Kerala nun ...</td>\n",
       "      <td>The Kerala High Court on Monday granted condit...</td>\n",
       "    </tr>\n",
       "    <tr>\n",
       "      <th>55445</th>\n",
       "      <td>Revolutionised the telecom sector: 2G scam acq...</td>\n",
       "      <td>After being acquitted in the 2G spectrum alloc...</td>\n",
       "    </tr>\n",
       "    <tr>\n",
       "      <th>56958</th>\n",
       "      <td>Lie if you have to, don't admit you don't know...</td>\n",
       "      <td>A video of Karnataka BJP leader KS Eshwarappa ...</td>\n",
       "    </tr>\n",
       "    <tr>\n",
       "      <th>41987</th>\n",
       "      <td>Donate temple flowers to widows in Mathura, Vr...</td>\n",
       "      <td>The Supreme Court on Tuesday directed temples ...</td>\n",
       "    </tr>\n",
       "  </tbody>\n",
       "</table>\n",
       "</div>"
      ],
      "text/plain": [
       "                                               headlines  \\\n",
       "37335  Bihar CM Nitish Kumar skips International Yoga...   \n",
       "89887  FB to delete thousands of fake profiles ahead ...   \n",
       "43953             Iran backs Pakistan over Kashmir issue   \n",
       "39998  Rao, Bhumi in Kareena, Akshay's next film with...   \n",
       "57267  PM slams Cong for choosing leader supporting '...   \n",
       "39138  China hacked sensitive US Navy undersea warfar...   \n",
       "13488  Bishop granted conditional bail in Kerala nun ...   \n",
       "55445  Revolutionised the telecom sector: 2G scam acq...   \n",
       "56958  Lie if you have to, don't admit you don't know...   \n",
       "41987  Donate temple flowers to widows in Mathura, Vr...   \n",
       "\n",
       "                                                    text  \n",
       "37335  After Bihar Chief Minister Nitish Kumar skippe...  \n",
       "89887  Facebook will be deleting \"tens of thousands\" ...  \n",
       "43953  Iran has backed Pakistan over the Kashmir issu...  \n",
       "39998  Rajkummar Rao and Bhumi Pednekar will star opp...  \n",
       "57267  Prime Minister Narendra Modi on Saturday attac...  \n",
       "39138  China reportedly hacked the computers of a US ...  \n",
       "13488  The Kerala High Court on Monday granted condit...  \n",
       "55445  After being acquitted in the 2G spectrum alloc...  \n",
       "56958  A video of Karnataka BJP leader KS Eshwarappa ...  \n",
       "41987  The Supreme Court on Tuesday directed temples ...  "
      ]
     },
     "execution_count": 152,
     "metadata": {},
     "output_type": "execute_result"
    }
   ],
   "source": [
    "data.sample(10)"
   ]
  },
  {
   "cell_type": "code",
   "execution_count": 153,
   "id": "alpha-commercial",
   "metadata": {},
   "outputs": [
    {
     "name": "stdout",
     "output_type": "stream",
     "text": [
      "<class 'pandas.core.frame.DataFrame'>\n",
      "RangeIndex: 98401 entries, 0 to 98400\n",
      "Data columns (total 2 columns):\n",
      " #   Column     Non-Null Count  Dtype \n",
      "---  ------     --------------  ----- \n",
      " 0   headlines  98401 non-null  object\n",
      " 1   text       98401 non-null  object\n",
      "dtypes: object(2)\n",
      "memory usage: 1.5+ MB\n"
     ]
    }
   ],
   "source": [
    "data.info()"
   ]
  },
  {
   "cell_type": "markdown",
   "id": "latest-procurement",
   "metadata": {},
   "source": [
    "이 데이터는 기사의 본문에 해당되는 text와 headlines 두 가지 열로 구성되어져 있습니다.\n",
    "\n",
    "추상적 요약을 하는 경우에는 text를 본문, headlines를 이미 요약된 데이터로 삼아서 모델을 학습할 수 있어요. 추출적 요약을 하는 경우에는 오직 text열만을 사용하세요.\n",
    "\n"
   ]
  },
  {
   "cell_type": "markdown",
   "id": "elementary-growing",
   "metadata": {},
   "source": [
    "## 2. 데이터 전처리하기 (추상적 요약)"
   ]
  },
  {
   "cell_type": "markdown",
   "id": "mediterranean-trauma",
   "metadata": {},
   "source": [
    "실습에서 사용된 전처리를 참고하여 각자 필요하다고 생각하는 전처리를 추가 사용하여 텍스트를 정규화 또는 정제해 보세요. 만약, 불용어 제거를 선택한다면 상대적으로 길이가 짧은 요약 데이터에 대해서도 불용어를 제거하는 것이 좋을지 고민해 보세요."
   ]
  },
  {
   "cell_type": "markdown",
   "id": "colored-essence",
   "metadata": {},
   "source": [
    "#### 중복 샘플과 NULL 값이 존재하는 샘플 제거"
   ]
  },
  {
   "cell_type": "code",
   "execution_count": 154,
   "id": "spare-adventure",
   "metadata": {},
   "outputs": [
    {
     "name": "stdout",
     "output_type": "stream",
     "text": [
      "text 열에서 중복을 배제한 유일한 샘플의 수 : 98360\n",
      "headlines 열에서 중복을 배제한 유일한 샘플의 수 : 98280\n"
     ]
    }
   ],
   "source": [
    "print('text 열에서 중복을 배제한 유일한 샘플의 수 :', data['text'].nunique())\n",
    "print('headlines 열에서 중복을 배제한 유일한 샘플의 수 :', data['headlines'].nunique())"
   ]
  },
  {
   "cell_type": "code",
   "execution_count": 155,
   "id": "outdoor-funds",
   "metadata": {},
   "outputs": [
    {
     "name": "stdout",
     "output_type": "stream",
     "text": [
      "전체 샘플수 : 98360\n"
     ]
    }
   ],
   "source": [
    "# inplace=True 를 설정하면 DataFrame 타입 값을 return 하지 않고 data 내부를 직접적으로 바꿉니다\n",
    "data.drop_duplicates(subset = ['text'], inplace=True)\n",
    "print('전체 샘플수 :', (len(data)))"
   ]
  },
  {
   "cell_type": "code",
   "execution_count": 156,
   "id": "provincial-greenhouse",
   "metadata": {},
   "outputs": [
    {
     "name": "stdout",
     "output_type": "stream",
     "text": [
      "headlines    0\n",
      "text         0\n",
      "dtype: int64\n"
     ]
    }
   ],
   "source": [
    "print(data.isnull().sum())"
   ]
  },
  {
   "cell_type": "markdown",
   "id": "nasty-veteran",
   "metadata": {},
   "source": [
    "#### 텍스트 정규화와 불용어 제거"
   ]
  },
  {
   "cell_type": "code",
   "execution_count": 157,
   "id": "willing-brisbane",
   "metadata": {},
   "outputs": [
    {
     "name": "stdout",
     "output_type": "stream",
     "text": [
      "정규화 사전의 수:  120\n"
     ]
    }
   ],
   "source": [
    "contractions = {\"ain't\": \"is not\", \"aren't\": \"are not\",\"can't\": \"cannot\", \"'cause\": \"because\", \"could've\": \"could have\", \"couldn't\": \"could not\",\n",
    "                           \"didn't\": \"did not\",  \"doesn't\": \"does not\", \"don't\": \"do not\", \"hadn't\": \"had not\", \"hasn't\": \"has not\", \"haven't\": \"have not\",\n",
    "                           \"he'd\": \"he would\",\"he'll\": \"he will\", \"he's\": \"he is\", \"how'd\": \"how did\", \"how'd'y\": \"how do you\", \"how'll\": \"how will\", \"how's\": \"how is\",\n",
    "                           \"I'd\": \"I would\", \"I'd've\": \"I would have\", \"I'll\": \"I will\", \"I'll've\": \"I will have\",\"I'm\": \"I am\", \"I've\": \"I have\", \"i'd\": \"i would\",\n",
    "                           \"i'd've\": \"i would have\", \"i'll\": \"i will\",  \"i'll've\": \"i will have\",\"i'm\": \"i am\", \"i've\": \"i have\", \"isn't\": \"is not\", \"it'd\": \"it would\",\n",
    "                           \"it'd've\": \"it would have\", \"it'll\": \"it will\", \"it'll've\": \"it will have\",\"it's\": \"it is\", \"let's\": \"let us\", \"ma'am\": \"madam\",\n",
    "                           \"mayn't\": \"may not\", \"might've\": \"might have\",\"mightn't\": \"might not\",\"mightn't've\": \"might not have\", \"must've\": \"must have\",\n",
    "                           \"mustn't\": \"must not\", \"mustn't've\": \"must not have\", \"needn't\": \"need not\", \"needn't've\": \"need not have\",\"o'clock\": \"of the clock\",\n",
    "                           \"oughtn't\": \"ought not\", \"oughtn't've\": \"ought not have\", \"shan't\": \"shall not\", \"sha'n't\": \"shall not\", \"shan't've\": \"shall not have\",\n",
    "                           \"she'd\": \"she would\", \"she'd've\": \"she would have\", \"she'll\": \"she will\", \"she'll've\": \"she will have\", \"she's\": \"she is\",\n",
    "                           \"should've\": \"should have\", \"shouldn't\": \"should not\", \"shouldn't've\": \"should not have\", \"so've\": \"so have\",\"so's\": \"so as\",\n",
    "                           \"this's\": \"this is\",\"that'd\": \"that would\", \"that'd've\": \"that would have\", \"that's\": \"that is\", \"there'd\": \"there would\",\n",
    "                           \"there'd've\": \"there would have\", \"there's\": \"there is\", \"here's\": \"here is\",\"they'd\": \"they would\", \"they'd've\": \"they would have\",\n",
    "                           \"they'll\": \"they will\", \"they'll've\": \"they will have\", \"they're\": \"they are\", \"they've\": \"they have\", \"to've\": \"to have\",\n",
    "                           \"wasn't\": \"was not\", \"we'd\": \"we would\", \"we'd've\": \"we would have\", \"we'll\": \"we will\", \"we'll've\": \"we will have\", \"we're\": \"we are\",\n",
    "                           \"we've\": \"we have\", \"weren't\": \"were not\", \"what'll\": \"what will\", \"what'll've\": \"what will have\", \"what're\": \"what are\",\n",
    "                           \"what's\": \"what is\", \"what've\": \"what have\", \"when's\": \"when is\", \"when've\": \"when have\", \"where'd\": \"where did\", \"where's\": \"where is\",\n",
    "                           \"where've\": \"where have\", \"who'll\": \"who will\", \"who'll've\": \"who will have\", \"who's\": \"who is\", \"who've\": \"who have\",\n",
    "                           \"why's\": \"why is\", \"why've\": \"why have\", \"will've\": \"will have\", \"won't\": \"will not\", \"won't've\": \"will not have\",\n",
    "                           \"would've\": \"would have\", \"wouldn't\": \"would not\", \"wouldn't've\": \"would not have\", \"y'all\": \"you all\",\n",
    "                           \"y'all'd\": \"you all would\",\"y'all'd've\": \"you all would have\",\"y'all're\": \"you all are\",\"y'all've\": \"you all have\",\n",
    "                           \"you'd\": \"you would\", \"you'd've\": \"you would have\", \"you'll\": \"you will\", \"you'll've\": \"you will have\",\n",
    "                           \"you're\": \"you are\", \"you've\": \"you have\"}\n",
    "\n",
    "print(\"정규화 사전의 수: \", len(contractions))"
   ]
  },
  {
   "cell_type": "code",
   "execution_count": 158,
   "id": "moved-majority",
   "metadata": {},
   "outputs": [
    {
     "name": "stdout",
     "output_type": "stream",
     "text": [
      "불용어 개수 : 179\n",
      "['i', 'me', 'my', 'myself', 'we', 'our', 'ours', 'ourselves', 'you', \"you're\", \"you've\", \"you'll\", \"you'd\", 'your', 'yours', 'yourself', 'yourselves', 'he', 'him', 'his', 'himself', 'she', \"she's\", 'her', 'hers', 'herself', 'it', \"it's\", 'its', 'itself', 'they', 'them', 'their', 'theirs', 'themselves', 'what', 'which', 'who', 'whom', 'this', 'that', \"that'll\", 'these', 'those', 'am', 'is', 'are', 'was', 'were', 'be', 'been', 'being', 'have', 'has', 'had', 'having', 'do', 'does', 'did', 'doing', 'a', 'an', 'the', 'and', 'but', 'if', 'or', 'because', 'as', 'until', 'while', 'of', 'at', 'by', 'for', 'with', 'about', 'against', 'between', 'into', 'through', 'during', 'before', 'after', 'above', 'below', 'to', 'from', 'up', 'down', 'in', 'out', 'on', 'off', 'over', 'under', 'again', 'further', 'then', 'once', 'here', 'there', 'when', 'where', 'why', 'how', 'all', 'any', 'both', 'each', 'few', 'more', 'most', 'other', 'some', 'such', 'no', 'nor', 'not', 'only', 'own', 'same', 'so', 'than', 'too', 'very', 's', 't', 'can', 'will', 'just', 'don', \"don't\", 'should', \"should've\", 'now', 'd', 'll', 'm', 'o', 're', 've', 'y', 'ain', 'aren', \"aren't\", 'couldn', \"couldn't\", 'didn', \"didn't\", 'doesn', \"doesn't\", 'hadn', \"hadn't\", 'hasn', \"hasn't\", 'haven', \"haven't\", 'isn', \"isn't\", 'ma', 'mightn', \"mightn't\", 'mustn', \"mustn't\", 'needn', \"needn't\", 'shan', \"shan't\", 'shouldn', \"shouldn't\", 'wasn', \"wasn't\", 'weren', \"weren't\", 'won', \"won't\", 'wouldn', \"wouldn't\"]\n"
     ]
    }
   ],
   "source": [
    "print('불용어 개수 :', len(stopwords.words('english') ))\n",
    "print(stopwords.words('english'))"
   ]
  },
  {
   "cell_type": "code",
   "execution_count": 159,
   "id": "better-country",
   "metadata": {},
   "outputs": [],
   "source": [
    "# 데이터 전처리 함수\n",
    "def preprocess_sentence(sentence, remove_stopwords=True):\n",
    "    sentence = sentence.lower() # 텍스트 소문자화\n",
    "    sentence = BeautifulSoup(sentence, \"lxml\").text # <br />, <a href = ...> 등의 html 태그 제거\n",
    "    sentence = re.sub(r'\\([^)]*\\)', '', sentence) # 괄호로 닫힌 문자열 (...) 제거 Ex) my husband (and myself!) for => my husband for\n",
    "    sentence = re.sub(r'\\<[^)]*\\>', '', sentence) # 괄호로 닫힌 문자열 <...> 제거 Ex) my husband (and myself!) for => my husband for\n",
    "    sentence = re.sub('\"','', sentence) # 쌍따옴표 \" 제거\n",
    "    sentence = ' '.join([contractions[t] if t in contractions else t for t in sentence.split(\" \")]) # 약어 정규화\n",
    "    sentence = re.sub(r\"'s\\b\",\"\", sentence) # 소유격 제거. Ex) roland's -> roland\n",
    "    sentence = re.sub(\"[^a-zA-Z]\", \" \", sentence) # 영어 외 문자(숫자, 특수문자 등) 공백으로 변환\n",
    "    sentence = re.sub('[m]{2,}', 'mm', sentence) # m이 3개 이상이면 2개로 변경. Ex) ummmmmmm yeah -> umm yeah\n",
    "    \n",
    "    # 불용어 제거 (Text)\n",
    "    if remove_stopwords:\n",
    "        tokens = ' '.join(word for word in sentence.split() if not word in stopwords.words('english') if len(word) > 1)\n",
    "    # 불용어 미제거 (Summary)\n",
    "    else:\n",
    "        tokens = ' '.join(word for word in sentence.split() if len(word) > 1)\n",
    "    return tokens"
   ]
  },
  {
   "cell_type": "markdown",
   "id": "first-motorcycle",
   "metadata": {},
   "source": [
    "전처리 전, 후의 결과를 확인하기 위해서 임의의 text와 headlines를 만들어 함수를 호출해 볼까요."
   ]
  },
  {
   "cell_type": "code",
   "execution_count": 160,
   "id": "bound-establishment",
   "metadata": {},
   "outputs": [
    {
     "name": "stdout",
     "output_type": "stream",
     "text": [
      "everything bought great infact ordered twice third ordered wasfor mother father\n",
      "great to start the day\n"
     ]
    }
   ],
   "source": [
    "temp_text = 'Everything I bought was great, infact I ordered twice and the third ordered was<br />for my mother and father.'\n",
    "temp_headlines = 'Great <way> to start (or finish) the day!!!'\n",
    "\n",
    "print(preprocess_sentence(temp_text))\n",
    "print(preprocess_sentence(temp_headlines, False))  # 불용어를 제거하지 않습니다."
   ]
  },
  {
   "cell_type": "markdown",
   "id": "polish-camcorder",
   "metadata": {},
   "source": [
    "**멀티프로세싱**을 사용해보자.\n",
    ": 별도의 프로세스를 생성하여 병렬처리하면 CPU수에 비례하여 획기적으로 소요 시간을 줄일 수 있습니다."
   ]
  },
  {
   "cell_type": "code",
   "execution_count": 161,
   "id": "understood-delicious",
   "metadata": {},
   "outputs": [
    {
     "name": "stdout",
     "output_type": "stream",
     "text": [
      "175.29762506484985  seconds\n",
      "['saurav kant alumnus upgrad iiit pg program machine learning artificial intelligence sr systems engineer infosys almost years work experience program upgrad degree career support helped transition data scientist tech mahindra salary hike upgrad online power learning powered lakh careers'\n",
      " 'kunal shah credit card bill payment platform cred gave users chance win free food swiggy one year pranav kaushik delhi techie bagged reward spending cred coins users get one cred coin per rupee bill paid used avail rewards brands like ixigo bookmyshow ubereats cult fit'\n",
      " 'new zealand defeated india wickets fourth odi hamilton thursday win first match five match odi series india lost international match rohit sharma captaincy consecutive victories dating back march match witnessed india getting seventh lowest total odi cricket history'\n",
      " ...\n",
      " 'according reports new version science fiction film matrix development michael jordan reportedly play lead role film screenwriter zak penn talks write script film reports added actor keanu reeves starred original film followed two sequels'\n",
      " 'new music video shows rapper snoop dogg aiming toy gun clown character parodying us president donald trump video also shows tv airing news conference headline ronald klump wants deport doggs airing live clown house video remixed version song lavender'\n",
      " 'madhesi morcha alliance seven political parties withdrawn support pm pushpa kamal dahal led nepal government failed meet seven day ultimatum fulfil demands including endorsement revised constitution amendment bill morcha seats parliament despite withdrawal support immediate threat government']\n",
      "5.783665418624878  seconds\n",
      "['upgrad learner switches to career in ml al with salary hike'\n",
      " 'delhi techie wins free food from swiggy for one year on cred'\n",
      " 'new zealand end rohit sharma led india match winning streak' ...\n",
      " 'the matrix film to get reboot reports'\n",
      " 'snoop dogg aims gun at clown dressed as trump in new video'\n",
      " 'madhesi morcha withdraws support to nepalese government']\n"
     ]
    }
   ],
   "source": [
    "import multiprocessing as mp   # 멀티 프로세싱으로 전처리 속도를 획기적으로 줄여봅시다\n",
    "from multiprocessing import Pool\n",
    "import numpy as np\n",
    "import time\n",
    "from functools import partial  # map을 할 때 함수에 여러 인자를 넣어줄 수 있도록 합니다\n",
    "\n",
    "start = time.time()\n",
    "\n",
    "# num_cores 만큼 쪼개진 데이터를 전처리하여 반환합니다\n",
    "def appendTexts(sentences, remove_stopwords):\n",
    "  texts = []\n",
    "  for s in sentences:\n",
    "    texts += preprocess_sentence(s, remove_stopwords),\n",
    "  return texts\n",
    "\n",
    "def preprocess_data(data, remove_stopwords=True):\n",
    "  start_time = time.time()\n",
    "  num_cores = mp.cpu_count()  # 컴퓨터의 코어 수를 구합니다\n",
    "\n",
    "  text_data_split = np.array_split(data, num_cores)  # 코어 수만큼 데이터를 배분하여 병렬적으로 처리할 수 있게 합니다\n",
    "  pool = Pool(num_cores)\n",
    "\n",
    "  processed_data = np.concatenate(pool.map(partial(appendTexts, remove_stopwords=remove_stopwords), text_data_split))  # 각자 작업한 데이터를 하나로 합쳐줍니다\n",
    "  pool.close()\n",
    "  pool.join()\n",
    "  print(time.time() - start_time, \" seconds\")\n",
    "  return processed_data\n",
    "\n",
    "clean_text = preprocess_data(data['text'])  # 클라우드 기준으로 3~4분 정도 소요 됩니다\n",
    "print(clean_text)\n",
    "\n",
    "clean_headlines = preprocess_data(data['headlines'], remove_stopwords=False) # 클라우드 기준 1분정도 소요됩니다.\n",
    "print(clean_headlines)"
   ]
  },
  {
   "cell_type": "markdown",
   "id": "lightweight-belfast",
   "metadata": {},
   "source": [
    "보다 쉽게 확인하기 위해 데이터들을 **데이터프레임에 재저장**할게요. 그리고 빈(empty) 값을 가진 샘플들이 있다면, **모두 Null 값을 가진 샘플로 대체**해요.\n",
    "\n"
   ]
  },
  {
   "cell_type": "code",
   "execution_count": 162,
   "id": "frank-prayer",
   "metadata": {},
   "outputs": [],
   "source": [
    "data['text'] = clean_text\n",
    "data['headlines'] = clean_headlines\n",
    "\n",
    "# 빈 값을 Null 값으로 변환\n",
    "data.replace('', np.nan, inplace=True)"
   ]
  },
  {
   "cell_type": "code",
   "execution_count": 163,
   "id": "decreased-manor",
   "metadata": {},
   "outputs": [
    {
     "data": {
      "text/plain": [
       "headlines    0\n",
       "text         0\n",
       "dtype: int64"
      ]
     },
     "execution_count": 163,
     "metadata": {},
     "output_type": "execute_result"
    }
   ],
   "source": [
    "data.isnull().sum()"
   ]
  },
  {
   "cell_type": "code",
   "execution_count": 164,
   "id": "harmful-shape",
   "metadata": {},
   "outputs": [
    {
     "name": "stdout",
     "output_type": "stream",
     "text": [
      "전체 샘플수 : 98360\n"
     ]
    }
   ],
   "source": [
    "print('전체 샘플수 :', (len(data)))"
   ]
  },
  {
   "cell_type": "markdown",
   "id": "governmental-senate",
   "metadata": {},
   "source": [
    "### 훈련데이터와 테스트데이터 나누기"
   ]
  },
  {
   "cell_type": "markdown",
   "id": "alternate-hacker",
   "metadata": {},
   "source": [
    "**샘플의 최대 길이 정하기**\n",
    "\n",
    "필요 없는 단어를 모두 솎아낸 데이터를 가지게 되었으니, 이제 훈련에 사용할 샘플의 최대 길이를 정해줄 차례에요.\n",
    "\n",
    "text와 headlines의 최소, 최대, 평균 길이를 구하고 또한 길이 분포를 시각화해서 볼게요."
   ]
  },
  {
   "cell_type": "code",
   "execution_count": 165,
   "id": "oriented-enterprise",
   "metadata": {},
   "outputs": [
    {
     "name": "stdout",
     "output_type": "stream",
     "text": [
      "텍스트의 최소 길이 : 1\n",
      "텍스트의 최대 길이 : 60\n",
      "텍스트의 평균 길이 : 35.09968483123221\n",
      "요약의 최소 길이 : 1\n",
      "요약의 최대 길이 : 16\n",
      "요약의 평균 길이 : 9.299532330215534\n"
     ]
    },
    {
     "data": {
      "image/png": "[encoded data removed]",
      "text/plain": [
       "<Figure size 432x288 with 2 Axes>"
      ]
     },
     "metadata": {
      "needs_background": "light"
     },
     "output_type": "display_data"
    },
    {
     "data": {
      "image/png": "[encoded data removed]",
      "text/plain": [
       "<Figure size 432x288 with 1 Axes>"
      ]
     },
     "metadata": {
      "needs_background": "light"
     },
     "output_type": "display_data"
    },
    {
     "data": {
      "image/png": "[encoded data removed]",
      "text/plain": [
       "<Figure size 432x288 with 1 Axes>"
      ]
     },
     "metadata": {
      "needs_background": "light"
     },
     "output_type": "display_data"
    }
   ],
   "source": [
    "# 길이 분포 출력\n",
    "import matplotlib.pyplot as plt\n",
    "\n",
    "text_len = [len(s.split()) for s in data['text']]\n",
    "headlines_len = [len(s.split()) for s in data['headlines']]\n",
    "\n",
    "print('텍스트의 최소 길이 : {}'.format(np.min(text_len)))\n",
    "print('텍스트의 최대 길이 : {}'.format(np.max(text_len)))\n",
    "print('텍스트의 평균 길이 : {}'.format(np.mean(text_len)))\n",
    "print('요약의 최소 길이 : {}'.format(np.min(headlines_len)))\n",
    "print('요약의 최대 길이 : {}'.format(np.max(headlines_len)))\n",
    "print('요약의 평균 길이 : {}'.format(np.mean(headlines_len)))\n",
    "\n",
    "plt.subplot(1,2,1)\n",
    "plt.boxplot(headlines_len)\n",
    "plt.title('headlines')\n",
    "plt.subplot(1,2,2)\n",
    "plt.boxplot(text_len)\n",
    "plt.title('text')\n",
    "plt.tight_layout()\n",
    "plt.show()\n",
    "\n",
    "plt.title('headlines')\n",
    "plt.hist(headlines_len, bins = 40)\n",
    "plt.xlabel('length of samples')\n",
    "plt.ylabel('number of samples')\n",
    "plt.show()\n",
    "\n",
    "plt.title('text')\n",
    "plt.hist(text_len, bins = 40)\n",
    "plt.xlabel('length of samples')\n",
    "plt.ylabel('number of samples')\n",
    "plt.show()"
   ]
  },
  {
   "cell_type": "markdown",
   "id": "optical-toner",
   "metadata": {},
   "source": [
    "Text의 최대 길이와 headlines의 적절한 최대 길이를 임의로 정해볼게요."
   ]
  },
  {
   "cell_type": "code",
   "execution_count": 166,
   "id": "floppy-recorder",
   "metadata": {},
   "outputs": [],
   "source": [
    "text_max_len = 42\n",
    "headlines_max_len = 12"
   ]
  },
  {
   "cell_type": "markdown",
   "id": "awful-particular",
   "metadata": {},
   "source": [
    "각각 42과 12로 정했는데 이 길이를 선택했을 때, 얼마나 많은 샘플들을 자르지 않고 포함할 수 있는지 통계로 확인하는 편이 객관적으로 길이를 결정하는 데 도움이 될거예요. 훈련 데이터와 샘플의 길이를 입력하면, 데이터의 몇 %가 해당하는지 계산하는 함수를 만들어서 좀 더 정확하게 판단해볼게요."
   ]
  },
  {
   "cell_type": "code",
   "execution_count": 167,
   "id": "norwegian-lender",
   "metadata": {},
   "outputs": [],
   "source": [
    "def below_threshold_len(max_len, nested_list):\n",
    "  cnt = 0\n",
    "  for s in nested_list:\n",
    "    if(len(s.split()) <= max_len):\n",
    "        cnt = cnt + 1\n",
    "  print('전체 샘플 중 길이가 %s 이하인 샘플의 비율: %s'%(max_len, (cnt / len(nested_list))))"
   ]
  },
  {
   "cell_type": "markdown",
   "id": "simple-armor",
   "metadata": {},
   "source": [
    "이렇게 만든 함수를 Text와 headlines에 적용해 우리가 결정한 임의의 길이가 몇%의 샘플까지 포함하는지 볼 수 있겠죠"
   ]
  },
  {
   "cell_type": "code",
   "execution_count": 168,
   "id": "helpful-silver",
   "metadata": {},
   "outputs": [
    {
     "name": "stdout",
     "output_type": "stream",
     "text": [
      "전체 샘플 중 길이가 42 이하인 샘플의 비율: 0.9750305002033347\n",
      "전체 샘플 중 길이가 12 이하인 샘플의 비율: 0.9880337535583571\n"
     ]
    }
   ],
   "source": [
    "below_threshold_len(text_max_len, data['text'])\n",
    "below_threshold_len(headlines_max_len,  data['headlines'])"
   ]
  },
  {
   "cell_type": "markdown",
   "id": "modular-flashing",
   "metadata": {},
   "source": [
    "우리는 정해진 길이에 맞춰 자르는 것이 아니라, 정해진 길이보다 길면 제외하는 방법으로 데이터를 정제할게요."
   ]
  },
  {
   "cell_type": "code",
   "execution_count": 169,
   "id": "weighted-foster",
   "metadata": {},
   "outputs": [
    {
     "name": "stdout",
     "output_type": "stream",
     "text": [
      "전체 샘플수 : 94754\n"
     ]
    }
   ],
   "source": [
    "data = data[data['text'].apply(lambda x: len(x.split()) <= text_max_len)]\n",
    "data = data[data['headlines'].apply(lambda x: len(x.split()) <= headlines_max_len)]\n",
    "print('전체 샘플수 :', (len(data)))"
   ]
  },
  {
   "cell_type": "markdown",
   "id": "molecular-jackson",
   "metadata": {},
   "source": [
    "#### 시작 토큰과 종료 토큰 추가하기"
   ]
  },
  {
   "cell_type": "code",
   "execution_count": 170,
   "id": "unsigned-philippines",
   "metadata": {},
   "outputs": [
    {
     "data": {
      "text/html": [
       "<div>\n",
       "<style scoped>\n",
       "    .dataframe tbody tr th:only-of-type {\n",
       "        vertical-align: middle;\n",
       "    }\n",
       "\n",
       "    .dataframe tbody tr th {\n",
       "        vertical-align: top;\n",
       "    }\n",
       "\n",
       "    .dataframe thead th {\n",
       "        text-align: right;\n",
       "    }\n",
       "</style>\n",
       "<table border=\"1\" class=\"dataframe\">\n",
       "  <thead>\n",
       "    <tr style=\"text-align: right;\">\n",
       "      <th></th>\n",
       "      <th>headlines</th>\n",
       "      <th>text</th>\n",
       "      <th>decoder_input</th>\n",
       "      <th>decoder_target</th>\n",
       "    </tr>\n",
       "  </thead>\n",
       "  <tbody>\n",
       "    <tr>\n",
       "      <th>0</th>\n",
       "      <td>upgrad learner switches to career in ml al wit...</td>\n",
       "      <td>saurav kant alumnus upgrad iiit pg program mac...</td>\n",
       "      <td>sostoken upgrad learner switches to career in ...</td>\n",
       "      <td>upgrad learner switches to career in ml al wit...</td>\n",
       "    </tr>\n",
       "    <tr>\n",
       "      <th>2</th>\n",
       "      <td>new zealand end rohit sharma led india match w...</td>\n",
       "      <td>new zealand defeated india wickets fourth odi ...</td>\n",
       "      <td>sostoken new zealand end rohit sharma led indi...</td>\n",
       "      <td>new zealand end rohit sharma led india match w...</td>\n",
       "    </tr>\n",
       "    <tr>\n",
       "      <th>3</th>\n",
       "      <td>aegon life iterm insurance plan helps customer...</td>\n",
       "      <td>aegon life iterm insurance plan customers enjo...</td>\n",
       "      <td>sostoken aegon life iterm insurance plan helps...</td>\n",
       "      <td>aegon life iterm insurance plan helps customer...</td>\n",
       "    </tr>\n",
       "    <tr>\n",
       "      <th>5</th>\n",
       "      <td>rahat fateh ali khan denies getting notice for...</td>\n",
       "      <td>pakistani singer rahat fateh ali khan denied r...</td>\n",
       "      <td>sostoken rahat fateh ali khan denies getting n...</td>\n",
       "      <td>rahat fateh ali khan denies getting notice for...</td>\n",
       "    </tr>\n",
       "    <tr>\n",
       "      <th>6</th>\n",
       "      <td>india get all out for their lowest odi total i...</td>\n",
       "      <td>india recorded lowest odi total new zealand ge...</td>\n",
       "      <td>sostoken india get all out for their lowest od...</td>\n",
       "      <td>india get all out for their lowest odi total i...</td>\n",
       "    </tr>\n",
       "  </tbody>\n",
       "</table>\n",
       "</div>"
      ],
      "text/plain": [
       "                                           headlines  \\\n",
       "0  upgrad learner switches to career in ml al wit...   \n",
       "2  new zealand end rohit sharma led india match w...   \n",
       "3  aegon life iterm insurance plan helps customer...   \n",
       "5  rahat fateh ali khan denies getting notice for...   \n",
       "6  india get all out for their lowest odi total i...   \n",
       "\n",
       "                                                text  \\\n",
       "0  saurav kant alumnus upgrad iiit pg program mac...   \n",
       "2  new zealand defeated india wickets fourth odi ...   \n",
       "3  aegon life iterm insurance plan customers enjo...   \n",
       "5  pakistani singer rahat fateh ali khan denied r...   \n",
       "6  india recorded lowest odi total new zealand ge...   \n",
       "\n",
       "                                       decoder_input  \\\n",
       "0  sostoken upgrad learner switches to career in ...   \n",
       "2  sostoken new zealand end rohit sharma led indi...   \n",
       "3  sostoken aegon life iterm insurance plan helps...   \n",
       "5  sostoken rahat fateh ali khan denies getting n...   \n",
       "6  sostoken india get all out for their lowest od...   \n",
       "\n",
       "                                      decoder_target  \n",
       "0  upgrad learner switches to career in ml al wit...  \n",
       "2  new zealand end rohit sharma led india match w...  \n",
       "3  aegon life iterm insurance plan helps customer...  \n",
       "5  rahat fateh ali khan denies getting notice for...  \n",
       "6  india get all out for their lowest odi total i...  "
      ]
     },
     "execution_count": 170,
     "metadata": {},
     "output_type": "execute_result"
    }
   ],
   "source": [
    "# 요약 데이터에는 시작 토큰과 종료 토큰을 추가한다.\n",
    "data['decoder_input'] = data['headlines'].apply(lambda x : 'sostoken '+ x)\n",
    "data['decoder_target'] = data['headlines'].apply(lambda x : x + ' eostoken')\n",
    "data.head()"
   ]
  },
  {
   "cell_type": "markdown",
   "id": "streaming-participation",
   "metadata": {},
   "source": [
    "인코더의 입력, 디코더의 입력과 레이블을 각각 다시 Numpy 타입으로 저장해 줄게요."
   ]
  },
  {
   "cell_type": "code",
   "execution_count": 171,
   "id": "sophisticated-novelty",
   "metadata": {},
   "outputs": [],
   "source": [
    "encoder_input = np.array(data['text']) # 인코더의 입력\n",
    "decoder_input = np.array(data['decoder_input']) # 디코더의 입력\n",
    "decoder_target = np.array(data['decoder_target']) # 디코더의 레이블"
   ]
  },
  {
   "cell_type": "markdown",
   "id": "south-publicity",
   "metadata": {},
   "source": [
    "이제 훈련 데이터와 테스트 데이터를 분리할거에요.\n",
    "\n",
    "훈련 데이터와 테스트 데이터를 분리하는 방법은 분리 패키지를 사용하는 방법, 또는 직접 코딩을 통해서 분리하는 방법 등 여러 가지 방법이 있을 텐데 여기서는 직접 해볼게요. 우선, encoder_input과 크기와 형태가 같은 순서가 섞인 정수 시퀀스를 만들어줄게요."
   ]
  },
  {
   "cell_type": "code",
   "execution_count": 172,
   "id": "adolescent-electric",
   "metadata": {},
   "outputs": [
    {
     "name": "stdout",
     "output_type": "stream",
     "text": [
      "[38743 90965 16462 ... 56358 86970 25032]\n"
     ]
    }
   ],
   "source": [
    "indices = np.arange(encoder_input.shape[0])\n",
    "np.random.shuffle(indices)\n",
    "print(indices)"
   ]
  },
  {
   "cell_type": "markdown",
   "id": "involved-clinic",
   "metadata": {},
   "source": [
    "이 정수 시퀀스를 이용해 다시 데이터의 샘플 순서를 정의해 주면 잘 섞인 샘플이 되겠죠."
   ]
  },
  {
   "cell_type": "code",
   "execution_count": 173,
   "id": "occasional-litigation",
   "metadata": {},
   "outputs": [],
   "source": [
    "encoder_input = encoder_input[indices]\n",
    "decoder_input = decoder_input[indices]\n",
    "decoder_target = decoder_target[indices]"
   ]
  },
  {
   "cell_type": "markdown",
   "id": "assumed-denial",
   "metadata": {},
   "source": [
    "이제 섞인 데이터를 8:2의 비율로 훈련 데이터와 테스트 데이터로 분리해 줄게요. 전체 데이터의 크기에서 0.2를 곱해서 테스트 데이터의 크기를 정의해 줄게요."
   ]
  },
  {
   "cell_type": "code",
   "execution_count": 174,
   "id": "developmental-recruitment",
   "metadata": {},
   "outputs": [
    {
     "name": "stdout",
     "output_type": "stream",
     "text": [
      "테스트 데이터의 수 : 18950\n"
     ]
    }
   ],
   "source": [
    "n_of_val = int(len(encoder_input)*0.2)\n",
    "print('테스트 데이터의 수 :', n_of_val)"
   ]
  },
  {
   "cell_type": "markdown",
   "id": "intellectual-lesbian",
   "metadata": {},
   "source": [
    "이렇게 정의한 테스트 데이터의 개수를 이용해 전체 데이터를 양분할게요. :표시의 위치에 주의해 주세요."
   ]
  },
  {
   "cell_type": "code",
   "execution_count": 175,
   "id": "surface-organic",
   "metadata": {},
   "outputs": [
    {
     "name": "stdout",
     "output_type": "stream",
     "text": [
      "훈련 데이터의 개수 : 75804\n",
      "훈련 레이블의 개수 : 75804\n",
      "테스트 데이터의 개수 : 18950\n",
      "테스트 레이블의 개수 : 18950\n"
     ]
    }
   ],
   "source": [
    "encoder_input_train = encoder_input[:-n_of_val]\n",
    "decoder_input_train = decoder_input[:-n_of_val]\n",
    "decoder_target_train = decoder_target[:-n_of_val]\n",
    "\n",
    "encoder_input_test = encoder_input[-n_of_val:]\n",
    "decoder_input_test = decoder_input[-n_of_val:]\n",
    "decoder_target_test = decoder_target[-n_of_val:]\n",
    "\n",
    "print('훈련 데이터의 개수 :', len(encoder_input_train))\n",
    "print('훈련 레이블의 개수 :', len(decoder_input_train))\n",
    "print('테스트 데이터의 개수 :', len(encoder_input_test))\n",
    "print('테스트 레이블의 개수 :', len(decoder_input_test))"
   ]
  },
  {
   "cell_type": "markdown",
   "id": "logical-bones",
   "metadata": {},
   "source": [
    "### 정수 인코딩"
   ]
  },
  {
   "cell_type": "markdown",
   "id": "dominican-vermont",
   "metadata": {},
   "source": [
    "#### 단어 집합(vocabulary) 만들기 및 정수 인코딩\n",
    "이제 기계가 텍스트를 숫자로 처리할 수 있도록 훈련 데이터와 테스트 데이터의 단어들을 모두 정수로 바꾸어 주어야 해요. 이를 위해서는 각 단어에 고유한 정수를 맵핑하는 작업이 필요해요. 이 과정을 단어 집합(vocabulary) 을 만든다고 표현해요. 훈련 데이터에 대해서 단어 집합을 만들어볼게요. 우선, 원문에 해당되는 encoder_input_train에 대해서 단어 집합을 만들게요.\n",
    "\n",
    "Keras의 토크나이저를 사용하면, 입력된 훈련 데이터로부터 단어 집합을 만들 수 있어요."
   ]
  },
  {
   "cell_type": "code",
   "execution_count": 176,
   "id": "greater-buffalo",
   "metadata": {},
   "outputs": [],
   "source": [
    "src_tokenizer = Tokenizer() # 토크나이저 정의\n",
    "src_tokenizer.fit_on_texts(encoder_input_train) # 입력된 데이터로부터 단어 집합 생성"
   ]
  },
  {
   "cell_type": "markdown",
   "id": "developed-monday",
   "metadata": {},
   "source": [
    "이제 단어 집합이 생성되는 동시에 각 단어에 고유한 정수가 부여되었어요. 현재 생성된 단어 집합은 src_tokenizer.word_index에 저장되어 있어요. 그런데 우리는 이렇게 만든 단어 집합에 있는 모든 단어를 사용하는 것이 아니라, 빈도수가 낮은 단어들은 훈련 데이터에서 제외하고 진행하려고 해요.\n",
    "\n",
    "등장 빈도수가 7회 미만인 단어들이 이 데이터에서 얼만큼의 비중을 차지하는지 확인해볼게요.\n",
    "\n",
    "src_tokenizer.word_counts.items()에는 단어와 각 단어의 등장 빈도수가 저장돼 있는데, 이를 통해서 통계적인 정보를 얻을 수 있어요."
   ]
  },
  {
   "cell_type": "code",
   "execution_count": 177,
   "id": "democratic-employment",
   "metadata": {},
   "outputs": [
    {
     "name": "stdout",
     "output_type": "stream",
     "text": [
      "단어 집합(vocabulary)의 크기 : 67961\n",
      "등장 빈도가 6번 이하인 희귀 단어의 수: 46278\n",
      "단어 집합에서 희귀 단어를 제외시킬 경우의 단어 집합의 크기 21683\n",
      "단어 집합에서 희귀 단어의 비율: 68.09493680198938\n",
      "전체 등장 빈도에서 희귀 단어 등장 빈도 비율: 3.5563583405048087\n"
     ]
    }
   ],
   "source": [
    "threshold = 7\n",
    "total_cnt = len(src_tokenizer.word_index) # 단어의 수\n",
    "rare_cnt = 0 # 등장 빈도수가 threshold보다 작은 단어의 개수를 카운트\n",
    "total_freq = 0 # 훈련 데이터의 전체 단어 빈도수 총 합\n",
    "rare_freq = 0 # 등장 빈도수가 threshold보다 작은 단어의 등장 빈도수의 총 합\n",
    "\n",
    "# 단어와 빈도수의 쌍(pair)을 key와 value로 받는다.\n",
    "for key, value in src_tokenizer.word_counts.items():\n",
    "    total_freq = total_freq + value\n",
    "\n",
    "    # 단어의 등장 빈도수가 threshold보다 작으면\n",
    "    if(value < threshold):\n",
    "        rare_cnt = rare_cnt + 1\n",
    "        rare_freq = rare_freq + value\n",
    "\n",
    "print('단어 집합(vocabulary)의 크기 :', total_cnt)\n",
    "print('등장 빈도가 %s번 이하인 희귀 단어의 수: %s'%(threshold - 1, rare_cnt))\n",
    "print('단어 집합에서 희귀 단어를 제외시킬 경우의 단어 집합의 크기 %s'%(total_cnt - rare_cnt))\n",
    "print(\"단어 집합에서 희귀 단어의 비율:\", (rare_cnt / total_cnt)*100)\n",
    "print(\"전체 등장 빈도에서 희귀 단어 등장 빈도 비율:\", (rare_freq / total_freq)*100)"
   ]
  },
  {
   "cell_type": "markdown",
   "id": "needed-dryer",
   "metadata": {},
   "source": [
    "encoder_input_train에는 6만여 개의 단어가 있네요. 그 아래의 통계 정보들을 해석해볼까요?\n",
    "\n",
    "등장 빈도가 threshold 값인 7회 미만, 즉, 6회 이하인 단어들은 단어 집합에서 무려 68% 이상을 차지하네요. 하지만, 실제로 훈련 데이터에서 등장 빈도로 차지하는 비중은 상대적으로 적은 수치인 3.5%밖에 되지 않아요.\n",
    "\n",
    "그래서 등장 빈도가 6회 이하인 단어들은 정수 인코딩 과정에서 빼고, 훈련 데이터에서 제거하고자 합니다. 위에서 이를 제외한 단어 집합의 크기를 21683개로 계산했는데, 이와 비슷한 값으로 어림잡아 단어 집합의 크기를 21600으로 제한해볼게요. 토크나이저를 정의할 때 num_words의 값을 정해주면, 단어 집합의 크기를 제한할 수 있어요."
   ]
  },
  {
   "cell_type": "code",
   "execution_count": 178,
   "id": "advisory-liberia",
   "metadata": {},
   "outputs": [],
   "source": [
    "src_vocab = 21600\n",
    "src_tokenizer = Tokenizer(num_words=src_vocab) # 단어 집합의 크기를 19900으로 제한\n",
    "src_tokenizer.fit_on_texts(encoder_input_train) # 단어 집합 재생성."
   ]
  },
  {
   "cell_type": "markdown",
   "id": "automated-helmet",
   "metadata": {},
   "source": [
    "texts_to_sequences()는 생성된 단어 집합에 기반하여 입력으로 주어진 텍스트 데이터의 단어들을 모두 정수로 변환하는 정수 인코딩을 수행해요. 현재 단어 집합의 크기를 21600으로 제한했으니까 이제 21600이 넘는 숫자들은 정수 인코딩 후에는 데이터에 존재하지 않아요."
   ]
  },
  {
   "cell_type": "code",
   "execution_count": 179,
   "id": "neural-cooper",
   "metadata": {},
   "outputs": [
    {
     "name": "stdout",
     "output_type": "stream",
     "text": [
      "[[3616, 3332, 600, 234, 144, 611, 3872, 6773, 3424, 162, 19, 1, 600, 4048, 231, 86, 1620, 9, 1098, 2935, 2301, 1805, 4584, 600, 490, 3872, 1620, 5127, 1740, 89, 867, 2455, 223, 1419, 10432, 4401, 2279, 600, 5547, 100, 388], [5602, 3509, 1747, 51, 5435, 29, 3, 2654, 1992, 574, 4942, 1335, 9252, 72, 877, 118, 890, 5176, 17055, 110, 3991, 172, 565, 5435, 29, 3, 615, 1335, 2703, 72], [5702, 6530, 20194, 17926, 312, 21, 6102, 1793, 1905, 219, 183, 1043, 83, 3992, 3226, 242, 21, 764, 1873, 200, 1388, 1365, 800, 6234, 4235, 5649, 8468, 255, 670, 5702, 1431]]\n"
     ]
    }
   ],
   "source": [
    "# 텍스트 시퀀스를 정수 시퀀스로 변환\n",
    "encoder_input_train = src_tokenizer.texts_to_sequences(encoder_input_train) \n",
    "encoder_input_test = src_tokenizer.texts_to_sequences(encoder_input_test)\n",
    "\n",
    "# 잘 진행되었는지 샘플 출력\n",
    "print(encoder_input_train[:3])"
   ]
  },
  {
   "cell_type": "markdown",
   "id": "effective-change",
   "metadata": {},
   "source": [
    "이제 더 이상 텍스트 데이터가 아니라 정수가 나오고 있어요.\n",
    "\n",
    "Summary 데이터에 대해서도 동일한 작업을 수행할게요. 케라스의 토크나이저를 사용하여 decoder_input_train을 입력으로 전체 단어 집합과 각 단어에 대한 빈도수를 계산해요."
   ]
  },
  {
   "cell_type": "code",
   "execution_count": 180,
   "id": "moved-insider",
   "metadata": {},
   "outputs": [],
   "source": [
    "tar_tokenizer = Tokenizer()\n",
    "tar_tokenizer.fit_on_texts(decoder_input_train)"
   ]
  },
  {
   "cell_type": "markdown",
   "id": "musical-heading",
   "metadata": {},
   "source": [
    "이제 단어 집합이 생성되는 동시에 각 단어에 고유한 정수가 부여되었어요. 이는 tar_tokenizer.word_index에 저장되어 있어요. tar_tokenizer.word_counts.items()에는 단어와 각 단어의 등장 빈도수가 저장돼 있는데, 이를 통해서 통계적인 정보를 얻어서, 등장 빈도수가 7회 미만인 단어들이 이 데이터에서 얼만큼의 비중을 차지하는지 확인해볼게요."
   ]
  },
  {
   "cell_type": "code",
   "execution_count": 181,
   "id": "alien-ordinary",
   "metadata": {},
   "outputs": [
    {
     "name": "stdout",
     "output_type": "stream",
     "text": [
      "단어 집합(vocabulary)의 크기 : 29550\n",
      "등장 빈도가 6번 이하인 희귀 단어의 수: 20213\n",
      "단어 집합에서 희귀 단어를 제외시킬 경우의 단어 집합의 크기 9337\n",
      "단어 집합에서 희귀 단어의 비율: 68.40270727580372\n",
      "전체 등장 빈도에서 희귀 단어 등장 빈도 비율: 5.44461035450403\n"
     ]
    }
   ],
   "source": [
    "threshold = 7\n",
    "total_cnt = len(tar_tokenizer.word_index) # 단어의 수\n",
    "rare_cnt = 0 # 등장 빈도수가 threshold보다 작은 단어의 개수를 카운트\n",
    "total_freq = 0 # 훈련 데이터의 전체 단어 빈도수 총 합\n",
    "rare_freq = 0 # 등장 빈도수가 threshold보다 작은 단어의 등장 빈도수의 총 합\n",
    "\n",
    "# 단어와 빈도수의 쌍(pair)을 key와 value로 받는다.\n",
    "for key, value in tar_tokenizer.word_counts.items():\n",
    "    total_freq = total_freq + value\n",
    "\n",
    "    # 단어의 등장 빈도수가 threshold보다 작으면\n",
    "    if(value < threshold):\n",
    "        rare_cnt = rare_cnt + 1\n",
    "        rare_freq = rare_freq + value\n",
    "\n",
    "print('단어 집합(vocabulary)의 크기 :', total_cnt)\n",
    "print('등장 빈도가 %s번 이하인 희귀 단어의 수: %s'%(threshold - 1, rare_cnt))\n",
    "print('단어 집합에서 희귀 단어를 제외시킬 경우의 단어 집합의 크기 %s'%(total_cnt - rare_cnt))\n",
    "print(\"단어 집합에서 희귀 단어의 비율:\", (rare_cnt / total_cnt)*100)\n",
    "print(\"전체 등장 빈도에서 희귀 단어 등장 빈도 비율:\", (rare_freq / total_freq)*100)"
   ]
  },
  {
   "cell_type": "markdown",
   "id": "heard-modem",
   "metadata": {},
   "source": [
    "등장 빈도가 6회 이하인 단어들은 단어 집합에서 약 68%를 차지하고 있네요. 하지만, 실제로 훈련 데이터에서 등장 빈도로 차지하는 비중은 상대적으로 매우 적은 수치인 5.4%밖에 되지 않아요. 아까 했던 것과 동일하게 이 단어들은 모두 제거할게요. 어림잡아 9300을 단어 집합의 크기로 제한할게요."
   ]
  },
  {
   "cell_type": "code",
   "execution_count": 182,
   "id": "legal-kingdom",
   "metadata": {},
   "outputs": [
    {
     "name": "stdout",
     "output_type": "stream",
     "text": [
      "input\n",
      "input  [[1, 82, 1254, 5, 1038, 3475, 65, 7, 302, 148, 4303], [1, 4054, 1386, 3795, 1706, 1280, 4055, 89], [1, 6322, 5531, 3684, 25, 4, 1281, 169, 127], [1, 15, 149, 11, 3476, 4056, 8, 15, 636, 29, 6698, 58], [1, 261, 586, 836, 495, 496, 3477, 3, 676, 1017, 16]]\n",
      "target\n",
      "decoder  [[82, 1254, 5, 1038, 3475, 65, 7, 302, 148, 4303, 2], [4054, 1386, 3795, 1706, 1280, 4055, 89, 2], [6322, 5531, 3684, 25, 4, 1281, 169, 127, 2], [15, 149, 11, 3476, 4056, 8, 15, 636, 29, 6698, 58, 2], [261, 586, 836, 495, 496, 3477, 3, 676, 1017, 16, 2]]\n"
     ]
    }
   ],
   "source": [
    "tar_vocab =9300\n",
    "tar_tokenizer = Tokenizer(num_words=tar_vocab) \n",
    "tar_tokenizer.fit_on_texts(decoder_input_train)\n",
    "tar_tokenizer.fit_on_texts(decoder_target_train)\n",
    "\n",
    "# 텍스트 시퀀스를 정수 시퀀스로 변환\n",
    "decoder_input_train = tar_tokenizer.texts_to_sequences(decoder_input_train) \n",
    "decoder_target_train = tar_tokenizer.texts_to_sequences(decoder_target_train)\n",
    "decoder_input_test = tar_tokenizer.texts_to_sequences(decoder_input_test)\n",
    "decoder_target_test = tar_tokenizer.texts_to_sequences(decoder_target_test)\n",
    "\n",
    "# 잘 변환되었는지 확인\n",
    "print('input')\n",
    "print('input ',decoder_input_train[:5])\n",
    "print('target')\n",
    "print('decoder ',decoder_target_train[:5])"
   ]
  },
  {
   "cell_type": "markdown",
   "id": "close-server",
   "metadata": {},
   "source": [
    "훈련 데이터와 테스트 데이터에 대해서 요약문의 길이가 1인 경우의 인덱스를 각각 drop_train과 drop_test에 라는 변수에 저장해볼게요. 이 샘플들은 모두 삭제할 거예요."
   ]
  },
  {
   "cell_type": "code",
   "execution_count": 183,
   "id": "saving-demand",
   "metadata": {},
   "outputs": [
    {
     "name": "stdout",
     "output_type": "stream",
     "text": [
      "삭제할 훈련 데이터의 개수 : 0\n",
      "삭제할 테스트 데이터의 개수 : 0\n",
      "훈련 데이터의 개수 : 75804\n",
      "훈련 레이블의 개수 : 75804\n",
      "테스트 데이터의 개수 : 18950\n",
      "테스트 레이블의 개수 : 18950\n"
     ]
    }
   ],
   "source": [
    "drop_train = [index for index, sentence in enumerate(decoder_input_train) if len(sentence) == 1]\n",
    "drop_test = [index for index, sentence in enumerate(decoder_input_test) if len(sentence) == 1]\n",
    "\n",
    "print('삭제할 훈련 데이터의 개수 :', len(drop_train))\n",
    "print('삭제할 테스트 데이터의 개수 :', len(drop_test))\n",
    "\n",
    "encoder_input_train = np.delete(encoder_input_train, drop_train, axis=0)\n",
    "decoder_input_train = np.delete(decoder_input_train, drop_train, axis=0)\n",
    "decoder_target_train = np.delete(decoder_target_train, drop_train, axis=0)\n",
    "\n",
    "encoder_input_test = np.delete(encoder_input_test, drop_test, axis=0)\n",
    "decoder_input_test = np.delete(decoder_input_test, drop_test, axis=0)\n",
    "decoder_target_test = np.delete(decoder_target_test, drop_test, axis=0)\n",
    "\n",
    "print('훈련 데이터의 개수 :', len(encoder_input_train))\n",
    "print('훈련 레이블의 개수 :', len(decoder_input_train))\n",
    "print('테스트 데이터의 개수 :', len(encoder_input_test))\n",
    "print('테스트 레이블의 개수 :', len(decoder_input_test))"
   ]
  },
  {
   "cell_type": "markdown",
   "id": "european-brave",
   "metadata": {},
   "source": [
    "**패딩하기**<br>\n",
    "텍스트 시퀀스를 정수 시퀀스로 변환했다면, 이제 서로 다른 길이의 샘플들을 병렬 처리하기 위해 같은 길이로 맞춰주는 패딩 작업을 해주어야 해야 해요. 아까 정해두었던 최대 길이로 패딩 해 줄 거에요. 최대 길이보다 짧은 데이터들은 뒤의 공간에 숫자 0을 넣어 최대 길이로 길이를 맞춰줄게요."
   ]
  },
  {
   "cell_type": "code",
   "execution_count": 184,
   "id": "automotive-native",
   "metadata": {},
   "outputs": [],
   "source": [
    "encoder_input_train = pad_sequences(encoder_input_train, maxlen=text_max_len, padding='pre')\n",
    "encoder_input_test = pad_sequences(encoder_input_test, maxlen=text_max_len, padding='pre')\n",
    "decoder_input_train = pad_sequences(decoder_input_train, maxlen=headlines_max_len, padding='pre')\n",
    "decoder_target_train = pad_sequences(decoder_target_train, maxlen=headlines_max_len, padding='pre')\n",
    "decoder_input_test = pad_sequences(decoder_input_test, maxlen=headlines_max_len, padding='pre')\n",
    "decoder_target_test = pad_sequences(decoder_target_test, maxlen=headlines_max_len, padding='pre')"
   ]
  },
  {
   "cell_type": "markdown",
   "id": "secure-family",
   "metadata": {},
   "source": [
    "이제 학습에 필요한 데이터 전처리가 모두 끝났어요."
   ]
  },
  {
   "cell_type": "markdown",
   "id": "monetary-arbitration",
   "metadata": {},
   "source": [
    "### 모델 설계하기"
   ]
  },
  {
   "cell_type": "markdown",
   "id": "considerable-lawrence",
   "metadata": {},
   "source": [
    "함수형 API를 이용해서 **인코더를 설계**"
   ]
  },
  {
   "cell_type": "code",
   "execution_count": 185,
   "id": "manual-identity",
   "metadata": {},
   "outputs": [
    {
     "name": "stdout",
     "output_type": "stream",
     "text": [
      "WARNING:tensorflow:Layer lstm_4 will not use cuDNN kernel since it doesn't meet the cuDNN kernel criteria. It will use generic GPU kernel as fallback when running on GPU\n",
      "WARNING:tensorflow:Layer lstm_5 will not use cuDNN kernel since it doesn't meet the cuDNN kernel criteria. It will use generic GPU kernel as fallback when running on GPU\n",
      "WARNING:tensorflow:Layer lstm_6 will not use cuDNN kernel since it doesn't meet the cuDNN kernel criteria. It will use generic GPU kernel as fallback when running on GPU\n"
     ]
    }
   ],
   "source": [
    "from tensorflow.keras.layers import Input, LSTM, Embedding, Dense, Concatenate\n",
    "from tensorflow.keras.models import Model\n",
    "from tensorflow.keras.callbacks import EarlyStopping, ModelCheckpoint\n",
    "\n",
    "\n",
    "# 인코더 설계 시작\n",
    "embedding_dim = 128\n",
    "hidden_size = 256\n",
    "\n",
    "# 인코더\n",
    "encoder_inputs = Input(shape=(text_max_len,))\n",
    "\n",
    "# 인코더의 임베딩 층\n",
    "enc_emb = Embedding(src_vocab, embedding_dim)(encoder_inputs)\n",
    "\n",
    "# 인코더의 LSTM 1\n",
    "encoder_lstm1 = LSTM(hidden_size, return_sequences=True, return_state=True ,dropout = 0.4, recurrent_dropout = 0.4)\n",
    "encoder_output1, state_h1, state_c1 = encoder_lstm1(enc_emb)\n",
    "\n",
    "# 인코더의 LSTM 2\n",
    "encoder_lstm2 = LSTM(hidden_size, return_sequences=True, return_state=True, dropout=0.4, recurrent_dropout=0.4)\n",
    "encoder_output2, state_h2, state_c2 = encoder_lstm2(encoder_output1)\n",
    "\n",
    "# 인코더의 LSTM 3\n",
    "encoder_lstm3 = LSTM(hidden_size, return_state=True, return_sequences=True, dropout=0.4, recurrent_dropout=0.4)\n",
    "encoder_outputs, state_h, state_c= encoder_lstm3(encoder_output2)"
   ]
  },
  {
   "cell_type": "markdown",
   "id": "caring-instrumentation",
   "metadata": {},
   "source": [
    "임베딩 벡터의 차원은 128로 정의하고, hidden state의 크기를 256으로 정의했어요. hidden state는 LSTM에서 얼만큼의 수용력(capacity)를 가질지를 정하는 파라미터에요. 이 파라미터는 LSTM의 용량의 크기나, LSTM에서의 뉴런의 개수라고 이해하면 돼요. 다른 신경망과 마찬가지로, 무조건 용량을 많이 준다고 해서 성능이 반드시 올라가는 것은 아니에요.\n",
    "\n",
    "인코더의 LSTM은 총 3개의 층으로 구성해서 모델의 복잡도를 높였어요. hidden state의 크기를 늘리는 것이 LSTM 층 1개의 용량을 늘린다면, 3개의 층을 사용하는 것은 모델의 용량을 늘린다고 볼 수 있죠. 3개의 층을 지나서 인코더로부터 나온 출력 벡터는 디코더로 보내줘야겠죠?"
   ]
  },
  {
   "cell_type": "markdown",
   "id": "governmental-estate",
   "metadata": {},
   "source": [
    "**디코터 설계**"
   ]
  },
  {
   "cell_type": "code",
   "execution_count": 186,
   "id": "searching-photograph",
   "metadata": {},
   "outputs": [
    {
     "name": "stdout",
     "output_type": "stream",
     "text": [
      "WARNING:tensorflow:Layer lstm_7 will not use cuDNN kernel since it doesn't meet the cuDNN kernel criteria. It will use generic GPU kernel as fallback when running on GPU\n"
     ]
    }
   ],
   "source": [
    "# 디코더 설계\n",
    "decoder_inputs = Input(shape=(None,))\n",
    "\n",
    "# 디코더의 임베딩 층\n",
    "dec_emb_layer = Embedding(tar_vocab, embedding_dim)\n",
    "dec_emb = dec_emb_layer(decoder_inputs)\n",
    "\n",
    "# 디코더의 LSTM\n",
    "decoder_lstm = LSTM(hidden_size, return_sequences=True, return_state=True, dropout=0.4, recurrent_dropout=0.2)\n",
    "decoder_outputs, _, _ = decoder_lstm(dec_emb, initial_state=[state_h, state_c])"
   ]
  },
  {
   "cell_type": "markdown",
   "id": "correct-sigma",
   "metadata": {},
   "source": [
    "디코더의 임베딩 층과 LSTM을 설계하는 것은 인코더와 거의 동일해요. 하지만 LSTM의 입력을 정의할 때, initial_state의 인자값으로 인코더의 hidden state와 cell state의 값을 넣어줘야 해요.\n",
    "\n",
    "**디코더의 출력층을 설계**해볼게요."
   ]
  },
  {
   "cell_type": "code",
   "execution_count": 187,
   "id": "creative-schedule",
   "metadata": {},
   "outputs": [
    {
     "name": "stdout",
     "output_type": "stream",
     "text": [
      "Model: \"model_4\"\n",
      "__________________________________________________________________________________________________\n",
      "Layer (type)                    Output Shape         Param #     Connected to                     \n",
      "==================================================================================================\n",
      "input_6 (InputLayer)            [(None, 42)]         0                                            \n",
      "__________________________________________________________________________________________________\n",
      "embedding_2 (Embedding)         (None, 42, 128)      2764800     input_6[0][0]                    \n",
      "__________________________________________________________________________________________________\n",
      "lstm_4 (LSTM)                   [(None, 42, 256), (N 394240      embedding_2[0][0]                \n",
      "__________________________________________________________________________________________________\n",
      "input_7 (InputLayer)            [(None, None)]       0                                            \n",
      "__________________________________________________________________________________________________\n",
      "lstm_5 (LSTM)                   [(None, 42, 256), (N 525312      lstm_4[0][0]                     \n",
      "__________________________________________________________________________________________________\n",
      "embedding_3 (Embedding)         (None, None, 128)    1190400     input_7[0][0]                    \n",
      "__________________________________________________________________________________________________\n",
      "lstm_6 (LSTM)                   [(None, 42, 256), (N 525312      lstm_5[0][0]                     \n",
      "__________________________________________________________________________________________________\n",
      "lstm_7 (LSTM)                   [(None, None, 256),  394240      embedding_3[0][0]                \n",
      "                                                                 lstm_6[0][1]                     \n",
      "                                                                 lstm_6[0][2]                     \n",
      "__________________________________________________________________________________________________\n",
      "dense_2 (Dense)                 (None, None, 9300)   2390100     lstm_7[0][0]                     \n",
      "==================================================================================================\n",
      "Total params: 8,184,404\n",
      "Trainable params: 8,184,404\n",
      "Non-trainable params: 0\n",
      "__________________________________________________________________________________________________\n"
     ]
    }
   ],
   "source": [
    "# 디코더의 출력층\n",
    "decoder_softmax_layer = Dense(tar_vocab, activation='softmax')\n",
    "decoder_softmax_outputs = decoder_softmax_layer(decoder_outputs) \n",
    "\n",
    "# 모델 정의\n",
    "model = Model([encoder_inputs, decoder_inputs], decoder_softmax_outputs)\n",
    "model.summary()"
   ]
  },
  {
   "cell_type": "markdown",
   "id": "metric-actor",
   "metadata": {},
   "source": [
    "디코더의 출력층에서는 Summary의 단어장인 tar_vocab의 수많은 선택지 중 하나의 단어를 선택하는 **다중 클래스 분류 문제**를 풀어야 해요. 그렇기 때문에 Dense의 인자로 tar_vocab을 주고, 활성화 함수로 소프트맥스 함수를 사용하고 있어요.\n",
    "\n",
    "지금까지 설계한 것은 **인코더의 hidden state와 cell state를 디코더의 초기 state로 사용하는 가장 기본적인 seq2seq**에요. 그런데 디코더의 출력층을 설계를 살짝 바꿔서 성능을 높일 수 있는 방법이 있어요! 바로 **어텐션 메커니즘**이에요."
   ]
  },
  {
   "cell_type": "markdown",
   "id": "heated-profit",
   "metadata": {},
   "source": [
    "## 3. 어텐션 메커니즘 사용하기 (추상적 요약)"
   ]
  },
  {
   "cell_type": "markdown",
   "id": "hired-knife",
   "metadata": {},
   "source": [
    "어텐션 메커니즘을 수행하는 어텐션 함수를 설계하는 것은 또 다른 새로운 신경망을 설계해야 한다는 뜻이에요. 어텐션 함수를 설계해보는 것은 다음 기회로 미루기로 하고, 여기서는 이미 구현된 어텐션 함수를 가져와서 디코더의 출력층에 어떤 방식으로 결합하는지 배워볼게요.\n",
    "\n",
    "아래의 코드를 수행하여 깃허브에 공개돼 있는 어텐션 함수를 다운로드할게요"
   ]
  },
  {
   "cell_type": "code",
   "execution_count": 188,
   "id": "architectural-boston",
   "metadata": {},
   "outputs": [],
   "source": [
    "urllib.request.urlretrieve(\"https://raw.githubusercontent.com/thushv89/attention_keras/master/src/layers/attention.py\", filename=\"attention.py\")\n",
    "from attention import AttentionLayer"
   ]
  },
  {
   "cell_type": "markdown",
   "id": "handmade-house",
   "metadata": {},
   "source": [
    "이제 경로에 attention.py 파일이 생겼으니, 어텐션 메커니즘을 사용할 준비가 되었어요. **설계한 디코더의 출력층을 다음과 같이 수정**할게요."
   ]
  },
  {
   "cell_type": "code",
   "execution_count": 189,
   "id": "suburban-central",
   "metadata": {},
   "outputs": [
    {
     "name": "stdout",
     "output_type": "stream",
     "text": [
      "Model: \"model_5\"\n",
      "__________________________________________________________________________________________________\n",
      "Layer (type)                    Output Shape         Param #     Connected to                     \n",
      "==================================================================================================\n",
      "input_6 (InputLayer)            [(None, 42)]         0                                            \n",
      "__________________________________________________________________________________________________\n",
      "embedding_2 (Embedding)         (None, 42, 128)      2764800     input_6[0][0]                    \n",
      "__________________________________________________________________________________________________\n",
      "lstm_4 (LSTM)                   [(None, 42, 256), (N 394240      embedding_2[0][0]                \n",
      "__________________________________________________________________________________________________\n",
      "input_7 (InputLayer)            [(None, None)]       0                                            \n",
      "__________________________________________________________________________________________________\n",
      "lstm_5 (LSTM)                   [(None, 42, 256), (N 525312      lstm_4[0][0]                     \n",
      "__________________________________________________________________________________________________\n",
      "embedding_3 (Embedding)         (None, None, 128)    1190400     input_7[0][0]                    \n",
      "__________________________________________________________________________________________________\n",
      "lstm_6 (LSTM)                   [(None, 42, 256), (N 525312      lstm_5[0][0]                     \n",
      "__________________________________________________________________________________________________\n",
      "lstm_7 (LSTM)                   [(None, None, 256),  394240      embedding_3[0][0]                \n",
      "                                                                 lstm_6[0][1]                     \n",
      "                                                                 lstm_6[0][2]                     \n",
      "__________________________________________________________________________________________________\n",
      "attention_layer (AttentionLayer ((None, None, 256),  131328      lstm_6[0][0]                     \n",
      "                                                                 lstm_7[0][0]                     \n",
      "__________________________________________________________________________________________________\n",
      "concat_layer (Concatenate)      (None, None, 512)    0           lstm_7[0][0]                     \n",
      "                                                                 attention_layer[0][0]            \n",
      "__________________________________________________________________________________________________\n",
      "dense_3 (Dense)                 (None, None, 9300)   4770900     concat_layer[0][0]               \n",
      "==================================================================================================\n",
      "Total params: 10,696,532\n",
      "Trainable params: 10,696,532\n",
      "Non-trainable params: 0\n",
      "__________________________________________________________________________________________________\n"
     ]
    }
   ],
   "source": [
    "# 어텐션 층(어텐션 함수)\n",
    "attn_layer = AttentionLayer(name='attention_layer')\n",
    "# 인코더와 디코더의 모든 time step의 hidden state를 어텐션 층에 전달하고 결과를 리턴\n",
    "attn_out, attn_states = attn_layer([encoder_outputs, decoder_outputs])\n",
    "\n",
    "# 어텐션의 결과와 디코더의 hidden state들을 연결\n",
    "decoder_concat_input = Concatenate(axis=-1, name='concat_layer')([decoder_outputs, attn_out])\n",
    "\n",
    "# 디코더의 출력층\n",
    "decoder_softmax_layer = Dense(tar_vocab, activation='softmax')\n",
    "decoder_softmax_outputs = decoder_softmax_layer(decoder_concat_input)\n",
    "\n",
    "# 모델 정의\n",
    "model = Model([encoder_inputs, decoder_inputs], decoder_softmax_outputs)\n",
    "model.summary()"
   ]
  },
  {
   "cell_type": "markdown",
   "id": "south-brand",
   "metadata": {},
   "source": [
    "위의 코드는 인코더의 hidden state들과 디코더의 hidden state들을 어텐션 함수의 입력으로 사용하고, 어텐션 함수가 리턴한 값을 예측 시에 디코더의 hidden state와 함께 활용하는 형태로 작동하고 있어요."
   ]
  },
  {
   "cell_type": "markdown",
   "id": "automotive-edward",
   "metadata": {},
   "source": [
    "### 모델 훈련하기"
   ]
  },
  {
   "cell_type": "code",
   "execution_count": 190,
   "id": "cooked-energy",
   "metadata": {},
   "outputs": [
    {
     "name": "stdout",
     "output_type": "stream",
     "text": [
      "Epoch 1/50\n",
      "297/297 [==============================] - 206s 658ms/step - loss: 5.8881 - val_loss: 5.1702\n",
      "Epoch 2/50\n",
      "297/297 [==============================] - 197s 664ms/step - loss: 5.2108 - val_loss: 5.0591\n",
      "Epoch 3/50\n",
      "297/297 [==============================] - 197s 662ms/step - loss: 5.0719 - val_loss: 4.9347\n",
      "Epoch 4/50\n",
      "297/297 [==============================] - 197s 664ms/step - loss: 4.9352 - val_loss: 4.8121\n",
      "Epoch 5/50\n",
      "297/297 [==============================] - 197s 665ms/step - loss: 4.7915 - val_loss: 4.7076\n",
      "Epoch 6/50\n",
      "297/297 [==============================] - 198s 665ms/step - loss: 4.6627 - val_loss: 4.5740\n",
      "Epoch 7/50\n",
      "297/297 [==============================] - 197s 665ms/step - loss: 4.5067 - val_loss: 4.4518\n",
      "Epoch 8/50\n",
      "297/297 [==============================] - 197s 663ms/step - loss: 4.3598 - val_loss: 4.3259\n",
      "Epoch 9/50\n",
      "297/297 [==============================] - 196s 662ms/step - loss: 4.2066 - val_loss: 4.2031\n",
      "Epoch 10/50\n",
      "297/297 [==============================] - 197s 662ms/step - loss: 4.0665 - val_loss: 4.1234\n",
      "Epoch 11/50\n",
      "297/297 [==============================] - 195s 658ms/step - loss: 3.9431 - val_loss: 4.0441\n",
      "Epoch 12/50\n",
      "297/297 [==============================] - 196s 659ms/step - loss: 3.8346 - val_loss: 3.9585\n",
      "Epoch 13/50\n",
      "297/297 [==============================] - 195s 657ms/step - loss: 3.7220 - val_loss: 3.8911\n",
      "Epoch 14/50\n",
      "297/297 [==============================] - 195s 657ms/step - loss: 3.6265 - val_loss: 3.8478\n",
      "Epoch 15/50\n",
      "297/297 [==============================] - 195s 656ms/step - loss: 3.5316 - val_loss: 3.7887\n",
      "Epoch 16/50\n",
      "297/297 [==============================] - 196s 661ms/step - loss: 3.4431 - val_loss: 3.7386\n",
      "Epoch 17/50\n",
      "297/297 [==============================] - 196s 659ms/step - loss: 3.3708 - val_loss: 3.7069\n",
      "Epoch 18/50\n",
      "297/297 [==============================] - 195s 657ms/step - loss: 3.2923 - val_loss: 3.6625\n",
      "Epoch 19/50\n",
      "297/297 [==============================] - 197s 664ms/step - loss: 3.2265 - val_loss: 3.6323\n",
      "Epoch 20/50\n",
      "297/297 [==============================] - 197s 664ms/step - loss: 3.1619 - val_loss: 3.5974\n",
      "Epoch 21/50\n",
      "297/297 [==============================] - 196s 660ms/step - loss: 3.0958 - val_loss: 3.5783\n",
      "Epoch 22/50\n",
      "297/297 [==============================] - 196s 661ms/step - loss: 3.0430 - val_loss: 3.5600\n",
      "Epoch 23/50\n",
      "297/297 [==============================] - 195s 658ms/step - loss: 2.9877 - val_loss: 3.5523\n",
      "Epoch 24/50\n",
      "297/297 [==============================] - 196s 658ms/step - loss: 2.9291 - val_loss: 3.5245\n",
      "Epoch 25/50\n",
      "297/297 [==============================] - 196s 661ms/step - loss: 2.8902 - val_loss: 3.5238\n",
      "Epoch 26/50\n",
      "297/297 [==============================] - 197s 664ms/step - loss: 2.8423 - val_loss: 3.5113\n",
      "Epoch 27/50\n",
      "297/297 [==============================] - 198s 667ms/step - loss: 2.8052 - val_loss: 3.5003\n",
      "Epoch 28/50\n",
      "297/297 [==============================] - 197s 664ms/step - loss: 2.7653 - val_loss: 3.5243\n",
      "Epoch 29/50\n",
      "297/297 [==============================] - 197s 662ms/step - loss: 2.7278 - val_loss: 3.5003\n",
      "Epoch 30/50\n",
      "297/297 [==============================] - 196s 659ms/step - loss: 2.6968 - val_loss: 3.4849\n",
      "Epoch 31/50\n",
      "297/297 [==============================] - 196s 660ms/step - loss: 2.6609 - val_loss: 3.4878\n",
      "Epoch 32/50\n",
      "297/297 [==============================] - 196s 660ms/step - loss: 2.6306 - val_loss: 3.4843\n",
      "Epoch 33/50\n",
      "297/297 [==============================] - 196s 661ms/step - loss: 2.5999 - val_loss: 3.4787\n",
      "Epoch 34/50\n",
      "297/297 [==============================] - 197s 662ms/step - loss: 2.5671 - val_loss: 3.4839\n",
      "Epoch 35/50\n",
      "297/297 [==============================] - 197s 663ms/step - loss: 2.5390 - val_loss: 3.4983\n",
      "Epoch 00035: early stopping\n"
     ]
    }
   ],
   "source": [
    "model.compile(optimizer='rmsprop', loss='sparse_categorical_crossentropy')\n",
    "es = EarlyStopping(monitor='val_loss', patience=2, verbose=1)\n",
    "history = model.fit(x=[encoder_input_train, decoder_input_train], y=decoder_target_train, \\\n",
    "          validation_data=([encoder_input_test, decoder_input_test], decoder_target_test), \\\n",
    "          batch_size=256, callbacks=[es], epochs=50)"
   ]
  },
  {
   "cell_type": "code",
   "execution_count": 191,
   "id": "boolean-croatia",
   "metadata": {},
   "outputs": [
    {
     "data": {
      "image/png": "[encoded data removed]",
      "text/plain": [
       "<Figure size 432x288 with 1 Axes>"
      ]
     },
     "metadata": {
      "needs_background": "light"
     },
     "output_type": "display_data"
    }
   ],
   "source": [
    "plt.plot(history.history['loss'], label='train')\n",
    "plt.plot(history.history['val_loss'], label='test')\n",
    "plt.legend()\n",
    "plt.show()"
   ]
  },
  {
   "cell_type": "markdown",
   "id": "quality-wichita",
   "metadata": {},
   "source": [
    "#### 인퍼런스 모델 구현하기"
   ]
  },
  {
   "cell_type": "markdown",
   "id": "crazy-visiting",
   "metadata": {},
   "source": [
    "테스트 단계에서는 정수 인덱스 행렬로 존재하던 텍스트 데이터를 실제 데이터로 복원해야 하므로, 필요한 3개의 사전을 아래와 같이 미리 준비해 둡니다."
   ]
  },
  {
   "cell_type": "code",
   "execution_count": 192,
   "id": "hungarian-buffer",
   "metadata": {},
   "outputs": [],
   "source": [
    "src_index_to_word = src_tokenizer.index_word # 원문 단어 집합에서 정수 -> 단어를 얻음\n",
    "tar_word_to_index = tar_tokenizer.word_index # 요약 단어 집합에서 단어 -> 정수를 얻음\n",
    "tar_index_to_word = tar_tokenizer.index_word # 요약 단어 집합에서 정수 -> 단어를 얻음"
   ]
  },
  {
   "cell_type": "markdown",
   "id": "critical-conviction",
   "metadata": {},
   "source": [
    "seq2seq는 훈련할 때와 실제 동작할 때(인퍼런스 단계)의 방식이 다르므로 그에 맞게 모델 설계를 별개로 진행해야 한다는 것, 알고 계시나요?\n",
    "\n",
    "훈련 단계에서는 디코더의 입력부에 정답이 되는 문장 전체를 한꺼번에 넣고 디코더의 출력과 한 번에 비교할 수 있으므로, 인코더와 디코더를 엮은 통짜 모델 하나만 준비했습니다.\n",
    "\n",
    "그러나 정답 문장이 없는 인퍼런스 단계에서는 만들어야 할 문장의 길이만큼 디코더가 반복 구조로 동작해야 하기 때문에 부득이하게 인퍼런스를 위한 모델 설계를 별도로 해주어야 합니다. 이때는 인코더 모델과 디코더 모델을 분리해서 설계합니다."
   ]
  },
  {
   "cell_type": "code",
   "execution_count": 193,
   "id": "peripheral-quebec",
   "metadata": {},
   "outputs": [],
   "source": [
    "# 인코더 설계\n",
    "encoder_model = Model(inputs=encoder_inputs, outputs=[encoder_outputs, state_h, state_c])\n",
    "\n",
    "# 이전 시점의 상태들을 저장하는 텐서\n",
    "decoder_state_input_h = Input(shape=(hidden_size,))\n",
    "decoder_state_input_c = Input(shape=(hidden_size,))\n",
    "\n",
    "dec_emb2 = dec_emb_layer(decoder_inputs)\n",
    "\n",
    "# 문장의 다음 단어를 예측하기 위해서 초기 상태(initial_state)를 이전 시점의 상태로 사용. 이는 뒤의 함수 decode_sequence()에 구현\n",
    "# 훈련 과정에서와 달리 LSTM의 리턴하는 은닉 상태와 셀 상태인 state_h와 state_c를 버리지 않음.\n",
    "decoder_outputs2, state_h2, state_c2 = decoder_lstm(dec_emb2, initial_state=[decoder_state_input_h, decoder_state_input_c])"
   ]
  },
  {
   "cell_type": "markdown",
   "id": "suspended-kitty",
   "metadata": {},
   "source": [
    "어텐션 메커니즘을 사용하는 출력층을 설계"
   ]
  },
  {
   "cell_type": "code",
   "execution_count": 194,
   "id": "dated-cheese",
   "metadata": {},
   "outputs": [],
   "source": [
    "# 어텐션 함수\n",
    "decoder_hidden_state_input = Input(shape=(text_max_len, hidden_size))\n",
    "attn_out_inf, attn_states_inf = attn_layer([decoder_hidden_state_input, decoder_outputs2])\n",
    "decoder_inf_concat = Concatenate(axis=-1, name='concat')([decoder_outputs2, attn_out_inf])\n",
    "\n",
    "# 디코더의 출력층\n",
    "decoder_outputs2 = decoder_softmax_layer(decoder_inf_concat) \n",
    "\n",
    "# 최종 디코더 모델\n",
    "decoder_model = Model(\n",
    "    [decoder_inputs] + [decoder_hidden_state_input,decoder_state_input_h, decoder_state_input_c],\n",
    "    [decoder_outputs2] + [state_h2, state_c2])"
   ]
  },
  {
   "cell_type": "markdown",
   "id": "foster-dietary",
   "metadata": {},
   "source": [
    "인퍼런스 단계에서 단어 시퀀스를 완성하는 함수를 만들어주세요"
   ]
  },
  {
   "cell_type": "code",
   "execution_count": 195,
   "id": "killing-indonesian",
   "metadata": {},
   "outputs": [],
   "source": [
    "def decode_sequence(input_seq):\n",
    "    # 입력으로부터 인코더의 상태를 얻음\n",
    "    e_out, e_h, e_c = encoder_model.predict(input_seq)\n",
    "\n",
    "     # <SOS>에 해당하는 토큰 생성\n",
    "    target_seq = np.zeros((1,1))\n",
    "    target_seq[0, 0] = tar_word_to_index['sostoken']\n",
    "\n",
    "    stop_condition = False\n",
    "    decoded_sentence = ''\n",
    "    while not stop_condition: # stop_condition이 True가 될 때까지 루프 반복\n",
    "\n",
    "        output_tokens, h, c = decoder_model.predict([target_seq] + [e_out, e_h, e_c])\n",
    "        sampled_token_index = np.argmax(output_tokens[0, -1, :])\n",
    "        sampled_token = tar_index_to_word[sampled_token_index]\n",
    "\n",
    "        if (sampled_token!='eostoken'):\n",
    "            decoded_sentence += ' '+sampled_token\n",
    "\n",
    "        #  <eos>에 도달하거나 최대 길이를 넘으면 중단.\n",
    "        if (sampled_token == 'eostoken'  or len(decoded_sentence.split()) >= (headlines_max_len-1)):\n",
    "            stop_condition = True\n",
    "\n",
    "        # 길이가 1인 타겟 시퀀스를 업데이트\n",
    "        target_seq = np.zeros((1,1))\n",
    "        target_seq[0, 0] = sampled_token_index\n",
    "\n",
    "        # 상태를 업데이트 합니다.\n",
    "        e_h, e_c = h, c\n",
    "\n",
    "    return decoded_sentence"
   ]
  },
  {
   "cell_type": "markdown",
   "id": "statutory-virginia",
   "metadata": {},
   "source": [
    "## 4. 실제 결과와 요약문 비교하기 (추상적 요약)"
   ]
  },
  {
   "cell_type": "markdown",
   "id": "neutral-brisbane",
   "metadata": {},
   "source": [
    "### 모델 테스트하기"
   ]
  },
  {
   "cell_type": "markdown",
   "id": "canadian-stupid",
   "metadata": {},
   "source": [
    "테스트 단계에서는 정수 시퀀스를 텍스트 시퀀스로 변환하여 결과를 확인하는 것이 편하겠죠. 주어진 정수 시퀀스를 텍스트 시퀀스로 변환하는 함수를 만들어볼게요. 함수를 만들 때, Text의 정수 시퀀스에서는 패딩을 위해 사용되는 숫자 0을 제외하고 Summary의 정수 시퀀스에서는 숫자 0, 시작 토큰의 인덱스, 종료 토큰의 인덱스를 출력에서 제외하도록 만들 거예요."
   ]
  },
  {
   "cell_type": "code",
   "execution_count": 196,
   "id": "through-haven",
   "metadata": {},
   "outputs": [],
   "source": [
    "# 원문의 정수 시퀀스를 텍스트 시퀀스로 변환\n",
    "def seq2text(input_seq):\n",
    "    temp=''\n",
    "    for i in input_seq:\n",
    "        if (i!=0):\n",
    "            temp = temp + src_index_to_word[i]+' '\n",
    "    return temp\n",
    "\n",
    "# 요약문의 정수 시퀀스를 텍스트 시퀀스로 변환\n",
    "\n",
    "def seq2summary(input_seq):\n",
    "    temp=''\n",
    "    for i in input_seq:\n",
    "        if ((i!=0 and i!=tar_word_to_index['sostoken']) and i!=tar_word_to_index['eostoken']):\n",
    "            temp = temp + tar_index_to_word[i] + ' '\n",
    "    return temp"
   ]
  },
  {
   "cell_type": "markdown",
   "id": "featured-focus",
   "metadata": {},
   "source": [
    "테스트 데이터 약 50개의 샘플에 대해서 실제 요약과 예측된 요약을 비교"
   ]
  },
  {
   "cell_type": "code",
   "execution_count": 197,
   "id": "failing-contrast",
   "metadata": {
    "scrolled": false
   },
   "outputs": [
    {
     "name": "stdout",
     "output_type": "stream",
     "text": [
      "원문 : claiming committee formed probe killing man eater tigress avni shiv sena chief uddhav thackeray said given supari kill tigress made members committee committee formed maharashtra government criticised killing tigress allegedly killed people \n",
      "실제 요약 : who gave to kill tigress avni are probing her death sena \n",
      "예측 요약 :  death threats for attack on fear of journo in odisha cm\n",
      "\n",
      "\n",
      "원문 : new trailer sridevi th film mom released revenge thriller also stars akshaye khanna pakistani actors sajal ali adnan siddiqui nawazuddin siddiqui special appearance directed ravi ar rahman music director film scheduled release july \n",
      "실제 요약 : new trailer of sridevi th film mom released \n",
      "예측 요약 :  trailer of sridevi nawazuddin mom wish teaser of sridevi in biopic\n",
      "\n",
      "\n",
      "원문 : asserting wrong give reservation muslims bjp telangana leader kishan reddy friday said reservations based religion muslim minority issue going judgment come soon baba saheb ambedkar also said reservations name religion added \n",
      "실제 요약 : there should not be quota based on religion bjp leader \n",
      "예측 요약 :  bjp will not be built in assam muslim muslim quota owaisi\n",
      "\n",
      "\n",
      "원문 : rjd chief lalu prasad yadav elder son tej pratap allotted government bungalow strand road patna tej recently filed divorce wife earlier said wanted separate government residence focus fight bjp complained receive response applications residence \n",
      "실제 요약 : tej pratap yadav new govt bungalow in patna \n",
      "예측 요약 :  son tej pratap was not to be given up tej pratap\n",
      "\n",
      "\n",
      "원문 : us chief justice john roberts called country judiciary independent response president donald trump calling judge ruled migrant asylum order obama judge extraordinary group dedicated judges level best equal right appearing chief justice roberts said \n",
      "실제 요약 : us chief justice responds to trump obama judge remark \n",
      "예측 요약 :  us judge slams trump for calling un court judge trump plea\n",
      "\n",
      "\n",
      "원문 : hollywood actor chris pine stars wonder woman slammed title upcoming third avengers film avengers infinity war added really like title infinity war need war time film star chris evans robert downey jr chris pratt among others scheduled release may \n",
      "실제 요약 : wonder woman actor chris slams avengers infinity war title \n",
      "예측 요약 :  wonder woman avengers infinity war is the world war wonder actor\n",
      "\n",
      "\n",
      "원문 : video showing former india captain ms dhoni holding daughter ziva lap first annual function school surfaced online video dhoni seen waving talking children asking high five dhoni joining team india limited overs series south africa next month \n",
      "실제 요약 : ms dhoni attends daughter first annual day function \n",
      "예측 요약 :  ms dhoni posts video of dhoni dancing in the third time\n",
      "\n",
      "\n",
      "원문 : sportswear giant nike shares hit time high thursday ten days featured controversial american football player colin kaepernick ad campaign many users social media called boycott burned nike apparel protest kaepernick began us national anthem raise awareness police brutality racial injustice \n",
      "실제 요약 : nike shares hit all time high days after controversial ad \n",
      "예측 요약 :  morgan to retire after asking to pay for its first time\n",
      "\n",
      "\n",
      "원문 : former finance minister chidambaram monday said biggest issue lok sabha elections unemployment adding government incompetent know create jobs chidambaram suggested least five teachers recruited one teacher schools millions jobs created \n",
      "실제 요약 : unemployment to be main issue in ls polls chidambaram \n",
      "예측 요약 :  chidambaram has no longer in politics of the country ex fm\n",
      "\n",
      "\n",
      "원문 : instagram post demise actress sridevi filmmaker karan johar wrote feel like indian cinema lost smile said heartbroken adding every time met star struck moment added danced hawa hawai school seen every film multiple times \n",
      "실제 요약 : indian cinema just lost its smile johar on sridevi demise \n",
      "예측 요약 :  sridevi was not to see me in my next years sridevi\n",
      "\n",
      "\n",
      "원문 : india sent year old boy back pakistan unintentionally indian territory ferozepur nearly seven months ago according pakistani embassy new delhi boy lodged juvenile cum observation home acquitted entering india without proper documents pakistan given consular access boy november \n",
      "실제 요약 : india sends speech hearing impaired boy back to pakistan \n",
      "예측 요약 :  indian fishermen accused of pak girl found in pok in pak\n",
      "\n",
      "\n",
      "원문 : india extended crore lines credit rwanda pm narendra modi held talks nation president paul two countries signed agreements industrial agricultural development pm modi first indian prime minister visit country also announced first indian diplomatic mission would opened \n",
      "실제 요약 : india extends crore lines of credit to rwanda \n",
      "예측 요약 :  india to be held in india for first time in years\n",
      "\n",
      "\n",
      "원문 : author chetan bhagat saturday apologised screenshots chat leaked claimed woman porn writer wanting co write bhagat said woman met two years ago mailed erotic writing samples added lady trolled social media people realised real metoo \n",
      "실제 요약 : woman with was porn writer wanting to co write chetan \n",
      "예측 요약 :  chetan bhagat sends legal notice to kiss for her metoo story\n",
      "\n",
      "\n",
      "원문 : iranian oil minister said private exporters problems selling iranian oil despite us sanctions us granted exemptions eight countries allowing temporarily continue buying iranian oil oil sanctions president hassan rouhani earlier said sanctions affect people lives bring country knees \n",
      "실제 요약 : pvt had no problem selling our oil iran after sanctions \n",
      "예측 요약 :  iran oil oil imports to iran oil oil firm to us\n",
      "\n",
      "\n",
      "원문 : former sri lankan spinner muttiah muralitharan player test cricket history take wickets picked th wicket final ball test career muralitharan dismissed india ojha th test wicket july notably muralitharan fastest pick test wickets \n",
      "실제 요약 : murali picked up th test wicket on career last ball \n",
      "예측 요약 :  sri lankan spinner to be held in test for st time\n",
      "\n",
      "\n",
      "원문 : mercedes british formula one racer lewis hamilton italian grand prix sunday take lead drivers championship title race first time season mercedes valtteri bottas finished second hamilton championship rival ferrari sebastian vettel placed third hamilton leads vettel three points \n",
      "실제 요약 : hamilton wins italian gp to take lead in title race \n",
      "예측 요약 :  hamilton wins th grand slam title of hamilton wins th time\n",
      "\n",
      "\n",
      "원문 : undefeated boxing champion floyd mayweather took nearly seconds defeat japanese exhibition boxing bout worth reported million japan tokyo year old year old japanese three times end first round entertainment fun still retired mayweather later said \n",
      "실제 요약 : mayweather takes sec to beat yr old wins cr \n",
      "예측 요약 :  mayweather to fight in china for st time in china open\n",
      "\n",
      "\n",
      "원문 : presenting budget finance minister arun jaitley thursday said putting surplus money hands middle class taxpayer step step every budget added budget addressed criticism elected members fix salaries proposing institutional mechanism fix \n",
      "실제 요약 : have put money in hands of middle class fm \n",
      "예측 요약 :  abvp asks budget to be part of new taxpayers fm jaitley\n",
      "\n",
      "\n",
      "원문 : around muslim demonstrators marched spanish city barcelona monday condemn terrorism comes spain hit twin terror attacks claimed lives people injured others last week also victims terrorism religion barcelona terrorism read demonstrators placards \n",
      "실제 요약 : muslims march against terrorism in barcelona \n",
      "예측 요약 :  khalistan war is the only of the year in spain spain\n",
      "\n",
      "\n",
      "원문 : banks need board expertise ensure speedy implementation measures address challenges cyber threats rbi executive director meena said said banks need prompt sharing breach cyber security authorities regulators added important financial institutions crisis management plans place \n",
      "실제 요약 : it at banks board level must rbi executive \n",
      "예측 요약 :  rbi asks banks to take any any other banks rbi guv\n",
      "\n",
      "\n",
      "원문 : teaser rajinikanth starrer featured akshay kumar leaked online sunday shankar directorial marks debut akshay kumar tamil films earlier teaser rajinikanth film kaala leaked prompting makers film release original version teaser \n",
      "실제 요약 : teaser of rajinikanth akshay kumar gets leaked online \n",
      "예측 요약 :  teaser of rajinikanth akshay kumar starrer padman to release in film\n",
      "\n",
      "\n",
      "원문 : india recorded lowest odi total new zealand getting runs overs fourth odi hamilton thursday seven india batsmen dismissed single digit scores number ten batsman yuzvendra chahal top scored india previous lowest odi total new zealand \n",
      "실제 요약 : india get all out for their lowest odi total in new zealand \n"
     ]
    },
    {
     "name": "stdout",
     "output_type": "stream",
     "text": [
      "예측 요약 :  india beat windies to win in an odi rankings for years\n",
      "\n",
      "\n",
      "원문 : saudi government demanded individual wealth princes senior officials arrested corruption probe fine return release according reports saudi princes officials including middle east wealthiest person net worth billion arrested probe \n",
      "실제 요약 : saudi seeks wealth as fine from arrested royals report \n",
      "예측 요약 :  saudi man accused of cr in saudi arabia to pay cr\n",
      "\n",
      "\n",
      "원문 : gel german nurse convicted killing patients suspected killed least people police said additional cases uncovered bodies people links convict exhumed gel reportedly admitted injecting patients lethal drugs trying revive order play hero \n",
      "실제 요약 : german killer nurse suspected of more murders police \n",
      "예측 요약 :  mob who killed in murder of killing man who killed in\n",
      "\n",
      "\n",
      "원문 : indusind bank tuesday reported year year increase profit june quarter bank net interest income rose year year crore quarter percentage total loans gross bad loans fell compared march quarter \n",
      "실제 요약 : bank profit rises to cr in june quarter \n",
      "예측 요약 :  lakh crore loan profit rises to crore in june quarter quarter\n",
      "\n",
      "\n",
      "원문 : karnataka home minister ramalinga reddy said state planning frame law award capital punishments convicts raping minor girls comes madhya pradesh became first indian state pass bill awarding capital punishment convicted raping girls aged years \n",
      "실제 요약 : taka mulls capital punishment for raping minor girls \n",
      "예측 요약 :  taka to rape victims to be raped in jail for yrs\n",
      "\n",
      "\n",
      "원문 : latest promo upcoming republic tv journalist arnab goswami told viewers really missed return soon working day night team make dream happen dream one says arnab seen writing letter promo \n",
      "실제 요약 : have really missed you arnab goswami to \n",
      "예측 요약 :  twitter reacts to hirani arnab goswami he is the first time\n",
      "\n",
      "\n",
      "원문 : abhishek bachchan rani mukerji starring opposite sequel film aur per reports plot sequel finalised shoot tentatively start november reports added sequel reportedly produced yash raj films director yet decided \n",
      "실제 요약 : abhishek rani to star in aur sequel reports \n",
      "예측 요약 :  abhishek to star in film with aishwarya rai in next film\n",
      "\n",
      "\n",
      "원문 : indu sarkar based emergency confused criticising sarkar wrote hindustan times ndtv said high dramatic flourish low impact meanwhile times india wrote indu sarkar best focuses protagonist emotional struggles leaving politics behind rated \n",
      "실제 요약 : film on emergency indu sarkar hits the theatres \n",
      "예측 요약 :  do not want to sell the film on budget says nirbhaya\n",
      "\n",
      "\n",
      "원문 : manchester united french footballer paul pogba seen meeting barcelona forward lionel messi dubai two footballers enjoying time club football due international break pogba scored five goals created three assists across competitions season linked move fc barcelona \n",
      "실제 요약 : manchester united pogba seen meeting barca messi in dubai \n",
      "예측 요약 :  man utd to play football club to play messi next year\n",
      "\n",
      "\n",
      "원문 : world billionaires grew combined wealth trillion last year gdp spain australia report swiss bank ubs said billionaires total wealth grew previous year trillion china minted two new billionaires week asia created three billionaires week report added \n",
      "실제 요약 : billionaires added more wealth in than spain gdp report \n",
      "예측 요약 :  world richest people to be held in wealth at world war\n",
      "\n",
      "\n",
      "원문 : baby born dallas bound spirit airlines flight month following us airline awarded infant free flights birthday month rest life nurse onboard rushed help weeks pregnant said everything started happening quickly pure panic \n",
      "실제 요약 : baby born on flight gets free tickets for birthday month \n",
      "예측 요약 :  woman who is the pilot who died in us united flight\n",
      "\n",
      "\n",
      "원문 : three passengers injured boulders came crashing sleeper coach express train near maharashtra ghat monday train brought station boulder removed injured taken hospital mudslides caused heavy rainfall could led boulders coming reports said \n",
      "실제 요약 : injured as fall on express in maharashtra \n",
      "예측 요약 :  train guard injured in train accident on train train in maha\n",
      "\n",
      "\n",
      "원문 : tesla ceo elon musk could earn around billion performance bonus electric carmaker market value currently billion rises billion next years company shareholders thursday approved compensation package wherein musk would get billion stock option tranches tied company market cap goals \n",
      "실제 요약 : elon musk could earn billion bonus in yrs from tesla \n",
      "예측 요약 :  tesla stock market cap in day after day to th day\n",
      "\n",
      "\n",
      "원문 : british airways engineer killed another person injured two airport vehicles collided airfield london heathrow airport least flights delayed hundreds passengers affected incident officials said investigation launched arrests \n",
      "실제 요약 : dead flights delayed as vehicles collide at uk airport \n",
      "예측 요약 :  drunk forces in uae to be shut down by tourist runway\n",
      "\n",
      "\n",
      "원문 : gujarat water supply minister bjp leader babu said congress wanted prime minister narendra modi become first prime minister independent india intending take sardar patel name mistakenly said prime minister narendra modi name reports said prime minister modi born elected position \n",
      "실제 요약 : congress wanted pm modi as prime minister in minister \n",
      "예측 요약 :  pm modi is the st time to be held pm modi\n",
      "\n",
      "\n",
      "원문 : meeting jailed bajrang dal vhp activists bihar bjp mp union minister giriraj singh saturday said state government feels communal harmony suppress hindus unfortunate way jitu ji kailash ji framed union minister added accused arrested charges rioting \n",
      "실제 요약 : bihar hindus bjp mp on jailed vhp activists \n",
      "예측 요약 :  bjp must be part of bjp mla on nrc rights chief\n",
      "\n",
      "\n",
      "원문 : delhi high court sought legal opinion doctors boards digging woman corpse investigate cause death around four months burial comes deceased family alleged foul play death however doctors said exercise would body must decomposed time \n",
      "실제 요약 : delhi hc seeks doctors stand on digging out woman corpse \n",
      "예측 요약 :  delhi hc gets life term for killing woman in laws case\n",
      "\n",
      "\n",
      "원문 : group named periyar kazhagam filed petition family court tamil nadu coimbatore seeking divorce dog goat married wednesday marriage ceremony animals performed another group protesting valentine day \n",
      "실제 요약 : group seeks divorce of dog goat married off on valentine \n",
      "예측 요약 :  ips officer who was the nun of the nun who died\n",
      "\n",
      "\n",
      "원문 : us president donald trump white blaming sides racial violence killed one person injured others earlier month virginia ex us vice president joe biden said moment nation declare resident cannot conviction place hate america biden added \n",
      "실제 요약 : trump white ex us vice president \n",
      "예측 요약 :  trump will not be able to eat us prez donald trump\n",
      "\n",
      "\n",
      "원문 : criticising pm narendra modi independence day speech congress spokesperson randeep surjewala wednesday said spoken truth last speech calling speech disappointing congress leader anand sharma remarked three years time give account failures government deliver promises \n",
      "실제 요약 : modi should have said truth in last day speech as pm cong \n",
      "예측 요약 :  cong has no longer in the name of ex pm modi\n",
      "\n",
      "\n",
      "원문 : north korea released unseen images showing early development country nuclear ballistic missile programme photos trace programme inception country founder kim il sung first icbm test july images show north korea shift reliance basic engines intermediate range intercontinental ballistic missiles \n",
      "실제 요약 : north korea releases images of nuclear programme \n",
      "예측 요약 :  korea to launch its st nuclear test site for korea korea\n",
      "\n",
      "\n",
      "원문 : police us state found grams drugs including cocaine methamphetamine marijuana ecstasy synthetic pot woman vagina received tip packet drugs discovered police officials took woman ct scan charged multiple counts possession intent deliver \n",
      "실제 요약 : police find of drugs inside us woman \n",
      "예측 요약 :  us police arrest cocaine in us for yrs of pet drugs\n",
      "\n",
      "\n",
      "원문 : vhp leader pravin togadia friday demanded government carry carpet bombing kashmir valley stop militant attacks security forces attacks army camps incidents stone pelting considered war added bombed spread states break india pieces togadia said \n",
      "실제 요약 : carpet bomb kashmir to stop militants vhp \n",
      "예측 요약 :  will not be used to syria chemical weapons shia body chief\n",
      "\n",
      "\n",
      "원문 : pilot airlines suspended months fined lakh allowing wife enter cockpit according airline pilot let wife cockpit two flights last year pilot bought full tickets also ordered pay wife journey \n",
      "실제 요약 : chinese pilot suspended fined lakh for allowing wife in cockpit \n"
     ]
    },
    {
     "name": "stdout",
     "output_type": "stream",
     "text": [
      "예측 요약 :  pilot who went to fly plane for drunk man dies plane\n",
      "\n",
      "\n",
      "원문 : delhi high court monday allowed gautam one five activists arrested connection bhima koregaon case freed house arrest hc granted relief saying supreme court recently given liberty approach appropriate forum within four weeks seek relief detention exceeding hours untenable court added \n",
      "실제 요약 : hc ends house arrest of activist linked to bhima koregaon case \n",
      "예측 요약 :  delhi police arrest in arrest of activists in bhima koregaon case\n",
      "\n",
      "\n",
      "원문 : former pakistan prime minister nawaz sharif sunday shifted pakistan institute medical sciences islamabad health deteriorated rawalpindi prison sharif shifted showed irregular heart activity tests revealed blood senior official said suffering cardiac \n",
      "실제 요약 : ex pak pm sharif shifted to hospital as health \n",
      "예측 요약 :  nawaz sharif to be charged with pak pm nawaz sharif daughter\n",
      "\n",
      "\n",
      "원문 : facebook filed patents us patent trademark office technology uses location data predict users going offline based user previously logged location data location data users use location network coverage data pre load news feed offline users \n",
      "실제 요약 : facebook patents tech to predict users future location \n",
      "예측 요약 :  us firm to send users to detect tracking users in us\n",
      "\n",
      "\n",
      "원문 : special cbi court ranchi saturday acquitted former bihar cm jagannath mishra five others one six fodder scam cases meanwhile people including lalu prasad yadav found guilty case particular case linked fraudulent withdrawal around lakh deoghar treasury \n",
      "실제 요약 : ex bihar cm jagannath mishra acquitted in fodder scam case \n",
      "예측 요약 :  cbi judge who has given bribe to lalu prasad in bihar\n",
      "\n",
      "\n",
      "원문 : rajya sabha mp sharad yadav saturday said jd faction led fight gujarat assembly elections autorickshaw symbol alliance congress comes election commission recognised chief minister nitish kumar led faction real jd allowed faction use arrow symbol \n",
      "실제 요약 : sharad yadav jd to use symbol \n",
      "예측 요약 :  ec rejects sharad yadav to contest ls polls in gujarat polls\n",
      "\n",
      "\n"
     ]
    }
   ],
   "source": [
    "for i in range(50, 100):\n",
    "    print(\"원문 :\", seq2text(encoder_input_test[i]))\n",
    "    print(\"실제 요약 :\", seq2summary(decoder_input_test[i]))\n",
    "    print(\"예측 요약 :\", decode_sequence(encoder_input_test[i].reshape(1, text_max_len)))\n",
    "    print(\"\\n\")"
   ]
  },
  {
   "cell_type": "markdown",
   "id": "atlantic-expense",
   "metadata": {},
   "source": [
    "## 5. Summa을 이용해서 추출적 요약해보기"
   ]
  },
  {
   "cell_type": "code",
   "execution_count": 198,
   "id": "suburban-ready",
   "metadata": {},
   "outputs": [],
   "source": [
    "import requests\n",
    "from summa.summarizer import summarize"
   ]
  },
  {
   "cell_type": "code",
   "execution_count": 199,
   "id": "close-outdoors",
   "metadata": {},
   "outputs": [],
   "source": [
    "urllib.request.urlretrieve(\"https://raw.githubusercontent.com/sunnysai12345/News_Summary/master/news_summary_more.csv\", filename=\"news_summary_more.csv\")\n",
    "data = pd.read_csv('news_summary_more.csv', encoding='iso-8859-1')"
   ]
  },
  {
   "cell_type": "markdown",
   "id": "coated-allowance",
   "metadata": {},
   "source": [
    "테스트 데이터 약 50개의 샘플에 대해서 실제 요약과 예측된 요약을 비교"
   ]
  },
  {
   "attachments": {},
   "cell_type": "markdown",
   "id": "blessed-rwanda",
   "metadata": {},
   "source": [
    "#### 원문의0.45%만을 출력하도록 설정\n"
   ]
  },
  {
   "cell_type": "code",
   "execution_count": 200,
   "id": "outside-country",
   "metadata": {
    "scrolled": false
   },
   "outputs": [
    {
     "name": "stdout",
     "output_type": "stream",
     "text": [
      "원문 : Saurav Kant, an alumnus of upGrad and IIIT-B's PG Program in Machine learning and Artificial Intelligence, was a Sr Systems Engineer at Infosys with almost 5 years of work experience. The program and upGrad's 360-degree career support helped him transition to a Data Scientist at Tech Mahindra with 90% salary hike. upGrad's Online Power Learning has powered 3 lakh+ careers.\n",
      "실제 요약 : upGrad learner switches to career in ML & Al with 90% salary hike\n",
      "예측 요약 : upGrad's Online Power Learning has powered 3 lakh+ careers.\n",
      "\n",
      "\n",
      "원문 : Kunal Shah's credit card bill payment platform, CRED, gave users a chance to win free food from Swiggy for one year. Pranav Kaushik, a Delhi techie, bagged this reward after spending 2000 CRED coins. Users get one CRED coin per rupee of bill paid, which can be used to avail rewards from brands like Ixigo, BookMyShow, UberEats, Cult.Fit and more.\n",
      "실제 요약 : Delhi techie wins free food from Swiggy for one year on CRED\n",
      "예측 요약 : Users get one CRED coin per rupee of bill paid, which can be used to avail rewards from brands like Ixigo, BookMyShow, UberEats, Cult.Fit and more.\n",
      "\n",
      "\n",
      "원문 : New Zealand defeated India by 8 wickets in the fourth ODI at Hamilton on Thursday to win their first match of the five-match ODI series. India lost an international match under Rohit Sharma's captaincy after 12 consecutive victories dating back to March 2018. The match witnessed India getting all out for 92, their seventh lowest total in ODI cricket history.\n",
      "실제 요약 : New Zealand end Rohit Sharma-led India's 12-match winning streak\n",
      "예측 요약 : The match witnessed India getting all out for 92, their seventh lowest total in ODI cricket history.\n",
      "\n",
      "\n",
      "원문 : With Aegon Life iTerm Insurance plan, customers can enjoy tax benefits on your premiums paid and save up to Ã¢ÂÂ¹46,800^ on taxes. The plan provides life cover up to the age of 100 years. Also, customers have options to insure against Critical Illnesses, Disability and Accidental Death Benefit Rider with a life cover up to the age of 80 years.\n",
      "실제 요약 : Aegon life iTerm insurance plan helps customers save tax\n",
      "예측 요약 : Also, customers have options to insure against Critical Illnesses, Disability and Accidental Death Benefit Rider with a life cover up to the age of 80 years.\n",
      "\n",
      "\n",
      "원문 : Speaking about the sexual harassment allegations against Rajkumar Hirani, Sonam Kapoor said, \"I've known Hirani for many years...What if it's not true, the [#MeToo] movement will get derailed.\" \"In the #MeToo movement, I always believe a woman. But in this case, we need to reserve our judgment,\" she added. Hirani has been accused by an assistant who worked in 'Sanju'.\n",
      "실제 요약 : Have known Hirani for yrs, what if MeToo claims are not true: Sonam\n",
      "예측 요약 : Speaking about the sexual harassment allegations against Rajkumar Hirani, Sonam Kapoor said, \"I've known Hirani for many years...What if it's not true, the [#MeToo] movement will get derailed.\" \"In the #MeToo movement, I always believe a woman.\n",
      "\n",
      "\n",
      "원문 : Pakistani singer Rahat Fateh Ali Khan has denied receiving any notice from the Enforcement Directorate over allegedly smuggling foreign currency out of India. \"It would have been better if the authorities would have served the notice first if any and then publicised this,\" reads a press release issued on behalf of Rahat. The statement further called the allegation \"bizarre\".\n",
      "실제 요약 : Rahat Fateh Ali Khan denies getting notice for smuggling currency\n",
      "예측 요약 : Pakistani singer Rahat Fateh Ali Khan has denied receiving any notice from the Enforcement Directorate over allegedly smuggling foreign currency out of India.\n",
      "\n",
      "\n",
      "원문 : India recorded their lowest ODI total in New Zealand after getting all out for 92 runs in 30.5 overs in the fourth ODI at Hamilton on Thursday. Seven of India's batsmen were dismissed for single-digit scores, while their number ten batsman Yuzvendra Chahal top-scored with 18*(37). India's previous lowest ODI total in New Zealand was 108.\n",
      "실제 요약 : India get all out for 92, their lowest ODI total in New Zealand\n",
      "예측 요약 : India's previous lowest ODI total in New Zealand was 108.\n",
      "\n",
      "\n",
      "원문 : Weeks after ex-CBI Director Alok Verma told the Department of Personnel and Training to consider him retired, the Home Ministry asked him to join work on the last day of his fixed tenure as Director on Thursday. The ministry directed him to immediately join as DG, Fire Services, the post he was transferred to after his removal as CBI chief.\n",
      "실제 요약 : Govt directs Alok Verma to join work 1 day before his retirement\n",
      "예측 요약 : \n",
      "\n",
      "\n",
      "원문 : Andhra Pradesh CM N Chandrababu Naidu has said, \"When I met then US President Bill Clinton, I addressed him as Mr Clinton, not as 'sir'. (PM Narendra) Modi is my junior in politics...I addressed him as sir 10 times.\" \"I did this...to satisfy his ego in the hope that he will do justice to the state,\" he added.\n",
      "실제 요약 : Called PM Modi 'sir' 10 times to satisfy his ego: Andhra CM\n",
      "예측 요약 : \n",
      "\n",
      "\n",
      "원문 : Congress candidate Shafia Zubair won the Ramgarh Assembly seat in Rajasthan, by defeating BJP's Sukhwant Singh with a margin of 12,228 votes in the bypoll. With this victory, Congress has taken its total to 100 seats in the 200-member assembly. The election to the Ramgarh seat was delayed due to the death of sitting MLA and BSP candidate Laxman Singh.\n",
      "실제 요약 : Cong wins Ramgarh bypoll in Rajasthan, takes total to 100 seats\n",
      "예측 요약 : Congress candidate Shafia Zubair won the Ramgarh Assembly seat in Rajasthan, by defeating BJP's Sukhwant Singh with a margin of 12,228 votes in the bypoll.\n",
      "\n",
      "\n",
      "원문 : Two minor cousins in Uttar Pradesh's Gorakhpur were allegedly repeatedly burnt with tongs and forced to eat human excreta by their family for being friends with two boys from the same school. The cousins revealed their ordeal to the police and Child Welfare Committee after being brought back to Gorakhpur from Nepal, where they had fled to escape the torture.\n",
      "실제 요약 : UP cousins fed human excreta for friendship with boys\n",
      "예측 요약 : \n",
      "\n",
      "\n",
      "원문 : Isha Ghosh, an 81-year-old member of Bharat Scouts and Guides (BSG), has been imparting physical and mental training to schoolchildren in Jharkhand for several decades. Chaibasa-based Ghosh reportedly walks seven kilometres daily and spends eight hours conducting physical training, apart from climbing and yoga sessions. She says, \"One should do something for society till one's last breath.\"\n",
      "실제 요약 : 81-yr-old woman conducts physical training in J'khand schools\n",
      "예측 요약 : Isha Ghosh, an 81-year-old member of Bharat Scouts and Guides (BSG), has been imparting physical and mental training to schoolchildren in Jharkhand for several decades.\n",
      "\n",
      "\n",
      "원문 : Urging saints and seers at the Kumbh Mela to quit smoking, Yoga guru Ramdev said, \"We follow Ram and Krishna who never smoked in their life then why should we?\" Making them take a pledge to quit tobacco, he collected chillum (clay pipe) from several sadhus. He said he will deposit the chillums for display at a museum he'll build.\n",
      "실제 요약 : Ram, Krishna didn't smoke, why should we: Ramdev to sadhus at Kumbh\n",
      "예측 요약 : \n",
      "\n",
      "\n",
      "원문 : Former stripper and regional sales director of a pharmaceutical company, Sunrise Lee, gave a doctor a lap dance in a nightclub to persuade him to prescribe an addictive fentanyl spray in 2012, the company's sales representative told a US court. She said she saw Lee \"sitting on [doctor's] lap, kind of bouncing around.\" Lee has been accused of bribing doctors.\n",
      "실제 요약 : Pharma exec gave doctor a lap dance to sell medicine in US: Witness\n",
      "예측 요약 : \n",
      "\n",
      "\n",
      "원문 : Reliance Industries' Chairman Mukesh Ambani's daughter Isha Ambani, who got married last month, said she only cried at her 'bidaai' because she felt peer pressure as everyone was crying, especially her parents. \"I was emotional too but everyone around me would cry all the time,\" she added. \"It was a very emotional affair for everyone in my family,\" said Isha.\n",
      "실제 요약 :  I only cried at my 'bidaai' as I felt peer pressure: Isha Ambani\n",
      "예측 요약 : \"It was a very emotional affair for everyone in my family,\" said Isha.\n",
      "\n",
      "\n",
      "원문 : Louis Vuitton owner LVMH, which makes high-end beverages like MoÃÂ«t & Chandon champagne and Hennessy cognac, said it's stockpiling four months' worth of wine and spirits in UK in preparation for Brexit. \"We're ready for worst case scenario if there are difficulties with deliveries,\" the French luxury giant said. The UK is scheduled to leave the EU on March 29.\n",
      "실제 요약 : Louis Vuitton owner to stockpile 4 months of wine, spirits in UK\n",
      "예측 요약 : Louis Vuitton owner LVMH, which makes high-end beverages like MoÃÂ«t & Chandon champagne and Hennessy cognac, said it's stockpiling four months' worth of wine and spirits in UK in preparation for Brexit.\n",
      "\n",
      "\n",
      "원문 : Filmmaker Karan Johar and actress Tabu turned showstoppers for Gaurav Gupta on the opening night of LakmÃÂ© Fashion Week Summer/ Resort 2019. While Johar wore a red sequinned jacket with black pants, Tabu walked the ramp in a grey embellished gown. The fashion show, which began on January 29, will continue till February 3.\n",
      "실제 요약 : Karan Johar, Tabu turn showstoppers on opening night of LFW\n",
      "예측 요약 : Filmmaker Karan Johar and actress Tabu turned showstoppers for Gaurav Gupta on the opening night of LakmÃÂ© Fashion Week Summer/ Resort 2019.\n",
      "\n",
      "\n",
      "원문 : In a jibe at Congress President Rahul Gandhi, PM Narendra Modi on Wednesday said those on \"bail will have to go to jail.\" PM Modi added, \"He is out on bail and his associates too are facing charges...I know they will be convicted one day.\" The PM claimed he'd waged a war on corruption because he's from a common household. \n",
      "실제 요약 : Those on bail will go to jail: PM Modi takes jibe at Rahul\n",
      "예측 요약 : \n",
      "\n",
      "\n",
      "원문 : Days after he threatened to step down from his post if Congress MLAs continue \"crossing the line,\" Karnataka Chief Minister HD Kumaraswamy accused them of taking potshots and asked, \"How many more days can I tolerate such stuff?\" Kumaraswamy, who made the statements after a Congress MLA demanded that Siddaramaiah be made CM again, said, \"Power is ephemeral.\"\n",
      "실제 요약 : How long can I tolerate Congress leaders' potshots: K'taka CM\n",
      "예측 요약 : \n",
      "\n",
      "\n",
      "원문 : Union Minister Dharmendra Pradhan on Wednesday claimed the illegal mining mafia in Odisha operates under the control of CM Naveen Patnaik and state Congress chief Niranjan Patnaik. He added, \"The time has come for the people of Odisha to put a full stop to their activities...The time has come for us to ask for an explanation from this corrupt government.\"\n",
      "실제 요약 : Odisha CM Patnaik controls mining mafia: Union Minister\n",
      "예측 요약 : \n",
      "\n",
      "\n",
      "원문 : Claiming there is a dearth of ideas among opposition parties, Prime Minister Narendra Modi on Wednesday said, \"The opposition talks only about Modi the whole day, I suspect they even dream about me.\" PM Modi, who was addressing the New India Youth Conclave inÃ¢ÂÂ Surat, added that the opposition parties have only one agenda which is \"Modi\". \n",
      "실제 요약 : I think the opposition even dreams about me: PM Modi\n",
      "예측 요약 : \n",
      "\n",
      "\n",
      "원문 : The Indian Space Research Organisation on Wednesday unveiled Human Space Flight Centre in Bengaluru for its Ã¢ÂÂ¹10,000-crore manned space mission 'Gaganyaan' scheduled for 2021. ISRO said the centre will be responsible for development of engineering systems for crew survival in space and crew selection and training. It'll also pursue activities for sustained human space flight missions, ISRO added.\n",
      "실제 요약 : ISRO unveils Bengaluru centre for manned space mission \n",
      "예측 요약 : It'll also pursue activities for sustained human space flight missions, ISRO added.\n",
      "\n",
      "\n",
      "원문 : At least 12 people have been killed and 170 others have been injured in Saudi Arabia this week due to flooding from heavy rain. The emergency services rescued 271 people from the flooded areas, more than half of them in Tabuk. Heavy rains hit mainly western and northwestern parts of Saudi Arabia, near its border with Jordan.\n",
      "실제 요약 : 12 killed, 170 injured in Saudi Arabia floods\n",
      "예측 요약 : At least 12 people have been killed and 170 others have been injured in Saudi Arabia this week due to flooding from heavy rain.\n",
      "\n",
      "\n",
      "원문 : Reliance Industries' Chairman Mukesh Ambani's daughter Isha Ambani has featured on the cover of the February edition of Vogue India. She's dressed in a white shirt dress and black ruffled skirt by Australian designer Toni Maticevski, while accessorising her look with a Misho ring. In the cover story on her, Isha has spoken about her work and life after marriage.\n",
      " \n",
      "실제 요약 : Isha Ambani features on February cover of Vogue magazine\n",
      "예측 요약 : Reliance Industries' Chairman Mukesh Ambani's daughter Isha Ambani has featured on the cover of the February edition of Vogue India.\n",
      "\n",
      "\n",
      "원문 : Indian Oil Corporation on Wednesday said it's looking for an annual deal to buy US crude as it seeks to broaden oil purchasing options. This comes amid uncertainties over Iran imports. The US had in November granted a six-month waiver to India from sanctions against Iran and restricted the country's monthly intake of Iranian oil to 3,00,000 barrels per day.\n",
      "\n",
      "\n",
      "실제 요약 : Indian Oil looking for annual deal to buy crude from US\n",
      "예측 요약 : The US had in November granted a six-month waiver to India from sanctions against Iran and restricted the country's monthly intake of Iranian oil to 3,00,000 barrels per day.\n",
      "\n",
      "\n",
      "원문 : Former Windies fast bowler Curtly Ambrose dismissed seven Australian batsmen within a span of 32 balls giving away just one run, in a Test match on January 30, 1993. Ambrose's spell helped his team bowl out Australia for 119 in the first innings, after being 85 for 2 at one point. Ambrose ended with first-innings figures of 18-9-25-7.\n",
      "실제 요약 : Pacer once took 7 wickets for just 1 run in 32 balls in a Test\n",
      "예측 요약 : Ambrose ended with first-innings figures of 18-9-25-7.\n",
      "\n",
      "\n",
      "원문 : A London zoo is offering people to name a cockroach after their exes on Valentine's Day for ÃÂ£1.50 (nearly Ã¢ÂÂ¹140). \"For those that don't quite require revenge, there's another way to make you feel better about getting back at your ex,\" the zoo said in a statement. The names will appear on zoo's 'roach board' on February 14. \n",
      "실제 요약 : UK zoo offers people to name cockroach after their ex on Valentine's\n",
      "예측 요약 : The names will appear on zoo's 'roach board' on February 14.\n",
      "\n",
      "\n",
      "원문 : Stand-in captain Rohit Sharma has become the 14th Indian cricketer to play 200 ODIs, achieving the feat after taking the field against New Zealand in fourth ODI at Hamilton on Thursday. The 31-year-old had made his ODI debut on June 23, 2007, against Ireland in Belfast. Rohit scored 7,799 runs in his first 199 ODIs at an average of 48.14.\n",
      "실제 요약 : Rohit Sharma becomes 14th Indian cricketer to play 200 ODIs\n",
      "예측 요약 : Rohit scored 7,799 runs in his first 199 ODIs at an average of 48.14.\n",
      "\n",
      "\n",
      "원문 : Batsman Shubman Gill has become the 227th cricketer to represent India in ODI cricket, achieving the feat against New Zealand in the fourth ODI at Hamilton on Thursday. The 19-year-old received his maiden ODI cap from former captain MS Dhoni. Notably, Shubman was named Player of the Under-19 World Cup in New Zealand last year.\n",
      "실제 요약 : 19-year-old Shubman Gill becomes India's 227th ODI cricketer\n",
      "예측 요약 : Notably, Shubman was named Player of the Under-19 World Cup in New Zealand last year.\n",
      "\n",
      "\n",
      "원문 : Investigators searching for a lost plane carrying Argentine forward Emiliano Sala found two seat cushions on French coast that \"likely\" belonged to the aircraft. The investigators said they'll now launch an underwater seabed search for aircraft wreckage. The Cardiff City footballer was travelling from France's Nantes to Wales' Cardiff when his plane disappeared over English Channel on January 21.\n",
      "실제 요약 : 2 seat cushions from 'missing plane carrying footballer' found\n",
      "예측 요약 : Investigators searching for a lost plane carrying Argentine forward Emiliano Sala found two seat cushions on French coast that \"likely\" belonged to the aircraft.\n",
      "\n",
      "\n",
      "원문 : Italian third division football side Lucchese's head coach Giancarlo Favarin has been banned for five months for headbutting Alessandria's assistant coach Gaetano Mancino during a brawl following the teams' 2-2 draw on Sunday. Mancino was caught off-balance and knocked to the ground after the headbutt. Earlier in the match, Favarin had told his own player to break an opponent's legs.\n",
      "실제 요약 : Italian coach knocks rival down with headbutt, banned for 5 months\n",
      "예측 요약 : Italian third division football side Lucchese's head coach Giancarlo Favarin has been banned for five months for headbutting Alessandria's assistant coach Gaetano Mancino during a brawl following the teams' 2-2 draw on Sunday.\n",
      "\n",
      "\n",
      "원문 : Cyclists taking part in National Track Cycling Championship in Jaipur opted to sleep on the floor inside the stadium instead of hotels over expensive cycles. The organisers had booked hotels but they didn't have the provision for cyclists to keep their bikes inside. A national gold medallist said their cycles cost between Ã¢ÂÂ¹5-9 lakh and once damaged, they become non-repairable. \n",
      "실제 요약 : Cyclists sleep on stadium floor instead of hotel over costly cycles\n",
      "예측 요약 : Cyclists taking part in National Track Cycling Championship in Jaipur opted to sleep on the floor inside the stadium instead of hotels over expensive cycles.\n",
      "\n",
      "\n",
      "원문 : Silvia Grecco, a 56-year-old Brazilian mother narrates her local football team Palmeiras' matches live to her 12-year-old blind and autistic son Nickollas from the stands. \"I describe details: this player is wearing short sleeves...colour of...football boots, hair colour...Everything I see and feel, I tell him, even when I need to curse the referee!\" Grecco said after a recent match.\n",
      "실제 요약 : Brazilian mother narrates football matches to blind son from stands\n",
      "예측 요약 : \n",
      "\n",
      "\n",
      "원문 : A TechCrunch report has claimed that IndiaÃ¢ÂÂs largest bank SBI secured a passwordless server \"overnight\" on being alerted it allowed anyone to access phone numbers, bank balances, and transactions of millions of its customers. The Mumbai-based server was containing two months of data from SBI Quick, an SMS and call-based system used to request basic information about accounts, TechCrunch revealed.\n",
      "실제 요약 : SBI left account data of millions of users unprotected: Report\n",
      "예측 요약 : \n",
      "\n",
      "\n",
      "원문 : Rahul Gandhi has replied to Goa CM Manohar Parrikar's letter, which accused the Congress President of using his \"visit to an ailing man for political gains\". \"He's under immense pressure from the PM after our meeting and needs to demonstrate his loyalty by attacking me,\" Gandhi wrote in his letter. Parrikar had clarified he didn't discuss Rafale deal with Rahul.\n",
      "실제 요약 : CM Parrikar under pressure from PM after our Goa meet: Rahul\n",
      "예측 요약 : Rahul Gandhi has replied to Goa CM Manohar Parrikar's letter, which accused the Congress President of using his \"visit to an ailing man for political gains\".\n",
      "\n",
      "\n",
      "원문 : Twenty-seven-year-old Mohammed Mahuwala was arrested in Indore on Wednesday for allegedly cheating e-commerce giant Amazon of nearly Ã¢ÂÂ¹30 lakh. Mahuwala was a member of a gang who ordered costly gadgets from Amazon. \"[They] used to get refund of the amount paid...by saying the parcel...was empty. In reality, these devices were taken out from parcel and sold...to local shopkeepers,\" said police.\n",
      "실제 요약 : Man arrested for cheating Amazon of Ã¢ÂÂ¹30 lakh by taking refunds\n",
      "예측 요약 : Mahuwala was a member of a gang who ordered costly gadgets from Amazon.\n",
      "\n",
      "\n",
      "원문 : AgustaWestland chopper scam co-accused Rajiv Saxena was extradited to India from UAE on Wednesday. He had been evading the Enforcement Directorate's summons claiming he was suffering from leukaemia but had moved an anti-money laundering court for anticipatory bail in December, stating he had never been summoned at his Dubai address. Saxena's lawyers alleged he had been \"illegally extradited\". \n",
      "실제 요약 : AgustaWestland scam accused Rajiv Saxena extradited to India\n",
      "예측 요약 : AgustaWestland chopper scam co-accused Rajiv Saxena was extradited to India from UAE on Wednesday.\n",
      "\n",
      "\n",
      "원문 : Afghan President Ashraf Ghani has said the \"keys to war\" are in Pakistan's Islamabad, Quetta and Rawalpindi, accusing the country of providing safe havens to militants, including those belonging to the Taliban. Ghani added the \"key to peace was in Afghanistan\". His comments came amid the talks between the US and the Taliban to end the 17-year war in Afghanistan.\n",
      "실제 요약 : Pakistan holds 'keys to war': Afghanistan\n",
      "예측 요약 : Afghan President Ashraf Ghani has said the \"keys to war\" are in Pakistan's Islamabad, Quetta and Rawalpindi, accusing the country of providing safe havens to militants, including those belonging to the Taliban.\n",
      "\n",
      "\n",
      "원문 : A Singapore-based insurance agent has been jailed for two years and five months for threatening to harm his clients unless they paid him in bitcoins. The 36-year-old set up an email account, and signed the messages as 'Lord Voldemort', a fictional character from the Harry Potter series. Ye Lin Myint targeted about 33 people, including those who cancelled insurance policies.\n",
      "실제 요약 : Insurance agent 'Lord Voldemort' jailed for threatening clients\n",
      "예측 요약 : A Singapore-based insurance agent has been jailed for two years and five months for threatening to harm his clients unless they paid him in bitcoins.\n",
      "\n",
      "\n",
      "원문 : Gabrielle Reilly, a 22-year-old US woman, created earrings for her Apple AirPods and put it up for sale online for $20 (about Ã¢ÂÂ¹1,500). \"I absolutely refuse to lose them (AirPods)...So I made earrings,\" she explained. The earrings, which took her over an hour to make, debuted in a video on Twitter that has since garnered over three million views.\n",
      "실제 요약 : Woman turns Apple AirPods into earrings to avoid losing them\n",
      "예측 요약 : \"I absolutely refuse to lose them (AirPods)...So I made earrings,\" she explained.\n",
      "\n",
      "\n",
      "원문 : Ex-ICICI Bank CEO Chanda Kochhar said she's \"utterly disappointed, hurt and shocked\" by the bank's decision to terminate her. Kochhar said she served ICICI for 34 years with utmost honesty and integrity and that ultimately truth will prevail. Adding that she hasn't been given a copy of the independent probe report, Kochhar said none of ICICI's credit decisions are unilateral\n",
      "실제 요약 : Shocked, hurt by ICICI's decision, truth will prevail: Kochhar\n",
      "예측 요약 : Adding that she hasn't been given a copy of the independent probe report, Kochhar said none of ICICI's credit decisions are unilateral\n",
      "\n",
      "\n",
      "원문 : Swedish multinational fast-fashion brand Hennes & Mauritz AB (H&M) has hired Christopher Wylie, the whistleblower who exposed Facebook's Cambridge Analytica data scandal. WylieÃ¢ÂÂs focus will be to help get better insights on customers, products and markets and support work on sustainable and ethical artificial intelligence, H&M spokesperson said. Wylie is a former employee of Cambridge Analytica.\n",
      "실제 요약 : Fashion brand H&M hires Facebook data scandal whistleblower\n",
      "예측 요약 : Swedish multinational fast-fashion brand Hennes & Mauritz AB (H&M) has hired Christopher Wylie, the whistleblower who exposed Facebook's Cambridge Analytica data scandal.\n",
      "\n",
      "\n",
      "원문 : Micro-blogging platform Twitter is testing a new feature on Android to put news on the top of a user's timeline. \"With this update, weÃ¢ÂÂre making it easier for people to see news and stories their followers have been discussing,\" Product Manager Walter Gurzynski said. The feature comes alongside a prompt saying, \"Catch up on what's happened while you were away.\"\n",
      "실제 요약 : Twitter testing news-first timeline feature on Android\n",
      "예측 요약 : Micro-blogging platform Twitter is testing a new feature on Android to put news on the top of a user's timeline.\n",
      "\n",
      "\n",
      "원문 : Samsung has started mass producing its one terabyte 'embedded Universal Flash Storage (eUFS) 2.1' technology for \"use in next-generation mobile applications\", which it claims is the industry's first such eUFS. The company added the new eUFS will let smartphones store 260 10-minute videos shot in 4K UHD format. It'll be sized the same as the previous 512GB version, Samsung said.\n",
      "실제 요약 : Samsung builds world's first 1TB storage chip for smartphones \n",
      "예측 요약 : Samsung has started mass producing its one terabyte 'embedded Universal Flash Storage (eUFS) 2.1' technology for \"use in next-generation mobile applications\", which it claims is the industry's first such eUFS.\n",
      "\n",
      "\n",
      "원문 : Prime Minister Narendra Modi on Wednesday said the people with 'negative mindset' are questioning him and his government for floating pro-poor schemes. He added negative mindset people are raising doubts about schemes such as building toilets and providing free gas connections to the poor. He further said that negative mentality laced with a vested interest still exists in the country.\n",
      "실제 요약 : People with 'negative mindset' quizzing pro-poor schemes: PM\n",
      "예측 요약 : Prime Minister Narendra Modi on Wednesday said the people with 'negative mindset' are questioning him and his government for floating pro-poor schemes.\n",
      "\n",
      "\n",
      "원문 : Union Minister Anantkumar Hegde took a dig at Congress President Rahul Gandhi by calling him a \"hybrid specimen\" who has no clue about religion. \"A father who's...Muslim, a mother who's...Christian and the son is supposed to be...Brahmin. How is that even possible?\" he said. He added such \"hybrid specimen\" cannot be found in any laboratory in the world.\n",
      "실제 요약 : Rahul is hybrid specimen, has no clue about religion: Hegde\n",
      "예측 요약 : Union Minister Anantkumar Hegde took a dig at Congress President Rahul Gandhi by calling him a \"hybrid specimen\" who has no clue about religion.\n",
      "\n",
      "\n",
      "원문 : Several parts of the US are set to experience record low temperatures as the polar vortex hit the Upper Midwest, with more than 200 million people expected to experience below-freezing temperatures this week. Temperatures throughout the Upper Midwest are expected to be at least 20-40Ã¢ÂÂ below zero. Government offices and schools have been closed in several areas.\n",
      "실제 요약 : Extreme cold to affect 200 million people as polar vortex hits US\n",
      "예측 요약 : Several parts of the US are set to experience record low temperatures as the polar vortex hit the Upper Midwest, with more than 200 million people expected to experience below-freezing temperatures this week.\n",
      "\n",
      "\n",
      "원문 : The police on Wednesday registered cases against 13 persons, including a woman leader of Hindu Mahasabha, in Aligarh for firing at an effigy of Mahatma Gandhi with an air pistol. \"The incident took place in a house in Naurangabad locality of the city,\" Senior Superintendent of Police said. The video of the event went viral on social media, he added.\n",
      "실제 요약 : 13 booked for firing air shots at Mahatma Gandhi's effigy\n",
      "예측 요약 : The police on Wednesday registered cases against 13 persons, including a woman leader of Hindu Mahasabha, in Aligarh for firing at an effigy of Mahatma Gandhi with an air pistol.\n",
      "\n",
      "\n",
      "원문 : Railway police has rescued a woman travelling on a train in Chennai who got her leg stuck inside the commode of a toilet. After being caught inside the commode hole, she struggled to remove her leg and following failed attempts, she shouted for help, reports said. Railway police used a cutter to pry open the commode and freed her leg.\n",
      "실제 요약 : Railway police rescues woman with leg stuck in train toilet\n",
      "예측 요약 : Railway police has rescued a woman travelling on a train in Chennai who got her leg stuck inside the commode of a toilet.\n",
      "\n",
      "\n",
      "원문 : The US on Tuesday began returning asylum seekers to Mexico, sending back a migrant from a Central American nation and called the move a \"response to the illegal migration crisis\" faced by it. Under its Migrant Protection Protocols policy, the US will return certain migrants who cross into the country illegally back to Mexico while their asylum requests are processed.\n",
      "실제 요약 : US begins sending back asylum seekers to Mexico\n",
      "예측 요약 : \n",
      "\n",
      "\n"
     ]
    }
   ],
   "source": [
    "for idx, (headlines, text) in enumerate(zip(data['headlines'], data['text'])):\n",
    "    if idx == 50:\n",
    "        break\n",
    "    print(\"원문 :\", text)\n",
    "    print(\"실제 요약 :\", headlines)\n",
    "    print(\"예측 요약 :\", summarize(text, ratio=0.45))\n",
    "    print(\"\\n\")"
   ]
  },
  {
   "cell_type": "markdown",
   "id": "hollywood-remains",
   "metadata": {},
   "source": [
    "#### 단어를 17개만 선택"
   ]
  },
  {
   "cell_type": "code",
   "execution_count": 204,
   "id": "successful-reservation",
   "metadata": {
    "scrolled": false
   },
   "outputs": [
    {
     "name": "stdout",
     "output_type": "stream",
     "text": [
      "원문 : Saurav Kant, an alumnus of upGrad and IIIT-B's PG Program in Machine learning and Artificial Intelligence, was a Sr Systems Engineer at Infosys with almost 5 years of work experience. The program and upGrad's 360-degree career support helped him transition to a Data Scientist at Tech Mahindra with 90% salary hike. upGrad's Online Power Learning has powered 3 lakh+ careers.\n",
      "실제 요약 : upGrad learner switches to career in ML & Al with 90% salary hike\n",
      "예측 요약 : upGrad's Online Power Learning has powered 3 lakh+ careers.\n",
      "\n",
      "\n",
      "원문 : Kunal Shah's credit card bill payment platform, CRED, gave users a chance to win free food from Swiggy for one year. Pranav Kaushik, a Delhi techie, bagged this reward after spending 2000 CRED coins. Users get one CRED coin per rupee of bill paid, which can be used to avail rewards from brands like Ixigo, BookMyShow, UberEats, Cult.Fit and more.\n",
      "실제 요약 : Delhi techie wins free food from Swiggy for one year on CRED\n",
      "예측 요약 : Users get one CRED coin per rupee of bill paid, which can be used to avail rewards from brands like Ixigo, BookMyShow, UberEats, Cult.Fit and more.\n",
      "\n",
      "\n",
      "원문 : New Zealand defeated India by 8 wickets in the fourth ODI at Hamilton on Thursday to win their first match of the five-match ODI series. India lost an international match under Rohit Sharma's captaincy after 12 consecutive victories dating back to March 2018. The match witnessed India getting all out for 92, their seventh lowest total in ODI cricket history.\n",
      "실제 요약 : New Zealand end Rohit Sharma-led India's 12-match winning streak\n",
      "예측 요약 : The match witnessed India getting all out for 92, their seventh lowest total in ODI cricket history.\n",
      "\n",
      "\n",
      "원문 : With Aegon Life iTerm Insurance plan, customers can enjoy tax benefits on your premiums paid and save up to Ã¢ÂÂ¹46,800^ on taxes. The plan provides life cover up to the age of 100 years. Also, customers have options to insure against Critical Illnesses, Disability and Accidental Death Benefit Rider with a life cover up to the age of 80 years.\n",
      "실제 요약 : Aegon life iTerm insurance plan helps customers save tax\n",
      "예측 요약 : Also, customers have options to insure against Critical Illnesses, Disability and Accidental Death Benefit Rider with a life cover up to the age of 80 years.\n",
      "\n",
      "\n",
      "원문 : Speaking about the sexual harassment allegations against Rajkumar Hirani, Sonam Kapoor said, \"I've known Hirani for many years...What if it's not true, the [#MeToo] movement will get derailed.\" \"In the #MeToo movement, I always believe a woman. But in this case, we need to reserve our judgment,\" she added. Hirani has been accused by an assistant who worked in 'Sanju'.\n",
      "실제 요약 : Have known Hirani for yrs, what if MeToo claims are not true: Sonam\n",
      "예측 요약 : \n",
      "\n",
      "\n",
      "원문 : Pakistani singer Rahat Fateh Ali Khan has denied receiving any notice from the Enforcement Directorate over allegedly smuggling foreign currency out of India. \"It would have been better if the authorities would have served the notice first if any and then publicised this,\" reads a press release issued on behalf of Rahat. The statement further called the allegation \"bizarre\".\n",
      "실제 요약 : Rahat Fateh Ali Khan denies getting notice for smuggling currency\n",
      "예측 요약 : Pakistani singer Rahat Fateh Ali Khan has denied receiving any notice from the Enforcement Directorate over allegedly smuggling foreign currency out of India.\n",
      "\n",
      "\n",
      "원문 : India recorded their lowest ODI total in New Zealand after getting all out for 92 runs in 30.5 overs in the fourth ODI at Hamilton on Thursday. Seven of India's batsmen were dismissed for single-digit scores, while their number ten batsman Yuzvendra Chahal top-scored with 18*(37). India's previous lowest ODI total in New Zealand was 108.\n",
      "실제 요약 : India get all out for 92, their lowest ODI total in New Zealand\n",
      "예측 요약 : India's previous lowest ODI total in New Zealand was 108.\n",
      "\n",
      "\n",
      "원문 : Weeks after ex-CBI Director Alok Verma told the Department of Personnel and Training to consider him retired, the Home Ministry asked him to join work on the last day of his fixed tenure as Director on Thursday. The ministry directed him to immediately join as DG, Fire Services, the post he was transferred to after his removal as CBI chief.\n",
      "실제 요약 : Govt directs Alok Verma to join work 1 day before his retirement\n",
      "예측 요약 : \n",
      "\n",
      "\n",
      "원문 : Andhra Pradesh CM N Chandrababu Naidu has said, \"When I met then US President Bill Clinton, I addressed him as Mr Clinton, not as 'sir'. (PM Narendra) Modi is my junior in politics...I addressed him as sir 10 times.\" \"I did this...to satisfy his ego in the hope that he will do justice to the state,\" he added.\n",
      "실제 요약 : Called PM Modi 'sir' 10 times to satisfy his ego: Andhra CM\n",
      "예측 요약 : Andhra Pradesh CM N Chandrababu Naidu has said, \"When I met then US President Bill Clinton, I addressed him as Mr Clinton, not as 'sir'.\n",
      "\n",
      "\n",
      "원문 : Congress candidate Shafia Zubair won the Ramgarh Assembly seat in Rajasthan, by defeating BJP's Sukhwant Singh with a margin of 12,228 votes in the bypoll. With this victory, Congress has taken its total to 100 seats in the 200-member assembly. The election to the Ramgarh seat was delayed due to the death of sitting MLA and BSP candidate Laxman Singh.\n",
      "실제 요약 : Cong wins Ramgarh bypoll in Rajasthan, takes total to 100 seats\n",
      "예측 요약 : Congress candidate Shafia Zubair won the Ramgarh Assembly seat in Rajasthan, by defeating BJP's Sukhwant Singh with a margin of 12,228 votes in the bypoll.\n",
      "\n",
      "\n",
      "원문 : Two minor cousins in Uttar Pradesh's Gorakhpur were allegedly repeatedly burnt with tongs and forced to eat human excreta by their family for being friends with two boys from the same school. The cousins revealed their ordeal to the police and Child Welfare Committee after being brought back to Gorakhpur from Nepal, where they had fled to escape the torture.\n",
      "실제 요약 : UP cousins fed human excreta for friendship with boys\n",
      "예측 요약 : Two minor cousins in Uttar Pradesh's Gorakhpur were allegedly repeatedly burnt with tongs and forced to eat human excreta by their family for being friends with two boys from the same school.\n",
      "\n",
      "\n",
      "원문 : Isha Ghosh, an 81-year-old member of Bharat Scouts and Guides (BSG), has been imparting physical and mental training to schoolchildren in Jharkhand for several decades. Chaibasa-based Ghosh reportedly walks seven kilometres daily and spends eight hours conducting physical training, apart from climbing and yoga sessions. She says, \"One should do something for society till one's last breath.\"\n",
      "실제 요약 : 81-yr-old woman conducts physical training in J'khand schools\n",
      "예측 요약 : Isha Ghosh, an 81-year-old member of Bharat Scouts and Guides (BSG), has been imparting physical and mental training to schoolchildren in Jharkhand for several decades.\n",
      "\n",
      "\n",
      "원문 : Urging saints and seers at the Kumbh Mela to quit smoking, Yoga guru Ramdev said, \"We follow Ram and Krishna who never smoked in their life then why should we?\" Making them take a pledge to quit tobacco, he collected chillum (clay pipe) from several sadhus. He said he will deposit the chillums for display at a museum he'll build.\n",
      "실제 요약 : Ram, Krishna didn't smoke, why should we: Ramdev to sadhus at Kumbh\n",
      "예측 요약 : \n",
      "\n",
      "\n",
      "원문 : Former stripper and regional sales director of a pharmaceutical company, Sunrise Lee, gave a doctor a lap dance in a nightclub to persuade him to prescribe an addictive fentanyl spray in 2012, the company's sales representative told a US court. She said she saw Lee \"sitting on [doctor's] lap, kind of bouncing around.\" Lee has been accused of bribing doctors.\n",
      "실제 요약 : Pharma exec gave doctor a lap dance to sell medicine in US: Witness\n",
      "예측 요약 : \n",
      "\n",
      "\n",
      "원문 : Reliance Industries' Chairman Mukesh Ambani's daughter Isha Ambani, who got married last month, said she only cried at her 'bidaai' because she felt peer pressure as everyone was crying, especially her parents. \"I was emotional too but everyone around me would cry all the time,\" she added. \"It was a very emotional affair for everyone in my family,\" said Isha.\n",
      "실제 요약 :  I only cried at my 'bidaai' as I felt peer pressure: Isha Ambani\n",
      "예측 요약 : \"It was a very emotional affair for everyone in my family,\" said Isha.\n",
      "\n",
      "\n",
      "원문 : Louis Vuitton owner LVMH, which makes high-end beverages like MoÃÂ«t & Chandon champagne and Hennessy cognac, said it's stockpiling four months' worth of wine and spirits in UK in preparation for Brexit. \"We're ready for worst case scenario if there are difficulties with deliveries,\" the French luxury giant said. The UK is scheduled to leave the EU on March 29.\n",
      "실제 요약 : Louis Vuitton owner to stockpile 4 months of wine, spirits in UK\n",
      "예측 요약 : Louis Vuitton owner LVMH, which makes high-end beverages like MoÃÂ«t & Chandon champagne and Hennessy cognac, said it's stockpiling four months' worth of wine and spirits in UK in preparation for Brexit.\n",
      "\n",
      "\n",
      "원문 : Filmmaker Karan Johar and actress Tabu turned showstoppers for Gaurav Gupta on the opening night of LakmÃÂ© Fashion Week Summer/ Resort 2019. While Johar wore a red sequinned jacket with black pants, Tabu walked the ramp in a grey embellished gown. The fashion show, which began on January 29, will continue till February 3.\n",
      "실제 요약 : Karan Johar, Tabu turn showstoppers on opening night of LFW\n",
      "예측 요약 : Filmmaker Karan Johar and actress Tabu turned showstoppers for Gaurav Gupta on the opening night of LakmÃÂ© Fashion Week Summer/ Resort 2019.\n",
      "\n",
      "\n",
      "원문 : In a jibe at Congress President Rahul Gandhi, PM Narendra Modi on Wednesday said those on \"bail will have to go to jail.\" PM Modi added, \"He is out on bail and his associates too are facing charges...I know they will be convicted one day.\" The PM claimed he'd waged a war on corruption because he's from a common household. \n",
      "실제 요약 : Those on bail will go to jail: PM Modi takes jibe at Rahul\n",
      "예측 요약 : \n",
      "\n",
      "\n",
      "원문 : Days after he threatened to step down from his post if Congress MLAs continue \"crossing the line,\" Karnataka Chief Minister HD Kumaraswamy accused them of taking potshots and asked, \"How many more days can I tolerate such stuff?\" Kumaraswamy, who made the statements after a Congress MLA demanded that Siddaramaiah be made CM again, said, \"Power is ephemeral.\"\n",
      "실제 요약 : How long can I tolerate Congress leaders' potshots: K'taka CM\n",
      "예측 요약 : \n",
      "\n",
      "\n",
      "원문 : Union Minister Dharmendra Pradhan on Wednesday claimed the illegal mining mafia in Odisha operates under the control of CM Naveen Patnaik and state Congress chief Niranjan Patnaik. He added, \"The time has come for the people of Odisha to put a full stop to their activities...The time has come for us to ask for an explanation from this corrupt government.\"\n",
      "실제 요약 : Odisha CM Patnaik controls mining mafia: Union Minister\n",
      "예측 요약 : Union Minister Dharmendra Pradhan on Wednesday claimed the illegal mining mafia in Odisha operates under the control of CM Naveen Patnaik and state Congress chief Niranjan Patnaik.\n",
      "\n",
      "\n",
      "원문 : Claiming there is a dearth of ideas among opposition parties, Prime Minister Narendra Modi on Wednesday said, \"The opposition talks only about Modi the whole day, I suspect they even dream about me.\" PM Modi, who was addressing the New India Youth Conclave inÃ¢ÂÂ Surat, added that the opposition parties have only one agenda which is \"Modi\". \n",
      "실제 요약 : I think the opposition even dreams about me: PM Modi\n",
      "예측 요약 : \n",
      "\n",
      "\n",
      "원문 : The Indian Space Research Organisation on Wednesday unveiled Human Space Flight Centre in Bengaluru for its Ã¢ÂÂ¹10,000-crore manned space mission 'Gaganyaan' scheduled for 2021. ISRO said the centre will be responsible for development of engineering systems for crew survival in space and crew selection and training. It'll also pursue activities for sustained human space flight missions, ISRO added.\n",
      "실제 요약 : ISRO unveils Bengaluru centre for manned space mission \n",
      "예측 요약 : It'll also pursue activities for sustained human space flight missions, ISRO added.\n",
      "\n",
      "\n",
      "원문 : At least 12 people have been killed and 170 others have been injured in Saudi Arabia this week due to flooding from heavy rain. The emergency services rescued 271 people from the flooded areas, more than half of them in Tabuk. Heavy rains hit mainly western and northwestern parts of Saudi Arabia, near its border with Jordan.\n",
      "실제 요약 : 12 killed, 170 injured in Saudi Arabia floods\n",
      "예측 요약 : At least 12 people have been killed and 170 others have been injured in Saudi Arabia this week due to flooding from heavy rain.\n",
      "\n",
      "\n",
      "원문 : Reliance Industries' Chairman Mukesh Ambani's daughter Isha Ambani has featured on the cover of the February edition of Vogue India. She's dressed in a white shirt dress and black ruffled skirt by Australian designer Toni Maticevski, while accessorising her look with a Misho ring. In the cover story on her, Isha has spoken about her work and life after marriage.\n",
      " \n",
      "실제 요약 : Isha Ambani features on February cover of Vogue magazine\n",
      "예측 요약 : Reliance Industries' Chairman Mukesh Ambani's daughter Isha Ambani has featured on the cover of the February edition of Vogue India.\n",
      "\n",
      "\n",
      "원문 : Indian Oil Corporation on Wednesday said it's looking for an annual deal to buy US crude as it seeks to broaden oil purchasing options. This comes amid uncertainties over Iran imports. The US had in November granted a six-month waiver to India from sanctions against Iran and restricted the country's monthly intake of Iranian oil to 3,00,000 barrels per day.\n",
      "\n",
      "\n",
      "실제 요약 : Indian Oil looking for annual deal to buy crude from US\n",
      "예측 요약 : The US had in November granted a six-month waiver to India from sanctions against Iran and restricted the country's monthly intake of Iranian oil to 3,00,000 barrels per day.\n",
      "\n",
      "\n",
      "원문 : Former Windies fast bowler Curtly Ambrose dismissed seven Australian batsmen within a span of 32 balls giving away just one run, in a Test match on January 30, 1993. Ambrose's spell helped his team bowl out Australia for 119 in the first innings, after being 85 for 2 at one point. Ambrose ended with first-innings figures of 18-9-25-7.\n",
      "실제 요약 : Pacer once took 7 wickets for just 1 run in 32 balls in a Test\n",
      "예측 요약 : Ambrose ended with first-innings figures of 18-9-25-7.\n",
      "\n",
      "\n",
      "원문 : A London zoo is offering people to name a cockroach after their exes on Valentine's Day for ÃÂ£1.50 (nearly Ã¢ÂÂ¹140). \"For those that don't quite require revenge, there's another way to make you feel better about getting back at your ex,\" the zoo said in a statement. The names will appear on zoo's 'roach board' on February 14. \n",
      "실제 요약 : UK zoo offers people to name cockroach after their ex on Valentine's\n",
      "예측 요약 : The names will appear on zoo's 'roach board' on February 14.\n",
      "\n",
      "\n",
      "원문 : Stand-in captain Rohit Sharma has become the 14th Indian cricketer to play 200 ODIs, achieving the feat after taking the field against New Zealand in fourth ODI at Hamilton on Thursday. The 31-year-old had made his ODI debut on June 23, 2007, against Ireland in Belfast. Rohit scored 7,799 runs in his first 199 ODIs at an average of 48.14.\n",
      "실제 요약 : Rohit Sharma becomes 14th Indian cricketer to play 200 ODIs\n",
      "예측 요약 : Rohit scored 7,799 runs in his first 199 ODIs at an average of 48.14.\n",
      "\n",
      "\n",
      "원문 : Batsman Shubman Gill has become the 227th cricketer to represent India in ODI cricket, achieving the feat against New Zealand in the fourth ODI at Hamilton on Thursday. The 19-year-old received his maiden ODI cap from former captain MS Dhoni. Notably, Shubman was named Player of the Under-19 World Cup in New Zealand last year.\n",
      "실제 요약 : 19-year-old Shubman Gill becomes India's 227th ODI cricketer\n",
      "예측 요약 : Notably, Shubman was named Player of the Under-19 World Cup in New Zealand last year.\n",
      "\n",
      "\n",
      "원문 : Investigators searching for a lost plane carrying Argentine forward Emiliano Sala found two seat cushions on French coast that \"likely\" belonged to the aircraft. The investigators said they'll now launch an underwater seabed search for aircraft wreckage. The Cardiff City footballer was travelling from France's Nantes to Wales' Cardiff when his plane disappeared over English Channel on January 21.\n",
      "실제 요약 : 2 seat cushions from 'missing plane carrying footballer' found\n",
      "예측 요약 : Investigators searching for a lost plane carrying Argentine forward Emiliano Sala found two seat cushions on French coast that \"likely\" belonged to the aircraft.\n",
      "\n",
      "\n",
      "원문 : Italian third division football side Lucchese's head coach Giancarlo Favarin has been banned for five months for headbutting Alessandria's assistant coach Gaetano Mancino during a brawl following the teams' 2-2 draw on Sunday. Mancino was caught off-balance and knocked to the ground after the headbutt. Earlier in the match, Favarin had told his own player to break an opponent's legs.\n",
      "실제 요약 : Italian coach knocks rival down with headbutt, banned for 5 months\n",
      "예측 요약 : Italian third division football side Lucchese's head coach Giancarlo Favarin has been banned for five months for headbutting Alessandria's assistant coach Gaetano Mancino during a brawl following the teams' 2-2 draw on Sunday.\n",
      "\n",
      "\n",
      "원문 : Cyclists taking part in National Track Cycling Championship in Jaipur opted to sleep on the floor inside the stadium instead of hotels over expensive cycles. The organisers had booked hotels but they didn't have the provision for cyclists to keep their bikes inside. A national gold medallist said their cycles cost between Ã¢ÂÂ¹5-9 lakh and once damaged, they become non-repairable. \n",
      "실제 요약 : Cyclists sleep on stadium floor instead of hotel over costly cycles\n",
      "예측 요약 : Cyclists taking part in National Track Cycling Championship in Jaipur opted to sleep on the floor inside the stadium instead of hotels over expensive cycles.\n",
      "\n",
      "\n",
      "원문 : Silvia Grecco, a 56-year-old Brazilian mother narrates her local football team Palmeiras' matches live to her 12-year-old blind and autistic son Nickollas from the stands. \"I describe details: this player is wearing short sleeves...colour of...football boots, hair colour...Everything I see and feel, I tell him, even when I need to curse the referee!\" Grecco said after a recent match.\n",
      "실제 요약 : Brazilian mother narrates football matches to blind son from stands\n",
      "예측 요약 : Silvia Grecco, a 56-year-old Brazilian mother narrates her local football team Palmeiras' matches live to her 12-year-old blind and autistic son Nickollas from the stands.\n",
      "\n",
      "\n",
      "원문 : A TechCrunch report has claimed that IndiaÃ¢ÂÂs largest bank SBI secured a passwordless server \"overnight\" on being alerted it allowed anyone to access phone numbers, bank balances, and transactions of millions of its customers. The Mumbai-based server was containing two months of data from SBI Quick, an SMS and call-based system used to request basic information about accounts, TechCrunch revealed.\n",
      "실제 요약 : SBI left account data of millions of users unprotected: Report\n",
      "예측 요약 : A TechCrunch report has claimed that IndiaÃ¢ÂÂs largest bank SBI secured a passwordless server \"overnight\" on being alerted it allowed anyone to access phone numbers, bank balances, and transactions of millions of its customers.\n",
      "\n",
      "\n",
      "원문 : Rahul Gandhi has replied to Goa CM Manohar Parrikar's letter, which accused the Congress President of using his \"visit to an ailing man for political gains\". \"He's under immense pressure from the PM after our meeting and needs to demonstrate his loyalty by attacking me,\" Gandhi wrote in his letter. Parrikar had clarified he didn't discuss Rafale deal with Rahul.\n",
      "실제 요약 : CM Parrikar under pressure from PM after our Goa meet: Rahul\n",
      "예측 요약 : Rahul Gandhi has replied to Goa CM Manohar Parrikar's letter, which accused the Congress President of using his \"visit to an ailing man for political gains\".\n",
      "\n",
      "\n",
      "원문 : Twenty-seven-year-old Mohammed Mahuwala was arrested in Indore on Wednesday for allegedly cheating e-commerce giant Amazon of nearly Ã¢ÂÂ¹30 lakh. Mahuwala was a member of a gang who ordered costly gadgets from Amazon. \"[They] used to get refund of the amount paid...by saying the parcel...was empty. In reality, these devices were taken out from parcel and sold...to local shopkeepers,\" said police.\n",
      "실제 요약 : Man arrested for cheating Amazon of Ã¢ÂÂ¹30 lakh by taking refunds\n",
      "예측 요약 : Mahuwala was a member of a gang who ordered costly gadgets from Amazon.\n",
      "\n",
      "\n",
      "원문 : AgustaWestland chopper scam co-accused Rajiv Saxena was extradited to India from UAE on Wednesday. He had been evading the Enforcement Directorate's summons claiming he was suffering from leukaemia but had moved an anti-money laundering court for anticipatory bail in December, stating he had never been summoned at his Dubai address. Saxena's lawyers alleged he had been \"illegally extradited\". \n",
      "실제 요약 : AgustaWestland scam accused Rajiv Saxena extradited to India\n",
      "예측 요약 : AgustaWestland chopper scam co-accused Rajiv Saxena was extradited to India from UAE on Wednesday.\n",
      "\n",
      "\n",
      "원문 : Afghan President Ashraf Ghani has said the \"keys to war\" are in Pakistan's Islamabad, Quetta and Rawalpindi, accusing the country of providing safe havens to militants, including those belonging to the Taliban. Ghani added the \"key to peace was in Afghanistan\". His comments came amid the talks between the US and the Taliban to end the 17-year war in Afghanistan.\n",
      "실제 요약 : Pakistan holds 'keys to war': Afghanistan\n",
      "예측 요약 : Afghan President Ashraf Ghani has said the \"keys to war\" are in Pakistan's Islamabad, Quetta and Rawalpindi, accusing the country of providing safe havens to militants, including those belonging to the Taliban.\n",
      "\n",
      "\n",
      "원문 : A Singapore-based insurance agent has been jailed for two years and five months for threatening to harm his clients unless they paid him in bitcoins. The 36-year-old set up an email account, and signed the messages as 'Lord Voldemort', a fictional character from the Harry Potter series. Ye Lin Myint targeted about 33 people, including those who cancelled insurance policies.\n",
      "실제 요약 : Insurance agent 'Lord Voldemort' jailed for threatening clients\n",
      "예측 요약 : A Singapore-based insurance agent has been jailed for two years and five months for threatening to harm his clients unless they paid him in bitcoins.\n",
      "\n",
      "\n",
      "원문 : Gabrielle Reilly, a 22-year-old US woman, created earrings for her Apple AirPods and put it up for sale online for $20 (about Ã¢ÂÂ¹1,500). \"I absolutely refuse to lose them (AirPods)...So I made earrings,\" she explained. The earrings, which took her over an hour to make, debuted in a video on Twitter that has since garnered over three million views.\n",
      "실제 요약 : Woman turns Apple AirPods into earrings to avoid losing them\n",
      "예측 요약 : \"I absolutely refuse to lose them (AirPods)...So I made earrings,\" she explained.\n",
      "\n",
      "\n",
      "원문 : Ex-ICICI Bank CEO Chanda Kochhar said she's \"utterly disappointed, hurt and shocked\" by the bank's decision to terminate her. Kochhar said she served ICICI for 34 years with utmost honesty and integrity and that ultimately truth will prevail. Adding that she hasn't been given a copy of the independent probe report, Kochhar said none of ICICI's credit decisions are unilateral\n",
      "실제 요약 : Shocked, hurt by ICICI's decision, truth will prevail: Kochhar\n",
      "예측 요약 : Adding that she hasn't been given a copy of the independent probe report, Kochhar said none of ICICI's credit decisions are unilateral\n",
      "\n",
      "\n",
      "원문 : Swedish multinational fast-fashion brand Hennes & Mauritz AB (H&M) has hired Christopher Wylie, the whistleblower who exposed Facebook's Cambridge Analytica data scandal. WylieÃ¢ÂÂs focus will be to help get better insights on customers, products and markets and support work on sustainable and ethical artificial intelligence, H&M spokesperson said. Wylie is a former employee of Cambridge Analytica.\n",
      "실제 요약 : Fashion brand H&M hires Facebook data scandal whistleblower\n",
      "예측 요약 : Swedish multinational fast-fashion brand Hennes & Mauritz AB (H&M) has hired Christopher Wylie, the whistleblower who exposed Facebook's Cambridge Analytica data scandal.\n",
      "\n",
      "\n",
      "원문 : Micro-blogging platform Twitter is testing a new feature on Android to put news on the top of a user's timeline. \"With this update, weÃ¢ÂÂre making it easier for people to see news and stories their followers have been discussing,\" Product Manager Walter Gurzynski said. The feature comes alongside a prompt saying, \"Catch up on what's happened while you were away.\"\n",
      "실제 요약 : Twitter testing news-first timeline feature on Android\n",
      "예측 요약 : Micro-blogging platform Twitter is testing a new feature on Android to put news on the top of a user's timeline.\n",
      "\n",
      "\n",
      "원문 : Samsung has started mass producing its one terabyte 'embedded Universal Flash Storage (eUFS) 2.1' technology for \"use in next-generation mobile applications\", which it claims is the industry's first such eUFS. The company added the new eUFS will let smartphones store 260 10-minute videos shot in 4K UHD format. It'll be sized the same as the previous 512GB version, Samsung said.\n",
      "실제 요약 : Samsung builds world's first 1TB storage chip for smartphones \n",
      "예측 요약 : Samsung has started mass producing its one terabyte 'embedded Universal Flash Storage (eUFS) 2.1' technology for \"use in next-generation mobile applications\", which it claims is the industry's first such eUFS.\n",
      "\n",
      "\n",
      "원문 : Prime Minister Narendra Modi on Wednesday said the people with 'negative mindset' are questioning him and his government for floating pro-poor schemes. He added negative mindset people are raising doubts about schemes such as building toilets and providing free gas connections to the poor. He further said that negative mentality laced with a vested interest still exists in the country.\n",
      "실제 요약 : People with 'negative mindset' quizzing pro-poor schemes: PM\n",
      "예측 요약 : Prime Minister Narendra Modi on Wednesday said the people with 'negative mindset' are questioning him and his government for floating pro-poor schemes.\n",
      "\n",
      "\n",
      "원문 : Union Minister Anantkumar Hegde took a dig at Congress President Rahul Gandhi by calling him a \"hybrid specimen\" who has no clue about religion. \"A father who's...Muslim, a mother who's...Christian and the son is supposed to be...Brahmin. How is that even possible?\" he said. He added such \"hybrid specimen\" cannot be found in any laboratory in the world.\n",
      "실제 요약 : Rahul is hybrid specimen, has no clue about religion: Hegde\n",
      "예측 요약 : Union Minister Anantkumar Hegde took a dig at Congress President Rahul Gandhi by calling him a \"hybrid specimen\" who has no clue about religion.\n",
      "\n",
      "\n",
      "원문 : Several parts of the US are set to experience record low temperatures as the polar vortex hit the Upper Midwest, with more than 200 million people expected to experience below-freezing temperatures this week. Temperatures throughout the Upper Midwest are expected to be at least 20-40Ã¢ÂÂ below zero. Government offices and schools have been closed in several areas.\n",
      "실제 요약 : Extreme cold to affect 200 million people as polar vortex hits US\n",
      "예측 요약 : Several parts of the US are set to experience record low temperatures as the polar vortex hit the Upper Midwest, with more than 200 million people expected to experience below-freezing temperatures this week.\n",
      "\n",
      "\n",
      "원문 : The police on Wednesday registered cases against 13 persons, including a woman leader of Hindu Mahasabha, in Aligarh for firing at an effigy of Mahatma Gandhi with an air pistol. \"The incident took place in a house in Naurangabad locality of the city,\" Senior Superintendent of Police said. The video of the event went viral on social media, he added.\n",
      "실제 요약 : 13 booked for firing air shots at Mahatma Gandhi's effigy\n",
      "예측 요약 : The police on Wednesday registered cases against 13 persons, including a woman leader of Hindu Mahasabha, in Aligarh for firing at an effigy of Mahatma Gandhi with an air pistol.\n",
      "\n",
      "\n",
      "원문 : Railway police has rescued a woman travelling on a train in Chennai who got her leg stuck inside the commode of a toilet. After being caught inside the commode hole, she struggled to remove her leg and following failed attempts, she shouted for help, reports said. Railway police used a cutter to pry open the commode and freed her leg.\n",
      "실제 요약 : Railway police rescues woman with leg stuck in train toilet\n",
      "예측 요약 : Railway police has rescued a woman travelling on a train in Chennai who got her leg stuck inside the commode of a toilet.\n",
      "\n",
      "\n",
      "원문 : The US on Tuesday began returning asylum seekers to Mexico, sending back a migrant from a Central American nation and called the move a \"response to the illegal migration crisis\" faced by it. Under its Migrant Protection Protocols policy, the US will return certain migrants who cross into the country illegally back to Mexico while their asylum requests are processed.\n",
      "실제 요약 : US begins sending back asylum seekers to Mexico\n",
      "예측 요약 : The US on Tuesday began returning asylum seekers to Mexico, sending back a migrant from a Central American nation and called the move a \"response to the illegal migration crisis\" faced by it.\n",
      "\n",
      "\n"
     ]
    }
   ],
   "source": [
    "for idx, (headlines, text) in enumerate(zip(data['headlines'], data['text'])):\n",
    "    if idx == 50:\n",
    "        break\n",
    "    print(\"원문 :\", text)\n",
    "    print(\"실제 요약 :\", headlines)\n",
    "    print(\"예측 요약 :\", summarize(text, words=17))\n",
    "    print(\"\\n\")"
   ]
  },
  {
   "cell_type": "markdown",
   "id": "stuck-thailand",
   "metadata": {},
   "source": [
    "***\n"
   ]
  },
  {
   "cell_type": "markdown",
   "id": "mature-sydney",
   "metadata": {},
   "source": [
    "# 회고"
   ]
  },
  {
   "cell_type": "markdown",
   "id": "pleasant-fortune",
   "metadata": {},
   "source": [
    "### 1. 추출적 요약과 추상적 요약 비교"
   ]
  },
  {
   "cell_type": "markdown",
   "id": "irish-hearts",
   "metadata": {},
   "source": [
    "### 추상적 요약"
   ]
  },
  {
   "attachments": {
    "image.png": {
     "image/png": "[encoded data removed]"
    }
   },
   "cell_type": "markdown",
   "id": "reduced-newark",
   "metadata": {},
   "source": [
    "![image.png](attachment:image.png)"
   ]
  },
  {
   "cell_type": "markdown",
   "id": "tender-conducting",
   "metadata": {},
   "source": [
    "* 문법 완성도는 괜찮은 편이다. 실제 요약에 있는 단어도 예측 요약에 꽤 존재하는 걸 보아 나쁘지 않은 요약인거 같다."
   ]
  },
  {
   "cell_type": "markdown",
   "id": "earned-middle",
   "metadata": {},
   "source": [
    "### 추출적 요약 (words=17)"
   ]
  },
  {
   "attachments": {
    "%EC%B2%98%EC%B2%98.PNG": {
     "image/png": "[encoded data removed]"
    }
   },
   "cell_type": "markdown",
   "id": "impressive-status",
   "metadata": {},
   "source": [
    "![%EC%B2%98%EC%B2%98.PNG](attachment:%EC%B2%98%EC%B2%98.PNG)"
   ]
  },
  {
   "cell_type": "markdown",
   "id": "silent-georgia",
   "metadata": {},
   "source": [
    "* 원문문장 그대로 가져와서 문법완성도는 좋다. 핵심단어도 잘 포함되어 있는거 같은데 확실히 원문이 길다보니 추출적 요약도 실제 요약보다는 길어지는 것 같다. 대부분 완벽한 요약은 아닌거 같다. (원문 문장중 하나를 복사+붙여넣기한 느낌)"
   ]
  },
  {
   "cell_type": "markdown",
   "id": "apparent-lebanon",
   "metadata": {},
   "source": [
    "### 2. 궁금한점"
   ]
  },
  {
   "cell_type": "markdown",
   "id": "ceramic-wisconsin",
   "metadata": {},
   "source": [
    "왜 중간중간 예측 요약이 되지 않고 빈칸으로 나오는지 궁금하다. 원문은 긴데 정해준 기준은 상대적으로 너무 작아서 요약을 하지 못하는걸까..? "
   ]
  }
 ],
 "metadata": {
  "kernelspec": {
   "display_name": "Python 3",
   "language": "python",
   "name": "python3"
  },
  "language_info": {
   "codemirror_mode": {
    "name": "ipython",
    "version": 3
   },
   "file_extension": ".py",
   "mimetype": "text/x-python",
   "name": "python",
   "nbconvert_exporter": "python",
   "pygments_lexer": "ipython3",
   "version": "3.7.9"
  }
 },
 "nbformat": 4,
 "nbformat_minor": 5
}
