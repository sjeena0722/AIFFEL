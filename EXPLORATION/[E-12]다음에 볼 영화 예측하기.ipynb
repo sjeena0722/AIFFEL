{
 "cells": [
  {
   "cell_type": "markdown",
   "metadata": {},
   "source": [
    "# EXPLORATION_12"
   ]
  },
  {
   "cell_type": "code",
   "execution_count": 55,
   "metadata": {},
   "outputs": [],
   "source": [
    "import datetime as dt\n",
    "from pathlib import Path\n",
    "import os\n",
    "\n",
    "import numpy as np\n",
    "import pandas as pd\n",
    "import warnings\n",
    "warnings.filterwarnings('ignore')"
   ]
  },
  {
   "cell_type": "markdown",
   "metadata": {},
   "source": [
    " Movielens 1M Dataset를 사용하여 Session based Recommendation 시스템을 제작해보기"
   ]
  },
  {
   "cell_type": "code",
   "execution_count": 56,
   "metadata": {},
   "outputs": [
    {
     "data": {
      "text/html": [
       "<div>\n",
       "<style scoped>\n",
       "    .dataframe tbody tr th:only-of-type {\n",
       "        vertical-align: middle;\n",
       "    }\n",
       "\n",
       "    .dataframe tbody tr th {\n",
       "        vertical-align: top;\n",
       "    }\n",
       "\n",
       "    .dataframe thead th {\n",
       "        text-align: right;\n",
       "    }\n",
       "</style>\n",
       "<table border=\"1\" class=\"dataframe\">\n",
       "  <thead>\n",
       "    <tr style=\"text-align: right;\">\n",
       "      <th></th>\n",
       "      <th>UserId</th>\n",
       "      <th>ItemId</th>\n",
       "      <th>Rating</th>\n",
       "      <th>Time</th>\n",
       "    </tr>\n",
       "  </thead>\n",
       "  <tbody>\n",
       "    <tr>\n",
       "      <th>31</th>\n",
       "      <td>1</td>\n",
       "      <td>3186</td>\n",
       "      <td>4</td>\n",
       "      <td>978300019</td>\n",
       "    </tr>\n",
       "    <tr>\n",
       "      <th>22</th>\n",
       "      <td>1</td>\n",
       "      <td>1270</td>\n",
       "      <td>5</td>\n",
       "      <td>978300055</td>\n",
       "    </tr>\n",
       "    <tr>\n",
       "      <th>27</th>\n",
       "      <td>1</td>\n",
       "      <td>1721</td>\n",
       "      <td>4</td>\n",
       "      <td>978300055</td>\n",
       "    </tr>\n",
       "    <tr>\n",
       "      <th>37</th>\n",
       "      <td>1</td>\n",
       "      <td>1022</td>\n",
       "      <td>5</td>\n",
       "      <td>978300055</td>\n",
       "    </tr>\n",
       "    <tr>\n",
       "      <th>24</th>\n",
       "      <td>1</td>\n",
       "      <td>2340</td>\n",
       "      <td>3</td>\n",
       "      <td>978300103</td>\n",
       "    </tr>\n",
       "    <tr>\n",
       "      <th>...</th>\n",
       "      <td>...</td>\n",
       "      <td>...</td>\n",
       "      <td>...</td>\n",
       "      <td>...</td>\n",
       "    </tr>\n",
       "    <tr>\n",
       "      <th>1000019</th>\n",
       "      <td>6040</td>\n",
       "      <td>2917</td>\n",
       "      <td>4</td>\n",
       "      <td>997454429</td>\n",
       "    </tr>\n",
       "    <tr>\n",
       "      <th>999988</th>\n",
       "      <td>6040</td>\n",
       "      <td>1921</td>\n",
       "      <td>4</td>\n",
       "      <td>997454464</td>\n",
       "    </tr>\n",
       "    <tr>\n",
       "      <th>1000172</th>\n",
       "      <td>6040</td>\n",
       "      <td>1784</td>\n",
       "      <td>3</td>\n",
       "      <td>997454464</td>\n",
       "    </tr>\n",
       "    <tr>\n",
       "      <th>1000167</th>\n",
       "      <td>6040</td>\n",
       "      <td>161</td>\n",
       "      <td>3</td>\n",
       "      <td>997454486</td>\n",
       "    </tr>\n",
       "    <tr>\n",
       "      <th>1000042</th>\n",
       "      <td>6040</td>\n",
       "      <td>1221</td>\n",
       "      <td>4</td>\n",
       "      <td>998315055</td>\n",
       "    </tr>\n",
       "  </tbody>\n",
       "</table>\n",
       "<p>1000209 rows × 4 columns</p>\n",
       "</div>"
      ],
      "text/plain": [
       "         UserId  ItemId  Rating       Time\n",
       "31            1    3186       4  978300019\n",
       "22            1    1270       5  978300055\n",
       "27            1    1721       4  978300055\n",
       "37            1    1022       5  978300055\n",
       "24            1    2340       3  978300103\n",
       "...         ...     ...     ...        ...\n",
       "1000019    6040    2917       4  997454429\n",
       "999988     6040    1921       4  997454464\n",
       "1000172    6040    1784       3  997454464\n",
       "1000167    6040     161       3  997454486\n",
       "1000042    6040    1221       4  998315055\n",
       "\n",
       "[1000209 rows x 4 columns]"
      ]
     },
     "execution_count": 56,
     "metadata": {},
     "output_type": "execute_result"
    }
   ],
   "source": [
    "data_path = Path(os.getenv('HOME')+'/aiffel/yoochoose/data/') \n",
    "train_path = data_path / 'ratings.dat'\n",
    "\n",
    "def load_data(data_path: Path, nrows=None):\n",
    "    data = pd.read_csv(data_path, sep='::', header=None, usecols=[0, 1, 2, 3], dtype={0: np.int32, 1: np.int32, 2: np.int32}, nrows=nrows)\n",
    "    data.columns = ['UserId', 'ItemId', 'Rating', 'Time']\n",
    "    return data\n",
    "\n",
    "data = load_data(train_path, None)\n",
    "data.sort_values(['UserId', 'Time'], inplace=True)  # data를 id와 시간 순서로 정렬해줍니다.\n",
    "data"
   ]
  },
  {
   "cell_type": "markdown",
   "metadata": {},
   "source": [
    "## Step 1. 데이터의 전처리"
   ]
  },
  {
   "cell_type": "markdown",
   "metadata": {},
   "source": [
    "유저수(세션 수)와 아이템 수 확인하기"
   ]
  },
  {
   "cell_type": "code",
   "execution_count": 57,
   "metadata": {},
   "outputs": [
    {
     "data": {
      "text/plain": [
       "(6040, 3706)"
      ]
     },
     "execution_count": 57,
     "metadata": {},
     "output_type": "execute_result"
    }
   ],
   "source": [
    "data['UserId'].nunique(), data['ItemId'].nunique()"
   ]
  },
  {
   "cell_type": "markdown",
   "metadata": {},
   "source": [
    "유저의 수 : 6040개, 아이템 수 : 3706개 "
   ]
  },
  {
   "cell_type": "markdown",
   "metadata": {},
   "source": [
    "### Session Id 만들기"
   ]
  },
  {
   "cell_type": "code",
   "execution_count": 58,
   "metadata": {},
   "outputs": [],
   "source": [
    "Session_id = []\n",
    "\n",
    "pre_time = 0\n",
    "pre_user = 0\n",
    "now_session = 0\n",
    "\n",
    "for line in data.iloc:\n",
    "    if line['Time'] - pre_time > 1800 or pre_user != line['UserId']:    # 30분 = 1800초\n",
    "        now_session +=1\n",
    "    pre_time = line['Time']\n",
    "    pre_user = line['UserId']\n",
    "    Session_id.append(now_session)\n",
    "    \n",
    "data['SessionId'] = Session_id   "
   ]
  },
  {
   "cell_type": "code",
   "execution_count": 59,
   "metadata": {},
   "outputs": [
    {
     "data": {
      "text/html": [
       "<div>\n",
       "<style scoped>\n",
       "    .dataframe tbody tr th:only-of-type {\n",
       "        vertical-align: middle;\n",
       "    }\n",
       "\n",
       "    .dataframe tbody tr th {\n",
       "        vertical-align: top;\n",
       "    }\n",
       "\n",
       "    .dataframe thead th {\n",
       "        text-align: right;\n",
       "    }\n",
       "</style>\n",
       "<table border=\"1\" class=\"dataframe\">\n",
       "  <thead>\n",
       "    <tr style=\"text-align: right;\">\n",
       "      <th></th>\n",
       "      <th>UserId</th>\n",
       "      <th>ItemId</th>\n",
       "      <th>Rating</th>\n",
       "      <th>Time</th>\n",
       "      <th>SessionId</th>\n",
       "    </tr>\n",
       "  </thead>\n",
       "  <tbody>\n",
       "    <tr>\n",
       "      <th>31</th>\n",
       "      <td>1</td>\n",
       "      <td>3186</td>\n",
       "      <td>4</td>\n",
       "      <td>978300019</td>\n",
       "      <td>1</td>\n",
       "    </tr>\n",
       "    <tr>\n",
       "      <th>22</th>\n",
       "      <td>1</td>\n",
       "      <td>1270</td>\n",
       "      <td>5</td>\n",
       "      <td>978300055</td>\n",
       "      <td>1</td>\n",
       "    </tr>\n",
       "    <tr>\n",
       "      <th>27</th>\n",
       "      <td>1</td>\n",
       "      <td>1721</td>\n",
       "      <td>4</td>\n",
       "      <td>978300055</td>\n",
       "      <td>1</td>\n",
       "    </tr>\n",
       "    <tr>\n",
       "      <th>37</th>\n",
       "      <td>1</td>\n",
       "      <td>1022</td>\n",
       "      <td>5</td>\n",
       "      <td>978300055</td>\n",
       "      <td>1</td>\n",
       "    </tr>\n",
       "    <tr>\n",
       "      <th>24</th>\n",
       "      <td>1</td>\n",
       "      <td>2340</td>\n",
       "      <td>3</td>\n",
       "      <td>978300103</td>\n",
       "      <td>1</td>\n",
       "    </tr>\n",
       "    <tr>\n",
       "      <th>...</th>\n",
       "      <td>...</td>\n",
       "      <td>...</td>\n",
       "      <td>...</td>\n",
       "      <td>...</td>\n",
       "      <td>...</td>\n",
       "    </tr>\n",
       "    <tr>\n",
       "      <th>1000019</th>\n",
       "      <td>6040</td>\n",
       "      <td>2917</td>\n",
       "      <td>4</td>\n",
       "      <td>997454429</td>\n",
       "      <td>25162</td>\n",
       "    </tr>\n",
       "    <tr>\n",
       "      <th>999988</th>\n",
       "      <td>6040</td>\n",
       "      <td>1921</td>\n",
       "      <td>4</td>\n",
       "      <td>997454464</td>\n",
       "      <td>25162</td>\n",
       "    </tr>\n",
       "    <tr>\n",
       "      <th>1000172</th>\n",
       "      <td>6040</td>\n",
       "      <td>1784</td>\n",
       "      <td>3</td>\n",
       "      <td>997454464</td>\n",
       "      <td>25162</td>\n",
       "    </tr>\n",
       "    <tr>\n",
       "      <th>1000167</th>\n",
       "      <td>6040</td>\n",
       "      <td>161</td>\n",
       "      <td>3</td>\n",
       "      <td>997454486</td>\n",
       "      <td>25162</td>\n",
       "    </tr>\n",
       "    <tr>\n",
       "      <th>1000042</th>\n",
       "      <td>6040</td>\n",
       "      <td>1221</td>\n",
       "      <td>4</td>\n",
       "      <td>998315055</td>\n",
       "      <td>25163</td>\n",
       "    </tr>\n",
       "  </tbody>\n",
       "</table>\n",
       "<p>1000209 rows × 5 columns</p>\n",
       "</div>"
      ],
      "text/plain": [
       "         UserId  ItemId  Rating       Time  SessionId\n",
       "31            1    3186       4  978300019          1\n",
       "22            1    1270       5  978300055          1\n",
       "27            1    1721       4  978300055          1\n",
       "37            1    1022       5  978300055          1\n",
       "24            1    2340       3  978300103          1\n",
       "...         ...     ...     ...        ...        ...\n",
       "1000019    6040    2917       4  997454429      25162\n",
       "999988     6040    1921       4  997454464      25162\n",
       "1000172    6040    1784       3  997454464      25162\n",
       "1000167    6040     161       3  997454486      25162\n",
       "1000042    6040    1221       4  998315055      25163\n",
       "\n",
       "[1000209 rows x 5 columns]"
      ]
     },
     "execution_count": 59,
     "metadata": {},
     "output_type": "execute_result"
    }
   ],
   "source": [
    "data"
   ]
  },
  {
   "cell_type": "code",
   "execution_count": 60,
   "metadata": {},
   "outputs": [
    {
     "data": {
      "text/plain": [
       "25163"
      ]
     },
     "execution_count": 60,
     "metadata": {},
     "output_type": "execute_result"
    }
   ],
   "source": [
    "data['SessionId'].nunique() # 세션의 숫자는 25163개"
   ]
  },
  {
   "cell_type": "code",
   "execution_count": 61,
   "metadata": {},
   "outputs": [],
   "source": [
    "# timestamp 시간 변환\n",
    "data['DateTime'] = pd.to_datetime(data['Time'], unit='s')"
   ]
  },
  {
   "cell_type": "markdown",
   "metadata": {},
   "source": [
    "### Session Length\n",
    "\n",
    "각 세션에 대략 몇 개의 클릭 데이터가 존재하는지 확인"
   ]
  },
  {
   "cell_type": "code",
   "execution_count": 62,
   "metadata": {},
   "outputs": [
    {
     "data": {
      "text/plain": [
       "SessionId\n",
       "1         40\n",
       "2         13\n",
       "3        129\n",
       "4         51\n",
       "5         21\n",
       "        ... \n",
       "25159      7\n",
       "25160     14\n",
       "25161      1\n",
       "25162     21\n",
       "25163      1\n",
       "Length: 25163, dtype: int64"
      ]
     },
     "execution_count": 62,
     "metadata": {},
     "output_type": "execute_result"
    }
   ],
   "source": [
    "session_length = data.groupby('SessionId').size()\n",
    "session_length"
   ]
  },
  {
   "cell_type": "code",
   "execution_count": 63,
   "metadata": {},
   "outputs": [
    {
     "data": {
      "text/plain": [
       "(6.0, 39.74919524698963)"
      ]
     },
     "execution_count": 63,
     "metadata": {},
     "output_type": "execute_result"
    }
   ],
   "source": [
    "session_length.median(), session_length.mean()"
   ]
  },
  {
   "cell_type": "code",
   "execution_count": 64,
   "metadata": {},
   "outputs": [
    {
     "data": {
      "text/plain": [
       "(1, 1193)"
      ]
     },
     "execution_count": 64,
     "metadata": {},
     "output_type": "execute_result"
    }
   ],
   "source": [
    "session_length.min(), session_length.max()"
   ]
  },
  {
   "cell_type": "code",
   "execution_count": 65,
   "metadata": {},
   "outputs": [
    {
     "data": {
      "text/plain": [
       "764.3520000000135"
      ]
     },
     "execution_count": 65,
     "metadata": {},
     "output_type": "execute_result"
    }
   ],
   "source": [
    "session_length.quantile(0.999)"
   ]
  },
  {
   "cell_type": "markdown",
   "metadata": {},
   "source": [
    "* 각 세션의 길이: 보통 6 ~ 39 정도 => 한명의 유저가 영화 평점을 6 ~ 39개 정도 매긴게 아닐까.. <br>\n",
    "* 99.9% 세션은 길이가 764이하인데 길이가 1193인 세션은 좀 이상한거 같다.확인해보자!\n",
    "\n"
   ]
  },
  {
   "cell_type": "code",
   "execution_count": 66,
   "metadata": {},
   "outputs": [
    {
     "data": {
      "text/html": [
       "<div>\n",
       "<style scoped>\n",
       "    .dataframe tbody tr th:only-of-type {\n",
       "        vertical-align: middle;\n",
       "    }\n",
       "\n",
       "    .dataframe tbody tr th {\n",
       "        vertical-align: top;\n",
       "    }\n",
       "\n",
       "    .dataframe thead th {\n",
       "        text-align: right;\n",
       "    }\n",
       "</style>\n",
       "<table border=\"1\" class=\"dataframe\">\n",
       "  <thead>\n",
       "    <tr style=\"text-align: right;\">\n",
       "      <th></th>\n",
       "      <th>UserId</th>\n",
       "      <th>ItemId</th>\n",
       "      <th>Rating</th>\n",
       "      <th>Time</th>\n",
       "      <th>SessionId</th>\n",
       "      <th>DateTime</th>\n",
       "    </tr>\n",
       "  </thead>\n",
       "  <tbody>\n",
       "    <tr>\n",
       "      <th>637775</th>\n",
       "      <td>3841</td>\n",
       "      <td>1480</td>\n",
       "      <td>3</td>\n",
       "      <td>965995059</td>\n",
       "      <td>16446</td>\n",
       "      <td>2000-08-11 11:57:39</td>\n",
       "    </tr>\n",
       "    <tr>\n",
       "      <th>637808</th>\n",
       "      <td>3841</td>\n",
       "      <td>969</td>\n",
       "      <td>5</td>\n",
       "      <td>965995059</td>\n",
       "      <td>16446</td>\n",
       "      <td>2000-08-11 11:57:39</td>\n",
       "    </tr>\n",
       "    <tr>\n",
       "      <th>638269</th>\n",
       "      <td>3841</td>\n",
       "      <td>858</td>\n",
       "      <td>5</td>\n",
       "      <td>965995059</td>\n",
       "      <td>16446</td>\n",
       "      <td>2000-08-11 11:57:39</td>\n",
       "    </tr>\n",
       "    <tr>\n",
       "      <th>638716</th>\n",
       "      <td>3841</td>\n",
       "      <td>2019</td>\n",
       "      <td>5</td>\n",
       "      <td>965995059</td>\n",
       "      <td>16446</td>\n",
       "      <td>2000-08-11 11:57:39</td>\n",
       "    </tr>\n",
       "    <tr>\n",
       "      <th>638733</th>\n",
       "      <td>3841</td>\n",
       "      <td>1221</td>\n",
       "      <td>5</td>\n",
       "      <td>965995059</td>\n",
       "      <td>16446</td>\n",
       "      <td>2000-08-11 11:57:39</td>\n",
       "    </tr>\n",
       "    <tr>\n",
       "      <th>...</th>\n",
       "      <td>...</td>\n",
       "      <td>...</td>\n",
       "      <td>...</td>\n",
       "      <td>...</td>\n",
       "      <td>...</td>\n",
       "      <td>...</td>\n",
       "    </tr>\n",
       "    <tr>\n",
       "      <th>638038</th>\n",
       "      <td>3841</td>\n",
       "      <td>3806</td>\n",
       "      <td>5</td>\n",
       "      <td>966003791</td>\n",
       "      <td>16446</td>\n",
       "      <td>2000-08-11 14:23:11</td>\n",
       "    </tr>\n",
       "    <tr>\n",
       "      <th>638243</th>\n",
       "      <td>3841</td>\n",
       "      <td>1379</td>\n",
       "      <td>2</td>\n",
       "      <td>966003791</td>\n",
       "      <td>16446</td>\n",
       "      <td>2000-08-11 14:23:11</td>\n",
       "    </tr>\n",
       "    <tr>\n",
       "      <th>638459</th>\n",
       "      <td>3841</td>\n",
       "      <td>1928</td>\n",
       "      <td>4</td>\n",
       "      <td>966003791</td>\n",
       "      <td>16446</td>\n",
       "      <td>2000-08-11 14:23:11</td>\n",
       "    </tr>\n",
       "    <tr>\n",
       "      <th>638710</th>\n",
       "      <td>3841</td>\n",
       "      <td>2016</td>\n",
       "      <td>3</td>\n",
       "      <td>966003791</td>\n",
       "      <td>16446</td>\n",
       "      <td>2000-08-11 14:23:11</td>\n",
       "    </tr>\n",
       "    <tr>\n",
       "      <th>638112</th>\n",
       "      <td>3841</td>\n",
       "      <td>487</td>\n",
       "      <td>3</td>\n",
       "      <td>966003803</td>\n",
       "      <td>16446</td>\n",
       "      <td>2000-08-11 14:23:23</td>\n",
       "    </tr>\n",
       "  </tbody>\n",
       "</table>\n",
       "<p>1193 rows × 6 columns</p>\n",
       "</div>"
      ],
      "text/plain": [
       "        UserId  ItemId  Rating       Time  SessionId            DateTime\n",
       "637775    3841    1480       3  965995059      16446 2000-08-11 11:57:39\n",
       "637808    3841     969       5  965995059      16446 2000-08-11 11:57:39\n",
       "638269    3841     858       5  965995059      16446 2000-08-11 11:57:39\n",
       "638716    3841    2019       5  965995059      16446 2000-08-11 11:57:39\n",
       "638733    3841    1221       5  965995059      16446 2000-08-11 11:57:39\n",
       "...        ...     ...     ...        ...        ...                 ...\n",
       "638038    3841    3806       5  966003791      16446 2000-08-11 14:23:11\n",
       "638243    3841    1379       2  966003791      16446 2000-08-11 14:23:11\n",
       "638459    3841    1928       4  966003791      16446 2000-08-11 14:23:11\n",
       "638710    3841    2016       3  966003791      16446 2000-08-11 14:23:11\n",
       "638112    3841     487       3  966003803      16446 2000-08-11 14:23:23\n",
       "\n",
       "[1193 rows x 6 columns]"
      ]
     },
     "execution_count": 66,
     "metadata": {},
     "output_type": "execute_result"
    }
   ],
   "source": [
    "long_session = session_length[session_length==1193].index[0]\n",
    "data[data['SessionId']==long_session]"
   ]
  },
  {
   "cell_type": "markdown",
   "metadata": {},
   "source": [
    "세션 길이 파악을 위해 시각화를 해보기 => 세션길이를 기준으로 하위 99.9%까지의 분포 누적합 시각화"
   ]
  },
  {
   "cell_type": "code",
   "execution_count": 67,
   "metadata": {},
   "outputs": [
    {
     "data": {
      "text/plain": [
       "1      0.273378\n",
       "2      0.373882\n",
       "3      0.424115\n",
       "4      0.456543\n",
       "5      0.483726\n",
       "         ...   \n",
       "729    0.998808\n",
       "735    0.998848\n",
       "744    0.998887\n",
       "746    0.998927\n",
       "761    0.998967\n",
       "Length: 532, dtype: float64"
      ]
     },
     "execution_count": 67,
     "metadata": {},
     "output_type": "execute_result"
    }
   ],
   "source": [
    "length_count = session_length.groupby(session_length).size()\n",
    "length_percent_cumsum = length_count.cumsum() / length_count.sum()\n",
    "length_percent_cumsum_999 = length_percent_cumsum[length_percent_cumsum < 0.999]\n",
    "\n",
    "length_percent_cumsum_999"
   ]
  },
  {
   "cell_type": "code",
   "execution_count": 68,
   "metadata": {},
   "outputs": [
    {
     "data": {
      "image/png": "[encoded data removed]",
      "text/plain": [
       "<Figure size 1440x720 with 1 Axes>"
      ]
     },
     "metadata": {
      "needs_background": "light"
     },
     "output_type": "display_data"
    }
   ],
   "source": [
    "import matplotlib.pyplot as plt\n",
    "\n",
    "plt.figure(figsize=(20, 10))\n",
    "plt.bar(x=length_percent_cumsum_999.index,\n",
    "        height=length_percent_cumsum_999, color='red')\n",
    "plt.xticks(length_percent_cumsum_999.index)\n",
    "plt.yticks(np.arange(0, 1.01, 0.05))\n",
    "plt.title('Cumsum Percentage Until 0.999', size=20)\n",
    "plt.show()"
   ]
  },
  {
   "cell_type": "markdown",
   "metadata": {},
   "source": [
    "### Session Time"
   ]
  },
  {
   "cell_type": "code",
   "execution_count": 69,
   "metadata": {},
   "outputs": [
    {
     "name": "stdout",
     "output_type": "stream",
     "text": [
      "2000-04-25 23:05:32\n",
      "2003-02-28 17:49:50\n"
     ]
    }
   ],
   "source": [
    "oldest, latest = data['DateTime'].min(), data['DateTime'].max()\n",
    "print(oldest) \n",
    "print(latest)"
   ]
  },
  {
   "cell_type": "markdown",
   "metadata": {},
   "source": [
    "약 3년치의 데이터가 있는데 1년치 데이터만 사용하겠다. 몇달치 혹은 2년치 데이터를 사용하면 성능이 더 좋아질까?"
   ]
  },
  {
   "cell_type": "code",
   "execution_count": 70,
   "metadata": {},
   "outputs": [
    {
     "data": {
      "text/plain": [
       "pandas._libs.tslibs.timestamps.Timestamp"
      ]
     },
     "execution_count": 70,
     "metadata": {},
     "output_type": "execute_result"
    }
   ],
   "source": [
    "type(latest)"
   ]
  },
  {
   "cell_type": "code",
   "execution_count": 71,
   "metadata": {},
   "outputs": [
    {
     "data": {
      "text/html": [
       "<div>\n",
       "<style scoped>\n",
       "    .dataframe tbody tr th:only-of-type {\n",
       "        vertical-align: middle;\n",
       "    }\n",
       "\n",
       "    .dataframe tbody tr th {\n",
       "        vertical-align: top;\n",
       "    }\n",
       "\n",
       "    .dataframe thead th {\n",
       "        text-align: right;\n",
       "    }\n",
       "</style>\n",
       "<table border=\"1\" class=\"dataframe\">\n",
       "  <thead>\n",
       "    <tr style=\"text-align: right;\">\n",
       "      <th></th>\n",
       "      <th>UserId</th>\n",
       "      <th>ItemId</th>\n",
       "      <th>Rating</th>\n",
       "      <th>Time</th>\n",
       "      <th>SessionId</th>\n",
       "      <th>DateTime</th>\n",
       "    </tr>\n",
       "  </thead>\n",
       "  <tbody>\n",
       "    <tr>\n",
       "      <th>5170</th>\n",
       "      <td>36</td>\n",
       "      <td>1387</td>\n",
       "      <td>5</td>\n",
       "      <td>1015904819</td>\n",
       "      <td>86</td>\n",
       "      <td>2002-03-12 03:46:59</td>\n",
       "    </tr>\n",
       "    <tr>\n",
       "      <th>5267</th>\n",
       "      <td>36</td>\n",
       "      <td>1201</td>\n",
       "      <td>4</td>\n",
       "      <td>1015904819</td>\n",
       "      <td>86</td>\n",
       "      <td>2002-03-12 03:46:59</td>\n",
       "    </tr>\n",
       "    <tr>\n",
       "      <th>5122</th>\n",
       "      <td>36</td>\n",
       "      <td>1291</td>\n",
       "      <td>5</td>\n",
       "      <td>1015904836</td>\n",
       "      <td>86</td>\n",
       "      <td>2002-03-12 03:47:16</td>\n",
       "    </tr>\n",
       "    <tr>\n",
       "      <th>5123</th>\n",
       "      <td>36</td>\n",
       "      <td>2167</td>\n",
       "      <td>5</td>\n",
       "      <td>1015904905</td>\n",
       "      <td>86</td>\n",
       "      <td>2002-03-12 03:48:25</td>\n",
       "    </tr>\n",
       "    <tr>\n",
       "      <th>5290</th>\n",
       "      <td>36</td>\n",
       "      <td>2951</td>\n",
       "      <td>4</td>\n",
       "      <td>1015904905</td>\n",
       "      <td>86</td>\n",
       "      <td>2002-03-12 03:48:25</td>\n",
       "    </tr>\n",
       "    <tr>\n",
       "      <th>...</th>\n",
       "      <td>...</td>\n",
       "      <td>...</td>\n",
       "      <td>...</td>\n",
       "      <td>...</td>\n",
       "      <td>...</td>\n",
       "      <td>...</td>\n",
       "    </tr>\n",
       "    <tr>\n",
       "      <th>992358</th>\n",
       "      <td>5996</td>\n",
       "      <td>3835</td>\n",
       "      <td>3</td>\n",
       "      <td>1020113184</td>\n",
       "      <td>25051</td>\n",
       "      <td>2002-04-29 20:46:24</td>\n",
       "    </tr>\n",
       "    <tr>\n",
       "      <th>992279</th>\n",
       "      <td>5996</td>\n",
       "      <td>2422</td>\n",
       "      <td>3</td>\n",
       "      <td>1020113225</td>\n",
       "      <td>25051</td>\n",
       "      <td>2002-04-29 20:47:05</td>\n",
       "    </tr>\n",
       "    <tr>\n",
       "      <th>992702</th>\n",
       "      <td>5996</td>\n",
       "      <td>168</td>\n",
       "      <td>3</td>\n",
       "      <td>1031058746</td>\n",
       "      <td>25052</td>\n",
       "      <td>2002-09-03 13:12:26</td>\n",
       "    </tr>\n",
       "    <tr>\n",
       "      <th>992459</th>\n",
       "      <td>5996</td>\n",
       "      <td>339</td>\n",
       "      <td>4</td>\n",
       "      <td>1033997079</td>\n",
       "      <td>25053</td>\n",
       "      <td>2002-10-07 13:24:39</td>\n",
       "    </tr>\n",
       "    <tr>\n",
       "      <th>992387</th>\n",
       "      <td>5996</td>\n",
       "      <td>3882</td>\n",
       "      <td>3</td>\n",
       "      <td>1036428955</td>\n",
       "      <td>25054</td>\n",
       "      <td>2002-11-04 16:55:55</td>\n",
       "    </tr>\n",
       "  </tbody>\n",
       "</table>\n",
       "<p>21704 rows × 6 columns</p>\n",
       "</div>"
      ],
      "text/plain": [
       "        UserId  ItemId  Rating        Time  SessionId            DateTime\n",
       "5170        36    1387       5  1015904819         86 2002-03-12 03:46:59\n",
       "5267        36    1201       4  1015904819         86 2002-03-12 03:46:59\n",
       "5122        36    1291       5  1015904836         86 2002-03-12 03:47:16\n",
       "5123        36    2167       5  1015904905         86 2002-03-12 03:48:25\n",
       "5290        36    2951       4  1015904905         86 2002-03-12 03:48:25\n",
       "...        ...     ...     ...         ...        ...                 ...\n",
       "992358    5996    3835       3  1020113184      25051 2002-04-29 20:46:24\n",
       "992279    5996    2422       3  1020113225      25051 2002-04-29 20:47:05\n",
       "992702    5996     168       3  1031058746      25052 2002-09-03 13:12:26\n",
       "992459    5996     339       4  1033997079      25053 2002-10-07 13:24:39\n",
       "992387    5996    3882       3  1036428955      25054 2002-11-04 16:55:55\n",
       "\n",
       "[21704 rows x 6 columns]"
      ]
     },
     "execution_count": 71,
     "metadata": {},
     "output_type": "execute_result"
    }
   ],
   "source": [
    "month_ago = latest - dt.timedelta(365)     # 최종 날짜로부터 1년 이전 날짜를 구한다.  \n",
    "year1_data = data[data['DateTime'] > month_ago]   # 방금 구한 날짜 이후의 데이터만 모은다. \n",
    "year1_data"
   ]
  },
  {
   "cell_type": "code",
   "execution_count": 72,
   "metadata": {},
   "outputs": [
    {
     "name": "stdout",
     "output_type": "stream",
     "text": [
      "2002-02-28 19:06:39\n",
      "2003-02-28 17:49:50\n"
     ]
    }
   ],
   "source": [
    "year1_data_oldest, year1_data_latest = year1_data['DateTime'].min(), year1_data['DateTime'].max()\n",
    "print(year1_data_oldest) \n",
    "print(year1_data_latest)"
   ]
  },
  {
   "cell_type": "markdown",
   "metadata": {},
   "source": [
    "### Data Cleaning\n",
    "* 길이가 1인 세션은 제거하기\n",
    "* 상대적으로 적게 클릭된 아이템도 이상한 아이템일 확률이 높기 때문에 제거해주기"
   ]
  },
  {
   "cell_type": "code",
   "execution_count": 73,
   "metadata": {},
   "outputs": [],
   "source": [
    "# short_session을 제거한 다음 unpopular item을 제거하면 다시 길이가 1인 session이 생길 수 있습니다.\n",
    "# 이를 위해 반복문을 통해 지속적으로 제거 합니다.\n",
    "def cleanse_recursive(data: pd.DataFrame, shortest, least_click) -> pd.DataFrame:\n",
    "    while True:\n",
    "        before_len = len(data)\n",
    "        data = cleanse_short_session(data, shortest)\n",
    "        data = cleanse_unpopular_item(data, least_click)\n",
    "        after_len = len(data)\n",
    "        if before_len == after_len:\n",
    "            break\n",
    "    return data\n",
    "\n",
    "\n",
    "def cleanse_short_session(data: pd.DataFrame, shortest):\n",
    "    session_len = data.groupby('SessionId').size()\n",
    "    session_use = session_len[session_len >= shortest].index\n",
    "    data = data[data['SessionId'].isin(session_use)]\n",
    "    return data\n",
    "\n",
    "\n",
    "def cleanse_unpopular_item(data: pd.DataFrame, least_click):\n",
    "    item_popular = data.groupby('ItemId').size()\n",
    "    item_use = item_popular[item_popular >= least_click].index\n",
    "    data = data[data['ItemId'].isin(item_use)]\n",
    "    return data"
   ]
  },
  {
   "cell_type": "code",
   "execution_count": 74,
   "metadata": {},
   "outputs": [
    {
     "data": {
      "text/html": [
       "<div>\n",
       "<style scoped>\n",
       "    .dataframe tbody tr th:only-of-type {\n",
       "        vertical-align: middle;\n",
       "    }\n",
       "\n",
       "    .dataframe tbody tr th {\n",
       "        vertical-align: top;\n",
       "    }\n",
       "\n",
       "    .dataframe thead th {\n",
       "        text-align: right;\n",
       "    }\n",
       "</style>\n",
       "<table border=\"1\" class=\"dataframe\">\n",
       "  <thead>\n",
       "    <tr style=\"text-align: right;\">\n",
       "      <th></th>\n",
       "      <th>UserId</th>\n",
       "      <th>ItemId</th>\n",
       "      <th>Rating</th>\n",
       "      <th>Time</th>\n",
       "      <th>SessionId</th>\n",
       "      <th>DateTime</th>\n",
       "    </tr>\n",
       "  </thead>\n",
       "  <tbody>\n",
       "    <tr>\n",
       "      <th>5170</th>\n",
       "      <td>36</td>\n",
       "      <td>1387</td>\n",
       "      <td>5</td>\n",
       "      <td>1015904819</td>\n",
       "      <td>86</td>\n",
       "      <td>2002-03-12 03:46:59</td>\n",
       "    </tr>\n",
       "    <tr>\n",
       "      <th>5267</th>\n",
       "      <td>36</td>\n",
       "      <td>1201</td>\n",
       "      <td>4</td>\n",
       "      <td>1015904819</td>\n",
       "      <td>86</td>\n",
       "      <td>2002-03-12 03:46:59</td>\n",
       "    </tr>\n",
       "    <tr>\n",
       "      <th>5122</th>\n",
       "      <td>36</td>\n",
       "      <td>1291</td>\n",
       "      <td>5</td>\n",
       "      <td>1015904836</td>\n",
       "      <td>86</td>\n",
       "      <td>2002-03-12 03:47:16</td>\n",
       "    </tr>\n",
       "    <tr>\n",
       "      <th>5123</th>\n",
       "      <td>36</td>\n",
       "      <td>2167</td>\n",
       "      <td>5</td>\n",
       "      <td>1015904905</td>\n",
       "      <td>86</td>\n",
       "      <td>2002-03-12 03:48:25</td>\n",
       "    </tr>\n",
       "    <tr>\n",
       "      <th>5290</th>\n",
       "      <td>36</td>\n",
       "      <td>2951</td>\n",
       "      <td>4</td>\n",
       "      <td>1015904905</td>\n",
       "      <td>86</td>\n",
       "      <td>2002-03-12 03:48:25</td>\n",
       "    </tr>\n",
       "    <tr>\n",
       "      <th>...</th>\n",
       "      <td>...</td>\n",
       "      <td>...</td>\n",
       "      <td>...</td>\n",
       "      <td>...</td>\n",
       "      <td>...</td>\n",
       "      <td>...</td>\n",
       "    </tr>\n",
       "    <tr>\n",
       "      <th>992689</th>\n",
       "      <td>5996</td>\n",
       "      <td>2701</td>\n",
       "      <td>3</td>\n",
       "      <td>1020111976</td>\n",
       "      <td>25051</td>\n",
       "      <td>2002-04-29 20:26:16</td>\n",
       "    </tr>\n",
       "    <tr>\n",
       "      <th>992304</th>\n",
       "      <td>5996</td>\n",
       "      <td>2471</td>\n",
       "      <td>2</td>\n",
       "      <td>1020112109</td>\n",
       "      <td>25051</td>\n",
       "      <td>2002-04-29 20:28:29</td>\n",
       "    </tr>\n",
       "    <tr>\n",
       "      <th>992466</th>\n",
       "      <td>5996</td>\n",
       "      <td>3564</td>\n",
       "      <td>3</td>\n",
       "      <td>1020112392</td>\n",
       "      <td>25051</td>\n",
       "      <td>2002-04-29 20:33:12</td>\n",
       "    </tr>\n",
       "    <tr>\n",
       "      <th>992358</th>\n",
       "      <td>5996</td>\n",
       "      <td>3835</td>\n",
       "      <td>3</td>\n",
       "      <td>1020113184</td>\n",
       "      <td>25051</td>\n",
       "      <td>2002-04-29 20:46:24</td>\n",
       "    </tr>\n",
       "    <tr>\n",
       "      <th>992279</th>\n",
       "      <td>5996</td>\n",
       "      <td>2422</td>\n",
       "      <td>3</td>\n",
       "      <td>1020113225</td>\n",
       "      <td>25051</td>\n",
       "      <td>2002-04-29 20:47:05</td>\n",
       "    </tr>\n",
       "  </tbody>\n",
       "</table>\n",
       "<p>16654 rows × 6 columns</p>\n",
       "</div>"
      ],
      "text/plain": [
       "        UserId  ItemId  Rating        Time  SessionId            DateTime\n",
       "5170        36    1387       5  1015904819         86 2002-03-12 03:46:59\n",
       "5267        36    1201       4  1015904819         86 2002-03-12 03:46:59\n",
       "5122        36    1291       5  1015904836         86 2002-03-12 03:47:16\n",
       "5123        36    2167       5  1015904905         86 2002-03-12 03:48:25\n",
       "5290        36    2951       4  1015904905         86 2002-03-12 03:48:25\n",
       "...        ...     ...     ...         ...        ...                 ...\n",
       "992689    5996    2701       3  1020111976      25051 2002-04-29 20:26:16\n",
       "992304    5996    2471       2  1020112109      25051 2002-04-29 20:28:29\n",
       "992466    5996    3564       3  1020112392      25051 2002-04-29 20:33:12\n",
       "992358    5996    3835       3  1020113184      25051 2002-04-29 20:46:24\n",
       "992279    5996    2422       3  1020113225      25051 2002-04-29 20:47:05\n",
       "\n",
       "[16654 rows x 6 columns]"
      ]
     },
     "execution_count": 74,
     "metadata": {},
     "output_type": "execute_result"
    }
   ],
   "source": [
    "year1_data = cleanse_recursive(year1_data, shortest=2, least_click=5)\n",
    "year1_data"
   ]
  },
  {
   "cell_type": "markdown",
   "metadata": {},
   "source": [
    "### Train/ Valid/ Test split\n",
    " Valid Set과 Test Set 만들기"
   ]
  },
  {
   "cell_type": "markdown",
   "metadata": {},
   "source": [
    "마지막 30일 기간 동안을 Test로 하고 60~30일전 까지를 valid set으로 나눔"
   ]
  },
  {
   "cell_type": "code",
   "execution_count": 78,
   "metadata": {},
   "outputs": [],
   "source": [
    "def split_by_date(data: pd.DataFrame, n_days: int):\n",
    "    final_time = data['DateTime'].max()\n",
    "    session_last_time = data.groupby('SessionId')['DateTime'].max()\n",
    "    session_in_train = session_last_time[session_last_time < final_time - dt.timedelta(n_days)].index\n",
    "    session_in_test = session_last_time[session_last_time >= final_time - dt.timedelta(n_days)].index\n",
    "\n",
    "    before_date = data[data['SessionId'].isin(session_in_train)]\n",
    "    after_date = data[data['SessionId'].isin(session_in_test)]\n",
    "    after_date = after_date[after_date['ItemId'].isin(before_date['ItemId'])]\n",
    "    return before_date, after_date"
   ]
  },
  {
   "cell_type": "code",
   "execution_count": 79,
   "metadata": {},
   "outputs": [],
   "source": [
    "tr, test = split_by_date(year1_data, n_days=30)\n",
    "tr, val = split_by_date(tr, n_days=30)"
   ]
  },
  {
   "cell_type": "code",
   "execution_count": 80,
   "metadata": {},
   "outputs": [],
   "source": [
    "# data에 대한 정보를 살펴봅니다.\n",
    "def stats_info(data: pd.DataFrame, status: str):\n",
    "    print(f'* {status} Set Stats Info\\n'\n",
    "          f'\\t Events: {len(data)}\\n'\n",
    "          f'\\t Sessions: {data[\"SessionId\"].nunique()}\\n'\n",
    "          f'\\t Items: {data[\"ItemId\"].nunique()}\\n'\n",
    "          f'\\t First Time : {data[\"DateTime\"].min()}\\n'\n",
    "          f'\\t Last Time : {data[\"DateTime\"].max()}\\n')"
   ]
  },
  {
   "cell_type": "code",
   "execution_count": 81,
   "metadata": {},
   "outputs": [
    {
     "name": "stdout",
     "output_type": "stream",
     "text": [
      "* train Set Stats Info\n",
      "\t Events: 13989\n",
      "\t Sessions: 1182\n",
      "\t Items: 1414\n",
      "\t First Time : 2002-02-28 19:06:39\n",
      "\t Last Time : 2002-12-30 01:53:41\n",
      "\n",
      "* valid Set Stats Info\n",
      "\t Events: 1432\n",
      "\t Sessions: 125\n",
      "\t Items: 841\n",
      "\t First Time : 2002-12-30 16:38:06\n",
      "\t Last Time : 2003-01-29 06:58:42\n",
      "\n",
      "* test Set Stats Info\n",
      "\t Events: 1233\n",
      "\t Sessions: 84\n",
      "\t Items: 778\n",
      "\t First Time : 2003-01-29 19:36:56\n",
      "\t Last Time : 2003-02-28 17:49:50\n",
      "\n"
     ]
    }
   ],
   "source": [
    "stats_info(tr, 'train')\n",
    "stats_info(val, 'valid')\n",
    "stats_info(test, 'test')"
   ]
  },
  {
   "cell_type": "code",
   "execution_count": 82,
   "metadata": {},
   "outputs": [],
   "source": [
    "# train set에 없는 아이템이 val, test기간에 생길 수 있으므로 train data를 기준으로 인덱싱합니다.\n",
    "id2idx = {item_id : index for index, item_id in enumerate(tr['ItemId'].unique())}\n",
    "\n",
    "def indexing(df, id2idx):\n",
    "    df['item_idx'] = df['ItemId'].map(lambda x: id2idx.get(x, -1))  # id2idx에 없는 아이템은 모르는 값(-1) 처리 해줍니다.\n",
    "    return df\n",
    "\n",
    "tr = indexing(tr, id2idx)\n",
    "val = indexing(val, id2idx)\n",
    "test = indexing(test, id2idx)"
   ]
  },
  {
   "cell_type": "code",
   "execution_count": 84,
   "metadata": {},
   "outputs": [
    {
     "data": {
      "text/html": [
       "<div>\n",
       "<style scoped>\n",
       "    .dataframe tbody tr th:only-of-type {\n",
       "        vertical-align: middle;\n",
       "    }\n",
       "\n",
       "    .dataframe tbody tr th {\n",
       "        vertical-align: top;\n",
       "    }\n",
       "\n",
       "    .dataframe thead th {\n",
       "        text-align: right;\n",
       "    }\n",
       "</style>\n",
       "<table border=\"1\" class=\"dataframe\">\n",
       "  <thead>\n",
       "    <tr style=\"text-align: right;\">\n",
       "      <th></th>\n",
       "      <th>UserId</th>\n",
       "      <th>ItemId</th>\n",
       "      <th>Rating</th>\n",
       "      <th>Time</th>\n",
       "      <th>SessionId</th>\n",
       "      <th>DateTime</th>\n",
       "      <th>item_idx</th>\n",
       "    </tr>\n",
       "  </thead>\n",
       "  <tbody>\n",
       "    <tr>\n",
       "      <th>5170</th>\n",
       "      <td>36</td>\n",
       "      <td>1387</td>\n",
       "      <td>5</td>\n",
       "      <td>1015904819</td>\n",
       "      <td>86</td>\n",
       "      <td>2002-03-12 03:46:59</td>\n",
       "      <td>0</td>\n",
       "    </tr>\n",
       "    <tr>\n",
       "      <th>5267</th>\n",
       "      <td>36</td>\n",
       "      <td>1201</td>\n",
       "      <td>4</td>\n",
       "      <td>1015904819</td>\n",
       "      <td>86</td>\n",
       "      <td>2002-03-12 03:46:59</td>\n",
       "      <td>1</td>\n",
       "    </tr>\n",
       "    <tr>\n",
       "      <th>5122</th>\n",
       "      <td>36</td>\n",
       "      <td>1291</td>\n",
       "      <td>5</td>\n",
       "      <td>1015904836</td>\n",
       "      <td>86</td>\n",
       "      <td>2002-03-12 03:47:16</td>\n",
       "      <td>2</td>\n",
       "    </tr>\n",
       "    <tr>\n",
       "      <th>5123</th>\n",
       "      <td>36</td>\n",
       "      <td>2167</td>\n",
       "      <td>5</td>\n",
       "      <td>1015904905</td>\n",
       "      <td>86</td>\n",
       "      <td>2002-03-12 03:48:25</td>\n",
       "      <td>3</td>\n",
       "    </tr>\n",
       "    <tr>\n",
       "      <th>5290</th>\n",
       "      <td>36</td>\n",
       "      <td>2951</td>\n",
       "      <td>4</td>\n",
       "      <td>1015904905</td>\n",
       "      <td>86</td>\n",
       "      <td>2002-03-12 03:48:25</td>\n",
       "      <td>4</td>\n",
       "    </tr>\n",
       "    <tr>\n",
       "      <th>...</th>\n",
       "      <td>...</td>\n",
       "      <td>...</td>\n",
       "      <td>...</td>\n",
       "      <td>...</td>\n",
       "      <td>...</td>\n",
       "      <td>...</td>\n",
       "      <td>...</td>\n",
       "    </tr>\n",
       "    <tr>\n",
       "      <th>992689</th>\n",
       "      <td>5996</td>\n",
       "      <td>2701</td>\n",
       "      <td>3</td>\n",
       "      <td>1020111976</td>\n",
       "      <td>25051</td>\n",
       "      <td>2002-04-29 20:26:16</td>\n",
       "      <td>969</td>\n",
       "    </tr>\n",
       "    <tr>\n",
       "      <th>992304</th>\n",
       "      <td>5996</td>\n",
       "      <td>2471</td>\n",
       "      <td>2</td>\n",
       "      <td>1020112109</td>\n",
       "      <td>25051</td>\n",
       "      <td>2002-04-29 20:28:29</td>\n",
       "      <td>742</td>\n",
       "    </tr>\n",
       "    <tr>\n",
       "      <th>992466</th>\n",
       "      <td>5996</td>\n",
       "      <td>3564</td>\n",
       "      <td>3</td>\n",
       "      <td>1020112392</td>\n",
       "      <td>25051</td>\n",
       "      <td>2002-04-29 20:33:12</td>\n",
       "      <td>611</td>\n",
       "    </tr>\n",
       "    <tr>\n",
       "      <th>992358</th>\n",
       "      <td>5996</td>\n",
       "      <td>3835</td>\n",
       "      <td>3</td>\n",
       "      <td>1020113184</td>\n",
       "      <td>25051</td>\n",
       "      <td>2002-04-29 20:46:24</td>\n",
       "      <td>1306</td>\n",
       "    </tr>\n",
       "    <tr>\n",
       "      <th>992279</th>\n",
       "      <td>5996</td>\n",
       "      <td>2422</td>\n",
       "      <td>3</td>\n",
       "      <td>1020113225</td>\n",
       "      <td>25051</td>\n",
       "      <td>2002-04-29 20:47:05</td>\n",
       "      <td>1246</td>\n",
       "    </tr>\n",
       "  </tbody>\n",
       "</table>\n",
       "<p>13989 rows × 7 columns</p>\n",
       "</div>"
      ],
      "text/plain": [
       "        UserId  ItemId  Rating        Time  SessionId            DateTime  \\\n",
       "5170        36    1387       5  1015904819         86 2002-03-12 03:46:59   \n",
       "5267        36    1201       4  1015904819         86 2002-03-12 03:46:59   \n",
       "5122        36    1291       5  1015904836         86 2002-03-12 03:47:16   \n",
       "5123        36    2167       5  1015904905         86 2002-03-12 03:48:25   \n",
       "5290        36    2951       4  1015904905         86 2002-03-12 03:48:25   \n",
       "...        ...     ...     ...         ...        ...                 ...   \n",
       "992689    5996    2701       3  1020111976      25051 2002-04-29 20:26:16   \n",
       "992304    5996    2471       2  1020112109      25051 2002-04-29 20:28:29   \n",
       "992466    5996    3564       3  1020112392      25051 2002-04-29 20:33:12   \n",
       "992358    5996    3835       3  1020113184      25051 2002-04-29 20:46:24   \n",
       "992279    5996    2422       3  1020113225      25051 2002-04-29 20:47:05   \n",
       "\n",
       "        item_idx  \n",
       "5170           0  \n",
       "5267           1  \n",
       "5122           2  \n",
       "5123           3  \n",
       "5290           4  \n",
       "...          ...  \n",
       "992689       969  \n",
       "992304       742  \n",
       "992466       611  \n",
       "992358      1306  \n",
       "992279      1246  \n",
       "\n",
       "[13989 rows x 7 columns]"
      ]
     },
     "execution_count": 84,
     "metadata": {},
     "output_type": "execute_result"
    }
   ],
   "source": [
    "tr"
   ]
  },
  {
   "cell_type": "code",
   "execution_count": 85,
   "metadata": {},
   "outputs": [
    {
     "data": {
      "text/html": [
       "<div>\n",
       "<style scoped>\n",
       "    .dataframe tbody tr th:only-of-type {\n",
       "        vertical-align: middle;\n",
       "    }\n",
       "\n",
       "    .dataframe tbody tr th {\n",
       "        vertical-align: top;\n",
       "    }\n",
       "\n",
       "    .dataframe thead th {\n",
       "        text-align: right;\n",
       "    }\n",
       "</style>\n",
       "<table border=\"1\" class=\"dataframe\">\n",
       "  <thead>\n",
       "    <tr style=\"text-align: right;\">\n",
       "      <th></th>\n",
       "      <th>UserId</th>\n",
       "      <th>ItemId</th>\n",
       "      <th>Rating</th>\n",
       "      <th>Time</th>\n",
       "      <th>SessionId</th>\n",
       "      <th>DateTime</th>\n",
       "      <th>item_idx</th>\n",
       "    </tr>\n",
       "  </thead>\n",
       "  <tbody>\n",
       "    <tr>\n",
       "      <th>8704</th>\n",
       "      <td>59</td>\n",
       "      <td>2997</td>\n",
       "      <td>4</td>\n",
       "      <td>1041962568</td>\n",
       "      <td>130</td>\n",
       "      <td>2003-01-07 18:02:48</td>\n",
       "      <td>36</td>\n",
       "    </tr>\n",
       "    <tr>\n",
       "      <th>8781</th>\n",
       "      <td>59</td>\n",
       "      <td>2369</td>\n",
       "      <td>4</td>\n",
       "      <td>1041962664</td>\n",
       "      <td>130</td>\n",
       "      <td>2003-01-07 18:04:24</td>\n",
       "      <td>21</td>\n",
       "    </tr>\n",
       "    <tr>\n",
       "      <th>8797</th>\n",
       "      <td>59</td>\n",
       "      <td>3408</td>\n",
       "      <td>4</td>\n",
       "      <td>1041962692</td>\n",
       "      <td>130</td>\n",
       "      <td>2003-01-07 18:04:52</td>\n",
       "      <td>180</td>\n",
       "    </tr>\n",
       "    <tr>\n",
       "      <th>8808</th>\n",
       "      <td>59</td>\n",
       "      <td>2712</td>\n",
       "      <td>3</td>\n",
       "      <td>1041962692</td>\n",
       "      <td>130</td>\n",
       "      <td>2003-01-07 18:04:52</td>\n",
       "      <td>404</td>\n",
       "    </tr>\n",
       "    <tr>\n",
       "      <th>8809</th>\n",
       "      <td>59</td>\n",
       "      <td>2716</td>\n",
       "      <td>3</td>\n",
       "      <td>1041962731</td>\n",
       "      <td>130</td>\n",
       "      <td>2003-01-07 18:05:31</td>\n",
       "      <td>319</td>\n",
       "    </tr>\n",
       "    <tr>\n",
       "      <th>...</th>\n",
       "      <td>...</td>\n",
       "      <td>...</td>\n",
       "      <td>...</td>\n",
       "      <td>...</td>\n",
       "      <td>...</td>\n",
       "      <td>...</td>\n",
       "      <td>...</td>\n",
       "    </tr>\n",
       "    <tr>\n",
       "      <th>983989</th>\n",
       "      <td>5948</td>\n",
       "      <td>224</td>\n",
       "      <td>4</td>\n",
       "      <td>1043068072</td>\n",
       "      <td>24846</td>\n",
       "      <td>2003-01-20 13:07:52</td>\n",
       "      <td>145</td>\n",
       "    </tr>\n",
       "    <tr>\n",
       "      <th>984167</th>\n",
       "      <td>5948</td>\n",
       "      <td>1283</td>\n",
       "      <td>5</td>\n",
       "      <td>1043068249</td>\n",
       "      <td>24846</td>\n",
       "      <td>2003-01-20 13:10:49</td>\n",
       "      <td>15</td>\n",
       "    </tr>\n",
       "    <tr>\n",
       "      <th>984206</th>\n",
       "      <td>5948</td>\n",
       "      <td>1304</td>\n",
       "      <td>5</td>\n",
       "      <td>1043068456</td>\n",
       "      <td>24846</td>\n",
       "      <td>2003-01-20 13:14:16</td>\n",
       "      <td>624</td>\n",
       "    </tr>\n",
       "    <tr>\n",
       "      <th>984173</th>\n",
       "      <td>5948</td>\n",
       "      <td>1288</td>\n",
       "      <td>4</td>\n",
       "      <td>1043068509</td>\n",
       "      <td>24846</td>\n",
       "      <td>2003-01-20 13:15:09</td>\n",
       "      <td>910</td>\n",
       "    </tr>\n",
       "    <tr>\n",
       "      <th>983996</th>\n",
       "      <td>5948</td>\n",
       "      <td>3467</td>\n",
       "      <td>5</td>\n",
       "      <td>1043068562</td>\n",
       "      <td>24846</td>\n",
       "      <td>2003-01-20 13:16:02</td>\n",
       "      <td>766</td>\n",
       "    </tr>\n",
       "  </tbody>\n",
       "</table>\n",
       "<p>1432 rows × 7 columns</p>\n",
       "</div>"
      ],
      "text/plain": [
       "        UserId  ItemId  Rating        Time  SessionId            DateTime  \\\n",
       "8704        59    2997       4  1041962568        130 2003-01-07 18:02:48   \n",
       "8781        59    2369       4  1041962664        130 2003-01-07 18:04:24   \n",
       "8797        59    3408       4  1041962692        130 2003-01-07 18:04:52   \n",
       "8808        59    2712       3  1041962692        130 2003-01-07 18:04:52   \n",
       "8809        59    2716       3  1041962731        130 2003-01-07 18:05:31   \n",
       "...        ...     ...     ...         ...        ...                 ...   \n",
       "983989    5948     224       4  1043068072      24846 2003-01-20 13:07:52   \n",
       "984167    5948    1283       5  1043068249      24846 2003-01-20 13:10:49   \n",
       "984206    5948    1304       5  1043068456      24846 2003-01-20 13:14:16   \n",
       "984173    5948    1288       4  1043068509      24846 2003-01-20 13:15:09   \n",
       "983996    5948    3467       5  1043068562      24846 2003-01-20 13:16:02   \n",
       "\n",
       "        item_idx  \n",
       "8704          36  \n",
       "8781          21  \n",
       "8797         180  \n",
       "8808         404  \n",
       "8809         319  \n",
       "...          ...  \n",
       "983989       145  \n",
       "984167        15  \n",
       "984206       624  \n",
       "984173       910  \n",
       "983996       766  \n",
       "\n",
       "[1432 rows x 7 columns]"
      ]
     },
     "execution_count": 85,
     "metadata": {},
     "output_type": "execute_result"
    }
   ],
   "source": [
    "val"
   ]
  },
  {
   "cell_type": "code",
   "execution_count": 86,
   "metadata": {},
   "outputs": [
    {
     "data": {
      "text/html": [
       "<div>\n",
       "<style scoped>\n",
       "    .dataframe tbody tr th:only-of-type {\n",
       "        vertical-align: middle;\n",
       "    }\n",
       "\n",
       "    .dataframe tbody tr th {\n",
       "        vertical-align: top;\n",
       "    }\n",
       "\n",
       "    .dataframe thead th {\n",
       "        text-align: right;\n",
       "    }\n",
       "</style>\n",
       "<table border=\"1\" class=\"dataframe\">\n",
       "  <thead>\n",
       "    <tr style=\"text-align: right;\">\n",
       "      <th></th>\n",
       "      <th>UserId</th>\n",
       "      <th>ItemId</th>\n",
       "      <th>Rating</th>\n",
       "      <th>Time</th>\n",
       "      <th>SessionId</th>\n",
       "      <th>DateTime</th>\n",
       "      <th>item_idx</th>\n",
       "    </tr>\n",
       "  </thead>\n",
       "  <tbody>\n",
       "    <tr>\n",
       "      <th>28281</th>\n",
       "      <td>195</td>\n",
       "      <td>410</td>\n",
       "      <td>2</td>\n",
       "      <td>1044987808</td>\n",
       "      <td>988</td>\n",
       "      <td>2003-02-11 18:23:28</td>\n",
       "      <td>861</td>\n",
       "    </tr>\n",
       "    <tr>\n",
       "      <th>28389</th>\n",
       "      <td>195</td>\n",
       "      <td>2791</td>\n",
       "      <td>3</td>\n",
       "      <td>1044987808</td>\n",
       "      <td>988</td>\n",
       "      <td>2003-02-11 18:23:28</td>\n",
       "      <td>226</td>\n",
       "    </tr>\n",
       "    <tr>\n",
       "      <th>28391</th>\n",
       "      <td>195</td>\n",
       "      <td>2792</td>\n",
       "      <td>2</td>\n",
       "      <td>1044987808</td>\n",
       "      <td>988</td>\n",
       "      <td>2003-02-11 18:23:28</td>\n",
       "      <td>526</td>\n",
       "    </tr>\n",
       "    <tr>\n",
       "      <th>27781</th>\n",
       "      <td>195</td>\n",
       "      <td>3007</td>\n",
       "      <td>4</td>\n",
       "      <td>1044987990</td>\n",
       "      <td>988</td>\n",
       "      <td>2003-02-11 18:26:30</td>\n",
       "      <td>867</td>\n",
       "    </tr>\n",
       "    <tr>\n",
       "      <th>27764</th>\n",
       "      <td>195</td>\n",
       "      <td>1183</td>\n",
       "      <td>3</td>\n",
       "      <td>1044988494</td>\n",
       "      <td>988</td>\n",
       "      <td>2003-02-11 18:34:54</td>\n",
       "      <td>630</td>\n",
       "    </tr>\n",
       "    <tr>\n",
       "      <th>...</th>\n",
       "      <td>...</td>\n",
       "      <td>...</td>\n",
       "      <td>...</td>\n",
       "      <td>...</td>\n",
       "      <td>...</td>\n",
       "      <td>...</td>\n",
       "      <td>...</td>\n",
       "    </tr>\n",
       "    <tr>\n",
       "      <th>984731</th>\n",
       "      <td>5950</td>\n",
       "      <td>3948</td>\n",
       "      <td>4</td>\n",
       "      <td>1046369637</td>\n",
       "      <td>24868</td>\n",
       "      <td>2003-02-27 18:13:57</td>\n",
       "      <td>392</td>\n",
       "    </tr>\n",
       "    <tr>\n",
       "      <th>984682</th>\n",
       "      <td>5950</td>\n",
       "      <td>3578</td>\n",
       "      <td>4</td>\n",
       "      <td>1046369670</td>\n",
       "      <td>24868</td>\n",
       "      <td>2003-02-27 18:14:30</td>\n",
       "      <td>377</td>\n",
       "    </tr>\n",
       "    <tr>\n",
       "      <th>984475</th>\n",
       "      <td>5950</td>\n",
       "      <td>3793</td>\n",
       "      <td>3</td>\n",
       "      <td>1046369710</td>\n",
       "      <td>24868</td>\n",
       "      <td>2003-02-27 18:15:10</td>\n",
       "      <td>959</td>\n",
       "    </tr>\n",
       "    <tr>\n",
       "      <th>984660</th>\n",
       "      <td>5950</td>\n",
       "      <td>3555</td>\n",
       "      <td>2</td>\n",
       "      <td>1046369737</td>\n",
       "      <td>24868</td>\n",
       "      <td>2003-02-27 18:15:37</td>\n",
       "      <td>385</td>\n",
       "    </tr>\n",
       "    <tr>\n",
       "      <th>984733</th>\n",
       "      <td>5950</td>\n",
       "      <td>1262</td>\n",
       "      <td>4</td>\n",
       "      <td>1046369858</td>\n",
       "      <td>24868</td>\n",
       "      <td>2003-02-27 18:17:38</td>\n",
       "      <td>1280</td>\n",
       "    </tr>\n",
       "  </tbody>\n",
       "</table>\n",
       "<p>1233 rows × 7 columns</p>\n",
       "</div>"
      ],
      "text/plain": [
       "        UserId  ItemId  Rating        Time  SessionId            DateTime  \\\n",
       "28281      195     410       2  1044987808        988 2003-02-11 18:23:28   \n",
       "28389      195    2791       3  1044987808        988 2003-02-11 18:23:28   \n",
       "28391      195    2792       2  1044987808        988 2003-02-11 18:23:28   \n",
       "27781      195    3007       4  1044987990        988 2003-02-11 18:26:30   \n",
       "27764      195    1183       3  1044988494        988 2003-02-11 18:34:54   \n",
       "...        ...     ...     ...         ...        ...                 ...   \n",
       "984731    5950    3948       4  1046369637      24868 2003-02-27 18:13:57   \n",
       "984682    5950    3578       4  1046369670      24868 2003-02-27 18:14:30   \n",
       "984475    5950    3793       3  1046369710      24868 2003-02-27 18:15:10   \n",
       "984660    5950    3555       2  1046369737      24868 2003-02-27 18:15:37   \n",
       "984733    5950    1262       4  1046369858      24868 2003-02-27 18:17:38   \n",
       "\n",
       "        item_idx  \n",
       "28281        861  \n",
       "28389        226  \n",
       "28391        526  \n",
       "27781        867  \n",
       "27764        630  \n",
       "...          ...  \n",
       "984731       392  \n",
       "984682       377  \n",
       "984475       959  \n",
       "984660       385  \n",
       "984733      1280  \n",
       "\n",
       "[1233 rows x 7 columns]"
      ]
     },
     "execution_count": 86,
     "metadata": {},
     "output_type": "execute_result"
    }
   ],
   "source": [
    "test"
   ]
  },
  {
   "cell_type": "markdown",
   "metadata": {},
   "source": [
    "데이터 저장 후 data pipeline을 구축해보겠다!"
   ]
  },
  {
   "cell_type": "code",
   "execution_count": 87,
   "metadata": {},
   "outputs": [],
   "source": [
    "save_path = data_path / 'processed'\n",
    "save_path.mkdir(parents=True, exist_ok=True)\n",
    "\n",
    "tr.to_pickle(save_path / 'train.pkl')\n",
    "val.to_pickle(save_path / 'valid.pkl')\n",
    "test.to_pickle(save_path / 'test.pkl')"
   ]
  },
  {
   "cell_type": "markdown",
   "metadata": {},
   "source": [
    "## Step 2. 미니 배치의 구성"
   ]
  },
  {
   "cell_type": "markdown",
   "metadata": {},
   "source": [
    "### SessionDataset"
   ]
  },
  {
   "cell_type": "code",
   "execution_count": 88,
   "metadata": {},
   "outputs": [],
   "source": [
    "class SessionDataset:\n",
    "    \"\"\"Credit to yhs-968/pyGRU4REC.\"\"\"\n",
    "\n",
    "    def __init__(self, data):\n",
    "        self.df = data\n",
    "        self.click_offsets = self.get_click_offsets()\n",
    "        self.session_idx = np.arange(self.df['SessionId'].nunique())  # indexing to SessionId\n",
    "\n",
    "    def get_click_offsets(self):\n",
    "        \"\"\"\n",
    "        Return the indexes of the first click of each session IDs,\n",
    "        \"\"\"\n",
    "        offsets = np.zeros(self.df['SessionId'].nunique() + 1, dtype=np.int32)\n",
    "        offsets[1:] = self.df.groupby('SessionId').size().cumsum()\n",
    "        return offsets"
   ]
  },
  {
   "cell_type": "code",
   "execution_count": 89,
   "metadata": {},
   "outputs": [
    {
     "data": {
      "text/html": [
       "<div>\n",
       "<style scoped>\n",
       "    .dataframe tbody tr th:only-of-type {\n",
       "        vertical-align: middle;\n",
       "    }\n",
       "\n",
       "    .dataframe tbody tr th {\n",
       "        vertical-align: top;\n",
       "    }\n",
       "\n",
       "    .dataframe thead th {\n",
       "        text-align: right;\n",
       "    }\n",
       "</style>\n",
       "<table border=\"1\" class=\"dataframe\">\n",
       "  <thead>\n",
       "    <tr style=\"text-align: right;\">\n",
       "      <th></th>\n",
       "      <th>UserId</th>\n",
       "      <th>ItemId</th>\n",
       "      <th>Rating</th>\n",
       "      <th>Time</th>\n",
       "      <th>SessionId</th>\n",
       "      <th>DateTime</th>\n",
       "      <th>item_idx</th>\n",
       "    </tr>\n",
       "  </thead>\n",
       "  <tbody>\n",
       "    <tr>\n",
       "      <th>5170</th>\n",
       "      <td>36</td>\n",
       "      <td>1387</td>\n",
       "      <td>5</td>\n",
       "      <td>1015904819</td>\n",
       "      <td>86</td>\n",
       "      <td>2002-03-12 03:46:59</td>\n",
       "      <td>0</td>\n",
       "    </tr>\n",
       "    <tr>\n",
       "      <th>5267</th>\n",
       "      <td>36</td>\n",
       "      <td>1201</td>\n",
       "      <td>4</td>\n",
       "      <td>1015904819</td>\n",
       "      <td>86</td>\n",
       "      <td>2002-03-12 03:46:59</td>\n",
       "      <td>1</td>\n",
       "    </tr>\n",
       "    <tr>\n",
       "      <th>5122</th>\n",
       "      <td>36</td>\n",
       "      <td>1291</td>\n",
       "      <td>5</td>\n",
       "      <td>1015904836</td>\n",
       "      <td>86</td>\n",
       "      <td>2002-03-12 03:47:16</td>\n",
       "      <td>2</td>\n",
       "    </tr>\n",
       "    <tr>\n",
       "      <th>5123</th>\n",
       "      <td>36</td>\n",
       "      <td>2167</td>\n",
       "      <td>5</td>\n",
       "      <td>1015904905</td>\n",
       "      <td>86</td>\n",
       "      <td>2002-03-12 03:48:25</td>\n",
       "      <td>3</td>\n",
       "    </tr>\n",
       "    <tr>\n",
       "      <th>5290</th>\n",
       "      <td>36</td>\n",
       "      <td>2951</td>\n",
       "      <td>4</td>\n",
       "      <td>1015904905</td>\n",
       "      <td>86</td>\n",
       "      <td>2002-03-12 03:48:25</td>\n",
       "      <td>4</td>\n",
       "    </tr>\n",
       "    <tr>\n",
       "      <th>5359</th>\n",
       "      <td>36</td>\n",
       "      <td>2115</td>\n",
       "      <td>5</td>\n",
       "      <td>1015904905</td>\n",
       "      <td>86</td>\n",
       "      <td>2002-03-12 03:48:25</td>\n",
       "      <td>5</td>\n",
       "    </tr>\n",
       "    <tr>\n",
       "      <th>5073</th>\n",
       "      <td>36</td>\n",
       "      <td>1912</td>\n",
       "      <td>5</td>\n",
       "      <td>1015904924</td>\n",
       "      <td>86</td>\n",
       "      <td>2002-03-12 03:48:44</td>\n",
       "      <td>6</td>\n",
       "    </tr>\n",
       "    <tr>\n",
       "      <th>5113</th>\n",
       "      <td>36</td>\n",
       "      <td>2662</td>\n",
       "      <td>3</td>\n",
       "      <td>1015904924</td>\n",
       "      <td>86</td>\n",
       "      <td>2002-03-12 03:48:44</td>\n",
       "      <td>7</td>\n",
       "    </tr>\n",
       "    <tr>\n",
       "      <th>5366</th>\n",
       "      <td>36</td>\n",
       "      <td>2985</td>\n",
       "      <td>4</td>\n",
       "      <td>1015904941</td>\n",
       "      <td>86</td>\n",
       "      <td>2002-03-12 03:49:01</td>\n",
       "      <td>8</td>\n",
       "    </tr>\n",
       "    <tr>\n",
       "      <th>5145</th>\n",
       "      <td>36</td>\n",
       "      <td>198</td>\n",
       "      <td>5</td>\n",
       "      <td>1015904988</td>\n",
       "      <td>86</td>\n",
       "      <td>2002-03-12 03:49:48</td>\n",
       "      <td>9</td>\n",
       "    </tr>\n",
       "  </tbody>\n",
       "</table>\n",
       "</div>"
      ],
      "text/plain": [
       "      UserId  ItemId  Rating        Time  SessionId            DateTime  \\\n",
       "5170      36    1387       5  1015904819         86 2002-03-12 03:46:59   \n",
       "5267      36    1201       4  1015904819         86 2002-03-12 03:46:59   \n",
       "5122      36    1291       5  1015904836         86 2002-03-12 03:47:16   \n",
       "5123      36    2167       5  1015904905         86 2002-03-12 03:48:25   \n",
       "5290      36    2951       4  1015904905         86 2002-03-12 03:48:25   \n",
       "5359      36    2115       5  1015904905         86 2002-03-12 03:48:25   \n",
       "5073      36    1912       5  1015904924         86 2002-03-12 03:48:44   \n",
       "5113      36    2662       3  1015904924         86 2002-03-12 03:48:44   \n",
       "5366      36    2985       4  1015904941         86 2002-03-12 03:49:01   \n",
       "5145      36     198       5  1015904988         86 2002-03-12 03:49:48   \n",
       "\n",
       "      item_idx  \n",
       "5170         0  \n",
       "5267         1  \n",
       "5122         2  \n",
       "5123         3  \n",
       "5290         4  \n",
       "5359         5  \n",
       "5073         6  \n",
       "5113         7  \n",
       "5366         8  \n",
       "5145         9  "
      ]
     },
     "execution_count": 89,
     "metadata": {},
     "output_type": "execute_result"
    }
   ],
   "source": [
    "tr_dataset = SessionDataset(tr)\n",
    "tr_dataset.df.head(10)"
   ]
  },
  {
   "cell_type": "code",
   "execution_count": 90,
   "metadata": {},
   "outputs": [
    {
     "data": {
      "text/plain": [
       "array([    0,    15,    17, ..., 13879, 13930, 13989], dtype=int32)"
      ]
     },
     "execution_count": 90,
     "metadata": {},
     "output_type": "execute_result"
    }
   ],
   "source": [
    "tr_dataset.click_offsets"
   ]
  },
  {
   "cell_type": "code",
   "execution_count": 91,
   "metadata": {},
   "outputs": [
    {
     "data": {
      "text/plain": [
       "array([   0,    1,    2, ..., 1179, 1180, 1181])"
      ]
     },
     "execution_count": 91,
     "metadata": {},
     "output_type": "execute_result"
    }
   ],
   "source": [
    "tr_dataset.session_idx"
   ]
  },
  {
   "cell_type": "markdown",
   "metadata": {},
   "source": [
    "### SessionDataLoader"
   ]
  },
  {
   "cell_type": "code",
   "execution_count": 92,
   "metadata": {},
   "outputs": [],
   "source": [
    "class SessionDataLoader:\n",
    "    \"\"\"Credit to yhs-968/pyGRU4REC.\"\"\"\n",
    "\n",
    "    def __init__(self, dataset: SessionDataset, batch_size=50):\n",
    "        self.dataset = dataset\n",
    "        self.batch_size = batch_size\n",
    "\n",
    "    def __iter__(self):\n",
    "        \"\"\" Returns the iterator for producing session-parallel training mini-batches.\n",
    "        Yields:\n",
    "            input (B,):  Item indices that will be encoded as one-hot vectors later.\n",
    "            target (B,): a Variable that stores the target item indices\n",
    "            masks: Numpy array indicating the positions of the sessions to be terminated\n",
    "        \"\"\"\n",
    "\n",
    "        start, end, mask, last_session, finished = self.initialize()  # initialize 메소드에서 확인해주세요.\n",
    "        \"\"\"\n",
    "        start : Index Where Session Start\n",
    "        end : Index Where Session End\n",
    "        mask : indicator for the sessions to be terminated\n",
    "        \"\"\"\n",
    "\n",
    "        while not finished:\n",
    "            min_len = (end - start).min() - 1  # Shortest Length Among Sessions\n",
    "            for i in range(min_len):\n",
    "                # Build inputs & targets\n",
    "                inp = self.dataset.df['item_idx'].values[start + i]\n",
    "                target = self.dataset.df['item_idx'].values[start + i + 1]\n",
    "                yield inp, target, mask\n",
    "\n",
    "            start, end, mask, last_session, finished = self.update_status(start, end, min_len, last_session, finished)\n",
    "\n",
    "    def initialize(self):\n",
    "        first_iters = np.arange(self.batch_size)    # 첫 배치에 사용할 세션 Index를 가져옵니다.\n",
    "        last_session = self.batch_size - 1    # 마지막으로 다루고 있는 세션 Index를 저장해둡니다.\n",
    "        start = self.dataset.click_offsets[self.dataset.session_idx[first_iters]]       # data 상에서 session이 시작된 위치를 가져옵니다.\n",
    "        end = self.dataset.click_offsets[self.dataset.session_idx[first_iters] + 1]  # session이 끝난 위치 바로 다음 위치를 가져옵니다.\n",
    "        mask = np.array([])   # session의 모든 아이템을 다 돌은 경우 mask에 추가해줄 것입니다.\n",
    "        finished = False         # data를 전부 돌았는지 기록하기 위한 변수입니다.\n",
    "        return start, end, mask, last_session, finished\n",
    "\n",
    "    def update_status(self, start: np.ndarray, end: np.ndarray, min_len: int, last_session: int, finished: bool):  \n",
    "        # 다음 배치 데이터를 생성하기 위해 상태를 update합니다.\n",
    "        \n",
    "        start += min_len   # __iter__에서 min_len 만큼 for문을 돌았으므로 start를 min_len 만큼 더해줍니다.\n",
    "        mask = np.arange(self.batch_size)[(end - start) == 1]  \n",
    "        # end는 다음 세션이 시작되는 위치인데 start와 한 칸 차이난다는 것은 session이 끝났다는 뜻입니다. mask에 기록해줍니다.\n",
    "\n",
    "        for i, idx in enumerate(mask, start=1):  # mask에 추가된 세션 개수만큼 새로운 세션을 돌것입니다.\n",
    "            new_session = last_session + i  \n",
    "            if new_session > self.dataset.session_idx[-1]:  # 만약 새로운 세션이 마지막 세션 index보다 크다면 모든 학습데이터를 돈 것입니다.\n",
    "                finished = True\n",
    "                break\n",
    "            # update the next starting/ending point\n",
    "            start[idx] = self.dataset.click_offsets[self.dataset.session_idx[new_session]]     # 종료된 세션 대신 새로운 세션의 시작점을 기록합니다.\n",
    "            end[idx] = self.dataset.click_offsets[self.dataset.session_idx[new_session] + 1]\n",
    "\n",
    "        last_session += len(mask)  # 마지막 세션의 위치를 기록해둡니다.\n",
    "        return start, end, mask, last_session, finished"
   ]
  },
  {
   "cell_type": "code",
   "execution_count": 94,
   "metadata": {},
   "outputs": [
    {
     "data": {
      "text/html": [
       "<div>\n",
       "<style scoped>\n",
       "    .dataframe tbody tr th:only-of-type {\n",
       "        vertical-align: middle;\n",
       "    }\n",
       "\n",
       "    .dataframe tbody tr th {\n",
       "        vertical-align: top;\n",
       "    }\n",
       "\n",
       "    .dataframe thead th {\n",
       "        text-align: right;\n",
       "    }\n",
       "</style>\n",
       "<table border=\"1\" class=\"dataframe\">\n",
       "  <thead>\n",
       "    <tr style=\"text-align: right;\">\n",
       "      <th></th>\n",
       "      <th>UserId</th>\n",
       "      <th>ItemId</th>\n",
       "      <th>Rating</th>\n",
       "      <th>Time</th>\n",
       "      <th>SessionId</th>\n",
       "      <th>DateTime</th>\n",
       "      <th>item_idx</th>\n",
       "    </tr>\n",
       "  </thead>\n",
       "  <tbody>\n",
       "    <tr>\n",
       "      <th>5170</th>\n",
       "      <td>36</td>\n",
       "      <td>1387</td>\n",
       "      <td>5</td>\n",
       "      <td>1015904819</td>\n",
       "      <td>86</td>\n",
       "      <td>2002-03-12 03:46:59</td>\n",
       "      <td>0</td>\n",
       "    </tr>\n",
       "    <tr>\n",
       "      <th>5267</th>\n",
       "      <td>36</td>\n",
       "      <td>1201</td>\n",
       "      <td>4</td>\n",
       "      <td>1015904819</td>\n",
       "      <td>86</td>\n",
       "      <td>2002-03-12 03:46:59</td>\n",
       "      <td>1</td>\n",
       "    </tr>\n",
       "    <tr>\n",
       "      <th>5122</th>\n",
       "      <td>36</td>\n",
       "      <td>1291</td>\n",
       "      <td>5</td>\n",
       "      <td>1015904836</td>\n",
       "      <td>86</td>\n",
       "      <td>2002-03-12 03:47:16</td>\n",
       "      <td>2</td>\n",
       "    </tr>\n",
       "    <tr>\n",
       "      <th>5123</th>\n",
       "      <td>36</td>\n",
       "      <td>2167</td>\n",
       "      <td>5</td>\n",
       "      <td>1015904905</td>\n",
       "      <td>86</td>\n",
       "      <td>2002-03-12 03:48:25</td>\n",
       "      <td>3</td>\n",
       "    </tr>\n",
       "    <tr>\n",
       "      <th>5290</th>\n",
       "      <td>36</td>\n",
       "      <td>2951</td>\n",
       "      <td>4</td>\n",
       "      <td>1015904905</td>\n",
       "      <td>86</td>\n",
       "      <td>2002-03-12 03:48:25</td>\n",
       "      <td>4</td>\n",
       "    </tr>\n",
       "    <tr>\n",
       "      <th>5359</th>\n",
       "      <td>36</td>\n",
       "      <td>2115</td>\n",
       "      <td>5</td>\n",
       "      <td>1015904905</td>\n",
       "      <td>86</td>\n",
       "      <td>2002-03-12 03:48:25</td>\n",
       "      <td>5</td>\n",
       "    </tr>\n",
       "    <tr>\n",
       "      <th>5073</th>\n",
       "      <td>36</td>\n",
       "      <td>1912</td>\n",
       "      <td>5</td>\n",
       "      <td>1015904924</td>\n",
       "      <td>86</td>\n",
       "      <td>2002-03-12 03:48:44</td>\n",
       "      <td>6</td>\n",
       "    </tr>\n",
       "    <tr>\n",
       "      <th>5113</th>\n",
       "      <td>36</td>\n",
       "      <td>2662</td>\n",
       "      <td>3</td>\n",
       "      <td>1015904924</td>\n",
       "      <td>86</td>\n",
       "      <td>2002-03-12 03:48:44</td>\n",
       "      <td>7</td>\n",
       "    </tr>\n",
       "    <tr>\n",
       "      <th>5366</th>\n",
       "      <td>36</td>\n",
       "      <td>2985</td>\n",
       "      <td>4</td>\n",
       "      <td>1015904941</td>\n",
       "      <td>86</td>\n",
       "      <td>2002-03-12 03:49:01</td>\n",
       "      <td>8</td>\n",
       "    </tr>\n",
       "    <tr>\n",
       "      <th>5145</th>\n",
       "      <td>36</td>\n",
       "      <td>198</td>\n",
       "      <td>5</td>\n",
       "      <td>1015904988</td>\n",
       "      <td>86</td>\n",
       "      <td>2002-03-12 03:49:48</td>\n",
       "      <td>9</td>\n",
       "    </tr>\n",
       "    <tr>\n",
       "      <th>5296</th>\n",
       "      <td>36</td>\n",
       "      <td>1147</td>\n",
       "      <td>4</td>\n",
       "      <td>1015905111</td>\n",
       "      <td>86</td>\n",
       "      <td>2002-03-12 03:51:51</td>\n",
       "      <td>10</td>\n",
       "    </tr>\n",
       "    <tr>\n",
       "      <th>5034</th>\n",
       "      <td>36</td>\n",
       "      <td>581</td>\n",
       "      <td>4</td>\n",
       "      <td>1015905127</td>\n",
       "      <td>86</td>\n",
       "      <td>2002-03-12 03:52:07</td>\n",
       "      <td>11</td>\n",
       "    </tr>\n",
       "    <tr>\n",
       "      <th>5060</th>\n",
       "      <td>36</td>\n",
       "      <td>1191</td>\n",
       "      <td>4</td>\n",
       "      <td>1015905249</td>\n",
       "      <td>86</td>\n",
       "      <td>2002-03-12 03:54:09</td>\n",
       "      <td>12</td>\n",
       "    </tr>\n",
       "    <tr>\n",
       "      <th>5025</th>\n",
       "      <td>36</td>\n",
       "      <td>3359</td>\n",
       "      <td>5</td>\n",
       "      <td>1015905485</td>\n",
       "      <td>86</td>\n",
       "      <td>2002-03-12 03:58:05</td>\n",
       "      <td>13</td>\n",
       "    </tr>\n",
       "    <tr>\n",
       "      <th>5325</th>\n",
       "      <td>36</td>\n",
       "      <td>553</td>\n",
       "      <td>4</td>\n",
       "      <td>1015905626</td>\n",
       "      <td>86</td>\n",
       "      <td>2002-03-12 04:00:26</td>\n",
       "      <td>14</td>\n",
       "    </tr>\n",
       "  </tbody>\n",
       "</table>\n",
       "</div>"
      ],
      "text/plain": [
       "      UserId  ItemId  Rating        Time  SessionId            DateTime  \\\n",
       "5170      36    1387       5  1015904819         86 2002-03-12 03:46:59   \n",
       "5267      36    1201       4  1015904819         86 2002-03-12 03:46:59   \n",
       "5122      36    1291       5  1015904836         86 2002-03-12 03:47:16   \n",
       "5123      36    2167       5  1015904905         86 2002-03-12 03:48:25   \n",
       "5290      36    2951       4  1015904905         86 2002-03-12 03:48:25   \n",
       "5359      36    2115       5  1015904905         86 2002-03-12 03:48:25   \n",
       "5073      36    1912       5  1015904924         86 2002-03-12 03:48:44   \n",
       "5113      36    2662       3  1015904924         86 2002-03-12 03:48:44   \n",
       "5366      36    2985       4  1015904941         86 2002-03-12 03:49:01   \n",
       "5145      36     198       5  1015904988         86 2002-03-12 03:49:48   \n",
       "5296      36    1147       4  1015905111         86 2002-03-12 03:51:51   \n",
       "5034      36     581       4  1015905127         86 2002-03-12 03:52:07   \n",
       "5060      36    1191       4  1015905249         86 2002-03-12 03:54:09   \n",
       "5025      36    3359       5  1015905485         86 2002-03-12 03:58:05   \n",
       "5325      36     553       4  1015905626         86 2002-03-12 04:00:26   \n",
       "\n",
       "      item_idx  \n",
       "5170         0  \n",
       "5267         1  \n",
       "5122         2  \n",
       "5123         3  \n",
       "5290         4  \n",
       "5359         5  \n",
       "5073         6  \n",
       "5113         7  \n",
       "5366         8  \n",
       "5145         9  \n",
       "5296        10  \n",
       "5034        11  \n",
       "5060        12  \n",
       "5025        13  \n",
       "5325        14  "
      ]
     },
     "execution_count": 94,
     "metadata": {},
     "output_type": "execute_result"
    }
   ],
   "source": [
    "tr_data_loader = SessionDataLoader(tr_dataset, batch_size=4)\n",
    "tr_dataset.df.head(15)"
   ]
  },
  {
   "cell_type": "code",
   "execution_count": 95,
   "metadata": {},
   "outputs": [],
   "source": [
    "iter_ex = iter(tr_data_loader)"
   ]
  },
  {
   "cell_type": "code",
   "execution_count": 96,
   "metadata": {},
   "outputs": [
    {
     "name": "stdout",
     "output_type": "stream",
     "text": [
      "Model Input Item Idx are : [ 0 15 17 30]\n",
      "Label Item Idx are :       [ 1 16 18 31]\n",
      "Previous Masked Input Idx are []\n"
     ]
    }
   ],
   "source": [
    "inputs, labels, mask =  next(iter_ex)\n",
    "print(f'Model Input Item Idx are : {inputs}')\n",
    "print(f'Label Item Idx are : {\"\":5} {labels}')\n",
    "print(f'Previous Masked Input Idx are {mask}')"
   ]
  },
  {
   "cell_type": "markdown",
   "metadata": {},
   "source": [
    "## Step 3. 모델 구성"
   ]
  },
  {
   "cell_type": "markdown",
   "metadata": {},
   "source": [
    "### Evaluation Metric\n",
    "여기선 recall@k와 MRR을 사용"
   ]
  },
  {
   "cell_type": "code",
   "execution_count": 97,
   "metadata": {},
   "outputs": [],
   "source": [
    "def mrr_k(pred, truth: int, k: int):\n",
    "    indexing = np.where(pred[:k] == truth)[0]\n",
    "    if len(indexing) > 0:\n",
    "        return 1 / (indexing[0] + 1)\n",
    "    else:\n",
    "        return 0\n",
    "\n",
    "\n",
    "def recall_k(pred, truth: int, k: int) -> int:\n",
    "    answer = truth in pred[:k]\n",
    "    return int(answer)"
   ]
  },
  {
   "cell_type": "markdown",
   "metadata": {},
   "source": [
    "### Model Architecture"
   ]
  },
  {
   "cell_type": "code",
   "execution_count": 98,
   "metadata": {},
   "outputs": [],
   "source": [
    "import numpy as np\n",
    "import tensorflow as tf\n",
    "from tensorflow.keras.layers import Input, Dense, Dropout, GRU\n",
    "from tensorflow.keras.losses import categorical_crossentropy\n",
    "from tensorflow.keras.models import Model\n",
    "from tensorflow.keras.optimizers import Adam\n",
    "from tensorflow.keras.utils import to_categorical\n",
    "from tqdm import tqdm"
   ]
  },
  {
   "cell_type": "code",
   "execution_count": 101,
   "metadata": {},
   "outputs": [],
   "source": [
    "def create_model(args):\n",
    "    inputs = Input(batch_shape=(args.batch_size, 1, args.num_items))\n",
    "    gru, _ = GRU(args.hsz, stateful=True, return_state=True, name='GRU')(inputs)\n",
    "    dropout = Dropout(args.drop_rate)(gru)\n",
    "    predictions = Dense(args.num_items, activation='softmax')(dropout)\n",
    "    model = Model(inputs=inputs, outputs=[predictions])\n",
    "    model.compile(loss=categorical_crossentropy, optimizer=Adam(args.lr), metrics=['accuracy'])\n",
    "    model.summary()\n",
    "    return model"
   ]
  },
  {
   "cell_type": "markdown",
   "metadata": {},
   "source": [
    " hyper-parameter를 class형식으로 관리"
   ]
  },
  {
   "cell_type": "code",
   "execution_count": 111,
   "metadata": {},
   "outputs": [],
   "source": [
    "class Args:\n",
    "    def __init__(self, tr, val, test, batch_size, hsz, drop_rate, lr, epochs, k):\n",
    "        self.tr = tr\n",
    "        self.val = val\n",
    "        self.test = test\n",
    "        self.num_items = tr['ItemId'].nunique()\n",
    "        self.num_sessions = tr['SessionId'].nunique()\n",
    "        self.batch_size = batch_size\n",
    "        self.hsz = hsz\n",
    "        self.drop_rate = drop_rate\n",
    "        self.lr = lr\n",
    "        self.epochs = epochs\n",
    "        self.k = k\n",
    "\n",
    "args = Args(tr, val, test, batch_size=64, hsz=50, drop_rate=0.1, lr=0.001, epochs=20, k=20)"
   ]
  },
  {
   "cell_type": "code",
   "execution_count": 112,
   "metadata": {},
   "outputs": [
    {
     "name": "stdout",
     "output_type": "stream",
     "text": [
      "Model: \"model_2\"\n",
      "_________________________________________________________________\n",
      "Layer (type)                 Output Shape              Param #   \n",
      "=================================================================\n",
      "input_3 (InputLayer)         [(64, 1, 1414)]           0         \n",
      "_________________________________________________________________\n",
      "GRU (GRU)                    [(64, 50), (64, 50)]      219900    \n",
      "_________________________________________________________________\n",
      "dropout_2 (Dropout)          (64, 50)                  0         \n",
      "_________________________________________________________________\n",
      "dense_2 (Dense)              (64, 1414)                72114     \n",
      "=================================================================\n",
      "Total params: 292,014\n",
      "Trainable params: 292,014\n",
      "Non-trainable params: 0\n",
      "_________________________________________________________________\n"
     ]
    }
   ],
   "source": [
    "model = create_model(args)"
   ]
  },
  {
   "cell_type": "markdown",
   "metadata": {},
   "source": [
    "## Step 4. 모델 학습"
   ]
  },
  {
   "cell_type": "code",
   "execution_count": 113,
   "metadata": {},
   "outputs": [],
   "source": [
    "# train 셋으로 학습하면서 valid 셋으로 검증합니다.\n",
    "def train_model(model, args):\n",
    "    train_dataset = SessionDataset(args.tr)\n",
    "    train_loader = SessionDataLoader(train_dataset, batch_size=args.batch_size)\n",
    "\n",
    "    for epoch in range(1, args.epochs + 1):\n",
    "        total_step = len(args.tr) - args.tr['SessionId'].nunique()\n",
    "        tr_loader = tqdm(train_loader, total=total_step // args.batch_size, desc='Train', mininterval=1)\n",
    "        for feat, target, mask in tr_loader:\n",
    "            reset_hidden_states(model, mask)  # 종료된 session은 hidden_state를 초기화합니다. 아래 메서드에서 확인해주세요.\n",
    "\n",
    "            input_ohe = to_categorical(feat, num_classes=args.num_items)\n",
    "            input_ohe = np.expand_dims(input_ohe, axis=1)\n",
    "            target_ohe = to_categorical(target, num_classes=args.num_items)\n",
    "\n",
    "            result = model.train_on_batch(input_ohe, target_ohe)\n",
    "            tr_loader.set_postfix(train_loss=result[0], accuracy = result[1])\n",
    "\n",
    "        val_recall, val_mrr = get_metrics(args.val, model, args, args.k)  # valid set에 대해 검증합니다.\n",
    "\n",
    "        print(f\"\\t - Recall@{args.k} epoch {epoch}: {val_recall:3f}\")\n",
    "        print(f\"\\t - MRR@{args.k}    epoch {epoch}: {val_mrr:3f}\\n\")\n",
    "\n",
    "\n",
    "def reset_hidden_states(model, mask):\n",
    "    gru_layer = model.get_layer(name='GRU')  # model에서 gru layer를 가져옵니다.\n",
    "    hidden_states = gru_layer.states[0].numpy()  # gru_layer의 parameter를 가져옵니다.\n",
    "    for elt in mask:  # mask된 인덱스 즉, 종료된 세션의 인덱스를 돌면서\n",
    "        hidden_states[elt, :] = 0  # parameter를 초기화 합니다.\n",
    "    gru_layer.reset_states(states=hidden_states)\n",
    "\n",
    "\n",
    "def get_metrics(data, model, args, k: int):  # valid셋과 test셋을 평가하는 코드입니다. \n",
    "                                             # train과 거의 같지만 mrr, recall을 구하는 라인이 있습니다.\n",
    "    dataset = SessionDataset(data)\n",
    "    loader = SessionDataLoader(dataset, batch_size=args.batch_size)\n",
    "    recall_list, mrr_list = [], []\n",
    "\n",
    "    total_step = len(data) - data['SessionId'].nunique()\n",
    "    for inputs, label, mask in tqdm(loader, total=total_step // args.batch_size, desc='Evaluation', mininterval=1):\n",
    "        reset_hidden_states(model, mask)\n",
    "        input_ohe = to_categorical(inputs, num_classes=args.num_items)\n",
    "        input_ohe = np.expand_dims(input_ohe, axis=1)\n",
    "\n",
    "        pred = model.predict(input_ohe, batch_size=args.batch_size)\n",
    "        pred_arg = tf.argsort(pred, direction='DESCENDING')  # softmax 값이 큰 순서대로 sorting 합니다.\n",
    "\n",
    "        length = len(inputs)\n",
    "        recall_list.extend([recall_k(pred_arg[i], label[i], k) for i in range(length)])\n",
    "        mrr_list.extend([mrr_k(pred_arg[i], label[i], k) for i in range(length)])\n",
    "\n",
    "    recall, mrr = np.mean(recall_list), np.mean(mrr_list)\n",
    "    return recall, mrr"
   ]
  },
  {
   "cell_type": "code",
   "execution_count": 114,
   "metadata": {
    "scrolled": true
   },
   "outputs": [
    {
     "name": "stderr",
     "output_type": "stream",
     "text": [
      "Train:  83%|████████▎ | 166/200 [00:02<00:00, 56.50it/s, accuracy=0, train_loss=7.2]      \n",
      "Evaluation:  20%|██        | 4/20 [00:01<00:07,  2.01it/s]\n",
      "Train:   0%|          | 0/200 [00:00<?, ?it/s, accuracy=0, train_loss=7.12]     "
     ]
    },
    {
     "name": "stdout",
     "output_type": "stream",
     "text": [
      "\t - Recall@20 epoch 1: 0.058594\n",
      "\t - MRR@20    epoch 1: 0.013445\n",
      "\n"
     ]
    },
    {
     "name": "stderr",
     "output_type": "stream",
     "text": [
      "Train:  83%|████████▎ | 166/200 [00:01<00:00, 112.94it/s, accuracy=0, train_loss=7.14]     \n",
      "Evaluation:  20%|██        | 4/20 [00:01<00:06,  2.41it/s]\n",
      "Train:   0%|          | 0/200 [00:00<?, ?it/s, accuracy=0, train_loss=7.12]     "
     ]
    },
    {
     "name": "stdout",
     "output_type": "stream",
     "text": [
      "\t - Recall@20 epoch 2: 0.070312\n",
      "\t - MRR@20    epoch 2: 0.010790\n",
      "\n"
     ]
    },
    {
     "name": "stderr",
     "output_type": "stream",
     "text": [
      "Train:  83%|████████▎ | 166/200 [00:01<00:00, 111.06it/s, accuracy=0, train_loss=7.06]     \n",
      "Evaluation:  20%|██        | 4/20 [00:01<00:06,  2.42it/s]\n",
      "Train:   0%|          | 0/200 [00:00<?, ?it/s, accuracy=0, train_loss=6.98]     "
     ]
    },
    {
     "name": "stdout",
     "output_type": "stream",
     "text": [
      "\t - Recall@20 epoch 3: 0.035156\n",
      "\t - MRR@20    epoch 3: 0.009119\n",
      "\n"
     ]
    },
    {
     "name": "stderr",
     "output_type": "stream",
     "text": [
      "Train:  83%|████████▎ | 166/200 [00:01<00:00, 113.03it/s, accuracy=0, train_loss=7.07]     \n",
      "Evaluation:  20%|██        | 4/20 [00:01<00:06,  2.41it/s]\n",
      "Train:   0%|          | 0/200 [00:00<?, ?it/s, accuracy=0, train_loss=7.02]     "
     ]
    },
    {
     "name": "stdout",
     "output_type": "stream",
     "text": [
      "\t - Recall@20 epoch 4: 0.046875\n",
      "\t - MRR@20    epoch 4: 0.008182\n",
      "\n"
     ]
    },
    {
     "name": "stderr",
     "output_type": "stream",
     "text": [
      "Train:  83%|████████▎ | 166/200 [00:01<00:00, 109.68it/s, accuracy=0, train_loss=6.95]     \n",
      "Evaluation:  20%|██        | 4/20 [00:01<00:06,  2.44it/s]\n",
      "Train:   0%|          | 0/200 [00:00<?, ?it/s, accuracy=0, train_loss=6.92]     "
     ]
    },
    {
     "name": "stdout",
     "output_type": "stream",
     "text": [
      "\t - Recall@20 epoch 5: 0.058594\n",
      "\t - MRR@20    epoch 5: 0.010986\n",
      "\n"
     ]
    },
    {
     "name": "stderr",
     "output_type": "stream",
     "text": [
      "Train:  83%|████████▎ | 166/200 [00:01<00:00, 113.98it/s, accuracy=0, train_loss=6.95]     \n",
      "Evaluation:  20%|██        | 4/20 [00:01<00:06,  2.42it/s]\n",
      "Train:   0%|          | 0/200 [00:00<?, ?it/s, accuracy=0, train_loss=6.85]     "
     ]
    },
    {
     "name": "stdout",
     "output_type": "stream",
     "text": [
      "\t - Recall@20 epoch 6: 0.042969\n",
      "\t - MRR@20    epoch 6: 0.008686\n",
      "\n"
     ]
    },
    {
     "name": "stderr",
     "output_type": "stream",
     "text": [
      "Train:  83%|████████▎ | 166/200 [00:01<00:00, 113.14it/s, accuracy=0.0156, train_loss=6.87]\n",
      "Evaluation:  20%|██        | 4/20 [00:01<00:06,  2.38it/s]\n",
      "Train:   0%|          | 0/200 [00:00<?, ?it/s, accuracy=0, train_loss=6.81]     "
     ]
    },
    {
     "name": "stdout",
     "output_type": "stream",
     "text": [
      "\t - Recall@20 epoch 7: 0.035156\n",
      "\t - MRR@20    epoch 7: 0.008451\n",
      "\n"
     ]
    },
    {
     "name": "stderr",
     "output_type": "stream",
     "text": [
      "Train:  83%|████████▎ | 166/200 [00:01<00:00, 112.35it/s, accuracy=0, train_loss=6.8]      \n",
      "Evaluation:  20%|██        | 4/20 [00:01<00:06,  2.46it/s]\n",
      "Train:   0%|          | 0/200 [00:00<?, ?it/s, accuracy=0.0156, train_loss=6.92]"
     ]
    },
    {
     "name": "stdout",
     "output_type": "stream",
     "text": [
      "\t - Recall@20 epoch 8: 0.062500\n",
      "\t - MRR@20    epoch 8: 0.012857\n",
      "\n"
     ]
    },
    {
     "name": "stderr",
     "output_type": "stream",
     "text": [
      "Train:  83%|████████▎ | 166/200 [00:01<00:00, 112.11it/s, accuracy=0, train_loss=6.68]     \n",
      "Evaluation:  20%|██        | 4/20 [00:01<00:06,  2.47it/s]\n",
      "Train:   0%|          | 0/200 [00:00<?, ?it/s, accuracy=0, train_loss=6.75]     "
     ]
    },
    {
     "name": "stdout",
     "output_type": "stream",
     "text": [
      "\t - Recall@20 epoch 9: 0.074219\n",
      "\t - MRR@20    epoch 9: 0.018361\n",
      "\n"
     ]
    },
    {
     "name": "stderr",
     "output_type": "stream",
     "text": [
      "Train:  83%|████████▎ | 166/200 [00:01<00:00, 102.87it/s, accuracy=0, train_loss=6.6]      \n",
      "Evaluation:  20%|██        | 4/20 [00:01<00:06,  2.48it/s]\n",
      "Train:   0%|          | 0/200 [00:00<?, ?it/s, accuracy=0, train_loss=6.7]      "
     ]
    },
    {
     "name": "stdout",
     "output_type": "stream",
     "text": [
      "\t - Recall@20 epoch 10: 0.070312\n",
      "\t - MRR@20    epoch 10: 0.019305\n",
      "\n"
     ]
    },
    {
     "name": "stderr",
     "output_type": "stream",
     "text": [
      "Train:  83%|████████▎ | 166/200 [00:01<00:00, 104.18it/s, accuracy=0.0156, train_loss=6.49]\n",
      "Evaluation:  20%|██        | 4/20 [00:01<00:06,  2.45it/s]\n",
      "Train:   0%|          | 0/200 [00:00<?, ?it/s, accuracy=0, train_loss=6.66]     "
     ]
    },
    {
     "name": "stdout",
     "output_type": "stream",
     "text": [
      "\t - Recall@20 epoch 11: 0.082031\n",
      "\t - MRR@20    epoch 11: 0.021334\n",
      "\n"
     ]
    },
    {
     "name": "stderr",
     "output_type": "stream",
     "text": [
      "Train:  83%|████████▎ | 166/200 [00:01<00:00, 103.79it/s, accuracy=0.0312, train_loss=6.37]\n",
      "Evaluation:  20%|██        | 4/20 [00:01<00:07,  2.17it/s]\n",
      "Train:   0%|          | 0/200 [00:00<?, ?it/s, accuracy=0.0156, train_loss=6.61]"
     ]
    },
    {
     "name": "stdout",
     "output_type": "stream",
     "text": [
      "\t - Recall@20 epoch 12: 0.082031\n",
      "\t - MRR@20    epoch 12: 0.027206\n",
      "\n"
     ]
    },
    {
     "name": "stderr",
     "output_type": "stream",
     "text": [
      "Train:  83%|████████▎ | 166/200 [00:01<00:00, 107.08it/s, accuracy=0.0312, train_loss=6.25]\n",
      "Evaluation:  20%|██        | 4/20 [00:01<00:06,  2.48it/s]\n",
      "Train:   0%|          | 0/200 [00:00<?, ?it/s, accuracy=0.0156, train_loss=6.47]"
     ]
    },
    {
     "name": "stdout",
     "output_type": "stream",
     "text": [
      "\t - Recall@20 epoch 13: 0.078125\n",
      "\t - MRR@20    epoch 13: 0.035186\n",
      "\n"
     ]
    },
    {
     "name": "stderr",
     "output_type": "stream",
     "text": [
      "Train:  83%|████████▎ | 166/200 [00:01<00:00, 104.74it/s, accuracy=0.0625, train_loss=6.13]\n",
      "Evaluation:  20%|██        | 4/20 [00:01<00:06,  2.43it/s]\n",
      "Train:   0%|          | 0/200 [00:00<?, ?it/s, accuracy=0.0312, train_loss=6.29]"
     ]
    },
    {
     "name": "stdout",
     "output_type": "stream",
     "text": [
      "\t - Recall@20 epoch 14: 0.074219\n",
      "\t - MRR@20    epoch 14: 0.039003\n",
      "\n"
     ]
    },
    {
     "name": "stderr",
     "output_type": "stream",
     "text": [
      "Train:  83%|████████▎ | 166/200 [00:01<00:00, 112.56it/s, accuracy=0.0469, train_loss=6]   \n",
      "Evaluation:  20%|██        | 4/20 [00:01<00:06,  2.50it/s]\n",
      "Train:   0%|          | 0/200 [00:00<?, ?it/s, accuracy=0.0312, train_loss=6.2] "
     ]
    },
    {
     "name": "stdout",
     "output_type": "stream",
     "text": [
      "\t - Recall@20 epoch 15: 0.074219\n",
      "\t - MRR@20    epoch 15: 0.042786\n",
      "\n"
     ]
    },
    {
     "name": "stderr",
     "output_type": "stream",
     "text": [
      "Train:  83%|████████▎ | 166/200 [00:01<00:00, 112.65it/s, accuracy=0.0625, train_loss=5.87]\n",
      "Evaluation:  20%|██        | 4/20 [00:01<00:06,  2.49it/s]\n",
      "Train:   0%|          | 0/200 [00:00<?, ?it/s, accuracy=0.0781, train_loss=6.03]"
     ]
    },
    {
     "name": "stdout",
     "output_type": "stream",
     "text": [
      "\t - Recall@20 epoch 16: 0.082031\n",
      "\t - MRR@20    epoch 16: 0.044663\n",
      "\n"
     ]
    },
    {
     "name": "stderr",
     "output_type": "stream",
     "text": [
      "Train:  83%|████████▎ | 166/200 [00:01<00:00, 111.19it/s, accuracy=0.125, train_loss=5.71] \n",
      "Evaluation:  20%|██        | 4/20 [00:01<00:06,  2.35it/s]\n",
      "Train:   0%|          | 0/200 [00:00<?, ?it/s, accuracy=0.0625, train_loss=5.99]"
     ]
    },
    {
     "name": "stdout",
     "output_type": "stream",
     "text": [
      "\t - Recall@20 epoch 17: 0.089844\n",
      "\t - MRR@20    epoch 17: 0.044783\n",
      "\n"
     ]
    },
    {
     "name": "stderr",
     "output_type": "stream",
     "text": [
      "Train:  83%|████████▎ | 166/200 [00:01<00:00, 111.78it/s, accuracy=0.141, train_loss=5.57] \n",
      "Evaluation:  20%|██        | 4/20 [00:01<00:06,  2.47it/s]\n",
      "Train:   0%|          | 0/200 [00:00<?, ?it/s, accuracy=0.0469, train_loss=5.73]"
     ]
    },
    {
     "name": "stdout",
     "output_type": "stream",
     "text": [
      "\t - Recall@20 epoch 18: 0.089844\n",
      "\t - MRR@20    epoch 18: 0.043680\n",
      "\n"
     ]
    },
    {
     "name": "stderr",
     "output_type": "stream",
     "text": [
      "Train:  83%|████████▎ | 166/200 [00:01<00:00, 113.00it/s, accuracy=0.125, train_loss=5.43] \n",
      "Evaluation:  20%|██        | 4/20 [00:01<00:06,  2.58it/s]\n",
      "Train:   0%|          | 0/200 [00:00<?, ?it/s, accuracy=0.172, train_loss=5.57] "
     ]
    },
    {
     "name": "stdout",
     "output_type": "stream",
     "text": [
      "\t - Recall@20 epoch 19: 0.101562\n",
      "\t - MRR@20    epoch 19: 0.043408\n",
      "\n"
     ]
    },
    {
     "name": "stderr",
     "output_type": "stream",
     "text": [
      "Train:  83%|████████▎ | 166/200 [00:01<00:00, 112.71it/s, accuracy=0.141, train_loss=5.25] \n",
      "Evaluation:  20%|██        | 4/20 [00:01<00:06,  2.54it/s]"
     ]
    },
    {
     "name": "stdout",
     "output_type": "stream",
     "text": [
      "\t - Recall@20 epoch 20: 0.101562\n",
      "\t - MRR@20    epoch 20: 0.043957\n",
      "\n",
      "time : 64.89147686958313\n"
     ]
    },
    {
     "name": "stderr",
     "output_type": "stream",
     "text": [
      "\n"
     ]
    }
   ],
   "source": [
    "import time\n",
    "start = time.time()\n",
    "\n",
    "# 학습 시간이 다소 오래 소요됩니다. (예상시간 1시간)\n",
    "train_model(model, args)\n",
    "\n",
    "\n",
    "print(\"time :\", time.time() - start)  # 현재시각 - 시작시간 = 실행 시간"
   ]
  },
  {
   "cell_type": "markdown",
   "metadata": {},
   "source": [
    "## Step 5. 모델 테스트\n",
    "미리 구성한 테스트셋을 바탕으로 Recall, MRR 을 확인해 봅니다."
   ]
  },
  {
   "cell_type": "code",
   "execution_count": 115,
   "metadata": {},
   "outputs": [
    {
     "name": "stderr",
     "output_type": "stream",
     "text": [
      "Evaluation:  12%|█▏        | 2/17 [00:00<00:06,  2.44it/s]"
     ]
    },
    {
     "name": "stdout",
     "output_type": "stream",
     "text": [
      "\t - Recall@20: 0.039062\n",
      "\t - MRR@20: 0.013897\n",
      "\n"
     ]
    },
    {
     "name": "stderr",
     "output_type": "stream",
     "text": [
      "\n"
     ]
    }
   ],
   "source": [
    "def test_model(model, args, test):\n",
    "    test_recall, test_mrr = get_metrics(test, model, args, 20)\n",
    "    print(f\"\\t - Recall@{args.k}: {test_recall:3f}\")\n",
    "    print(f\"\\t - MRR@{args.k}: {test_mrr:3f}\\n\")\n",
    "\n",
    "test_model(model, args, test)"
   ]
  },
  {
   "cell_type": "markdown",
   "metadata": {},
   "source": [
    "## 세션정의, 모델구조, 하이퍼파라미터 등을 변경해서 실험"
   ]
  },
  {
   "cell_type": "markdown",
   "metadata": {},
   "source": [
    "## 1. 세션, 하이퍼파라미터 변경\n",
    " 기존 : least_click=5, 3년치데이터중 1년치만 사용"
   ]
  },
  {
   "cell_type": "markdown",
   "metadata": {},
   "source": [
    "###  1-1. least_click = 20으로 변경, batch_size =32"
   ]
  },
  {
   "cell_type": "code",
   "execution_count": 120,
   "metadata": {},
   "outputs": [
    {
     "data": {
      "text/html": [
       "<div>\n",
       "<style scoped>\n",
       "    .dataframe tbody tr th:only-of-type {\n",
       "        vertical-align: middle;\n",
       "    }\n",
       "\n",
       "    .dataframe tbody tr th {\n",
       "        vertical-align: top;\n",
       "    }\n",
       "\n",
       "    .dataframe thead th {\n",
       "        text-align: right;\n",
       "    }\n",
       "</style>\n",
       "<table border=\"1\" class=\"dataframe\">\n",
       "  <thead>\n",
       "    <tr style=\"text-align: right;\">\n",
       "      <th></th>\n",
       "      <th>UserId</th>\n",
       "      <th>ItemId</th>\n",
       "      <th>Rating</th>\n",
       "      <th>Time</th>\n",
       "      <th>SessionId</th>\n",
       "      <th>DateTime</th>\n",
       "    </tr>\n",
       "  </thead>\n",
       "  <tbody>\n",
       "    <tr>\n",
       "      <th>5122</th>\n",
       "      <td>36</td>\n",
       "      <td>1291</td>\n",
       "      <td>5</td>\n",
       "      <td>1015904836</td>\n",
       "      <td>86</td>\n",
       "      <td>2002-03-12 03:47:16</td>\n",
       "    </tr>\n",
       "    <tr>\n",
       "      <th>5359</th>\n",
       "      <td>36</td>\n",
       "      <td>2115</td>\n",
       "      <td>5</td>\n",
       "      <td>1015904905</td>\n",
       "      <td>86</td>\n",
       "      <td>2002-03-12 03:48:25</td>\n",
       "    </tr>\n",
       "    <tr>\n",
       "      <th>5222</th>\n",
       "      <td>36</td>\n",
       "      <td>296</td>\n",
       "      <td>5</td>\n",
       "      <td>1040545019</td>\n",
       "      <td>89</td>\n",
       "      <td>2002-12-22 08:16:59</td>\n",
       "    </tr>\n",
       "    <tr>\n",
       "      <th>5062</th>\n",
       "      <td>36</td>\n",
       "      <td>1266</td>\n",
       "      <td>5</td>\n",
       "      <td>1040545109</td>\n",
       "      <td>89</td>\n",
       "      <td>2002-12-22 08:18:29</td>\n",
       "    </tr>\n",
       "    <tr>\n",
       "      <th>5076</th>\n",
       "      <td>36</td>\n",
       "      <td>595</td>\n",
       "      <td>4</td>\n",
       "      <td>1040545109</td>\n",
       "      <td>89</td>\n",
       "      <td>2002-12-22 08:18:29</td>\n",
       "    </tr>\n",
       "    <tr>\n",
       "      <th>...</th>\n",
       "      <td>...</td>\n",
       "      <td>...</td>\n",
       "      <td>...</td>\n",
       "      <td>...</td>\n",
       "      <td>...</td>\n",
       "      <td>...</td>\n",
       "    </tr>\n",
       "    <tr>\n",
       "      <th>992246</th>\n",
       "      <td>5996</td>\n",
       "      <td>3039</td>\n",
       "      <td>4</td>\n",
       "      <td>1020109564</td>\n",
       "      <td>25051</td>\n",
       "      <td>2002-04-29 19:46:04</td>\n",
       "    </tr>\n",
       "    <tr>\n",
       "      <th>992203</th>\n",
       "      <td>5996</td>\n",
       "      <td>3791</td>\n",
       "      <td>3</td>\n",
       "      <td>1020110319</td>\n",
       "      <td>25051</td>\n",
       "      <td>2002-04-29 19:58:39</td>\n",
       "    </tr>\n",
       "    <tr>\n",
       "      <th>992571</th>\n",
       "      <td>5996</td>\n",
       "      <td>3247</td>\n",
       "      <td>4</td>\n",
       "      <td>1020110717</td>\n",
       "      <td>25051</td>\n",
       "      <td>2002-04-29 20:05:17</td>\n",
       "    </tr>\n",
       "    <tr>\n",
       "      <th>992355</th>\n",
       "      <td>5996</td>\n",
       "      <td>3826</td>\n",
       "      <td>1</td>\n",
       "      <td>1020111017</td>\n",
       "      <td>25051</td>\n",
       "      <td>2002-04-29 20:10:17</td>\n",
       "    </tr>\n",
       "    <tr>\n",
       "      <th>992583</th>\n",
       "      <td>5996</td>\n",
       "      <td>2616</td>\n",
       "      <td>3</td>\n",
       "      <td>1020111375</td>\n",
       "      <td>25051</td>\n",
       "      <td>2002-04-29 20:16:15</td>\n",
       "    </tr>\n",
       "  </tbody>\n",
       "</table>\n",
       "<p>3922 rows × 6 columns</p>\n",
       "</div>"
      ],
      "text/plain": [
       "        UserId  ItemId  Rating        Time  SessionId            DateTime\n",
       "5122        36    1291       5  1015904836         86 2002-03-12 03:47:16\n",
       "5359        36    2115       5  1015904905         86 2002-03-12 03:48:25\n",
       "5222        36     296       5  1040545019         89 2002-12-22 08:16:59\n",
       "5062        36    1266       5  1040545109         89 2002-12-22 08:18:29\n",
       "5076        36     595       4  1040545109         89 2002-12-22 08:18:29\n",
       "...        ...     ...     ...         ...        ...                 ...\n",
       "992246    5996    3039       4  1020109564      25051 2002-04-29 19:46:04\n",
       "992203    5996    3791       3  1020110319      25051 2002-04-29 19:58:39\n",
       "992571    5996    3247       4  1020110717      25051 2002-04-29 20:05:17\n",
       "992355    5996    3826       1  1020111017      25051 2002-04-29 20:10:17\n",
       "992583    5996    2616       3  1020111375      25051 2002-04-29 20:16:15\n",
       "\n",
       "[3922 rows x 6 columns]"
      ]
     },
     "execution_count": 120,
     "metadata": {},
     "output_type": "execute_result"
    }
   ],
   "source": [
    "month_ago = latest - dt.timedelta(365)     # 최종 날짜로부터 1년 이전 날짜를 구한다.  \n",
    "year1_data = data[data['DateTime'] > month_ago]   # 방금 구한 날짜 이후의 데이터만 모은다. \n",
    "year1_data = cleanse_recursive(year1_data, shortest=2, least_click=20)\n",
    "year1_data"
   ]
  },
  {
   "cell_type": "code",
   "execution_count": 121,
   "metadata": {},
   "outputs": [],
   "source": [
    "tr, test = split_by_date(year1_data, n_days=30)\n",
    "tr, val = split_by_date(tr, n_days=30)\n",
    "\n",
    "# train set에 없는 아이템이 val, test기간에 생길 수 있으므로 train data를 기준으로 인덱싱합니다.\n",
    "id2idx = {item_id : index for index, item_id in enumerate(tr['ItemId'].unique())}\n",
    "\n",
    "tr = indexing(tr, id2idx)\n",
    "val = indexing(val, id2idx)\n",
    "test = indexing(test, id2idx)\n",
    "\n",
    "save_path = data_path / 'processed_click20'\n",
    "save_path.mkdir(parents=True, exist_ok=True)\n",
    "\n",
    "tr.to_pickle(save_path / 'train.pkl')\n",
    "val.to_pickle(save_path / 'valid.pkl')\n",
    "test.to_pickle(save_path / 'test.pkl')"
   ]
  },
  {
   "cell_type": "code",
   "execution_count": 123,
   "metadata": {
    "scrolled": true
   },
   "outputs": [
    {
     "name": "stderr",
     "output_type": "stream",
     "text": [
      "\r",
      "Train:   0%|          | 0/85 [00:00<?, ?it/s]"
     ]
    },
    {
     "name": "stdout",
     "output_type": "stream",
     "text": [
      "Model: \"model_6\"\n",
      "_________________________________________________________________\n",
      "Layer (type)                 Output Shape              Param #   \n",
      "=================================================================\n",
      "input_7 (InputLayer)         [(32, 1, 153)]            0         \n",
      "_________________________________________________________________\n",
      "GRU (GRU)                    [(32, 50), (32, 50)]      30750     \n",
      "_________________________________________________________________\n",
      "dropout_6 (Dropout)          (32, 50)                  0         \n",
      "_________________________________________________________________\n",
      "dense_6 (Dense)              (32, 153)                 7803      \n",
      "=================================================================\n",
      "Total params: 38,553\n",
      "Trainable params: 38,553\n",
      "Non-trainable params: 0\n",
      "_________________________________________________________________\n"
     ]
    },
    {
     "name": "stderr",
     "output_type": "stream",
     "text": [
      "Train:  93%|█████████▎| 79/85 [00:01<00:00, 44.05it/s, accuracy=0, train_loss=5.02]    \n",
      "Evaluation:  44%|████▍     | 4/9 [00:01<00:01,  3.59it/s]\n",
      "Train:   0%|          | 0/85 [00:00<?, ?it/s, accuracy=0, train_loss=5.02]     "
     ]
    },
    {
     "name": "stdout",
     "output_type": "stream",
     "text": [
      "\t - Recall@20 epoch 1: 0.187500\n",
      "\t - MRR@20    epoch 1: 0.032984\n",
      "\n"
     ]
    },
    {
     "name": "stderr",
     "output_type": "stream",
     "text": [
      "Train:  93%|█████████▎| 79/85 [00:00<00:00, 147.90it/s, accuracy=0, train_loss=5]\n",
      "Evaluation:  44%|████▍     | 4/9 [00:00<00:01,  4.91it/s]\n",
      "Train:   0%|          | 0/85 [00:00<?, ?it/s, accuracy=0.0312, train_loss=5.01]"
     ]
    },
    {
     "name": "stdout",
     "output_type": "stream",
     "text": [
      "\t - Recall@20 epoch 2: 0.242188\n",
      "\t - MRR@20    epoch 2: 0.068055\n",
      "\n"
     ]
    },
    {
     "name": "stderr",
     "output_type": "stream",
     "text": [
      "Train:  93%|█████████▎| 79/85 [00:00<00:00, 146.09it/s, accuracy=0.0625, train_loss=4.97]\n",
      "Evaluation:  44%|████▍     | 4/9 [00:00<00:01,  4.96it/s]\n",
      "Train:   0%|          | 0/85 [00:00<?, ?it/s, accuracy=0, train_loss=5]        "
     ]
    },
    {
     "name": "stdout",
     "output_type": "stream",
     "text": [
      "\t - Recall@20 epoch 3: 0.210938\n",
      "\t - MRR@20    epoch 3: 0.070432\n",
      "\n"
     ]
    },
    {
     "name": "stderr",
     "output_type": "stream",
     "text": [
      "Train:  93%|█████████▎| 79/85 [00:00<00:00, 147.04it/s, accuracy=0, train_loss=4.93]\n",
      "Evaluation:  44%|████▍     | 4/9 [00:00<00:01,  4.97it/s]\n",
      "Train:   0%|          | 0/85 [00:00<?, ?it/s, accuracy=0.0312, train_loss=4.98]"
     ]
    },
    {
     "name": "stdout",
     "output_type": "stream",
     "text": [
      "\t - Recall@20 epoch 4: 0.210938\n",
      "\t - MRR@20    epoch 4: 0.061726\n",
      "\n"
     ]
    },
    {
     "name": "stderr",
     "output_type": "stream",
     "text": [
      "Train:  93%|█████████▎| 79/85 [00:00<00:00, 149.32it/s, accuracy=0.0312, train_loss=4.89]\n",
      "Evaluation:  44%|████▍     | 4/9 [00:00<00:00,  5.03it/s]\n",
      "Train:   0%|          | 0/85 [00:00<?, ?it/s, accuracy=0.0625, train_loss=4.94]"
     ]
    },
    {
     "name": "stdout",
     "output_type": "stream",
     "text": [
      "\t - Recall@20 epoch 5: 0.218750\n",
      "\t - MRR@20    epoch 5: 0.070256\n",
      "\n"
     ]
    },
    {
     "name": "stderr",
     "output_type": "stream",
     "text": [
      "Train:  93%|█████████▎| 79/85 [00:00<00:00, 150.61it/s, accuracy=0, train_loss=4.84]\n",
      "Evaluation:  44%|████▍     | 4/9 [00:00<00:00,  5.13it/s]\n",
      "Train:   0%|          | 0/85 [00:00<?, ?it/s, accuracy=0.0625, train_loss=4.88]"
     ]
    },
    {
     "name": "stdout",
     "output_type": "stream",
     "text": [
      "\t - Recall@20 epoch 6: 0.242188\n",
      "\t - MRR@20    epoch 6: 0.084626\n",
      "\n"
     ]
    },
    {
     "name": "stderr",
     "output_type": "stream",
     "text": [
      "Train:  93%|█████████▎| 79/85 [00:00<00:00, 149.96it/s, accuracy=0.0312, train_loss=4.79]\n",
      "Evaluation:  44%|████▍     | 4/9 [00:00<00:01,  4.88it/s]\n",
      "Train:   0%|          | 0/85 [00:00<?, ?it/s, accuracy=0.0625, train_loss=4.84]"
     ]
    },
    {
     "name": "stdout",
     "output_type": "stream",
     "text": [
      "\t - Recall@20 epoch 7: 0.281250\n",
      "\t - MRR@20    epoch 7: 0.105357\n",
      "\n"
     ]
    },
    {
     "name": "stderr",
     "output_type": "stream",
     "text": [
      "Train:  93%|█████████▎| 79/85 [00:00<00:00, 149.79it/s, accuracy=0.0938, train_loss=4.7]\n",
      "Evaluation:  44%|████▍     | 4/9 [00:00<00:01,  4.97it/s]\n",
      "Train:   0%|          | 0/85 [00:00<?, ?it/s, accuracy=0.0625, train_loss=4.76]"
     ]
    },
    {
     "name": "stdout",
     "output_type": "stream",
     "text": [
      "\t - Recall@20 epoch 8: 0.296875\n",
      "\t - MRR@20    epoch 8: 0.111479\n",
      "\n"
     ]
    },
    {
     "name": "stderr",
     "output_type": "stream",
     "text": [
      "Train:  93%|█████████▎| 79/85 [00:00<00:00, 148.38it/s, accuracy=0.0625, train_loss=4.63]\n",
      "Evaluation:  44%|████▍     | 4/9 [00:00<00:01,  4.84it/s]\n",
      "Train:   0%|          | 0/85 [00:00<?, ?it/s, accuracy=0.0938, train_loss=4.59]"
     ]
    },
    {
     "name": "stdout",
     "output_type": "stream",
     "text": [
      "\t - Recall@20 epoch 9: 0.296875\n",
      "\t - MRR@20    epoch 9: 0.125445\n",
      "\n"
     ]
    },
    {
     "name": "stderr",
     "output_type": "stream",
     "text": [
      "Train:  93%|█████████▎| 79/85 [00:00<00:00, 146.60it/s, accuracy=0.0938, train_loss=4.57]\n",
      "Evaluation:  44%|████▍     | 4/9 [00:00<00:00,  5.20it/s]\n",
      "Train:   0%|          | 0/85 [00:00<?, ?it/s, accuracy=0.0938, train_loss=4.6] "
     ]
    },
    {
     "name": "stdout",
     "output_type": "stream",
     "text": [
      "\t - Recall@20 epoch 10: 0.296875\n",
      "\t - MRR@20    epoch 10: 0.140491\n",
      "\n"
     ]
    },
    {
     "name": "stderr",
     "output_type": "stream",
     "text": [
      "Train:  93%|█████████▎| 79/85 [00:00<00:00, 144.74it/s, accuracy=0.0625, train_loss=4.52]\n",
      "Evaluation:  44%|████▍     | 4/9 [00:00<00:00,  5.36it/s]\n",
      "Train:   0%|          | 0/85 [00:00<?, ?it/s, accuracy=0.125, train_loss=4.55] "
     ]
    },
    {
     "name": "stdout",
     "output_type": "stream",
     "text": [
      "\t - Recall@20 epoch 11: 0.320312\n",
      "\t - MRR@20    epoch 11: 0.139796\n",
      "\n"
     ]
    },
    {
     "name": "stderr",
     "output_type": "stream",
     "text": [
      "Train:  93%|█████████▎| 79/85 [00:00<00:00, 147.55it/s, accuracy=0.0938, train_loss=4.45]\n",
      "Evaluation:  44%|████▍     | 4/9 [00:00<00:00,  5.29it/s]\n",
      "Train:   0%|          | 0/85 [00:00<?, ?it/s, accuracy=0.0938, train_loss=4.41]"
     ]
    },
    {
     "name": "stdout",
     "output_type": "stream",
     "text": [
      "\t - Recall@20 epoch 12: 0.320312\n",
      "\t - MRR@20    epoch 12: 0.146503\n",
      "\n"
     ]
    },
    {
     "name": "stderr",
     "output_type": "stream",
     "text": [
      "Train:  93%|█████████▎| 79/85 [00:00<00:00, 146.58it/s, accuracy=0.125, train_loss=4.34]\n",
      "Evaluation:  44%|████▍     | 4/9 [00:00<00:00,  5.11it/s]\n",
      "Train:   0%|          | 0/85 [00:00<?, ?it/s, accuracy=0.0938, train_loss=4.4] "
     ]
    },
    {
     "name": "stdout",
     "output_type": "stream",
     "text": [
      "\t - Recall@20 epoch 13: 0.335938\n",
      "\t - MRR@20    epoch 13: 0.146041\n",
      "\n"
     ]
    },
    {
     "name": "stderr",
     "output_type": "stream",
     "text": [
      "Train:  93%|█████████▎| 79/85 [00:00<00:00, 145.27it/s, accuracy=0.156, train_loss=4.23]\n",
      "Evaluation:  44%|████▍     | 4/9 [00:00<00:00,  5.50it/s]\n",
      "Train:   0%|          | 0/85 [00:00<?, ?it/s, accuracy=0.0938, train_loss=4.23]"
     ]
    },
    {
     "name": "stdout",
     "output_type": "stream",
     "text": [
      "\t - Recall@20 epoch 14: 0.351562\n",
      "\t - MRR@20    epoch 14: 0.158164\n",
      "\n"
     ]
    },
    {
     "name": "stderr",
     "output_type": "stream",
     "text": [
      "Train:  93%|█████████▎| 79/85 [00:00<00:00, 147.28it/s, accuracy=0.125, train_loss=4.13]\n",
      "Evaluation:  44%|████▍     | 4/9 [00:00<00:00,  5.43it/s]\n",
      "Train:   0%|          | 0/85 [00:00<?, ?it/s, accuracy=0.156, train_loss=4.01] "
     ]
    },
    {
     "name": "stdout",
     "output_type": "stream",
     "text": [
      "\t - Recall@20 epoch 15: 0.359375\n",
      "\t - MRR@20    epoch 15: 0.167125\n",
      "\n"
     ]
    },
    {
     "name": "stderr",
     "output_type": "stream",
     "text": [
      "Train:  93%|█████████▎| 79/85 [00:00<00:00, 143.51it/s, accuracy=0.0938, train_loss=4.11]\n",
      "Evaluation:  44%|████▍     | 4/9 [00:00<00:00,  5.58it/s]\n",
      "Train:   0%|          | 0/85 [00:00<?, ?it/s, accuracy=0.0938, train_loss=4.2] "
     ]
    },
    {
     "name": "stdout",
     "output_type": "stream",
     "text": [
      "\t - Recall@20 epoch 16: 0.359375\n",
      "\t - MRR@20    epoch 16: 0.173752\n",
      "\n"
     ]
    },
    {
     "name": "stderr",
     "output_type": "stream",
     "text": [
      "Train:  93%|█████████▎| 79/85 [00:00<00:00, 150.13it/s, accuracy=0.0938, train_loss=4]\n",
      "Evaluation:  44%|████▍     | 4/9 [00:00<00:00,  5.51it/s]\n",
      "Train:   0%|          | 0/85 [00:00<?, ?it/s, accuracy=0.125, train_loss=4.15] "
     ]
    },
    {
     "name": "stdout",
     "output_type": "stream",
     "text": [
      "\t - Recall@20 epoch 17: 0.351562\n",
      "\t - MRR@20    epoch 17: 0.173969\n",
      "\n"
     ]
    },
    {
     "name": "stderr",
     "output_type": "stream",
     "text": [
      "Train:  93%|█████████▎| 79/85 [00:00<00:00, 148.23it/s, accuracy=0.0938, train_loss=3.95]\n",
      "Evaluation:  44%|████▍     | 4/9 [00:00<00:00,  5.47it/s]\n",
      "Train:   0%|          | 0/85 [00:00<?, ?it/s, accuracy=0.312, train_loss=3.73] "
     ]
    },
    {
     "name": "stdout",
     "output_type": "stream",
     "text": [
      "\t - Recall@20 epoch 18: 0.320312\n",
      "\t - MRR@20    epoch 18: 0.178721\n",
      "\n"
     ]
    },
    {
     "name": "stderr",
     "output_type": "stream",
     "text": [
      "Train:  93%|█████████▎| 79/85 [00:00<00:00, 142.28it/s, accuracy=0.188, train_loss=3.82]\n",
      "Evaluation:  44%|████▍     | 4/9 [00:00<00:00,  5.60it/s]\n",
      "Train:   0%|          | 0/85 [00:00<?, ?it/s, accuracy=0.344, train_loss=3.7]  "
     ]
    },
    {
     "name": "stdout",
     "output_type": "stream",
     "text": [
      "\t - Recall@20 epoch 19: 0.328125\n",
      "\t - MRR@20    epoch 19: 0.177047\n",
      "\n"
     ]
    },
    {
     "name": "stderr",
     "output_type": "stream",
     "text": [
      "Train:  93%|█████████▎| 79/85 [00:00<00:00, 147.17it/s, accuracy=0.188, train_loss=3.76]\n",
      "Evaluation:  44%|████▍     | 4/9 [00:00<00:00,  5.51it/s]\n",
      "Evaluation:  11%|█         | 1/9 [00:00<00:01,  5.32it/s]"
     ]
    },
    {
     "name": "stdout",
     "output_type": "stream",
     "text": [
      "\t - Recall@20 epoch 20: 0.359375\n",
      "\t - MRR@20    epoch 20: 0.170999\n",
      "\n",
      "\t - Recall@20: 0.312500\n",
      "\t - MRR@20: 0.140393\n",
      "\n"
     ]
    },
    {
     "name": "stderr",
     "output_type": "stream",
     "text": [
      "\n"
     ]
    }
   ],
   "source": [
    "args = Args(tr, val, test, batch_size=32, hsz=50, drop_rate=0.1, lr=0.001, epochs=20, k=20)\n",
    "model = create_model(args)\n",
    "train_model(model, args)\n",
    "test_model(model, args, test)"
   ]
  },
  {
   "cell_type": "markdown",
   "metadata": {},
   "source": [
    "|평가지표|변경 전|변경 후|\n",
    "|---|---|---|\n",
    "|Recall|0.039062|0.312500|\n",
    "|MRR|0.013897|0.140393|\n",
    "\n",
    "* 성능이 매우 좋아졌다."
   ]
  },
  {
   "cell_type": "markdown",
   "metadata": {},
   "source": [
    "### 1-2. 3년치 데이터 중 2년치 사용하기, val과 test는 3개월씩"
   ]
  },
  {
   "cell_type": "code",
   "execution_count": 132,
   "metadata": {},
   "outputs": [
    {
     "data": {
      "text/html": [
       "<div>\n",
       "<style scoped>\n",
       "    .dataframe tbody tr th:only-of-type {\n",
       "        vertical-align: middle;\n",
       "    }\n",
       "\n",
       "    .dataframe tbody tr th {\n",
       "        vertical-align: top;\n",
       "    }\n",
       "\n",
       "    .dataframe thead th {\n",
       "        text-align: right;\n",
       "    }\n",
       "</style>\n",
       "<table border=\"1\" class=\"dataframe\">\n",
       "  <thead>\n",
       "    <tr style=\"text-align: right;\">\n",
       "      <th></th>\n",
       "      <th>UserId</th>\n",
       "      <th>ItemId</th>\n",
       "      <th>Rating</th>\n",
       "      <th>Time</th>\n",
       "      <th>SessionId</th>\n",
       "      <th>DateTime</th>\n",
       "    </tr>\n",
       "  </thead>\n",
       "  <tbody>\n",
       "    <tr>\n",
       "      <th>2327</th>\n",
       "      <td>19</td>\n",
       "      <td>318</td>\n",
       "      <td>4</td>\n",
       "      <td>994556598</td>\n",
       "      <td>43</td>\n",
       "      <td>2001-07-08 01:43:18</td>\n",
       "    </tr>\n",
       "    <tr>\n",
       "      <th>2492</th>\n",
       "      <td>19</td>\n",
       "      <td>1234</td>\n",
       "      <td>5</td>\n",
       "      <td>994556636</td>\n",
       "      <td>43</td>\n",
       "      <td>2001-07-08 01:43:56</td>\n",
       "    </tr>\n",
       "    <tr>\n",
       "      <th>2503</th>\n",
       "      <td>20</td>\n",
       "      <td>1694</td>\n",
       "      <td>3</td>\n",
       "      <td>1009669071</td>\n",
       "      <td>45</td>\n",
       "      <td>2001-12-29 23:37:51</td>\n",
       "    </tr>\n",
       "    <tr>\n",
       "      <th>2513</th>\n",
       "      <td>20</td>\n",
       "      <td>3717</td>\n",
       "      <td>2</td>\n",
       "      <td>1009669071</td>\n",
       "      <td>45</td>\n",
       "      <td>2001-12-29 23:37:51</td>\n",
       "    </tr>\n",
       "    <tr>\n",
       "      <th>2517</th>\n",
       "      <td>20</td>\n",
       "      <td>2858</td>\n",
       "      <td>4</td>\n",
       "      <td>1009669071</td>\n",
       "      <td>45</td>\n",
       "      <td>2001-12-29 23:37:51</td>\n",
       "    </tr>\n",
       "    <tr>\n",
       "      <th>...</th>\n",
       "      <td>...</td>\n",
       "      <td>...</td>\n",
       "      <td>...</td>\n",
       "      <td>...</td>\n",
       "      <td>...</td>\n",
       "      <td>...</td>\n",
       "    </tr>\n",
       "    <tr>\n",
       "      <th>999923</th>\n",
       "      <td>6040</td>\n",
       "      <td>232</td>\n",
       "      <td>5</td>\n",
       "      <td>997454398</td>\n",
       "      <td>25162</td>\n",
       "      <td>2001-08-10 14:39:58</td>\n",
       "    </tr>\n",
       "    <tr>\n",
       "      <th>1000019</th>\n",
       "      <td>6040</td>\n",
       "      <td>2917</td>\n",
       "      <td>4</td>\n",
       "      <td>997454429</td>\n",
       "      <td>25162</td>\n",
       "      <td>2001-08-10 14:40:29</td>\n",
       "    </tr>\n",
       "    <tr>\n",
       "      <th>999988</th>\n",
       "      <td>6040</td>\n",
       "      <td>1921</td>\n",
       "      <td>4</td>\n",
       "      <td>997454464</td>\n",
       "      <td>25162</td>\n",
       "      <td>2001-08-10 14:41:04</td>\n",
       "    </tr>\n",
       "    <tr>\n",
       "      <th>1000172</th>\n",
       "      <td>6040</td>\n",
       "      <td>1784</td>\n",
       "      <td>3</td>\n",
       "      <td>997454464</td>\n",
       "      <td>25162</td>\n",
       "      <td>2001-08-10 14:41:04</td>\n",
       "    </tr>\n",
       "    <tr>\n",
       "      <th>1000167</th>\n",
       "      <td>6040</td>\n",
       "      <td>161</td>\n",
       "      <td>3</td>\n",
       "      <td>997454486</td>\n",
       "      <td>25162</td>\n",
       "      <td>2001-08-10 14:41:26</td>\n",
       "    </tr>\n",
       "  </tbody>\n",
       "</table>\n",
       "<p>48577 rows × 6 columns</p>\n",
       "</div>"
      ],
      "text/plain": [
       "         UserId  ItemId  Rating        Time  SessionId            DateTime\n",
       "2327         19     318       4   994556598         43 2001-07-08 01:43:18\n",
       "2492         19    1234       5   994556636         43 2001-07-08 01:43:56\n",
       "2503         20    1694       3  1009669071         45 2001-12-29 23:37:51\n",
       "2513         20    3717       2  1009669071         45 2001-12-29 23:37:51\n",
       "2517         20    2858       4  1009669071         45 2001-12-29 23:37:51\n",
       "...         ...     ...     ...         ...        ...                 ...\n",
       "999923     6040     232       5   997454398      25162 2001-08-10 14:39:58\n",
       "1000019    6040    2917       4   997454429      25162 2001-08-10 14:40:29\n",
       "999988     6040    1921       4   997454464      25162 2001-08-10 14:41:04\n",
       "1000172    6040    1784       3   997454464      25162 2001-08-10 14:41:04\n",
       "1000167    6040     161       3   997454486      25162 2001-08-10 14:41:26\n",
       "\n",
       "[48577 rows x 6 columns]"
      ]
     },
     "execution_count": 132,
     "metadata": {},
     "output_type": "execute_result"
    }
   ],
   "source": [
    "month_ago = latest - dt.timedelta(730)     # 최종 날짜로부터 2년 이전 날짜를 구한다.  \n",
    "year2_data = data[data['DateTime'] > month_ago]   # 방금 구한 날짜 이후의 데이터만 모은다. \n",
    "year2_data = cleanse_recursive(year2_data, shortest=2, least_click=20)\n",
    "year2_data"
   ]
  },
  {
   "cell_type": "code",
   "execution_count": 133,
   "metadata": {},
   "outputs": [],
   "source": [
    "tr, test = split_by_date(year2_data, n_days=90) # 3개월\n",
    "tr, val = split_by_date(tr, n_days=90) # 3개월\n",
    "\n",
    "# train set에 없는 아이템이 val, test기간에 생길 수 있으므로 train data를 기준으로 인덱싱합니다.\n",
    "id2idx = {item_id : index for index, item_id in enumerate(tr['ItemId'].unique())}\n",
    "\n",
    "tr = indexing(tr, id2idx)\n",
    "val = indexing(val, id2idx)\n",
    "test = indexing(test, id2idx)\n",
    "\n",
    "save_path = data_path / 'processed_year2'\n",
    "save_path.mkdir(parents=True, exist_ok=True)\n",
    "\n",
    "tr.to_pickle(save_path / 'train.pkl')\n",
    "val.to_pickle(save_path / 'valid.pkl')\n",
    "test.to_pickle(save_path / 'test.pkl')"
   ]
  },
  {
   "cell_type": "code",
   "execution_count": 134,
   "metadata": {
    "scrolled": true
   },
   "outputs": [
    {
     "name": "stderr",
     "output_type": "stream",
     "text": [
      "\r",
      "Train:   0%|          | 0/612 [00:00<?, ?it/s]"
     ]
    },
    {
     "name": "stdout",
     "output_type": "stream",
     "text": [
      "Model: \"model_12\"\n",
      "_________________________________________________________________\n",
      "Layer (type)                 Output Shape              Param #   \n",
      "=================================================================\n",
      "input_13 (InputLayer)        [(64, 1, 1123)]           0         \n",
      "_________________________________________________________________\n",
      "GRU (GRU)                    [(64, 50), (64, 50)]      176250    \n",
      "_________________________________________________________________\n",
      "dropout_12 (Dropout)         (64, 50)                  0         \n",
      "_________________________________________________________________\n",
      "dense_12 (Dense)             (64, 1123)                57273     \n",
      "=================================================================\n",
      "Total params: 233,523\n",
      "Trainable params: 233,523\n",
      "Non-trainable params: 0\n",
      "_________________________________________________________________\n"
     ]
    },
    {
     "name": "stderr",
     "output_type": "stream",
     "text": [
      "Train:  95%|█████████▌| 582/612 [00:05<00:00, 97.97it/s, accuracy=0.0156, train_loss=6.86] \n",
      "Evaluation:  42%|████▎     | 17/40 [00:06<00:09,  2.43it/s]\n",
      "Train:   0%|          | 0/612 [00:00<?, ?it/s, accuracy=0, train_loss=6.8]      "
     ]
    },
    {
     "name": "stdout",
     "output_type": "stream",
     "text": [
      "\t - Recall@20 epoch 1: 0.053309\n",
      "\t - MRR@20    epoch 1: 0.012765\n",
      "\n"
     ]
    },
    {
     "name": "stderr",
     "output_type": "stream",
     "text": [
      "Train:  95%|█████████▌| 582/612 [00:04<00:00, 122.40it/s, accuracy=0.0156, train_loss=6.65]\n",
      "Evaluation:  42%|████▎     | 17/40 [00:06<00:08,  2.56it/s]\n",
      "Train:   0%|          | 0/612 [00:00<?, ?it/s, accuracy=0, train_loss=6.73]     "
     ]
    },
    {
     "name": "stdout",
     "output_type": "stream",
     "text": [
      "\t - Recall@20 epoch 2: 0.056066\n",
      "\t - MRR@20    epoch 2: 0.014210\n",
      "\n"
     ]
    },
    {
     "name": "stderr",
     "output_type": "stream",
     "text": [
      "Train:  95%|█████████▌| 582/612 [00:04<00:00, 124.65it/s, accuracy=0.0156, train_loss=6.44]\n",
      "Evaluation:  42%|████▎     | 17/40 [00:06<00:09,  2.44it/s]\n",
      "Train:   0%|          | 0/612 [00:00<?, ?it/s, accuracy=0, train_loss=6.66]     "
     ]
    },
    {
     "name": "stdout",
     "output_type": "stream",
     "text": [
      "\t - Recall@20 epoch 3: 0.077206\n",
      "\t - MRR@20    epoch 3: 0.018526\n",
      "\n"
     ]
    },
    {
     "name": "stderr",
     "output_type": "stream",
     "text": [
      "Train:  95%|█████████▌| 582/612 [00:04<00:00, 119.23it/s, accuracy=0.0469, train_loss=6.35]\n",
      "Evaluation:  42%|████▎     | 17/40 [00:06<00:09,  2.55it/s]\n",
      "Train:   0%|          | 0/612 [00:00<?, ?it/s, accuracy=0, train_loss=6.42]     "
     ]
    },
    {
     "name": "stdout",
     "output_type": "stream",
     "text": [
      "\t - Recall@20 epoch 4: 0.091912\n",
      "\t - MRR@20    epoch 4: 0.024327\n",
      "\n"
     ]
    },
    {
     "name": "stderr",
     "output_type": "stream",
     "text": [
      "Train:  95%|█████████▌| 582/612 [00:04<00:00, 121.37it/s, accuracy=0.0312, train_loss=6.19]\n",
      "Evaluation:  42%|████▎     | 17/40 [00:06<00:08,  2.59it/s]\n",
      "Train:   0%|          | 0/612 [00:00<?, ?it/s, accuracy=0, train_loss=6.29]     "
     ]
    },
    {
     "name": "stdout",
     "output_type": "stream",
     "text": [
      "\t - Recall@20 epoch 5: 0.100184\n",
      "\t - MRR@20    epoch 5: 0.028880\n",
      "\n"
     ]
    },
    {
     "name": "stderr",
     "output_type": "stream",
     "text": [
      "Train:  95%|█████████▌| 582/612 [00:04<00:00, 121.97it/s, accuracy=0.0469, train_loss=6.01]\n",
      "Evaluation:  42%|████▎     | 17/40 [00:06<00:08,  2.64it/s]\n",
      "Train:   0%|          | 0/612 [00:00<?, ?it/s, accuracy=0.0156, train_loss=6.19]"
     ]
    },
    {
     "name": "stdout",
     "output_type": "stream",
     "text": [
      "\t - Recall@20 epoch 6: 0.116728\n",
      "\t - MRR@20    epoch 6: 0.032074\n",
      "\n"
     ]
    },
    {
     "name": "stderr",
     "output_type": "stream",
     "text": [
      "Train:  95%|█████████▌| 582/612 [00:04<00:00, 121.96it/s, accuracy=0.0469, train_loss=5.98]\n",
      "Evaluation:  42%|████▎     | 17/40 [00:06<00:08,  2.60it/s]\n",
      "Train:   0%|          | 0/612 [00:00<?, ?it/s, accuracy=0.0312, train_loss=5.96]"
     ]
    },
    {
     "name": "stdout",
     "output_type": "stream",
     "text": [
      "\t - Recall@20 epoch 7: 0.134191\n",
      "\t - MRR@20    epoch 7: 0.036502\n",
      "\n"
     ]
    },
    {
     "name": "stderr",
     "output_type": "stream",
     "text": [
      "Train:  95%|█████████▌| 582/612 [00:04<00:00, 122.47it/s, accuracy=0.0625, train_loss=5.83]\n",
      "Evaluation:  42%|████▎     | 17/40 [00:06<00:08,  2.66it/s]\n",
      "Train:   0%|          | 0/612 [00:00<?, ?it/s, accuracy=0.0625, train_loss=5.89]"
     ]
    },
    {
     "name": "stdout",
     "output_type": "stream",
     "text": [
      "\t - Recall@20 epoch 8: 0.155331\n",
      "\t - MRR@20    epoch 8: 0.040308\n",
      "\n"
     ]
    },
    {
     "name": "stderr",
     "output_type": "stream",
     "text": [
      "Train:  95%|█████████▌| 582/612 [00:04<00:00, 122.09it/s, accuracy=0.0938, train_loss=5.74]\n",
      "Evaluation:  42%|████▎     | 17/40 [00:06<00:08,  2.65it/s]\n",
      "Train:   0%|          | 0/612 [00:00<?, ?it/s, accuracy=0.0625, train_loss=5.83]"
     ]
    },
    {
     "name": "stdout",
     "output_type": "stream",
     "text": [
      "\t - Recall@20 epoch 9: 0.159926\n",
      "\t - MRR@20    epoch 9: 0.043091\n",
      "\n"
     ]
    },
    {
     "name": "stderr",
     "output_type": "stream",
     "text": [
      "Train:  95%|█████████▌| 582/612 [00:04<00:00, 121.44it/s, accuracy=0.0781, train_loss=5.66]\n",
      "Evaluation:  42%|████▎     | 17/40 [00:06<00:08,  2.70it/s]\n",
      "Train:   0%|          | 0/612 [00:00<?, ?it/s, accuracy=0.0625, train_loss=5.73]"
     ]
    },
    {
     "name": "stdout",
     "output_type": "stream",
     "text": [
      "\t - Recall@20 epoch 10: 0.171875\n",
      "\t - MRR@20    epoch 10: 0.045215\n",
      "\n"
     ]
    },
    {
     "name": "stderr",
     "output_type": "stream",
     "text": [
      "Train:  95%|█████████▌| 582/612 [00:04<00:00, 122.65it/s, accuracy=0.0781, train_loss=5.64]\n",
      "Evaluation:  42%|████▎     | 17/40 [00:06<00:08,  2.65it/s]\n",
      "Train:   0%|          | 0/612 [00:00<?, ?it/s, accuracy=0.0781, train_loss=5.62]"
     ]
    },
    {
     "name": "stdout",
     "output_type": "stream",
     "text": [
      "\t - Recall@20 epoch 11: 0.161765\n",
      "\t - MRR@20    epoch 11: 0.047023\n",
      "\n"
     ]
    },
    {
     "name": "stderr",
     "output_type": "stream",
     "text": [
      "Train:  95%|█████████▌| 582/612 [00:04<00:00, 122.51it/s, accuracy=0.0938, train_loss=5.5] \n",
      "Evaluation:  42%|████▎     | 17/40 [00:06<00:08,  2.66it/s]\n",
      "Train:   0%|          | 0/612 [00:00<?, ?it/s, accuracy=0.0938, train_loss=5.48]"
     ]
    },
    {
     "name": "stdout",
     "output_type": "stream",
     "text": [
      "\t - Recall@20 epoch 12: 0.156250\n",
      "\t - MRR@20    epoch 12: 0.047374\n",
      "\n"
     ]
    },
    {
     "name": "stderr",
     "output_type": "stream",
     "text": [
      "Train:  95%|█████████▌| 582/612 [00:04<00:00, 121.18it/s, accuracy=0.0938, train_loss=5.46]\n",
      "Evaluation:  42%|████▎     | 17/40 [00:06<00:08,  2.64it/s]\n",
      "Train:   0%|          | 0/612 [00:00<?, ?it/s, accuracy=0.0938, train_loss=5.48]"
     ]
    },
    {
     "name": "stdout",
     "output_type": "stream",
     "text": [
      "\t - Recall@20 epoch 13: 0.163603\n",
      "\t - MRR@20    epoch 13: 0.048477\n",
      "\n"
     ]
    },
    {
     "name": "stderr",
     "output_type": "stream",
     "text": [
      "Train:  95%|█████████▌| 582/612 [00:04<00:00, 120.42it/s, accuracy=0.0938, train_loss=5.36]\n",
      "Evaluation:  42%|████▎     | 17/40 [00:06<00:08,  2.65it/s]\n",
      "Train:   0%|          | 0/612 [00:00<?, ?it/s, accuracy=0.0625, train_loss=5.37]"
     ]
    },
    {
     "name": "stdout",
     "output_type": "stream",
     "text": [
      "\t - Recall@20 epoch 14: 0.164522\n",
      "\t - MRR@20    epoch 14: 0.047857\n",
      "\n"
     ]
    },
    {
     "name": "stderr",
     "output_type": "stream",
     "text": [
      "Train:  95%|█████████▌| 582/612 [00:04<00:00, 121.83it/s, accuracy=0.109, train_loss=5.27] \n",
      "Evaluation:  42%|████▎     | 17/40 [00:06<00:08,  2.69it/s]\n",
      "Train:   0%|          | 0/612 [00:00<?, ?it/s, accuracy=0.0625, train_loss=5.27]"
     ]
    },
    {
     "name": "stdout",
     "output_type": "stream",
     "text": [
      "\t - Recall@20 epoch 15: 0.165441\n",
      "\t - MRR@20    epoch 15: 0.048993\n",
      "\n"
     ]
    },
    {
     "name": "stderr",
     "output_type": "stream",
     "text": [
      "Train:  95%|█████████▌| 582/612 [00:04<00:00, 120.03it/s, accuracy=0.109, train_loss=5.17] \n",
      "Evaluation:  42%|████▎     | 17/40 [00:06<00:08,  2.65it/s]\n",
      "Train:   0%|          | 0/612 [00:00<?, ?it/s, accuracy=0.0625, train_loss=5.2] "
     ]
    },
    {
     "name": "stdout",
     "output_type": "stream",
     "text": [
      "\t - Recall@20 epoch 16: 0.165441\n",
      "\t - MRR@20    epoch 16: 0.048126\n",
      "\n"
     ]
    },
    {
     "name": "stderr",
     "output_type": "stream",
     "text": [
      "Train:  95%|█████████▌| 582/612 [00:04<00:00, 120.43it/s, accuracy=0.125, train_loss=5.12] \n",
      "Evaluation:  42%|████▎     | 17/40 [00:06<00:08,  2.69it/s]\n",
      "Train:   0%|          | 0/612 [00:00<?, ?it/s, accuracy=0.0781, train_loss=5.05]"
     ]
    },
    {
     "name": "stdout",
     "output_type": "stream",
     "text": [
      "\t - Recall@20 epoch 17: 0.166360\n",
      "\t - MRR@20    epoch 17: 0.049718\n",
      "\n"
     ]
    },
    {
     "name": "stderr",
     "output_type": "stream",
     "text": [
      "Train:  95%|█████████▌| 582/612 [00:04<00:00, 122.51it/s, accuracy=0.125, train_loss=5.04] \n",
      "Evaluation:  42%|████▎     | 17/40 [00:06<00:08,  2.66it/s]\n",
      "Train:   0%|          | 0/612 [00:00<?, ?it/s, accuracy=0.0625, train_loss=5.16]"
     ]
    },
    {
     "name": "stdout",
     "output_type": "stream",
     "text": [
      "\t - Recall@20 epoch 18: 0.167279\n",
      "\t - MRR@20    epoch 18: 0.049979\n",
      "\n"
     ]
    },
    {
     "name": "stderr",
     "output_type": "stream",
     "text": [
      "Train:  95%|█████████▌| 582/612 [00:04<00:00, 121.91it/s, accuracy=0.0938, train_loss=5.01]\n",
      "Evaluation:  42%|████▎     | 17/40 [00:06<00:08,  2.70it/s]\n",
      "Train:   0%|          | 0/612 [00:00<?, ?it/s, accuracy=0.0625, train_loss=5.01]"
     ]
    },
    {
     "name": "stdout",
     "output_type": "stream",
     "text": [
      "\t - Recall@20 epoch 19: 0.160846\n",
      "\t - MRR@20    epoch 19: 0.050054\n",
      "\n"
     ]
    },
    {
     "name": "stderr",
     "output_type": "stream",
     "text": [
      "Train:  95%|█████████▌| 582/612 [00:04<00:00, 122.05it/s, accuracy=0.109, train_loss=4.93] \n",
      "Evaluation:  42%|████▎     | 17/40 [00:06<00:08,  2.70it/s]\n",
      "Evaluation:   0%|          | 0/46 [00:00<?, ?it/s]"
     ]
    },
    {
     "name": "stdout",
     "output_type": "stream",
     "text": [
      "\t - Recall@20 epoch 20: 0.160846\n",
      "\t - MRR@20    epoch 20: 0.051172\n",
      "\n"
     ]
    },
    {
     "name": "stderr",
     "output_type": "stream",
     "text": [
      "Evaluation:  48%|████▊     | 22/46 [00:08<00:09,  2.66it/s]"
     ]
    },
    {
     "name": "stdout",
     "output_type": "stream",
     "text": [
      "\t - Recall@20: 0.162642\n",
      "\t - MRR@20: 0.055901\n",
      "\n"
     ]
    },
    {
     "name": "stderr",
     "output_type": "stream",
     "text": [
      "\n"
     ]
    }
   ],
   "source": [
    "args = Args(tr, val, test, batch_size=64, hsz=50, drop_rate=0.1, lr=0.001, epochs=20, k=20)\n",
    "model = create_model(args)\n",
    "train_model(model, args)\n",
    "test_model(model, args, test)"
   ]
  },
  {
   "cell_type": "markdown",
   "metadata": {},
   "source": [
    "|평가지표|변경 전|변경 후(1-2)|1-1.click20경우|\n",
    "|---|---|---|---|\n",
    "|Recall|0.039062|0.162642|0.312500|\n",
    "|MRR|0.013897|0.055901|0.140393|\n",
    "\n",
    "\n",
    "\n"
   ]
  },
  {
   "cell_type": "markdown",
   "metadata": {},
   "source": [
    "* 기존보다 성능이 좋아졌다. 하지만 1-1. least_click을 5-> 20으로 바꾼 경우의 성능보다는 낮다."
   ]
  },
  {
   "cell_type": "markdown",
   "metadata": {},
   "source": [
    "### => batch_size를 64에서 32로 바꿔본다면?"
   ]
  },
  {
   "cell_type": "code",
   "execution_count": 135,
   "metadata": {
    "scrolled": true
   },
   "outputs": [
    {
     "name": "stderr",
     "output_type": "stream",
     "text": [
      "\r",
      "Train:   0%|          | 0/1224 [00:00<?, ?it/s]"
     ]
    },
    {
     "name": "stdout",
     "output_type": "stream",
     "text": [
      "Model: \"model_13\"\n",
      "_________________________________________________________________\n",
      "Layer (type)                 Output Shape              Param #   \n",
      "=================================================================\n",
      "input_14 (InputLayer)        [(32, 1, 1123)]           0         \n",
      "_________________________________________________________________\n",
      "GRU (GRU)                    [(32, 50), (32, 50)]      176250    \n",
      "_________________________________________________________________\n",
      "dropout_13 (Dropout)         (32, 50)                  0         \n",
      "_________________________________________________________________\n",
      "dense_13 (Dense)             (32, 1123)                57273     \n",
      "=================================================================\n",
      "Total params: 233,523\n",
      "Trainable params: 233,523\n",
      "Non-trainable params: 0\n",
      "_________________________________________________________________\n"
     ]
    },
    {
     "name": "stderr",
     "output_type": "stream",
     "text": [
      "Train:  98%|█████████▊| 1195/1224 [00:10<00:00, 114.33it/s, accuracy=0, train_loss=7.04]     \n",
      "Evaluation:  67%|██████▋   | 54/81 [00:11<00:05,  4.57it/s]\n",
      "Train:   0%|          | 0/1224 [00:00<?, ?it/s, accuracy=0, train_loss=6.63]     "
     ]
    },
    {
     "name": "stdout",
     "output_type": "stream",
     "text": [
      "\t - Recall@20 epoch 1: 0.050926\n",
      "\t - MRR@20    epoch 1: 0.011960\n",
      "\n"
     ]
    },
    {
     "name": "stderr",
     "output_type": "stream",
     "text": [
      "Train:  98%|█████████▊| 1195/1224 [00:09<00:00, 131.99it/s, accuracy=0, train_loss=6.76]     \n",
      "Evaluation:  67%|██████▋   | 54/81 [00:11<00:05,  4.69it/s]\n",
      "Train:   0%|          | 0/1224 [00:00<?, ?it/s, accuracy=0, train_loss=6.38]     "
     ]
    },
    {
     "name": "stdout",
     "output_type": "stream",
     "text": [
      "\t - Recall@20 epoch 2: 0.067708\n",
      "\t - MRR@20    epoch 2: 0.019161\n",
      "\n"
     ]
    },
    {
     "name": "stderr",
     "output_type": "stream",
     "text": [
      "Train:  98%|█████████▊| 1195/1224 [00:09<00:00, 132.17it/s, accuracy=0, train_loss=6.52]     \n",
      "Evaluation:  67%|██████▋   | 54/81 [00:11<00:05,  4.66it/s]\n",
      "Train:   0%|          | 0/1224 [00:00<?, ?it/s, accuracy=0, train_loss=6.36]     "
     ]
    },
    {
     "name": "stdout",
     "output_type": "stream",
     "text": [
      "\t - Recall@20 epoch 3: 0.087963\n",
      "\t - MRR@20    epoch 3: 0.024374\n",
      "\n"
     ]
    },
    {
     "name": "stderr",
     "output_type": "stream",
     "text": [
      "Train:  98%|█████████▊| 1195/1224 [00:09<00:00, 132.68it/s, accuracy=0, train_loss=6.38]     \n",
      "Evaluation:  67%|██████▋   | 54/81 [00:11<00:05,  4.82it/s]\n",
      "Train:   0%|          | 0/1224 [00:00<?, ?it/s, accuracy=0.0625, train_loss=5.94]"
     ]
    },
    {
     "name": "stdout",
     "output_type": "stream",
     "text": [
      "\t - Recall@20 epoch 4: 0.113426\n",
      "\t - MRR@20    epoch 4: 0.028871\n",
      "\n"
     ]
    },
    {
     "name": "stderr",
     "output_type": "stream",
     "text": [
      "Train:  98%|█████████▊| 1195/1224 [00:09<00:00, 132.02it/s, accuracy=0, train_loss=6.16]     \n",
      "Evaluation:  67%|██████▋   | 54/81 [00:11<00:05,  4.77it/s]\n",
      "Train:   0%|          | 0/1224 [00:00<?, ?it/s, accuracy=0.0625, train_loss=5.73]"
     ]
    },
    {
     "name": "stdout",
     "output_type": "stream",
     "text": [
      "\t - Recall@20 epoch 5: 0.131366\n",
      "\t - MRR@20    epoch 5: 0.034708\n",
      "\n"
     ]
    },
    {
     "name": "stderr",
     "output_type": "stream",
     "text": [
      "Train:  98%|█████████▊| 1195/1224 [00:09<00:00, 132.01it/s, accuracy=0, train_loss=5.98]     \n",
      "Evaluation:  67%|██████▋   | 54/81 [00:11<00:05,  4.83it/s]\n",
      "Train:   0%|          | 0/1224 [00:00<?, ?it/s, accuracy=0.0625, train_loss=5.57]"
     ]
    },
    {
     "name": "stdout",
     "output_type": "stream",
     "text": [
      "\t - Recall@20 epoch 6: 0.142940\n",
      "\t - MRR@20    epoch 6: 0.037012\n",
      "\n"
     ]
    },
    {
     "name": "stderr",
     "output_type": "stream",
     "text": [
      "Train:  98%|█████████▊| 1195/1224 [00:09<00:00, 132.48it/s, accuracy=0.0312, train_loss=5.81]\n",
      "Evaluation:  67%|██████▋   | 54/81 [00:11<00:05,  4.84it/s]\n",
      "Train:   0%|          | 0/1224 [00:00<?, ?it/s, accuracy=0.0938, train_loss=5.39]"
     ]
    },
    {
     "name": "stdout",
     "output_type": "stream",
     "text": [
      "\t - Recall@20 epoch 7: 0.146991\n",
      "\t - MRR@20    epoch 7: 0.039398\n",
      "\n"
     ]
    },
    {
     "name": "stderr",
     "output_type": "stream",
     "text": [
      "Train:  98%|█████████▊| 1195/1224 [00:09<00:00, 131.56it/s, accuracy=0.0312, train_loss=5.62]\n",
      "Evaluation:  67%|██████▋   | 54/81 [00:11<00:05,  4.76it/s]\n",
      "Train:   0%|          | 0/1224 [00:00<?, ?it/s, accuracy=0.125, train_loss=5.32] "
     ]
    },
    {
     "name": "stdout",
     "output_type": "stream",
     "text": [
      "\t - Recall@20 epoch 8: 0.151042\n",
      "\t - MRR@20    epoch 8: 0.042057\n",
      "\n"
     ]
    },
    {
     "name": "stderr",
     "output_type": "stream",
     "text": [
      "Train:  98%|█████████▊| 1195/1224 [00:09<00:00, 128.11it/s, accuracy=0.0625, train_loss=5.56]\n",
      "Evaluation:  67%|██████▋   | 54/81 [00:11<00:05,  4.75it/s]\n",
      "Train:   0%|          | 0/1224 [00:00<?, ?it/s, accuracy=0, train_loss=5.57]     "
     ]
    },
    {
     "name": "stdout",
     "output_type": "stream",
     "text": [
      "\t - Recall@20 epoch 9: 0.151620\n",
      "\t - MRR@20    epoch 9: 0.041797\n",
      "\n"
     ]
    },
    {
     "name": "stderr",
     "output_type": "stream",
     "text": [
      "Train:  98%|█████████▊| 1195/1224 [00:09<00:00, 132.33it/s, accuracy=0.0625, train_loss=5.38]\n",
      "Evaluation:  67%|██████▋   | 54/81 [00:11<00:05,  4.84it/s]\n",
      "Train:   0%|          | 0/1224 [00:00<?, ?it/s, accuracy=0.0938, train_loss=5.54]"
     ]
    },
    {
     "name": "stdout",
     "output_type": "stream",
     "text": [
      "\t - Recall@20 epoch 10: 0.149884\n",
      "\t - MRR@20    epoch 10: 0.041050\n",
      "\n"
     ]
    },
    {
     "name": "stderr",
     "output_type": "stream",
     "text": [
      "Train:  98%|█████████▊| 1195/1224 [00:09<00:00, 131.63it/s, accuracy=0.0938, train_loss=5.27]\n",
      "Evaluation:  67%|██████▋   | 54/81 [00:11<00:05,  4.84it/s]\n",
      "Train:   0%|          | 0/1224 [00:00<?, ?it/s, accuracy=0.156, train_loss=4.91] "
     ]
    },
    {
     "name": "stdout",
     "output_type": "stream",
     "text": [
      "\t - Recall@20 epoch 11: 0.145833\n",
      "\t - MRR@20    epoch 11: 0.042213\n",
      "\n"
     ]
    },
    {
     "name": "stderr",
     "output_type": "stream",
     "text": [
      "Train:  98%|█████████▊| 1195/1224 [00:09<00:00, 131.59it/s, accuracy=0.0625, train_loss=5.2] \n",
      "Evaluation:  67%|██████▋   | 54/81 [00:10<00:05,  4.93it/s]\n",
      "Train:   0%|          | 0/1224 [00:00<?, ?it/s, accuracy=0.0938, train_loss=5.28]"
     ]
    },
    {
     "name": "stdout",
     "output_type": "stream",
     "text": [
      "\t - Recall@20 epoch 12: 0.146412\n",
      "\t - MRR@20    epoch 12: 0.041323\n",
      "\n"
     ]
    },
    {
     "name": "stderr",
     "output_type": "stream",
     "text": [
      "Train:  98%|█████████▊| 1195/1224 [00:09<00:00, 132.62it/s, accuracy=0.0938, train_loss=5.1] \n",
      "Evaluation:  67%|██████▋   | 54/81 [00:11<00:05,  4.86it/s]\n",
      "Train:   0%|          | 0/1224 [00:00<?, ?it/s, accuracy=0.125, train_loss=4.79] "
     ]
    },
    {
     "name": "stdout",
     "output_type": "stream",
     "text": [
      "\t - Recall@20 epoch 13: 0.141782\n",
      "\t - MRR@20    epoch 13: 0.041508\n",
      "\n"
     ]
    },
    {
     "name": "stderr",
     "output_type": "stream",
     "text": [
      "Train:  98%|█████████▊| 1195/1224 [00:09<00:00, 131.47it/s, accuracy=0.0938, train_loss=4.89]\n",
      "Evaluation:  67%|██████▋   | 54/81 [00:11<00:05,  4.89it/s]\n",
      "Train:   0%|          | 0/1224 [00:00<?, ?it/s, accuracy=0.125, train_loss=4.64] "
     ]
    },
    {
     "name": "stdout",
     "output_type": "stream",
     "text": [
      "\t - Recall@20 epoch 14: 0.143519\n",
      "\t - MRR@20    epoch 14: 0.039740\n",
      "\n"
     ]
    },
    {
     "name": "stderr",
     "output_type": "stream",
     "text": [
      "Train:  98%|█████████▊| 1195/1224 [00:08<00:00, 132.89it/s, accuracy=0.125, train_loss=4.82] \n",
      "Evaluation:  67%|██████▋   | 54/81 [00:11<00:05,  4.86it/s]\n",
      "Train:   0%|          | 0/1224 [00:00<?, ?it/s, accuracy=0.0938, train_loss=4.71]"
     ]
    },
    {
     "name": "stdout",
     "output_type": "stream",
     "text": [
      "\t - Recall@20 epoch 15: 0.144676\n",
      "\t - MRR@20    epoch 15: 0.039009\n",
      "\n"
     ]
    },
    {
     "name": "stderr",
     "output_type": "stream",
     "text": [
      "Train:  98%|█████████▊| 1195/1224 [00:09<00:00, 131.83it/s, accuracy=0.0625, train_loss=4.86]\n",
      "Evaluation:  67%|██████▋   | 54/81 [00:11<00:05,  4.81it/s]\n",
      "Train:   0%|          | 0/1224 [00:00<?, ?it/s, accuracy=0.125, train_loss=4.52] "
     ]
    },
    {
     "name": "stdout",
     "output_type": "stream",
     "text": [
      "\t - Recall@20 epoch 16: 0.137731\n",
      "\t - MRR@20    epoch 16: 0.038227\n",
      "\n"
     ]
    },
    {
     "name": "stderr",
     "output_type": "stream",
     "text": [
      "Train:  98%|█████████▊| 1195/1224 [00:08<00:00, 132.79it/s, accuracy=0.0625, train_loss=4.9] \n",
      "Evaluation:  67%|██████▋   | 54/81 [00:11<00:05,  4.77it/s]\n",
      "Train:   0%|          | 0/1224 [00:00<?, ?it/s, accuracy=0.219, train_loss=4.72] "
     ]
    },
    {
     "name": "stdout",
     "output_type": "stream",
     "text": [
      "\t - Recall@20 epoch 17: 0.137731\n",
      "\t - MRR@20    epoch 17: 0.038140\n",
      "\n"
     ]
    },
    {
     "name": "stderr",
     "output_type": "stream",
     "text": [
      "Train:  98%|█████████▊| 1195/1224 [00:09<00:00, 130.68it/s, accuracy=0.125, train_loss=4.68] \n",
      "Evaluation:  67%|██████▋   | 54/81 [00:11<00:05,  4.86it/s]\n",
      "Train:   0%|          | 0/1224 [00:00<?, ?it/s, accuracy=0.219, train_loss=4.3]  "
     ]
    },
    {
     "name": "stdout",
     "output_type": "stream",
     "text": [
      "\t - Recall@20 epoch 18: 0.134259\n",
      "\t - MRR@20    epoch 18: 0.037820\n",
      "\n"
     ]
    },
    {
     "name": "stderr",
     "output_type": "stream",
     "text": [
      "Train:  98%|█████████▊| 1195/1224 [00:09<00:00, 132.08it/s, accuracy=0.125, train_loss=4.77] \n",
      "Evaluation:  67%|██████▋   | 54/81 [00:11<00:05,  4.85it/s]\n",
      "Train:   0%|          | 0/1224 [00:00<?, ?it/s, accuracy=0.0938, train_loss=4.36]"
     ]
    },
    {
     "name": "stdout",
     "output_type": "stream",
     "text": [
      "\t - Recall@20 epoch 19: 0.136574\n",
      "\t - MRR@20    epoch 19: 0.038465\n",
      "\n"
     ]
    },
    {
     "name": "stderr",
     "output_type": "stream",
     "text": [
      "Train:  98%|█████████▊| 1195/1224 [00:09<00:00, 132.09it/s, accuracy=0.156, train_loss=4.65] \n",
      "Evaluation:  67%|██████▋   | 54/81 [00:11<00:05,  4.85it/s]\n",
      "Evaluation:   0%|          | 0/92 [00:00<?, ?it/s]"
     ]
    },
    {
     "name": "stdout",
     "output_type": "stream",
     "text": [
      "\t - Recall@20 epoch 20: 0.132523\n",
      "\t - MRR@20    epoch 20: 0.038334\n",
      "\n"
     ]
    },
    {
     "name": "stderr",
     "output_type": "stream",
     "text": [
      "Evaluation:  70%|██████▉   | 64/92 [00:12<00:05,  4.98it/s]"
     ]
    },
    {
     "name": "stdout",
     "output_type": "stream",
     "text": [
      "\t - Recall@20: 0.181641\n",
      "\t - MRR@20: 0.060916\n",
      "\n"
     ]
    },
    {
     "name": "stderr",
     "output_type": "stream",
     "text": [
      "\n"
     ]
    }
   ],
   "source": [
    "args = Args(tr, val, test, batch_size=32, hsz=50, drop_rate=0.1, lr=0.001, epochs=20, k=20)\n",
    "model = create_model(args)\n",
    "train_model(model, args)\n",
    "test_model(model, args, test)"
   ]
  },
  {
   "cell_type": "markdown",
   "metadata": {},
   "source": [
    "* batch_size=64 일 때, Recall@20:0.162642 / MRR@20: 0.055901\n",
    "* batch_size=32 일 때, Recall@20:0.181641/ MRR@20: 0.060916 => 성능이 좋아졌긴한데 비슷하다."
   ]
  },
  {
   "cell_type": "markdown",
   "metadata": {},
   "source": [
    "### 1-3. 3년치 데이터 중 2년치 사용하기, val과 test는 1개월씩"
   ]
  },
  {
   "cell_type": "code",
   "execution_count": 136,
   "metadata": {},
   "outputs": [],
   "source": [
    "tr, test = split_by_date(year2_data, n_days=30) # 1개월\n",
    "tr, val = split_by_date(tr, n_days=30) # 1개월\n",
    "\n",
    "# train set에 없는 아이템이 val, test기간에 생길 수 있으므로 train data를 기준으로 인덱싱합니다.\n",
    "id2idx = {item_id : index for index, item_id in enumerate(tr['ItemId'].unique())}\n",
    "\n",
    "tr = indexing(tr, id2idx)\n",
    "val = indexing(val, id2idx)\n",
    "test = indexing(test, id2idx)\n",
    "\n",
    "save_path = data_path / 'processed_year2_30'\n",
    "save_path.mkdir(parents=True, exist_ok=True)\n",
    "\n",
    "tr.to_pickle(save_path / 'train.pkl')\n",
    "val.to_pickle(save_path / 'valid.pkl')\n",
    "test.to_pickle(save_path / 'test.pkl')"
   ]
  },
  {
   "cell_type": "code",
   "execution_count": 137,
   "metadata": {
    "scrolled": true
   },
   "outputs": [
    {
     "name": "stderr",
     "output_type": "stream",
     "text": [
      "\r",
      "Train:   0%|          | 0/1330 [00:00<?, ?it/s]"
     ]
    },
    {
     "name": "stdout",
     "output_type": "stream",
     "text": [
      "Model: \"model_14\"\n",
      "_________________________________________________________________\n",
      "Layer (type)                 Output Shape              Param #   \n",
      "=================================================================\n",
      "input_15 (InputLayer)        [(32, 1, 1123)]           0         \n",
      "_________________________________________________________________\n",
      "GRU (GRU)                    [(32, 50), (32, 50)]      176250    \n",
      "_________________________________________________________________\n",
      "dropout_14 (Dropout)         (32, 50)                  0         \n",
      "_________________________________________________________________\n",
      "dense_14 (Dense)             (32, 1123)                57273     \n",
      "=================================================================\n",
      "Total params: 233,523\n",
      "Trainable params: 233,523\n",
      "Non-trainable params: 0\n",
      "_________________________________________________________________\n"
     ]
    },
    {
     "name": "stderr",
     "output_type": "stream",
     "text": [
      "Train:  98%|█████████▊| 1301/1330 [00:11<00:00, 117.88it/s, accuracy=0, train_loss=6.93]     \n",
      "Evaluation:  42%|████▏     | 15/36 [00:03<00:04,  4.36it/s]\n",
      "Train:   0%|          | 0/1330 [00:00<?, ?it/s, accuracy=0, train_loss=6.74]     "
     ]
    },
    {
     "name": "stdout",
     "output_type": "stream",
     "text": [
      "\t - Recall@20 epoch 1: 0.052083\n",
      "\t - MRR@20    epoch 1: 0.012520\n",
      "\n"
     ]
    },
    {
     "name": "stderr",
     "output_type": "stream",
     "text": [
      "Train:  98%|█████████▊| 1301/1330 [00:09<00:00, 133.47it/s, accuracy=0, train_loss=6.69]     \n",
      "Evaluation:  42%|████▏     | 15/36 [00:03<00:04,  4.79it/s]\n",
      "Train:   0%|          | 0/1330 [00:00<?, ?it/s, accuracy=0, train_loss=6.51]     "
     ]
    },
    {
     "name": "stdout",
     "output_type": "stream",
     "text": [
      "\t - Recall@20 epoch 2: 0.097917\n",
      "\t - MRR@20    epoch 2: 0.019950\n",
      "\n"
     ]
    },
    {
     "name": "stderr",
     "output_type": "stream",
     "text": [
      "Train:  98%|█████████▊| 1301/1330 [00:09<00:00, 133.07it/s, accuracy=0, train_loss=6.51]     \n",
      "Evaluation:  42%|████▏     | 15/36 [00:03<00:04,  4.95it/s]\n",
      "Train:   0%|          | 0/1330 [00:00<?, ?it/s, accuracy=0, train_loss=6.2]      "
     ]
    },
    {
     "name": "stdout",
     "output_type": "stream",
     "text": [
      "\t - Recall@20 epoch 3: 0.131250\n",
      "\t - MRR@20    epoch 3: 0.036018\n",
      "\n"
     ]
    },
    {
     "name": "stderr",
     "output_type": "stream",
     "text": [
      "Train:  98%|█████████▊| 1301/1330 [00:10<00:00, 129.21it/s, accuracy=0, train_loss=6.37]     \n",
      "Evaluation:  42%|████▏     | 15/36 [00:03<00:04,  4.85it/s]\n",
      "Train:   0%|          | 0/1330 [00:00<?, ?it/s, accuracy=0.0312, train_loss=6.05]"
     ]
    },
    {
     "name": "stdout",
     "output_type": "stream",
     "text": [
      "\t - Recall@20 epoch 4: 0.152083\n",
      "\t - MRR@20    epoch 4: 0.044818\n",
      "\n"
     ]
    },
    {
     "name": "stderr",
     "output_type": "stream",
     "text": [
      "Train:  98%|█████████▊| 1301/1330 [00:09<00:00, 130.92it/s, accuracy=0, train_loss=6.17]     \n",
      "Evaluation:  42%|████▏     | 15/36 [00:03<00:04,  4.92it/s]\n",
      "Train:   0%|          | 0/1330 [00:00<?, ?it/s, accuracy=0.0312, train_loss=5.87]"
     ]
    },
    {
     "name": "stdout",
     "output_type": "stream",
     "text": [
      "\t - Recall@20 epoch 5: 0.172917\n",
      "\t - MRR@20    epoch 5: 0.049443\n",
      "\n"
     ]
    },
    {
     "name": "stderr",
     "output_type": "stream",
     "text": [
      "Train:  98%|█████████▊| 1301/1330 [00:09<00:00, 132.06it/s, accuracy=0.0312, train_loss=6.09]\n",
      "Evaluation:  42%|████▏     | 15/36 [00:02<00:04,  5.05it/s]\n",
      "Train:   0%|          | 0/1330 [00:00<?, ?it/s, accuracy=0.0625, train_loss=5.69]"
     ]
    },
    {
     "name": "stdout",
     "output_type": "stream",
     "text": [
      "\t - Recall@20 epoch 6: 0.197917\n",
      "\t - MRR@20    epoch 6: 0.059186\n",
      "\n"
     ]
    },
    {
     "name": "stderr",
     "output_type": "stream",
     "text": [
      "Train:  98%|█████████▊| 1301/1330 [00:09<00:00, 131.60it/s, accuracy=0.0625, train_loss=5.9] \n",
      "Evaluation:  42%|████▏     | 15/36 [00:02<00:04,  5.06it/s]\n",
      "Train:   0%|          | 0/1330 [00:00<?, ?it/s, accuracy=0.0312, train_loss=5.46]"
     ]
    },
    {
     "name": "stdout",
     "output_type": "stream",
     "text": [
      "\t - Recall@20 epoch 7: 0.208333\n",
      "\t - MRR@20    epoch 7: 0.068996\n",
      "\n"
     ]
    },
    {
     "name": "stderr",
     "output_type": "stream",
     "text": [
      "Train:  98%|█████████▊| 1301/1330 [00:09<00:00, 131.56it/s, accuracy=0.0312, train_loss=5.87]\n",
      "Evaluation:  42%|████▏     | 15/36 [00:02<00:04,  5.03it/s]\n",
      "Train:   0%|          | 0/1330 [00:00<?, ?it/s, accuracy=0.0625, train_loss=5.24]"
     ]
    },
    {
     "name": "stdout",
     "output_type": "stream",
     "text": [
      "\t - Recall@20 epoch 8: 0.218750\n",
      "\t - MRR@20    epoch 8: 0.073231\n",
      "\n"
     ]
    },
    {
     "name": "stderr",
     "output_type": "stream",
     "text": [
      "Train:  98%|█████████▊| 1301/1330 [00:09<00:00, 131.90it/s, accuracy=0.0625, train_loss=5.71]\n",
      "Evaluation:  42%|████▏     | 15/36 [00:02<00:04,  5.07it/s]\n",
      "Train:   0%|          | 0/1330 [00:00<?, ?it/s, accuracy=0.0625, train_loss=4.92]"
     ]
    },
    {
     "name": "stdout",
     "output_type": "stream",
     "text": [
      "\t - Recall@20 epoch 9: 0.222917\n",
      "\t - MRR@20    epoch 9: 0.077164\n",
      "\n"
     ]
    },
    {
     "name": "stderr",
     "output_type": "stream",
     "text": [
      "Train:  98%|█████████▊| 1301/1330 [00:09<00:00, 132.54it/s, accuracy=0.0312, train_loss=5.64]\n",
      "Evaluation:  42%|████▏     | 15/36 [00:02<00:04,  5.05it/s]\n",
      "Train:   0%|          | 0/1330 [00:00<?, ?it/s, accuracy=0.0312, train_loss=5.08]"
     ]
    },
    {
     "name": "stdout",
     "output_type": "stream",
     "text": [
      "\t - Recall@20 epoch 10: 0.212500\n",
      "\t - MRR@20    epoch 10: 0.078165\n",
      "\n"
     ]
    },
    {
     "name": "stderr",
     "output_type": "stream",
     "text": [
      "Train:  98%|█████████▊| 1301/1330 [00:09<00:00, 131.99it/s, accuracy=0.0312, train_loss=5.48]\n",
      "Evaluation:  42%|████▏     | 15/36 [00:02<00:04,  5.10it/s]\n",
      "Train:   0%|          | 0/1330 [00:00<?, ?it/s, accuracy=0.0625, train_loss=5.02]"
     ]
    },
    {
     "name": "stdout",
     "output_type": "stream",
     "text": [
      "\t - Recall@20 epoch 11: 0.214583\n",
      "\t - MRR@20    epoch 11: 0.080251\n",
      "\n"
     ]
    },
    {
     "name": "stderr",
     "output_type": "stream",
     "text": [
      "Train:  98%|█████████▊| 1301/1330 [00:09<00:00, 133.16it/s, accuracy=0.0625, train_loss=5.37]\n",
      "Evaluation:  42%|████▏     | 15/36 [00:02<00:04,  5.12it/s]\n",
      "Train:   0%|          | 0/1330 [00:00<?, ?it/s, accuracy=0.0625, train_loss=4.9] "
     ]
    },
    {
     "name": "stdout",
     "output_type": "stream",
     "text": [
      "\t - Recall@20 epoch 12: 0.214583\n",
      "\t - MRR@20    epoch 12: 0.078176\n",
      "\n"
     ]
    },
    {
     "name": "stderr",
     "output_type": "stream",
     "text": [
      "Train:  98%|█████████▊| 1301/1330 [00:09<00:00, 132.36it/s, accuracy=0.0625, train_loss=5.37]\n",
      "Evaluation:  42%|████▏     | 15/36 [00:02<00:04,  5.11it/s]\n",
      "Train:   0%|          | 0/1330 [00:00<?, ?it/s, accuracy=0.0625, train_loss=4.93]"
     ]
    },
    {
     "name": "stdout",
     "output_type": "stream",
     "text": [
      "\t - Recall@20 epoch 13: 0.212500\n",
      "\t - MRR@20    epoch 13: 0.079776\n",
      "\n"
     ]
    },
    {
     "name": "stderr",
     "output_type": "stream",
     "text": [
      "Train:  98%|█████████▊| 1301/1330 [00:09<00:00, 132.63it/s, accuracy=0.0312, train_loss=5.15]\n",
      "Evaluation:  42%|████▏     | 15/36 [00:02<00:04,  5.02it/s]\n",
      "Train:   0%|          | 0/1330 [00:00<?, ?it/s, accuracy=0.125, train_loss=4.54] "
     ]
    },
    {
     "name": "stdout",
     "output_type": "stream",
     "text": [
      "\t - Recall@20 epoch 14: 0.216667\n",
      "\t - MRR@20    epoch 14: 0.076635\n",
      "\n"
     ]
    },
    {
     "name": "stderr",
     "output_type": "stream",
     "text": [
      "Train:  98%|█████████▊| 1301/1330 [00:09<00:00, 132.28it/s, accuracy=0.0625, train_loss=5.04]\n",
      "Evaluation:  42%|████▏     | 15/36 [00:02<00:04,  5.09it/s]\n",
      "Train:   0%|          | 0/1330 [00:00<?, ?it/s, accuracy=0.0938, train_loss=4.43]"
     ]
    },
    {
     "name": "stdout",
     "output_type": "stream",
     "text": [
      "\t - Recall@20 epoch 15: 0.218750\n",
      "\t - MRR@20    epoch 15: 0.075372\n",
      "\n"
     ]
    },
    {
     "name": "stderr",
     "output_type": "stream",
     "text": [
      "Train:  98%|█████████▊| 1301/1330 [00:09<00:00, 132.39it/s, accuracy=0.0938, train_loss=4.98]\n",
      "Evaluation:  42%|████▏     | 15/36 [00:02<00:04,  5.14it/s]\n",
      "Train:   0%|          | 0/1330 [00:00<?, ?it/s, accuracy=0.125, train_loss=4.3]  "
     ]
    },
    {
     "name": "stdout",
     "output_type": "stream",
     "text": [
      "\t - Recall@20 epoch 16: 0.214583\n",
      "\t - MRR@20    epoch 16: 0.076248\n",
      "\n"
     ]
    },
    {
     "name": "stderr",
     "output_type": "stream",
     "text": [
      "Train:  98%|█████████▊| 1301/1330 [00:09<00:00, 132.07it/s, accuracy=0.125, train_loss=4.98] \n",
      "Evaluation:  42%|████▏     | 15/36 [00:02<00:04,  5.10it/s]\n",
      "Train:   0%|          | 0/1330 [00:00<?, ?it/s, accuracy=0.125, train_loss=4.28] "
     ]
    },
    {
     "name": "stdout",
     "output_type": "stream",
     "text": [
      "\t - Recall@20 epoch 17: 0.212500\n",
      "\t - MRR@20    epoch 17: 0.080366\n",
      "\n"
     ]
    },
    {
     "name": "stderr",
     "output_type": "stream",
     "text": [
      "Train:  98%|█████████▊| 1301/1330 [00:09<00:00, 133.02it/s, accuracy=0.0625, train_loss=4.85]\n",
      "Evaluation:  42%|████▏     | 15/36 [00:02<00:04,  5.17it/s]\n",
      "Train:   0%|          | 0/1330 [00:00<?, ?it/s, accuracy=0.0625, train_loss=4.53]"
     ]
    },
    {
     "name": "stdout",
     "output_type": "stream",
     "text": [
      "\t - Recall@20 epoch 18: 0.202083\n",
      "\t - MRR@20    epoch 18: 0.077223\n",
      "\n"
     ]
    },
    {
     "name": "stderr",
     "output_type": "stream",
     "text": [
      "Train:  98%|█████████▊| 1301/1330 [00:09<00:00, 132.25it/s, accuracy=0.0938, train_loss=4.9] \n",
      "Evaluation:  42%|████▏     | 15/36 [00:02<00:04,  5.16it/s]\n",
      "Train:   0%|          | 0/1330 [00:00<?, ?it/s, accuracy=0.125, train_loss=4.22] "
     ]
    },
    {
     "name": "stdout",
     "output_type": "stream",
     "text": [
      "\t - Recall@20 epoch 19: 0.200000\n",
      "\t - MRR@20    epoch 19: 0.075334\n",
      "\n"
     ]
    },
    {
     "name": "stderr",
     "output_type": "stream",
     "text": [
      "Train:  98%|█████████▊| 1301/1330 [00:10<00:00, 128.72it/s, accuracy=0.125, train_loss=4.75] \n",
      "Evaluation:  42%|████▏     | 15/36 [00:02<00:04,  5.01it/s]\n",
      "Evaluation:   0%|          | 0/31 [00:00<?, ?it/s]"
     ]
    },
    {
     "name": "stdout",
     "output_type": "stream",
     "text": [
      "\t - Recall@20 epoch 20: 0.202083\n",
      "\t - MRR@20    epoch 20: 0.076565\n",
      "\n"
     ]
    },
    {
     "name": "stderr",
     "output_type": "stream",
     "text": [
      "Evaluation:  26%|██▌       | 8/31 [00:01<00:04,  4.96it/s]"
     ]
    },
    {
     "name": "stdout",
     "output_type": "stream",
     "text": [
      "\t - Recall@20: 0.160156\n",
      "\t - MRR@20: 0.053640\n",
      "\n"
     ]
    },
    {
     "name": "stderr",
     "output_type": "stream",
     "text": [
      "\n"
     ]
    }
   ],
   "source": [
    "args = Args(tr, val, test, batch_size=32, hsz=50, drop_rate=0.1, lr=0.001, epochs=20, k=20)\n",
    "model = create_model(args)\n",
    "train_model(model, args)\n",
    "test_model(model, args, test)"
   ]
  },
  {
   "cell_type": "markdown",
   "metadata": {},
   "source": [
    "* 2년치사용, val과 test는 3개월씩, batch_size 32 => Recall@20:0.181641/ MRR@20: 0.060916\n",
    "* 2년치사용, val과 test는 1개월씩, batch_size 32 => Recall@20: 0.160156 /  MRR@20: 0.053640 => 비슷하게 나왔다. "
   ]
  },
  {
   "cell_type": "markdown",
   "metadata": {},
   "source": [
    "### => drop_rate 을 0.1에서 0.2로 바꾸면?"
   ]
  },
  {
   "cell_type": "code",
   "execution_count": 138,
   "metadata": {
    "scrolled": true
   },
   "outputs": [
    {
     "name": "stderr",
     "output_type": "stream",
     "text": [
      "\r",
      "Train:   0%|          | 0/1330 [00:00<?, ?it/s]"
     ]
    },
    {
     "name": "stdout",
     "output_type": "stream",
     "text": [
      "Model: \"model_15\"\n",
      "_________________________________________________________________\n",
      "Layer (type)                 Output Shape              Param #   \n",
      "=================================================================\n",
      "input_16 (InputLayer)        [(32, 1, 1123)]           0         \n",
      "_________________________________________________________________\n",
      "GRU (GRU)                    [(32, 50), (32, 50)]      176250    \n",
      "_________________________________________________________________\n",
      "dropout_15 (Dropout)         (32, 50)                  0         \n",
      "_________________________________________________________________\n",
      "dense_15 (Dense)             (32, 1123)                57273     \n",
      "=================================================================\n",
      "Total params: 233,523\n",
      "Trainable params: 233,523\n",
      "Non-trainable params: 0\n",
      "_________________________________________________________________\n"
     ]
    },
    {
     "name": "stderr",
     "output_type": "stream",
     "text": [
      "Train:  98%|█████████▊| 1301/1330 [00:11<00:00, 117.65it/s, accuracy=0, train_loss=6.97]     \n",
      "Evaluation:  42%|████▏     | 15/36 [00:03<00:04,  4.29it/s]\n",
      "Train:   0%|          | 0/1330 [00:00<?, ?it/s, accuracy=0, train_loss=6.77]     "
     ]
    },
    {
     "name": "stdout",
     "output_type": "stream",
     "text": [
      "\t - Recall@20 epoch 1: 0.054167\n",
      "\t - MRR@20    epoch 1: 0.012224\n",
      "\n"
     ]
    },
    {
     "name": "stderr",
     "output_type": "stream",
     "text": [
      "Train:  98%|█████████▊| 1301/1330 [00:09<00:00, 132.51it/s, accuracy=0, train_loss=6.71]     \n",
      "Evaluation:  42%|████▏     | 15/36 [00:03<00:04,  4.71it/s]\n",
      "Train:   0%|          | 0/1330 [00:00<?, ?it/s, accuracy=0, train_loss=6.38]     "
     ]
    },
    {
     "name": "stdout",
     "output_type": "stream",
     "text": [
      "\t - Recall@20 epoch 2: 0.081250\n",
      "\t - MRR@20    epoch 2: 0.023766\n",
      "\n"
     ]
    },
    {
     "name": "stderr",
     "output_type": "stream",
     "text": [
      "Train:  98%|█████████▊| 1301/1330 [00:09<00:00, 131.78it/s, accuracy=0, train_loss=6.56]     \n",
      "Evaluation:  42%|████▏     | 15/36 [00:03<00:04,  4.87it/s]\n",
      "Train:   0%|          | 0/1330 [00:00<?, ?it/s, accuracy=0, train_loss=6.29]     "
     ]
    },
    {
     "name": "stdout",
     "output_type": "stream",
     "text": [
      "\t - Recall@20 epoch 3: 0.112500\n",
      "\t - MRR@20    epoch 3: 0.031124\n",
      "\n"
     ]
    },
    {
     "name": "stderr",
     "output_type": "stream",
     "text": [
      "Train:  98%|█████████▊| 1301/1330 [00:09<00:00, 131.59it/s, accuracy=0, train_loss=6.44]     \n",
      "Evaluation:  42%|████▏     | 15/36 [00:03<00:04,  4.89it/s]\n",
      "Train:   0%|          | 0/1330 [00:00<?, ?it/s, accuracy=0, train_loss=6.08]     "
     ]
    },
    {
     "name": "stdout",
     "output_type": "stream",
     "text": [
      "\t - Recall@20 epoch 4: 0.143750\n",
      "\t - MRR@20    epoch 4: 0.046177\n",
      "\n"
     ]
    },
    {
     "name": "stderr",
     "output_type": "stream",
     "text": [
      "Train:  98%|█████████▊| 1301/1330 [00:09<00:00, 132.44it/s, accuracy=0.0312, train_loss=6.3] \n",
      "Evaluation:  42%|████▏     | 15/36 [00:03<00:04,  4.63it/s]\n",
      "Train:   0%|          | 0/1330 [00:00<?, ?it/s, accuracy=0.0625, train_loss=5.66]"
     ]
    },
    {
     "name": "stdout",
     "output_type": "stream",
     "text": [
      "\t - Recall@20 epoch 5: 0.160417\n",
      "\t - MRR@20    epoch 5: 0.051683\n",
      "\n"
     ]
    },
    {
     "name": "stderr",
     "output_type": "stream",
     "text": [
      "Train:  98%|█████████▊| 1301/1330 [00:09<00:00, 133.37it/s, accuracy=0.0625, train_loss=6.17]\n",
      "Evaluation:  42%|████▏     | 15/36 [00:03<00:04,  4.86it/s]\n",
      "Train:   0%|          | 0/1330 [00:00<?, ?it/s, accuracy=0.0625, train_loss=5.76]"
     ]
    },
    {
     "name": "stdout",
     "output_type": "stream",
     "text": [
      "\t - Recall@20 epoch 6: 0.170833\n",
      "\t - MRR@20    epoch 6: 0.052373\n",
      "\n"
     ]
    },
    {
     "name": "stderr",
     "output_type": "stream",
     "text": [
      "Train:  98%|█████████▊| 1301/1330 [00:09<00:00, 131.99it/s, accuracy=0.0312, train_loss=6.01]\n",
      "Evaluation:  42%|████▏     | 15/36 [00:02<00:04,  5.07it/s]\n",
      "Train:   0%|          | 0/1330 [00:00<?, ?it/s, accuracy=0.0938, train_loss=5.54]"
     ]
    },
    {
     "name": "stdout",
     "output_type": "stream",
     "text": [
      "\t - Recall@20 epoch 7: 0.168750\n",
      "\t - MRR@20    epoch 7: 0.063135\n",
      "\n"
     ]
    },
    {
     "name": "stderr",
     "output_type": "stream",
     "text": [
      "Train:  98%|█████████▊| 1301/1330 [00:09<00:00, 131.32it/s, accuracy=0.0312, train_loss=6.03]\n",
      "Evaluation:  42%|████▏     | 15/36 [00:02<00:04,  5.03it/s]\n",
      "Train:   0%|          | 0/1330 [00:00<?, ?it/s, accuracy=0.0938, train_loss=5.46]"
     ]
    },
    {
     "name": "stdout",
     "output_type": "stream",
     "text": [
      "\t - Recall@20 epoch 8: 0.179167\n",
      "\t - MRR@20    epoch 8: 0.065062\n",
      "\n"
     ]
    },
    {
     "name": "stderr",
     "output_type": "stream",
     "text": [
      "Train:  98%|█████████▊| 1301/1330 [00:09<00:00, 132.22it/s, accuracy=0.0312, train_loss=6.07]\n",
      "Evaluation:  42%|████▏     | 15/36 [00:03<00:04,  4.94it/s]\n",
      "Train:   0%|          | 0/1330 [00:00<?, ?it/s, accuracy=0, train_loss=5.36]     "
     ]
    },
    {
     "name": "stdout",
     "output_type": "stream",
     "text": [
      "\t - Recall@20 epoch 9: 0.189583\n",
      "\t - MRR@20    epoch 9: 0.067447\n",
      "\n"
     ]
    },
    {
     "name": "stderr",
     "output_type": "stream",
     "text": [
      "Train:  98%|█████████▊| 1301/1330 [00:10<00:00, 127.02it/s, accuracy=0.0312, train_loss=5.9] \n",
      "Evaluation:  42%|████▏     | 15/36 [00:02<00:04,  5.02it/s]\n",
      "Train:   0%|          | 0/1330 [00:00<?, ?it/s, accuracy=0.0938, train_loss=5.2] "
     ]
    },
    {
     "name": "stdout",
     "output_type": "stream",
     "text": [
      "\t - Recall@20 epoch 10: 0.187500\n",
      "\t - MRR@20    epoch 10: 0.068910\n",
      "\n"
     ]
    },
    {
     "name": "stderr",
     "output_type": "stream",
     "text": [
      "Train:  98%|█████████▊| 1301/1330 [00:10<00:00, 129.64it/s, accuracy=0.0312, train_loss=5.76]\n",
      "Evaluation:  42%|████▏     | 15/36 [00:03<00:04,  4.87it/s]\n",
      "Train:   0%|          | 0/1330 [00:00<?, ?it/s, accuracy=0, train_loss=5.2]      "
     ]
    },
    {
     "name": "stdout",
     "output_type": "stream",
     "text": [
      "\t - Recall@20 epoch 11: 0.189583\n",
      "\t - MRR@20    epoch 11: 0.066627\n",
      "\n"
     ]
    },
    {
     "name": "stderr",
     "output_type": "stream",
     "text": [
      "Train:  98%|█████████▊| 1301/1330 [00:09<00:00, 130.73it/s, accuracy=0.0625, train_loss=5.74]\n",
      "Evaluation:  42%|████▏     | 15/36 [00:02<00:04,  5.02it/s]\n",
      "Train:   0%|          | 0/1330 [00:00<?, ?it/s, accuracy=0.0625, train_loss=4.88]"
     ]
    },
    {
     "name": "stdout",
     "output_type": "stream",
     "text": [
      "\t - Recall@20 epoch 12: 0.195833\n",
      "\t - MRR@20    epoch 12: 0.068091\n",
      "\n"
     ]
    },
    {
     "name": "stderr",
     "output_type": "stream",
     "text": [
      "Train:  98%|█████████▊| 1301/1330 [00:09<00:00, 130.58it/s, accuracy=0.0312, train_loss=5.69]\n",
      "Evaluation:  42%|████▏     | 15/36 [00:02<00:04,  5.04it/s]\n",
      "Train:   0%|          | 0/1330 [00:00<?, ?it/s, accuracy=0.0938, train_loss=5.01]"
     ]
    },
    {
     "name": "stdout",
     "output_type": "stream",
     "text": [
      "\t - Recall@20 epoch 13: 0.193750\n",
      "\t - MRR@20    epoch 13: 0.066507\n",
      "\n"
     ]
    },
    {
     "name": "stderr",
     "output_type": "stream",
     "text": [
      "Train:  98%|█████████▊| 1301/1330 [00:09<00:00, 131.76it/s, accuracy=0.0938, train_loss=5.44]\n",
      "Evaluation:  42%|████▏     | 15/36 [00:02<00:04,  5.04it/s]\n",
      "Train:   0%|          | 0/1330 [00:00<?, ?it/s, accuracy=0.156, train_loss=4.84] "
     ]
    },
    {
     "name": "stdout",
     "output_type": "stream",
     "text": [
      "\t - Recall@20 epoch 14: 0.200000\n",
      "\t - MRR@20    epoch 14: 0.070528\n",
      "\n"
     ]
    },
    {
     "name": "stderr",
     "output_type": "stream",
     "text": [
      "Train:  98%|█████████▊| 1301/1330 [00:09<00:00, 132.05it/s, accuracy=0.0938, train_loss=5.49]\n",
      "Evaluation:  42%|████▏     | 15/36 [00:02<00:04,  5.10it/s]\n",
      "Train:   0%|          | 0/1330 [00:00<?, ?it/s, accuracy=0.0312, train_loss=5.02]"
     ]
    },
    {
     "name": "stdout",
     "output_type": "stream",
     "text": [
      "\t - Recall@20 epoch 15: 0.202083\n",
      "\t - MRR@20    epoch 15: 0.070148\n",
      "\n"
     ]
    },
    {
     "name": "stderr",
     "output_type": "stream",
     "text": [
      "Train:  98%|█████████▊| 1301/1330 [00:09<00:00, 131.86it/s, accuracy=0.0312, train_loss=5.45]\n",
      "Evaluation:  42%|████▏     | 15/36 [00:02<00:04,  5.12it/s]\n",
      "Train:   0%|          | 0/1330 [00:00<?, ?it/s, accuracy=0.188, train_loss=4.64] "
     ]
    },
    {
     "name": "stdout",
     "output_type": "stream",
     "text": [
      "\t - Recall@20 epoch 16: 0.200000\n",
      "\t - MRR@20    epoch 16: 0.069192\n",
      "\n"
     ]
    },
    {
     "name": "stderr",
     "output_type": "stream",
     "text": [
      "Train:  98%|█████████▊| 1301/1330 [00:09<00:00, 130.18it/s, accuracy=0.0938, train_loss=5.2] \n",
      "Evaluation:  42%|████▏     | 15/36 [00:02<00:04,  5.04it/s]\n",
      "Train:   0%|          | 0/1330 [00:00<?, ?it/s, accuracy=0.0938, train_loss=4.63]"
     ]
    },
    {
     "name": "stdout",
     "output_type": "stream",
     "text": [
      "\t - Recall@20 epoch 17: 0.200000\n",
      "\t - MRR@20    epoch 17: 0.070785\n",
      "\n"
     ]
    },
    {
     "name": "stderr",
     "output_type": "stream",
     "text": [
      "Train:  98%|█████████▊| 1301/1330 [00:09<00:00, 130.61it/s, accuracy=0.156, train_loss=5.08] \n",
      "Evaluation:  42%|████▏     | 15/36 [00:02<00:04,  5.05it/s]\n",
      "Train:   0%|          | 0/1330 [00:00<?, ?it/s, accuracy=0.0938, train_loss=4.77]"
     ]
    },
    {
     "name": "stdout",
     "output_type": "stream",
     "text": [
      "\t - Recall@20 epoch 18: 0.202083\n",
      "\t - MRR@20    epoch 18: 0.071847\n",
      "\n"
     ]
    },
    {
     "name": "stderr",
     "output_type": "stream",
     "text": [
      "Train:  98%|█████████▊| 1301/1330 [00:09<00:00, 131.21it/s, accuracy=0.125, train_loss=5.3]  \n",
      "Evaluation:  42%|████▏     | 15/36 [00:02<00:04,  5.16it/s]\n",
      "Train:   0%|          | 0/1330 [00:00<?, ?it/s, accuracy=0.0625, train_loss=4.44]"
     ]
    },
    {
     "name": "stdout",
     "output_type": "stream",
     "text": [
      "\t - Recall@20 epoch 19: 0.197917\n",
      "\t - MRR@20    epoch 19: 0.072278\n",
      "\n"
     ]
    },
    {
     "name": "stderr",
     "output_type": "stream",
     "text": [
      "Train:  98%|█████████▊| 1301/1330 [00:09<00:00, 132.01it/s, accuracy=0.0625, train_loss=5.3] \n",
      "Evaluation:  42%|████▏     | 15/36 [00:02<00:04,  5.00it/s]\n",
      "Evaluation:   0%|          | 0/31 [00:00<?, ?it/s]"
     ]
    },
    {
     "name": "stdout",
     "output_type": "stream",
     "text": [
      "\t - Recall@20 epoch 20: 0.195833\n",
      "\t - MRR@20    epoch 20: 0.072054\n",
      "\n"
     ]
    },
    {
     "name": "stderr",
     "output_type": "stream",
     "text": [
      "Evaluation:  26%|██▌       | 8/31 [00:01<00:04,  5.01it/s]"
     ]
    },
    {
     "name": "stdout",
     "output_type": "stream",
     "text": [
      "\t - Recall@20: 0.160156\n",
      "\t - MRR@20: 0.047193\n",
      "\n"
     ]
    },
    {
     "name": "stderr",
     "output_type": "stream",
     "text": [
      "\n"
     ]
    }
   ],
   "source": [
    "args = Args(tr, val, test, batch_size=32, hsz=50, drop_rate=0.2, lr=0.001, epochs=20, k=20)\n",
    "model = create_model(args)\n",
    "train_model(model, args)\n",
    "test_model(model, args, test)"
   ]
  },
  {
   "cell_type": "markdown",
   "metadata": {},
   "source": [
    "* 비슷한 결과가 나온다. MRR은 조금 감소했다."
   ]
  },
  {
   "cell_type": "markdown",
   "metadata": {},
   "source": [
    "### 1-4. 3년치 데이터 중 3년치 사용하기, val과 test는 3개월씩"
   ]
  },
  {
   "cell_type": "code",
   "execution_count": 139,
   "metadata": {},
   "outputs": [
    {
     "data": {
      "text/html": [
       "<div>\n",
       "<style scoped>\n",
       "    .dataframe tbody tr th:only-of-type {\n",
       "        vertical-align: middle;\n",
       "    }\n",
       "\n",
       "    .dataframe tbody tr th {\n",
       "        vertical-align: top;\n",
       "    }\n",
       "\n",
       "    .dataframe thead th {\n",
       "        text-align: right;\n",
       "    }\n",
       "</style>\n",
       "<table border=\"1\" class=\"dataframe\">\n",
       "  <thead>\n",
       "    <tr style=\"text-align: right;\">\n",
       "      <th></th>\n",
       "      <th>UserId</th>\n",
       "      <th>ItemId</th>\n",
       "      <th>Rating</th>\n",
       "      <th>Time</th>\n",
       "      <th>SessionId</th>\n",
       "      <th>DateTime</th>\n",
       "    </tr>\n",
       "  </thead>\n",
       "  <tbody>\n",
       "    <tr>\n",
       "      <th>31</th>\n",
       "      <td>1</td>\n",
       "      <td>3186</td>\n",
       "      <td>4</td>\n",
       "      <td>978300019</td>\n",
       "      <td>1</td>\n",
       "      <td>2000-12-31 22:00:19</td>\n",
       "    </tr>\n",
       "    <tr>\n",
       "      <th>22</th>\n",
       "      <td>1</td>\n",
       "      <td>1270</td>\n",
       "      <td>5</td>\n",
       "      <td>978300055</td>\n",
       "      <td>1</td>\n",
       "      <td>2000-12-31 22:00:55</td>\n",
       "    </tr>\n",
       "    <tr>\n",
       "      <th>27</th>\n",
       "      <td>1</td>\n",
       "      <td>1721</td>\n",
       "      <td>4</td>\n",
       "      <td>978300055</td>\n",
       "      <td>1</td>\n",
       "      <td>2000-12-31 22:00:55</td>\n",
       "    </tr>\n",
       "    <tr>\n",
       "      <th>37</th>\n",
       "      <td>1</td>\n",
       "      <td>1022</td>\n",
       "      <td>5</td>\n",
       "      <td>978300055</td>\n",
       "      <td>1</td>\n",
       "      <td>2000-12-31 22:00:55</td>\n",
       "    </tr>\n",
       "    <tr>\n",
       "      <th>24</th>\n",
       "      <td>1</td>\n",
       "      <td>2340</td>\n",
       "      <td>3</td>\n",
       "      <td>978300103</td>\n",
       "      <td>1</td>\n",
       "      <td>2000-12-31 22:01:43</td>\n",
       "    </tr>\n",
       "    <tr>\n",
       "      <th>...</th>\n",
       "      <td>...</td>\n",
       "      <td>...</td>\n",
       "      <td>...</td>\n",
       "      <td>...</td>\n",
       "      <td>...</td>\n",
       "      <td>...</td>\n",
       "    </tr>\n",
       "    <tr>\n",
       "      <th>999923</th>\n",
       "      <td>6040</td>\n",
       "      <td>232</td>\n",
       "      <td>5</td>\n",
       "      <td>997454398</td>\n",
       "      <td>25162</td>\n",
       "      <td>2001-08-10 14:39:58</td>\n",
       "    </tr>\n",
       "    <tr>\n",
       "      <th>1000019</th>\n",
       "      <td>6040</td>\n",
       "      <td>2917</td>\n",
       "      <td>4</td>\n",
       "      <td>997454429</td>\n",
       "      <td>25162</td>\n",
       "      <td>2001-08-10 14:40:29</td>\n",
       "    </tr>\n",
       "    <tr>\n",
       "      <th>999988</th>\n",
       "      <td>6040</td>\n",
       "      <td>1921</td>\n",
       "      <td>4</td>\n",
       "      <td>997454464</td>\n",
       "      <td>25162</td>\n",
       "      <td>2001-08-10 14:41:04</td>\n",
       "    </tr>\n",
       "    <tr>\n",
       "      <th>1000172</th>\n",
       "      <td>6040</td>\n",
       "      <td>1784</td>\n",
       "      <td>3</td>\n",
       "      <td>997454464</td>\n",
       "      <td>25162</td>\n",
       "      <td>2001-08-10 14:41:04</td>\n",
       "    </tr>\n",
       "    <tr>\n",
       "      <th>1000167</th>\n",
       "      <td>6040</td>\n",
       "      <td>161</td>\n",
       "      <td>3</td>\n",
       "      <td>997454486</td>\n",
       "      <td>25162</td>\n",
       "      <td>2001-08-10 14:41:26</td>\n",
       "    </tr>\n",
       "  </tbody>\n",
       "</table>\n",
       "<p>988357 rows × 6 columns</p>\n",
       "</div>"
      ],
      "text/plain": [
       "         UserId  ItemId  Rating       Time  SessionId            DateTime\n",
       "31            1    3186       4  978300019          1 2000-12-31 22:00:19\n",
       "22            1    1270       5  978300055          1 2000-12-31 22:00:55\n",
       "27            1    1721       4  978300055          1 2000-12-31 22:00:55\n",
       "37            1    1022       5  978300055          1 2000-12-31 22:00:55\n",
       "24            1    2340       3  978300103          1 2000-12-31 22:01:43\n",
       "...         ...     ...     ...        ...        ...                 ...\n",
       "999923     6040     232       5  997454398      25162 2001-08-10 14:39:58\n",
       "1000019    6040    2917       4  997454429      25162 2001-08-10 14:40:29\n",
       "999988     6040    1921       4  997454464      25162 2001-08-10 14:41:04\n",
       "1000172    6040    1784       3  997454464      25162 2001-08-10 14:41:04\n",
       "1000167    6040     161       3  997454486      25162 2001-08-10 14:41:26\n",
       "\n",
       "[988357 rows x 6 columns]"
      ]
     },
     "execution_count": 139,
     "metadata": {},
     "output_type": "execute_result"
    }
   ],
   "source": [
    "year3_data = cleanse_recursive(data, shortest=2, least_click=20)\n",
    "year3_data"
   ]
  },
  {
   "cell_type": "code",
   "execution_count": 140,
   "metadata": {},
   "outputs": [],
   "source": [
    "tr, test = split_by_date(year3_data, n_days=90) # 3개월\n",
    "tr, val = split_by_date(tr, n_days=90) # 3개월\n",
    "\n",
    "# train set에 없는 아이템이 val, test기간에 생길 수 있으므로 train data를 기준으로 인덱싱합니다.\n",
    "id2idx = {item_id : index for index, item_id in enumerate(tr['ItemId'].unique())}\n",
    "\n",
    "tr = indexing(tr, id2idx)\n",
    "val = indexing(val, id2idx)\n",
    "test = indexing(test, id2idx)\n",
    "\n",
    "save_path = data_path / 'processed_year3'\n",
    "save_path.mkdir(parents=True, exist_ok=True)\n",
    "\n",
    "tr.to_pickle(save_path / 'train.pkl')\n",
    "val.to_pickle(save_path / 'valid.pkl')\n",
    "test.to_pickle(save_path / 'test.pkl')"
   ]
  },
  {
   "cell_type": "code",
   "execution_count": 141,
   "metadata": {},
   "outputs": [
    {
     "name": "stderr",
     "output_type": "stream",
     "text": [
      "\r",
      "Train:   0%|          | 0/15043 [00:00<?, ?it/s]"
     ]
    },
    {
     "name": "stdout",
     "output_type": "stream",
     "text": [
      "Model: \"model_16\"\n",
      "_________________________________________________________________\n",
      "Layer (type)                 Output Shape              Param #   \n",
      "=================================================================\n",
      "input_17 (InputLayer)        [(64, 1, 3025)]           0         \n",
      "_________________________________________________________________\n",
      "GRU (GRU)                    [(64, 50), (64, 50)]      461550    \n",
      "_________________________________________________________________\n",
      "dropout_16 (Dropout)         (64, 50)                  0         \n",
      "_________________________________________________________________\n",
      "dense_16 (Dense)             (64, 3025)                154275    \n",
      "=================================================================\n",
      "Total params: 615,825\n",
      "Trainable params: 615,825\n",
      "Non-trainable params: 0\n",
      "_________________________________________________________________\n"
     ]
    },
    {
     "name": "stderr",
     "output_type": "stream",
     "text": [
      "Train:  99%|█████████▉| 14946/15043 [02:55<00:01, 85.31it/s, accuracy=0.0312, train_loss=5.88]\n",
      "Evaluation:  45%|████▌     | 25/55 [00:09<00:11,  2.52it/s]\n",
      "Train:   0%|          | 0/15043 [00:00<?, ?it/s, accuracy=0.0312, train_loss=6]   "
     ]
    },
    {
     "name": "stdout",
     "output_type": "stream",
     "text": [
      "\t - Recall@20 epoch 1: 0.128125\n",
      "\t - MRR@20    epoch 1: 0.030877\n",
      "\n"
     ]
    },
    {
     "name": "stderr",
     "output_type": "stream",
     "text": [
      "Train:  99%|█████████▉| 14946/15043 [02:51<00:01, 87.28it/s, accuracy=0.0781, train_loss=5.69]\n",
      "Evaluation:  45%|████▌     | 25/55 [00:09<00:11,  2.64it/s]\n",
      "Train:   0%|          | 0/15043 [00:00<?, ?it/s, accuracy=0.0312, train_loss=5.87]"
     ]
    },
    {
     "name": "stdout",
     "output_type": "stream",
     "text": [
      "\t - Recall@20 epoch 2: 0.145000\n",
      "\t - MRR@20    epoch 2: 0.037325\n",
      "\n"
     ]
    },
    {
     "name": "stderr",
     "output_type": "stream",
     "text": [
      "Train:  99%|█████████▉| 14946/15043 [02:52<00:01, 86.58it/s, accuracy=0.0312, train_loss=5.51]\n",
      "Evaluation:  45%|████▌     | 25/55 [00:09<00:11,  2.66it/s]\n",
      "Train:   0%|          | 0/15043 [00:00<?, ?it/s, accuracy=0.0312, train_loss=5.89]"
     ]
    },
    {
     "name": "stdout",
     "output_type": "stream",
     "text": [
      "\t - Recall@20 epoch 3: 0.155625\n",
      "\t - MRR@20    epoch 3: 0.044071\n",
      "\n"
     ]
    },
    {
     "name": "stderr",
     "output_type": "stream",
     "text": [
      "Train:  99%|█████████▉| 14946/15043 [02:51<00:01, 87.28it/s, accuracy=0.0312, train_loss=5.53]\n",
      "Evaluation:  45%|████▌     | 25/55 [00:09<00:11,  2.60it/s]\n",
      "Train:   0%|          | 0/15043 [00:00<?, ?it/s, accuracy=0.0625, train_loss=5.82]"
     ]
    },
    {
     "name": "stdout",
     "output_type": "stream",
     "text": [
      "\t - Recall@20 epoch 4: 0.159375\n",
      "\t - MRR@20    epoch 4: 0.045874\n",
      "\n"
     ]
    },
    {
     "name": "stderr",
     "output_type": "stream",
     "text": [
      "Train:  99%|█████████▉| 14946/15043 [02:52<00:01, 86.60it/s, accuracy=0.0469, train_loss=5.48]\n",
      "Evaluation:  45%|████▌     | 25/55 [00:09<00:11,  2.64it/s]\n",
      "Train:   0%|          | 0/15043 [00:00<?, ?it/s, accuracy=0.0312, train_loss=5.54]"
     ]
    },
    {
     "name": "stdout",
     "output_type": "stream",
     "text": [
      "\t - Recall@20 epoch 5: 0.160625\n",
      "\t - MRR@20    epoch 5: 0.046046\n",
      "\n"
     ]
    },
    {
     "name": "stderr",
     "output_type": "stream",
     "text": [
      "Train:  99%|█████████▉| 14946/15043 [02:52<00:01, 86.40it/s, accuracy=0.0156, train_loss=5.47]\n",
      "Evaluation:  45%|████▌     | 25/55 [00:09<00:11,  2.58it/s]\n",
      "Train:   0%|          | 0/15043 [00:00<?, ?it/s, accuracy=0.0781, train_loss=5.73]"
     ]
    },
    {
     "name": "stdout",
     "output_type": "stream",
     "text": [
      "\t - Recall@20 epoch 6: 0.163125\n",
      "\t - MRR@20    epoch 6: 0.048382\n",
      "\n"
     ]
    },
    {
     "name": "stderr",
     "output_type": "stream",
     "text": [
      "Train:  99%|█████████▉| 14946/15043 [02:51<00:01, 87.34it/s, accuracy=0.0312, train_loss=5.41]\n",
      "Evaluation:  45%|████▌     | 25/55 [00:09<00:11,  2.64it/s]\n",
      "Train:   0%|          | 0/15043 [00:00<?, ?it/s, accuracy=0.0469, train_loss=5.75]"
     ]
    },
    {
     "name": "stdout",
     "output_type": "stream",
     "text": [
      "\t - Recall@20 epoch 7: 0.163125\n",
      "\t - MRR@20    epoch 7: 0.048366\n",
      "\n"
     ]
    },
    {
     "name": "stderr",
     "output_type": "stream",
     "text": [
      "Train:  99%|█████████▉| 14946/15043 [02:53<00:01, 86.36it/s, accuracy=0.0312, train_loss=5.45]\n",
      "Evaluation:  45%|████▌     | 25/55 [00:09<00:11,  2.60it/s]\n",
      "Train:   0%|          | 0/15043 [00:00<?, ?it/s, accuracy=0.0312, train_loss=5.41]"
     ]
    },
    {
     "name": "stdout",
     "output_type": "stream",
     "text": [
      "\t - Recall@20 epoch 8: 0.166250\n",
      "\t - MRR@20    epoch 8: 0.048993\n",
      "\n"
     ]
    },
    {
     "name": "stderr",
     "output_type": "stream",
     "text": [
      "Train:  99%|█████████▉| 14946/15043 [02:50<00:01, 87.48it/s, accuracy=0.0156, train_loss=5.44]\n",
      "Evaluation:  45%|████▌     | 25/55 [00:09<00:11,  2.68it/s]\n",
      "Train:   0%|          | 0/15043 [00:00<?, ?it/s, accuracy=0.0312, train_loss=5.76]"
     ]
    },
    {
     "name": "stdout",
     "output_type": "stream",
     "text": [
      "\t - Recall@20 epoch 9: 0.162500\n",
      "\t - MRR@20    epoch 9: 0.047300\n",
      "\n"
     ]
    },
    {
     "name": "stderr",
     "output_type": "stream",
     "text": [
      "Train:  99%|█████████▉| 14946/15043 [02:52<00:01, 86.64it/s, accuracy=0.0156, train_loss=5.35]\n",
      "Evaluation:  45%|████▌     | 25/55 [00:09<00:11,  2.65it/s]\n",
      "Train:   0%|          | 0/15043 [00:00<?, ?it/s, accuracy=0.0156, train_loss=5.81]"
     ]
    },
    {
     "name": "stdout",
     "output_type": "stream",
     "text": [
      "\t - Recall@20 epoch 10: 0.166250\n",
      "\t - MRR@20    epoch 10: 0.049238\n",
      "\n"
     ]
    },
    {
     "name": "stderr",
     "output_type": "stream",
     "text": [
      "Train:  99%|█████████▉| 14946/15043 [02:51<00:01, 87.08it/s, accuracy=0.0312, train_loss=5.54]\n",
      "Evaluation:  45%|████▌     | 25/55 [00:09<00:11,  2.64it/s]\n",
      "Train:   0%|          | 0/15043 [00:00<?, ?it/s, accuracy=0.0781, train_loss=5.7] "
     ]
    },
    {
     "name": "stdout",
     "output_type": "stream",
     "text": [
      "\t - Recall@20 epoch 11: 0.169375\n",
      "\t - MRR@20    epoch 11: 0.049409\n",
      "\n"
     ]
    },
    {
     "name": "stderr",
     "output_type": "stream",
     "text": [
      "Train:  99%|█████████▉| 14946/15043 [02:51<00:01, 87.12it/s, accuracy=0, train_loss=5.45]     \n",
      "Evaluation:  45%|████▌     | 25/55 [00:09<00:11,  2.67it/s]\n",
      "Train:   0%|          | 0/15043 [00:00<?, ?it/s, accuracy=0.0312, train_loss=5.75]"
     ]
    },
    {
     "name": "stdout",
     "output_type": "stream",
     "text": [
      "\t - Recall@20 epoch 12: 0.169375\n",
      "\t - MRR@20    epoch 12: 0.049033\n",
      "\n"
     ]
    },
    {
     "name": "stderr",
     "output_type": "stream",
     "text": [
      "Train:  99%|█████████▉| 14946/15043 [02:52<00:01, 86.66it/s, accuracy=0.0469, train_loss=5.43]\n",
      "Evaluation:  45%|████▌     | 25/55 [00:09<00:11,  2.69it/s]\n",
      "Train:   0%|          | 0/15043 [00:00<?, ?it/s, accuracy=0.0469, train_loss=5.74]"
     ]
    },
    {
     "name": "stdout",
     "output_type": "stream",
     "text": [
      "\t - Recall@20 epoch 13: 0.169375\n",
      "\t - MRR@20    epoch 13: 0.049437\n",
      "\n"
     ]
    },
    {
     "name": "stderr",
     "output_type": "stream",
     "text": [
      "Train:  99%|█████████▉| 14946/15043 [02:50<00:01, 87.75it/s, accuracy=0.0469, train_loss=5.39]\n",
      "Evaluation:  45%|████▌     | 25/55 [00:09<00:11,  2.66it/s]\n",
      "Train:   0%|          | 0/15043 [00:00<?, ?it/s, accuracy=0.0781, train_loss=5.53]"
     ]
    },
    {
     "name": "stdout",
     "output_type": "stream",
     "text": [
      "\t - Recall@20 epoch 14: 0.166875\n",
      "\t - MRR@20    epoch 14: 0.050107\n",
      "\n"
     ]
    },
    {
     "name": "stderr",
     "output_type": "stream",
     "text": [
      "Train:  99%|█████████▉| 14946/15043 [02:50<00:01, 87.42it/s, accuracy=0.0469, train_loss=5.42]\n",
      "Evaluation:  45%|████▌     | 25/55 [00:09<00:11,  2.66it/s]\n",
      "Train:   0%|          | 0/15043 [00:00<?, ?it/s, accuracy=0.0312, train_loss=5.77]"
     ]
    },
    {
     "name": "stdout",
     "output_type": "stream",
     "text": [
      "\t - Recall@20 epoch 15: 0.165000\n",
      "\t - MRR@20    epoch 15: 0.051450\n",
      "\n"
     ]
    },
    {
     "name": "stderr",
     "output_type": "stream",
     "text": [
      "Train:  99%|█████████▉| 14946/15043 [02:51<00:01, 87.29it/s, accuracy=0.0312, train_loss=5.33]\n",
      "Evaluation:  45%|████▌     | 25/55 [00:09<00:11,  2.63it/s]\n",
      "Train:   0%|          | 0/15043 [00:00<?, ?it/s, accuracy=0.0781, train_loss=5.53]"
     ]
    },
    {
     "name": "stdout",
     "output_type": "stream",
     "text": [
      "\t - Recall@20 epoch 16: 0.163125\n",
      "\t - MRR@20    epoch 16: 0.050279\n",
      "\n"
     ]
    },
    {
     "name": "stderr",
     "output_type": "stream",
     "text": [
      "Train:  99%|█████████▉| 14946/15043 [02:52<00:01, 86.85it/s, accuracy=0, train_loss=5.37]     \n",
      "Evaluation:  45%|████▌     | 25/55 [00:09<00:11,  2.65it/s]\n",
      "Train:   0%|          | 0/15043 [00:00<?, ?it/s, accuracy=0.0469, train_loss=5.68]"
     ]
    },
    {
     "name": "stdout",
     "output_type": "stream",
     "text": [
      "\t - Recall@20 epoch 17: 0.164375\n",
      "\t - MRR@20    epoch 17: 0.048088\n",
      "\n"
     ]
    },
    {
     "name": "stderr",
     "output_type": "stream",
     "text": [
      "Train:  99%|█████████▉| 14946/15043 [02:51<00:01, 87.14it/s, accuracy=0.0312, train_loss=5.28]\n",
      "Evaluation:  45%|████▌     | 25/55 [00:09<00:11,  2.67it/s]\n",
      "Train:   0%|          | 0/15043 [00:00<?, ?it/s, accuracy=0.0156, train_loss=5.75]"
     ]
    },
    {
     "name": "stdout",
     "output_type": "stream",
     "text": [
      "\t - Recall@20 epoch 18: 0.165625\n",
      "\t - MRR@20    epoch 18: 0.047241\n",
      "\n"
     ]
    },
    {
     "name": "stderr",
     "output_type": "stream",
     "text": [
      "Train:  99%|█████████▉| 14946/15043 [02:52<00:01, 86.83it/s, accuracy=0, train_loss=5.39]     \n",
      "Evaluation:  45%|████▌     | 25/55 [00:09<00:11,  2.70it/s]\n",
      "Train:   0%|          | 0/15043 [00:00<?, ?it/s, accuracy=0.0312, train_loss=5.76]"
     ]
    },
    {
     "name": "stdout",
     "output_type": "stream",
     "text": [
      "\t - Recall@20 epoch 19: 0.164375\n",
      "\t - MRR@20    epoch 19: 0.047511\n",
      "\n"
     ]
    },
    {
     "name": "stderr",
     "output_type": "stream",
     "text": [
      "Train:  99%|█████████▉| 14946/15043 [02:52<00:01, 86.78it/s, accuracy=0.0469, train_loss=5.46]\n",
      "Evaluation:  45%|████▌     | 25/55 [00:09<00:11,  2.64it/s]\n",
      "Evaluation:   0%|          | 0/60 [00:00<?, ?it/s]"
     ]
    },
    {
     "name": "stdout",
     "output_type": "stream",
     "text": [
      "\t - Recall@20 epoch 20: 0.167500\n",
      "\t - MRR@20    epoch 20: 0.045921\n",
      "\n"
     ]
    },
    {
     "name": "stderr",
     "output_type": "stream",
     "text": [
      "Evaluation:  50%|█████     | 30/60 [00:10<00:10,  2.74it/s]"
     ]
    },
    {
     "name": "stdout",
     "output_type": "stream",
     "text": [
      "\t - Recall@20: 0.190104\n",
      "\t - MRR@20: 0.065721\n",
      "\n"
     ]
    },
    {
     "name": "stderr",
     "output_type": "stream",
     "text": [
      "\n"
     ]
    }
   ],
   "source": [
    "args = Args(tr, val, test, batch_size=64, hsz=50, drop_rate=0.1, lr=0.001, epochs=20, k=20)\n",
    "model = create_model(args)\n",
    "train_model(model, args)\n",
    "test_model(model, args, test)"
   ]
  },
  {
   "cell_type": "markdown",
   "metadata": {},
   "source": [
    "*  Recall@20: 0.190104 /  MRR@20 : 0.065721  => 기존보다 좋아졌지만 다른 경우보단 성능이 낮다"
   ]
  },
  {
   "cell_type": "markdown",
   "metadata": {},
   "source": [
    "###  => 데이터가 너무 많으므로 평점 3점대 이하 데이터 삭제하기"
   ]
  },
  {
   "cell_type": "code",
   "execution_count": 167,
   "metadata": {},
   "outputs": [
    {
     "data": {
      "text/html": [
       "<div>\n",
       "<style scoped>\n",
       "    .dataframe tbody tr th:only-of-type {\n",
       "        vertical-align: middle;\n",
       "    }\n",
       "\n",
       "    .dataframe tbody tr th {\n",
       "        vertical-align: top;\n",
       "    }\n",
       "\n",
       "    .dataframe thead th {\n",
       "        text-align: right;\n",
       "    }\n",
       "</style>\n",
       "<table border=\"1\" class=\"dataframe\">\n",
       "  <thead>\n",
       "    <tr style=\"text-align: right;\">\n",
       "      <th></th>\n",
       "      <th>UserId</th>\n",
       "      <th>ItemId</th>\n",
       "      <th>Rating</th>\n",
       "      <th>Time</th>\n",
       "      <th>SessionId</th>\n",
       "      <th>DateTime</th>\n",
       "    </tr>\n",
       "  </thead>\n",
       "  <tbody>\n",
       "    <tr>\n",
       "      <th>31</th>\n",
       "      <td>1</td>\n",
       "      <td>3186</td>\n",
       "      <td>4</td>\n",
       "      <td>978300019</td>\n",
       "      <td>1</td>\n",
       "      <td>2000-12-31 22:00:19</td>\n",
       "    </tr>\n",
       "    <tr>\n",
       "      <th>22</th>\n",
       "      <td>1</td>\n",
       "      <td>1270</td>\n",
       "      <td>5</td>\n",
       "      <td>978300055</td>\n",
       "      <td>1</td>\n",
       "      <td>2000-12-31 22:00:55</td>\n",
       "    </tr>\n",
       "    <tr>\n",
       "      <th>27</th>\n",
       "      <td>1</td>\n",
       "      <td>1721</td>\n",
       "      <td>4</td>\n",
       "      <td>978300055</td>\n",
       "      <td>1</td>\n",
       "      <td>2000-12-31 22:00:55</td>\n",
       "    </tr>\n",
       "    <tr>\n",
       "      <th>37</th>\n",
       "      <td>1</td>\n",
       "      <td>1022</td>\n",
       "      <td>5</td>\n",
       "      <td>978300055</td>\n",
       "      <td>1</td>\n",
       "      <td>2000-12-31 22:00:55</td>\n",
       "    </tr>\n",
       "    <tr>\n",
       "      <th>36</th>\n",
       "      <td>1</td>\n",
       "      <td>1836</td>\n",
       "      <td>5</td>\n",
       "      <td>978300172</td>\n",
       "      <td>1</td>\n",
       "      <td>2000-12-31 22:02:52</td>\n",
       "    </tr>\n",
       "    <tr>\n",
       "      <th>...</th>\n",
       "      <td>...</td>\n",
       "      <td>...</td>\n",
       "      <td>...</td>\n",
       "      <td>...</td>\n",
       "      <td>...</td>\n",
       "      <td>...</td>\n",
       "    </tr>\n",
       "    <tr>\n",
       "      <th>1000119</th>\n",
       "      <td>6040</td>\n",
       "      <td>3671</td>\n",
       "      <td>4</td>\n",
       "      <td>997454367</td>\n",
       "      <td>25162</td>\n",
       "      <td>2001-08-10 14:39:27</td>\n",
       "    </tr>\n",
       "    <tr>\n",
       "      <th>999923</th>\n",
       "      <td>6040</td>\n",
       "      <td>232</td>\n",
       "      <td>5</td>\n",
       "      <td>997454398</td>\n",
       "      <td>25162</td>\n",
       "      <td>2001-08-10 14:39:58</td>\n",
       "    </tr>\n",
       "    <tr>\n",
       "      <th>1000019</th>\n",
       "      <td>6040</td>\n",
       "      <td>2917</td>\n",
       "      <td>4</td>\n",
       "      <td>997454429</td>\n",
       "      <td>25162</td>\n",
       "      <td>2001-08-10 14:40:29</td>\n",
       "    </tr>\n",
       "    <tr>\n",
       "      <th>999988</th>\n",
       "      <td>6040</td>\n",
       "      <td>1921</td>\n",
       "      <td>4</td>\n",
       "      <td>997454464</td>\n",
       "      <td>25162</td>\n",
       "      <td>2001-08-10 14:41:04</td>\n",
       "    </tr>\n",
       "    <tr>\n",
       "      <th>1000042</th>\n",
       "      <td>6040</td>\n",
       "      <td>1221</td>\n",
       "      <td>4</td>\n",
       "      <td>998315055</td>\n",
       "      <td>25163</td>\n",
       "      <td>2001-08-20 13:44:15</td>\n",
       "    </tr>\n",
       "  </tbody>\n",
       "</table>\n",
       "<p>575281 rows × 6 columns</p>\n",
       "</div>"
      ],
      "text/plain": [
       "         UserId  ItemId  Rating       Time  SessionId            DateTime\n",
       "31            1    3186       4  978300019          1 2000-12-31 22:00:19\n",
       "22            1    1270       5  978300055          1 2000-12-31 22:00:55\n",
       "27            1    1721       4  978300055          1 2000-12-31 22:00:55\n",
       "37            1    1022       5  978300055          1 2000-12-31 22:00:55\n",
       "36            1    1836       5  978300172          1 2000-12-31 22:02:52\n",
       "...         ...     ...     ...        ...        ...                 ...\n",
       "1000119    6040    3671       4  997454367      25162 2001-08-10 14:39:27\n",
       "999923     6040     232       5  997454398      25162 2001-08-10 14:39:58\n",
       "1000019    6040    2917       4  997454429      25162 2001-08-10 14:40:29\n",
       "999988     6040    1921       4  997454464      25162 2001-08-10 14:41:04\n",
       "1000042    6040    1221       4  998315055      25163 2001-08-20 13:44:15\n",
       "\n",
       "[575281 rows x 6 columns]"
      ]
     },
     "execution_count": 167,
     "metadata": {},
     "output_type": "execute_result"
    }
   ],
   "source": [
    "data_drop_3 = data.loc[data['Rating']>3]\n",
    "data_drop_3"
   ]
  },
  {
   "cell_type": "code",
   "execution_count": 168,
   "metadata": {
    "scrolled": false
   },
   "outputs": [
    {
     "data": {
      "text/html": [
       "<div>\n",
       "<style scoped>\n",
       "    .dataframe tbody tr th:only-of-type {\n",
       "        vertical-align: middle;\n",
       "    }\n",
       "\n",
       "    .dataframe tbody tr th {\n",
       "        vertical-align: top;\n",
       "    }\n",
       "\n",
       "    .dataframe thead th {\n",
       "        text-align: right;\n",
       "    }\n",
       "</style>\n",
       "<table border=\"1\" class=\"dataframe\">\n",
       "  <thead>\n",
       "    <tr style=\"text-align: right;\">\n",
       "      <th></th>\n",
       "      <th>UserId</th>\n",
       "      <th>ItemId</th>\n",
       "      <th>Rating</th>\n",
       "      <th>Time</th>\n",
       "      <th>SessionId</th>\n",
       "      <th>DateTime</th>\n",
       "    </tr>\n",
       "  </thead>\n",
       "  <tbody>\n",
       "    <tr>\n",
       "      <th>31</th>\n",
       "      <td>1</td>\n",
       "      <td>3186</td>\n",
       "      <td>4</td>\n",
       "      <td>978300019</td>\n",
       "      <td>1</td>\n",
       "      <td>2000-12-31 22:00:19</td>\n",
       "    </tr>\n",
       "    <tr>\n",
       "      <th>22</th>\n",
       "      <td>1</td>\n",
       "      <td>1270</td>\n",
       "      <td>5</td>\n",
       "      <td>978300055</td>\n",
       "      <td>1</td>\n",
       "      <td>2000-12-31 22:00:55</td>\n",
       "    </tr>\n",
       "    <tr>\n",
       "      <th>27</th>\n",
       "      <td>1</td>\n",
       "      <td>1721</td>\n",
       "      <td>4</td>\n",
       "      <td>978300055</td>\n",
       "      <td>1</td>\n",
       "      <td>2000-12-31 22:00:55</td>\n",
       "    </tr>\n",
       "    <tr>\n",
       "      <th>37</th>\n",
       "      <td>1</td>\n",
       "      <td>1022</td>\n",
       "      <td>5</td>\n",
       "      <td>978300055</td>\n",
       "      <td>1</td>\n",
       "      <td>2000-12-31 22:00:55</td>\n",
       "    </tr>\n",
       "    <tr>\n",
       "      <th>36</th>\n",
       "      <td>1</td>\n",
       "      <td>1836</td>\n",
       "      <td>5</td>\n",
       "      <td>978300172</td>\n",
       "      <td>1</td>\n",
       "      <td>2000-12-31 22:02:52</td>\n",
       "    </tr>\n",
       "    <tr>\n",
       "      <th>...</th>\n",
       "      <td>...</td>\n",
       "      <td>...</td>\n",
       "      <td>...</td>\n",
       "      <td>...</td>\n",
       "      <td>...</td>\n",
       "      <td>...</td>\n",
       "    </tr>\n",
       "    <tr>\n",
       "      <th>1000118</th>\n",
       "      <td>6040</td>\n",
       "      <td>457</td>\n",
       "      <td>4</td>\n",
       "      <td>997454349</td>\n",
       "      <td>25162</td>\n",
       "      <td>2001-08-10 14:39:09</td>\n",
       "    </tr>\n",
       "    <tr>\n",
       "      <th>1000119</th>\n",
       "      <td>6040</td>\n",
       "      <td>3671</td>\n",
       "      <td>4</td>\n",
       "      <td>997454367</td>\n",
       "      <td>25162</td>\n",
       "      <td>2001-08-10 14:39:27</td>\n",
       "    </tr>\n",
       "    <tr>\n",
       "      <th>999923</th>\n",
       "      <td>6040</td>\n",
       "      <td>232</td>\n",
       "      <td>5</td>\n",
       "      <td>997454398</td>\n",
       "      <td>25162</td>\n",
       "      <td>2001-08-10 14:39:58</td>\n",
       "    </tr>\n",
       "    <tr>\n",
       "      <th>1000019</th>\n",
       "      <td>6040</td>\n",
       "      <td>2917</td>\n",
       "      <td>4</td>\n",
       "      <td>997454429</td>\n",
       "      <td>25162</td>\n",
       "      <td>2001-08-10 14:40:29</td>\n",
       "    </tr>\n",
       "    <tr>\n",
       "      <th>999988</th>\n",
       "      <td>6040</td>\n",
       "      <td>1921</td>\n",
       "      <td>4</td>\n",
       "      <td>997454464</td>\n",
       "      <td>25162</td>\n",
       "      <td>2001-08-10 14:41:04</td>\n",
       "    </tr>\n",
       "  </tbody>\n",
       "</table>\n",
       "<p>560296 rows × 6 columns</p>\n",
       "</div>"
      ],
      "text/plain": [
       "         UserId  ItemId  Rating       Time  SessionId            DateTime\n",
       "31            1    3186       4  978300019          1 2000-12-31 22:00:19\n",
       "22            1    1270       5  978300055          1 2000-12-31 22:00:55\n",
       "27            1    1721       4  978300055          1 2000-12-31 22:00:55\n",
       "37            1    1022       5  978300055          1 2000-12-31 22:00:55\n",
       "36            1    1836       5  978300172          1 2000-12-31 22:02:52\n",
       "...         ...     ...     ...        ...        ...                 ...\n",
       "1000118    6040     457       4  997454349      25162 2001-08-10 14:39:09\n",
       "1000119    6040    3671       4  997454367      25162 2001-08-10 14:39:27\n",
       "999923     6040     232       5  997454398      25162 2001-08-10 14:39:58\n",
       "1000019    6040    2917       4  997454429      25162 2001-08-10 14:40:29\n",
       "999988     6040    1921       4  997454464      25162 2001-08-10 14:41:04\n",
       "\n",
       "[560296 rows x 6 columns]"
      ]
     },
     "execution_count": 168,
     "metadata": {},
     "output_type": "execute_result"
    }
   ],
   "source": [
    "year3_data = cleanse_recursive(data_drop_3, shortest=2, least_click=20)\n",
    "year3_data"
   ]
  },
  {
   "cell_type": "code",
   "execution_count": 169,
   "metadata": {},
   "outputs": [],
   "source": [
    "tr, test = split_by_date(year3_data, n_days=30) # 3개월\n",
    "tr, val = split_by_date(tr, n_days=30) # 3개월\n",
    "\n",
    "# train set에 없는 아이템이 val, test기간에 생길 수 있으므로 train data를 기준으로 인덱싱합니다.\n",
    "id2idx = {item_id : index for index, item_id in enumerate(tr['ItemId'].unique())}\n",
    "\n",
    "tr = indexing(tr, id2idx)\n",
    "val = indexing(val, id2idx)\n",
    "test = indexing(test, id2idx)\n",
    "\n",
    "save_path = data_path / 'processed_year3_drop3'\n",
    "save_path.mkdir(parents=True, exist_ok=True)\n",
    "\n",
    "tr.to_pickle(save_path / 'train.pkl')\n",
    "val.to_pickle(save_path / 'valid.pkl')\n",
    "test.to_pickle(save_path / 'test.pkl')"
   ]
  },
  {
   "cell_type": "code",
   "execution_count": 171,
   "metadata": {
    "scrolled": true
   },
   "outputs": [
    {
     "name": "stderr",
     "output_type": "stream",
     "text": [
      "\r",
      "Train:   0%|          | 0/8454 [00:00<?, ?it/s]"
     ]
    },
    {
     "name": "stdout",
     "output_type": "stream",
     "text": [
      "Model: \"model_22\"\n",
      "_________________________________________________________________\n",
      "Layer (type)                 Output Shape              Param #   \n",
      "=================================================================\n",
      "input_23 (InputLayer)        [(64, 1, 2372)]           0         \n",
      "_________________________________________________________________\n",
      "GRU (GRU)                    [(64, 50), (64, 50)]      363600    \n",
      "_________________________________________________________________\n",
      "dropout_22 (Dropout)         (64, 50)                  0         \n",
      "_________________________________________________________________\n",
      "dense_22 (Dense)             (64, 2372)                120972    \n",
      "=================================================================\n",
      "Total params: 484,572\n",
      "Trainable params: 484,572\n",
      "Non-trainable params: 0\n",
      "_________________________________________________________________\n"
     ]
    },
    {
     "name": "stderr",
     "output_type": "stream",
     "text": [
      "Train:  99%|█████████▉| 8408/8454 [01:28<00:00, 95.27it/s, accuracy=0, train_loss=5.84]     \n",
      "Evaluation:  48%|████▊     | 13/27 [00:05<00:05,  2.51it/s]\n",
      "Train:   0%|          | 0/8454 [00:00<?, ?it/s, accuracy=0.0156, train_loss=5.85]"
     ]
    },
    {
     "name": "stdout",
     "output_type": "stream",
     "text": [
      "\t - Recall@20 epoch 1: 0.116587\n",
      "\t - MRR@20    epoch 1: 0.027163\n",
      "\n"
     ]
    },
    {
     "name": "stderr",
     "output_type": "stream",
     "text": [
      "Train:  99%|█████████▉| 8408/8454 [01:26<00:00, 97.61it/s, accuracy=0, train_loss=5.61]     \n",
      "Evaluation:  48%|████▊     | 13/27 [00:04<00:05,  2.67it/s]\n",
      "Train:   0%|          | 0/8454 [00:00<?, ?it/s, accuracy=0.0781, train_loss=5.41]"
     ]
    },
    {
     "name": "stdout",
     "output_type": "stream",
     "text": [
      "\t - Recall@20 epoch 2: 0.151442\n",
      "\t - MRR@20    epoch 2: 0.038132\n",
      "\n"
     ]
    },
    {
     "name": "stderr",
     "output_type": "stream",
     "text": [
      "Train:  99%|█████████▉| 8408/8454 [01:24<00:00, 99.13it/s, accuracy=0.0312, train_loss=5.44]\n",
      "Evaluation:  48%|████▊     | 13/27 [00:04<00:05,  2.69it/s]\n",
      "Train:   0%|          | 0/8454 [00:00<?, ?it/s, accuracy=0.0156, train_loss=6.06]"
     ]
    },
    {
     "name": "stdout",
     "output_type": "stream",
     "text": [
      "\t - Recall@20 epoch 3: 0.169471\n",
      "\t - MRR@20    epoch 3: 0.042501\n",
      "\n"
     ]
    },
    {
     "name": "stderr",
     "output_type": "stream",
     "text": [
      "Train:  99%|█████████▉| 8408/8454 [01:25<00:00, 98.09it/s, accuracy=0.0312, train_loss=5.36] \n",
      "Evaluation:  48%|████▊     | 13/27 [00:04<00:05,  2.68it/s]\n",
      "Train:   0%|          | 0/8454 [00:00<?, ?it/s, accuracy=0.0469, train_loss=5.3] "
     ]
    },
    {
     "name": "stdout",
     "output_type": "stream",
     "text": [
      "\t - Recall@20 epoch 4: 0.176683\n",
      "\t - MRR@20    epoch 4: 0.044913\n",
      "\n"
     ]
    },
    {
     "name": "stderr",
     "output_type": "stream",
     "text": [
      "Train:  99%|█████████▉| 8408/8454 [01:26<00:00, 97.57it/s, accuracy=0.0312, train_loss=5.4] \n",
      "Evaluation:  48%|████▊     | 13/27 [00:04<00:05,  2.63it/s]\n",
      "Train:   0%|          | 0/8454 [00:00<?, ?it/s, accuracy=0.0469, train_loss=5.23]"
     ]
    },
    {
     "name": "stdout",
     "output_type": "stream",
     "text": [
      "\t - Recall@20 epoch 5: 0.175481\n",
      "\t - MRR@20    epoch 5: 0.045569\n",
      "\n"
     ]
    },
    {
     "name": "stderr",
     "output_type": "stream",
     "text": [
      "Train:  99%|█████████▉| 8408/8454 [01:26<00:00, 97.56it/s, accuracy=0.0156, train_loss=5.47]\n",
      "Evaluation:  48%|████▊     | 13/27 [00:04<00:05,  2.63it/s]\n",
      "Train:   0%|          | 0/8454 [00:00<?, ?it/s, accuracy=0.0469, train_loss=5.2] "
     ]
    },
    {
     "name": "stdout",
     "output_type": "stream",
     "text": [
      "\t - Recall@20 epoch 6: 0.174279\n",
      "\t - MRR@20    epoch 6: 0.045866\n",
      "\n"
     ]
    },
    {
     "name": "stderr",
     "output_type": "stream",
     "text": [
      "Train:  99%|█████████▉| 8408/8454 [01:26<00:00, 96.98it/s, accuracy=0.0312, train_loss=5.28]\n",
      "Evaluation:  48%|████▊     | 13/27 [00:04<00:05,  2.65it/s]\n",
      "Train:   0%|          | 0/8454 [00:00<?, ?it/s, accuracy=0, train_loss=5.8]      "
     ]
    },
    {
     "name": "stdout",
     "output_type": "stream",
     "text": [
      "\t - Recall@20 epoch 7: 0.169471\n",
      "\t - MRR@20    epoch 7: 0.045626\n",
      "\n"
     ]
    },
    {
     "name": "stderr",
     "output_type": "stream",
     "text": [
      "Train:  99%|█████████▉| 8408/8454 [01:26<00:00, 97.28it/s, accuracy=0.0312, train_loss=5.32]\n",
      "Evaluation:  48%|████▊     | 13/27 [00:04<00:05,  2.65it/s]\n",
      "Train:   0%|          | 0/8454 [00:00<?, ?it/s, accuracy=0.0625, train_loss=5.12]"
     ]
    },
    {
     "name": "stdout",
     "output_type": "stream",
     "text": [
      "\t - Recall@20 epoch 8: 0.170673\n",
      "\t - MRR@20    epoch 8: 0.044713\n",
      "\n"
     ]
    },
    {
     "name": "stderr",
     "output_type": "stream",
     "text": [
      "Train:  99%|█████████▉| 8408/8454 [01:26<00:00, 96.72it/s, accuracy=0.0781, train_loss=5.18]\n",
      "Evaluation:  48%|████▊     | 13/27 [00:04<00:05,  2.63it/s]\n",
      "Train:   0%|          | 0/8454 [00:00<?, ?it/s, accuracy=0.0781, train_loss=4.96]"
     ]
    },
    {
     "name": "stdout",
     "output_type": "stream",
     "text": [
      "\t - Recall@20 epoch 9: 0.164663\n",
      "\t - MRR@20    epoch 9: 0.044328\n",
      "\n"
     ]
    },
    {
     "name": "stderr",
     "output_type": "stream",
     "text": [
      "Train:  99%|█████████▉| 8408/8454 [01:25<00:00, 98.05it/s, accuracy=0.0469, train_loss=5.26]\n",
      "Evaluation:  48%|████▊     | 13/27 [00:04<00:05,  2.67it/s]\n",
      "Train:   0%|          | 0/8454 [00:00<?, ?it/s, accuracy=0.109, train_loss=5.05] "
     ]
    },
    {
     "name": "stdout",
     "output_type": "stream",
     "text": [
      "\t - Recall@20 epoch 10: 0.173077\n",
      "\t - MRR@20    epoch 10: 0.044724\n",
      "\n"
     ]
    },
    {
     "name": "stderr",
     "output_type": "stream",
     "text": [
      "Train:  99%|█████████▉| 8408/8454 [01:25<00:00, 98.09it/s, accuracy=0.0625, train_loss=5.12]\n",
      "Evaluation:  48%|████▊     | 13/27 [00:04<00:05,  2.70it/s]\n",
      "Train:   0%|          | 0/8454 [00:00<?, ?it/s, accuracy=0.0938, train_loss=4.93]"
     ]
    },
    {
     "name": "stdout",
     "output_type": "stream",
     "text": [
      "\t - Recall@20 epoch 11: 0.169471\n",
      "\t - MRR@20    epoch 11: 0.045039\n",
      "\n"
     ]
    },
    {
     "name": "stderr",
     "output_type": "stream",
     "text": [
      "Train:  99%|█████████▉| 8408/8454 [01:26<00:00, 97.36it/s, accuracy=0.0938, train_loss=5.25]\n",
      "Evaluation:  48%|████▊     | 13/27 [00:04<00:05,  2.65it/s]\n",
      "Train:   0%|          | 0/8454 [00:00<?, ?it/s, accuracy=0.0781, train_loss=5.08]"
     ]
    },
    {
     "name": "stdout",
     "output_type": "stream",
     "text": [
      "\t - Recall@20 epoch 12: 0.173077\n",
      "\t - MRR@20    epoch 12: 0.045761\n",
      "\n"
     ]
    },
    {
     "name": "stderr",
     "output_type": "stream",
     "text": [
      "Train:  99%|█████████▉| 8408/8454 [01:26<00:00, 97.21it/s, accuracy=0.0312, train_loss=5.2] \n",
      "Evaluation:  48%|████▊     | 13/27 [00:04<00:05,  2.65it/s]\n",
      "Train:   0%|          | 0/8454 [00:00<?, ?it/s, accuracy=0.0156, train_loss=5.78]"
     ]
    },
    {
     "name": "stdout",
     "output_type": "stream",
     "text": [
      "\t - Recall@20 epoch 13: 0.171875\n",
      "\t - MRR@20    epoch 13: 0.044655\n",
      "\n"
     ]
    },
    {
     "name": "stderr",
     "output_type": "stream",
     "text": [
      "Train:  99%|█████████▉| 8408/8454 [01:26<00:00, 97.69it/s, accuracy=0.0469, train_loss=5.2] \n",
      "Evaluation:  48%|████▊     | 13/27 [00:04<00:05,  2.69it/s]\n",
      "Train:   0%|          | 0/8454 [00:00<?, ?it/s, accuracy=0.0156, train_loss=5.7] "
     ]
    },
    {
     "name": "stdout",
     "output_type": "stream",
     "text": [
      "\t - Recall@20 epoch 14: 0.169471\n",
      "\t - MRR@20    epoch 14: 0.040331\n",
      "\n"
     ]
    },
    {
     "name": "stderr",
     "output_type": "stream",
     "text": [
      "Train:  99%|█████████▉| 8408/8454 [01:24<00:00, 98.93it/s, accuracy=0.0469, train_loss=5.11]\n",
      "Evaluation:  48%|████▊     | 13/27 [00:04<00:05,  2.71it/s]\n",
      "Train:   0%|          | 0/8454 [00:00<?, ?it/s, accuracy=0.0781, train_loss=4.9] "
     ]
    },
    {
     "name": "stdout",
     "output_type": "stream",
     "text": [
      "\t - Recall@20 epoch 15: 0.170673\n",
      "\t - MRR@20    epoch 15: 0.041282\n",
      "\n"
     ]
    },
    {
     "name": "stderr",
     "output_type": "stream",
     "text": [
      "Train:  99%|█████████▉| 8408/8454 [01:26<00:00, 96.67it/s, accuracy=0.0781, train_loss=5.12]\n",
      "Evaluation:  48%|████▊     | 13/27 [00:04<00:05,  2.67it/s]\n",
      "Train:   0%|          | 0/8454 [00:00<?, ?it/s, accuracy=0, train_loss=5.81]     "
     ]
    },
    {
     "name": "stdout",
     "output_type": "stream",
     "text": [
      "\t - Recall@20 epoch 16: 0.165865\n",
      "\t - MRR@20    epoch 16: 0.043031\n",
      "\n"
     ]
    },
    {
     "name": "stderr",
     "output_type": "stream",
     "text": [
      "Train:  99%|█████████▉| 8408/8454 [01:26<00:00, 96.85it/s, accuracy=0.0781, train_loss=5.1] \n",
      "Evaluation:  48%|████▊     | 13/27 [00:04<00:05,  2.63it/s]\n",
      "Train:   0%|          | 0/8454 [00:00<?, ?it/s, accuracy=0.0625, train_loss=5.73]"
     ]
    },
    {
     "name": "stdout",
     "output_type": "stream",
     "text": [
      "\t - Recall@20 epoch 17: 0.165865\n",
      "\t - MRR@20    epoch 17: 0.040825\n",
      "\n"
     ]
    },
    {
     "name": "stderr",
     "output_type": "stream",
     "text": [
      "Train:  99%|█████████▉| 8408/8454 [01:25<00:00, 98.15it/s, accuracy=0.0469, train_loss=5.12]\n",
      "Evaluation:  48%|████▊     | 13/27 [00:04<00:05,  2.68it/s]\n",
      "Train:   0%|          | 0/8454 [00:00<?, ?it/s, accuracy=0.0781, train_loss=4.92]"
     ]
    },
    {
     "name": "stdout",
     "output_type": "stream",
     "text": [
      "\t - Recall@20 epoch 18: 0.170673\n",
      "\t - MRR@20    epoch 18: 0.041533\n",
      "\n"
     ]
    },
    {
     "name": "stderr",
     "output_type": "stream",
     "text": [
      "Train:  99%|█████████▉| 8408/8454 [01:25<00:00, 97.88it/s, accuracy=0.0781, train_loss=5.12]\n",
      "Evaluation:  48%|████▊     | 13/27 [00:04<00:05,  2.69it/s]\n",
      "Train:   0%|          | 0/8454 [00:00<?, ?it/s, accuracy=0.0938, train_loss=4.93]"
     ]
    },
    {
     "name": "stdout",
     "output_type": "stream",
     "text": [
      "\t - Recall@20 epoch 19: 0.165865\n",
      "\t - MRR@20    epoch 19: 0.042656\n",
      "\n"
     ]
    },
    {
     "name": "stderr",
     "output_type": "stream",
     "text": [
      "Train:  99%|█████████▉| 8408/8454 [01:26<00:00, 97.60it/s, accuracy=0.0781, train_loss=5.14]\n",
      "Evaluation:  48%|████▊     | 13/27 [00:04<00:05,  2.72it/s]\n",
      "Evaluation:   0%|          | 0/30 [00:00<?, ?it/s]"
     ]
    },
    {
     "name": "stdout",
     "output_type": "stream",
     "text": [
      "\t - Recall@20 epoch 20: 0.170673\n",
      "\t - MRR@20    epoch 20: 0.043633\n",
      "\n"
     ]
    },
    {
     "name": "stderr",
     "output_type": "stream",
     "text": [
      "Evaluation:  47%|████▋     | 14/30 [00:05<00:05,  2.73it/s]"
     ]
    },
    {
     "name": "stdout",
     "output_type": "stream",
     "text": [
      "\t - Recall@20: 0.162946\n",
      "\t - MRR@20: 0.061167\n",
      "\n"
     ]
    },
    {
     "name": "stderr",
     "output_type": "stream",
     "text": [
      "\n"
     ]
    }
   ],
   "source": [
    "args = Args(tr, val, test, batch_size=64, hsz=50, drop_rate=0.1, lr=0.001, epochs=20, k=20)\n",
    "model = create_model(args)\n",
    "train_model(model, args)\n",
    "test_model(model, args, test)"
   ]
  },
  {
   "cell_type": "markdown",
   "metadata": {},
   "source": [
    "* Recall@20: 0.162946 / MRR@20: 0.061167 => 평점데이터를 건드리지 않은 경우와 비슷하다."
   ]
  },
  {
   "cell_type": "markdown",
   "metadata": {},
   "source": [
    "## 2.😉 1-1. least_click = 20으로 변경, (batch_size=32, hsz=50, drop_rate=0.1, lr=0.001, epochs=20, k=20)=> 이 경우가 제일 좋았기 때문에 이걸 더 변형해보겠다!\n",
    "기존 결과 :  Recall@20: 0.312500 / MRR@20: 0.140393"
   ]
  },
  {
   "cell_type": "code",
   "execution_count": 188,
   "metadata": {},
   "outputs": [],
   "source": [
    "month_ago = latest - dt.timedelta(365)     # 최종 날짜로부터 1년 이전 날짜를 구한다.  \n",
    "year1_data = data[data['DateTime'] > month_ago]   # 방금 구한 날짜 이후의 데이터만 모은다. \n",
    "year1_data = cleanse_recursive(year1_data, shortest=2, least_click=20)\n",
    "\n",
    "tr, test = split_by_date(year1_data, n_days=30)\n",
    "tr, val = split_by_date(tr, n_days=30)\n",
    "\n",
    "# train set에 없는 아이템이 val, test기간에 생길 수 있으므로 train data를 기준으로 인덱싱합니다.\n",
    "id2idx = {item_id : index for index, item_id in enumerate(tr['ItemId'].unique())}\n",
    "\n",
    "tr = indexing(tr, id2idx)\n",
    "val = indexing(val, id2idx)\n",
    "test = indexing(test, id2idx)\n",
    "\n",
    "save_path = data_path / 'processed_click20'\n",
    "save_path.mkdir(parents=True, exist_ok=True)\n",
    "\n",
    "tr.to_pickle(save_path / 'train.pkl')\n",
    "val.to_pickle(save_path / 'valid.pkl')\n",
    "test.to_pickle(save_path / 'test.pkl')\n"
   ]
  },
  {
   "cell_type": "code",
   "execution_count": 190,
   "metadata": {
    "scrolled": true
   },
   "outputs": [
    {
     "name": "stderr",
     "output_type": "stream",
     "text": [
      "\r",
      "Train:   0%|          | 0/85 [00:00<?, ?it/s]"
     ]
    },
    {
     "name": "stdout",
     "output_type": "stream",
     "text": [
      "Model: \"model_36\"\n",
      "_________________________________________________________________\n",
      "Layer (type)                 Output Shape              Param #   \n",
      "=================================================================\n",
      "input_37 (InputLayer)        [(32, 1, 153)]            0         \n",
      "_________________________________________________________________\n",
      "GRU (GRU)                    [(32, 70), (32, 70)]      47250     \n",
      "_________________________________________________________________\n",
      "dropout_36 (Dropout)         (32, 70)                  0         \n",
      "_________________________________________________________________\n",
      "dense_36 (Dense)             (32, 153)                 10863     \n",
      "=================================================================\n",
      "Total params: 58,113\n",
      "Trainable params: 58,113\n",
      "Non-trainable params: 0\n",
      "_________________________________________________________________\n"
     ]
    },
    {
     "name": "stderr",
     "output_type": "stream",
     "text": [
      "Train:  93%|█████████▎| 79/85 [00:01<00:00, 46.71it/s, accuracy=0.0312, train_loss=5.02]\n",
      "Evaluation:  44%|████▍     | 4/9 [00:01<00:01,  3.79it/s]\n",
      "Train:   0%|          | 0/85 [00:00<?, ?it/s, accuracy=0, train_loss=5.01]     "
     ]
    },
    {
     "name": "stdout",
     "output_type": "stream",
     "text": [
      "\t - Recall@20 epoch 1: 0.195312\n",
      "\t - MRR@20    epoch 1: 0.030883\n",
      "\n"
     ]
    },
    {
     "name": "stderr",
     "output_type": "stream",
     "text": [
      "Train:  93%|█████████▎| 79/85 [00:00<00:00, 153.07it/s, accuracy=0.0312, train_loss=4.99]\n",
      "Evaluation:  44%|████▍     | 4/9 [00:00<00:01,  4.64it/s]\n",
      "Train:   0%|          | 0/85 [00:00<?, ?it/s, accuracy=0.0312, train_loss=5.02]"
     ]
    },
    {
     "name": "stdout",
     "output_type": "stream",
     "text": [
      "\t - Recall@20 epoch 2: 0.218750\n",
      "\t - MRR@20    epoch 2: 0.061171\n",
      "\n"
     ]
    },
    {
     "name": "stderr",
     "output_type": "stream",
     "text": [
      "Train:  93%|█████████▎| 79/85 [00:00<00:00, 147.22it/s, accuracy=0.125, train_loss=4.97]\n",
      "Evaluation:  44%|████▍     | 4/9 [00:00<00:00,  5.21it/s]\n",
      "Train:   0%|          | 0/85 [00:00<?, ?it/s, accuracy=0, train_loss=4.99]     "
     ]
    },
    {
     "name": "stdout",
     "output_type": "stream",
     "text": [
      "\t - Recall@20 epoch 3: 0.234375\n",
      "\t - MRR@20    epoch 3: 0.074158\n",
      "\n"
     ]
    },
    {
     "name": "stderr",
     "output_type": "stream",
     "text": [
      "Train:  93%|█████████▎| 79/85 [00:00<00:00, 153.51it/s, accuracy=0, train_loss=4.93]\n",
      "Evaluation:  44%|████▍     | 4/9 [00:00<00:00,  5.16it/s]\n",
      "Train:   0%|          | 0/85 [00:00<?, ?it/s, accuracy=0.0625, train_loss=5]   "
     ]
    },
    {
     "name": "stdout",
     "output_type": "stream",
     "text": [
      "\t - Recall@20 epoch 4: 0.195312\n",
      "\t - MRR@20    epoch 4: 0.060438\n",
      "\n"
     ]
    },
    {
     "name": "stderr",
     "output_type": "stream",
     "text": [
      "Train:  93%|█████████▎| 79/85 [00:00<00:00, 148.50it/s, accuracy=0.0938, train_loss=4.88]\n",
      "Evaluation:  44%|████▍     | 4/9 [00:00<00:00,  5.20it/s]\n",
      "Train:   0%|          | 0/85 [00:00<?, ?it/s, accuracy=0.0312, train_loss=4.96]"
     ]
    },
    {
     "name": "stdout",
     "output_type": "stream",
     "text": [
      "\t - Recall@20 epoch 5: 0.234375\n",
      "\t - MRR@20    epoch 5: 0.063826\n",
      "\n"
     ]
    },
    {
     "name": "stderr",
     "output_type": "stream",
     "text": [
      "Train:  93%|█████████▎| 79/85 [00:00<00:00, 151.21it/s, accuracy=0.0312, train_loss=4.82]\n",
      "Evaluation:  44%|████▍     | 4/9 [00:00<00:00,  5.11it/s]\n",
      "Train:   0%|          | 0/85 [00:00<?, ?it/s, accuracy=0.156, train_loss=4.8]  "
     ]
    },
    {
     "name": "stdout",
     "output_type": "stream",
     "text": [
      "\t - Recall@20 epoch 6: 0.265625\n",
      "\t - MRR@20    epoch 6: 0.085248\n",
      "\n"
     ]
    },
    {
     "name": "stderr",
     "output_type": "stream",
     "text": [
      "Train:  93%|█████████▎| 79/85 [00:00<00:00, 154.34it/s, accuracy=0.0625, train_loss=4.72]\n",
      "Evaluation:  44%|████▍     | 4/9 [00:00<00:00,  5.47it/s]\n",
      "Train:   0%|          | 0/85 [00:00<?, ?it/s, accuracy=0.0938, train_loss=4.7] "
     ]
    },
    {
     "name": "stdout",
     "output_type": "stream",
     "text": [
      "\t - Recall@20 epoch 7: 0.320312\n",
      "\t - MRR@20    epoch 7: 0.111407\n",
      "\n"
     ]
    },
    {
     "name": "stderr",
     "output_type": "stream",
     "text": [
      "Train:  93%|█████████▎| 79/85 [00:00<00:00, 152.93it/s, accuracy=0.125, train_loss=4.61]\n",
      "Evaluation:  44%|████▍     | 4/9 [00:00<00:00,  5.42it/s]\n",
      "Train:   0%|          | 0/85 [00:00<?, ?it/s, accuracy=0.0312, train_loss=4.74]"
     ]
    },
    {
     "name": "stdout",
     "output_type": "stream",
     "text": [
      "\t - Recall@20 epoch 8: 0.312500\n",
      "\t - MRR@20    epoch 8: 0.111860\n",
      "\n"
     ]
    },
    {
     "name": "stderr",
     "output_type": "stream",
     "text": [
      "Train:  93%|█████████▎| 79/85 [00:00<00:00, 153.43it/s, accuracy=0.125, train_loss=4.51]\n",
      "Evaluation:  44%|████▍     | 4/9 [00:00<00:00,  5.60it/s]\n",
      "Train:   0%|          | 0/85 [00:00<?, ?it/s, accuracy=0.0625, train_loss=4.67]"
     ]
    },
    {
     "name": "stdout",
     "output_type": "stream",
     "text": [
      "\t - Recall@20 epoch 9: 0.335938\n",
      "\t - MRR@20    epoch 9: 0.125989\n",
      "\n"
     ]
    },
    {
     "name": "stderr",
     "output_type": "stream",
     "text": [
      "Train:  93%|█████████▎| 79/85 [00:00<00:00, 148.10it/s, accuracy=0.156, train_loss=4.48]\n",
      "Evaluation:  44%|████▍     | 4/9 [00:00<00:00,  5.29it/s]\n",
      "Train:   0%|          | 0/85 [00:00<?, ?it/s, accuracy=0.0938, train_loss=4.52]"
     ]
    },
    {
     "name": "stdout",
     "output_type": "stream",
     "text": [
      "\t - Recall@20 epoch 10: 0.367188\n",
      "\t - MRR@20    epoch 10: 0.110218\n",
      "\n"
     ]
    },
    {
     "name": "stderr",
     "output_type": "stream",
     "text": [
      "Train:  93%|█████████▎| 79/85 [00:00<00:00, 152.06it/s, accuracy=0.188, train_loss=4.25]\n",
      "Evaluation:  44%|████▍     | 4/9 [00:00<00:00,  5.61it/s]\n",
      "Train:   0%|          | 0/85 [00:00<?, ?it/s, accuracy=0.125, train_loss=4.41] "
     ]
    },
    {
     "name": "stdout",
     "output_type": "stream",
     "text": [
      "\t - Recall@20 epoch 11: 0.359375\n",
      "\t - MRR@20    epoch 11: 0.123646\n",
      "\n"
     ]
    },
    {
     "name": "stderr",
     "output_type": "stream",
     "text": [
      "Train:  93%|█████████▎| 79/85 [00:00<00:00, 155.42it/s, accuracy=0.188, train_loss=4.12]\n",
      "Evaluation:  44%|████▍     | 4/9 [00:00<00:00,  5.55it/s]\n",
      "Train:   0%|          | 0/85 [00:00<?, ?it/s, accuracy=0.0312, train_loss=4.37]"
     ]
    },
    {
     "name": "stdout",
     "output_type": "stream",
     "text": [
      "\t - Recall@20 epoch 12: 0.367188\n",
      "\t - MRR@20    epoch 12: 0.131254\n",
      "\n"
     ]
    },
    {
     "name": "stderr",
     "output_type": "stream",
     "text": [
      "Train:  93%|█████████▎| 79/85 [00:00<00:00, 153.53it/s, accuracy=0.156, train_loss=4.21]\n",
      "Evaluation:  44%|████▍     | 4/9 [00:00<00:00,  5.56it/s]\n",
      "Train:   0%|          | 0/85 [00:00<?, ?it/s, accuracy=0.0625, train_loss=4.23]"
     ]
    },
    {
     "name": "stdout",
     "output_type": "stream",
     "text": [
      "\t - Recall@20 epoch 13: 0.382812\n",
      "\t - MRR@20    epoch 13: 0.140558\n",
      "\n"
     ]
    },
    {
     "name": "stderr",
     "output_type": "stream",
     "text": [
      "Train:  93%|█████████▎| 79/85 [00:00<00:00, 152.50it/s, accuracy=0.125, train_loss=4.04]\n",
      "Evaluation:  44%|████▍     | 4/9 [00:00<00:00,  5.70it/s]\n",
      "Train:   0%|          | 0/85 [00:00<?, ?it/s, accuracy=0.0938, train_loss=4.17]"
     ]
    },
    {
     "name": "stdout",
     "output_type": "stream",
     "text": [
      "\t - Recall@20 epoch 14: 0.390625\n",
      "\t - MRR@20    epoch 14: 0.139257\n",
      "\n"
     ]
    },
    {
     "name": "stderr",
     "output_type": "stream",
     "text": [
      "Train:  93%|█████████▎| 79/85 [00:00<00:00, 154.31it/s, accuracy=0.156, train_loss=3.97]\n",
      "Evaluation:  44%|████▍     | 4/9 [00:00<00:00,  5.67it/s]\n",
      "Train:   0%|          | 0/85 [00:00<?, ?it/s, accuracy=0.156, train_loss=4.06] "
     ]
    },
    {
     "name": "stdout",
     "output_type": "stream",
     "text": [
      "\t - Recall@20 epoch 15: 0.390625\n",
      "\t - MRR@20    epoch 15: 0.148062\n",
      "\n"
     ]
    },
    {
     "name": "stderr",
     "output_type": "stream",
     "text": [
      "Train:  93%|█████████▎| 79/85 [00:00<00:00, 150.10it/s, accuracy=0.219, train_loss=3.89]\n",
      "Evaluation:  44%|████▍     | 4/9 [00:00<00:00,  5.78it/s]\n",
      "Train:   0%|          | 0/85 [00:00<?, ?it/s, accuracy=0.0625, train_loss=3.99]"
     ]
    },
    {
     "name": "stdout",
     "output_type": "stream",
     "text": [
      "\t - Recall@20 epoch 16: 0.406250\n",
      "\t - MRR@20    epoch 16: 0.144339\n",
      "\n"
     ]
    },
    {
     "name": "stderr",
     "output_type": "stream",
     "text": [
      "Train:  93%|█████████▎| 79/85 [00:00<00:00, 151.38it/s, accuracy=0.219, train_loss=3.85]\n",
      "Evaluation:  44%|████▍     | 4/9 [00:00<00:00,  5.76it/s]\n",
      "Train:   0%|          | 0/85 [00:00<?, ?it/s, accuracy=0.0625, train_loss=3.93]"
     ]
    },
    {
     "name": "stdout",
     "output_type": "stream",
     "text": [
      "\t - Recall@20 epoch 17: 0.414062\n",
      "\t - MRR@20    epoch 17: 0.147908\n",
      "\n"
     ]
    },
    {
     "name": "stderr",
     "output_type": "stream",
     "text": [
      "Train:  93%|█████████▎| 79/85 [00:00<00:00, 152.14it/s, accuracy=0.219, train_loss=3.72]\n",
      "Evaluation:  44%|████▍     | 4/9 [00:00<00:00,  5.84it/s]\n",
      "Train:   0%|          | 0/85 [00:00<?, ?it/s, accuracy=0.219, train_loss=3.75] "
     ]
    },
    {
     "name": "stdout",
     "output_type": "stream",
     "text": [
      "\t - Recall@20 epoch 18: 0.406250\n",
      "\t - MRR@20    epoch 18: 0.147020\n",
      "\n"
     ]
    },
    {
     "name": "stderr",
     "output_type": "stream",
     "text": [
      "Train:  93%|█████████▎| 79/85 [00:00<00:00, 150.21it/s, accuracy=0.156, train_loss=3.69]\n",
      "Evaluation:  44%|████▍     | 4/9 [00:00<00:00,  5.87it/s]\n",
      "Train:   0%|          | 0/85 [00:00<?, ?it/s, accuracy=0.0938, train_loss=3.87]"
     ]
    },
    {
     "name": "stdout",
     "output_type": "stream",
     "text": [
      "\t - Recall@20 epoch 19: 0.406250\n",
      "\t - MRR@20    epoch 19: 0.156039\n",
      "\n"
     ]
    },
    {
     "name": "stderr",
     "output_type": "stream",
     "text": [
      "Train:  93%|█████████▎| 79/85 [00:00<00:00, 152.90it/s, accuracy=0.125, train_loss=3.57]\n",
      "Evaluation:  44%|████▍     | 4/9 [00:00<00:00,  5.74it/s]\n",
      "Evaluation:  11%|█         | 1/9 [00:00<00:01,  5.69it/s]"
     ]
    },
    {
     "name": "stdout",
     "output_type": "stream",
     "text": [
      "\t - Recall@20 epoch 20: 0.414062\n",
      "\t - MRR@20    epoch 20: 0.156412\n",
      "\n",
      "\t - Recall@20: 0.375000\n",
      "\t - MRR@20: 0.146947\n",
      "\n"
     ]
    },
    {
     "name": "stderr",
     "output_type": "stream",
     "text": [
      "\n"
     ]
    }
   ],
   "source": [
    "args = Args(tr, val, test, batch_size=32, hsz=70, drop_rate=0.3, lr=0.001, epochs=20, k=20)\n",
    "model = create_model(args)\n",
    "train_model(model, args)\n",
    "test_model(model, args, test)"
   ]
  },
  {
   "cell_type": "markdown",
   "metadata": {},
   "source": [
    "* 기존보다 recall이 좀 높아졌다."
   ]
  },
  {
   "cell_type": "code",
   "execution_count": 192,
   "metadata": {},
   "outputs": [
    {
     "name": "stderr",
     "output_type": "stream",
     "text": [
      "\r",
      "Train:   0%|          | 0/85 [00:00<?, ?it/s]"
     ]
    },
    {
     "name": "stdout",
     "output_type": "stream",
     "text": [
      "Model: \"model_38\"\n",
      "_________________________________________________________________\n",
      "Layer (type)                 Output Shape              Param #   \n",
      "=================================================================\n",
      "input_39 (InputLayer)        [(32, 1, 153)]            0         \n",
      "_________________________________________________________________\n",
      "GRU (GRU)                    [(32, 70), (32, 70)]      47250     \n",
      "_________________________________________________________________\n",
      "dropout_38 (Dropout)         (32, 70)                  0         \n",
      "_________________________________________________________________\n",
      "dense_38 (Dense)             (32, 153)                 10863     \n",
      "=================================================================\n",
      "Total params: 58,113\n",
      "Trainable params: 58,113\n",
      "Non-trainable params: 0\n",
      "_________________________________________________________________\n"
     ]
    },
    {
     "name": "stderr",
     "output_type": "stream",
     "text": [
      "Train:  93%|█████████▎| 79/85 [00:01<00:00, 46.55it/s, accuracy=0, train_loss=5.02]    \n",
      "Evaluation:  44%|████▍     | 4/9 [00:00<00:00,  5.05it/s]\n",
      "Train:   0%|          | 0/85 [00:00<?, ?it/s, accuracy=0.0625, train_loss=5.01]"
     ]
    },
    {
     "name": "stdout",
     "output_type": "stream",
     "text": [
      "\t - Recall@10 epoch 1: 0.164062\n",
      "\t - MRR@10    epoch 1: 0.060448\n",
      "\n"
     ]
    },
    {
     "name": "stderr",
     "output_type": "stream",
     "text": [
      "Train:  93%|█████████▎| 79/85 [00:00<00:00, 153.61it/s, accuracy=0, train_loss=5.01]\n",
      "Evaluation:  44%|████▍     | 4/9 [00:00<00:00,  8.02it/s]\n",
      "Train:   0%|          | 0/85 [00:00<?, ?it/s, accuracy=0.0312, train_loss=5.01]"
     ]
    },
    {
     "name": "stdout",
     "output_type": "stream",
     "text": [
      "\t - Recall@10 epoch 2: 0.171875\n",
      "\t - MRR@10    epoch 2: 0.083104\n",
      "\n"
     ]
    },
    {
     "name": "stderr",
     "output_type": "stream",
     "text": [
      "Train:  93%|█████████▎| 79/85 [00:00<00:00, 156.89it/s, accuracy=0, train_loss=4.99]\n",
      "Evaluation:  44%|████▍     | 4/9 [00:00<00:00,  8.08it/s]\n",
      "Train:   0%|          | 0/85 [00:00<?, ?it/s, accuracy=0.0938, train_loss=4.96]"
     ]
    },
    {
     "name": "stdout",
     "output_type": "stream",
     "text": [
      "\t - Recall@10 epoch 3: 0.164062\n",
      "\t - MRR@10    epoch 3: 0.079033\n",
      "\n"
     ]
    },
    {
     "name": "stderr",
     "output_type": "stream",
     "text": [
      "Train:  93%|█████████▎| 79/85 [00:00<00:00, 155.33it/s, accuracy=0.0625, train_loss=4.92]\n",
      "Evaluation:  44%|████▍     | 4/9 [00:00<00:00,  7.98it/s]\n",
      "Train:   0%|          | 0/85 [00:00<?, ?it/s, accuracy=0.125, train_loss=4.91] "
     ]
    },
    {
     "name": "stdout",
     "output_type": "stream",
     "text": [
      "\t - Recall@10 epoch 4: 0.187500\n",
      "\t - MRR@10    epoch 4: 0.086390\n",
      "\n"
     ]
    },
    {
     "name": "stderr",
     "output_type": "stream",
     "text": [
      "Train:  93%|█████████▎| 79/85 [00:00<00:00, 152.00it/s, accuracy=0.0312, train_loss=4.89]\n",
      "Evaluation:  44%|████▍     | 4/9 [00:00<00:00,  7.61it/s]\n",
      "Train:   0%|          | 0/85 [00:00<?, ?it/s, accuracy=0.0938, train_loss=4.87]"
     ]
    },
    {
     "name": "stdout",
     "output_type": "stream",
     "text": [
      "\t - Recall@10 epoch 5: 0.195312\n",
      "\t - MRR@10    epoch 5: 0.083061\n",
      "\n"
     ]
    },
    {
     "name": "stderr",
     "output_type": "stream",
     "text": [
      "Train:  93%|█████████▎| 79/85 [00:00<00:00, 150.49it/s, accuracy=0.0625, train_loss=4.81]\n",
      "Evaluation:  44%|████▍     | 4/9 [00:00<00:00,  8.07it/s]\n",
      "Train:   0%|          | 0/85 [00:00<?, ?it/s, accuracy=0.0938, train_loss=4.81]"
     ]
    },
    {
     "name": "stdout",
     "output_type": "stream",
     "text": [
      "\t - Recall@10 epoch 6: 0.156250\n",
      "\t - MRR@10    epoch 6: 0.095182\n",
      "\n"
     ]
    },
    {
     "name": "stderr",
     "output_type": "stream",
     "text": [
      "Train:  93%|█████████▎| 79/85 [00:00<00:00, 153.02it/s, accuracy=0.0312, train_loss=4.79]\n",
      "Evaluation:  44%|████▍     | 4/9 [00:00<00:00,  8.19it/s]\n",
      "Train:   0%|          | 0/85 [00:00<?, ?it/s, accuracy=0.156, train_loss=4.7]  "
     ]
    },
    {
     "name": "stdout",
     "output_type": "stream",
     "text": [
      "\t - Recall@10 epoch 7: 0.187500\n",
      "\t - MRR@10    epoch 7: 0.110100\n",
      "\n"
     ]
    },
    {
     "name": "stderr",
     "output_type": "stream",
     "text": [
      "Train:  93%|█████████▎| 79/85 [00:00<00:00, 153.29it/s, accuracy=0.0312, train_loss=4.69]\n",
      "Evaluation:  44%|████▍     | 4/9 [00:00<00:00,  7.23it/s]\n",
      "Train:   0%|          | 0/85 [00:00<?, ?it/s, accuracy=0.125, train_loss=4.61] "
     ]
    },
    {
     "name": "stdout",
     "output_type": "stream",
     "text": [
      "\t - Recall@10 epoch 8: 0.226562\n",
      "\t - MRR@10    epoch 8: 0.112912\n",
      "\n"
     ]
    },
    {
     "name": "stderr",
     "output_type": "stream",
     "text": [
      "Train:  93%|█████████▎| 79/85 [00:00<00:00, 153.73it/s, accuracy=0.156, train_loss=4.57]\n",
      "Evaluation:  44%|████▍     | 4/9 [00:00<00:00,  7.30it/s]\n",
      "Train:   0%|          | 0/85 [00:00<?, ?it/s, accuracy=0.0625, train_loss=4.71]"
     ]
    },
    {
     "name": "stdout",
     "output_type": "stream",
     "text": [
      "\t - Recall@10 epoch 9: 0.242188\n",
      "\t - MRR@10    epoch 9: 0.121850\n",
      "\n"
     ]
    },
    {
     "name": "stderr",
     "output_type": "stream",
     "text": [
      "Train:  93%|█████████▎| 79/85 [00:00<00:00, 149.81it/s, accuracy=0.125, train_loss=4.43]\n",
      "Evaluation:  44%|████▍     | 4/9 [00:00<00:00,  8.48it/s]\n",
      "Train:   0%|          | 0/85 [00:00<?, ?it/s, accuracy=0.0938, train_loss=4.54]"
     ]
    },
    {
     "name": "stdout",
     "output_type": "stream",
     "text": [
      "\t - Recall@10 epoch 10: 0.234375\n",
      "\t - MRR@10    epoch 10: 0.131758\n",
      "\n"
     ]
    },
    {
     "name": "stderr",
     "output_type": "stream",
     "text": [
      "Train:  93%|█████████▎| 79/85 [00:00<00:00, 154.23it/s, accuracy=0.125, train_loss=4.43]\n",
      "Evaluation:  44%|████▍     | 4/9 [00:00<00:00,  8.32it/s]\n",
      "Train:   0%|          | 0/85 [00:00<?, ?it/s, accuracy=0.125, train_loss=4.48] "
     ]
    },
    {
     "name": "stdout",
     "output_type": "stream",
     "text": [
      "\t - Recall@10 epoch 11: 0.234375\n",
      "\t - MRR@10    epoch 11: 0.130205\n",
      "\n"
     ]
    },
    {
     "name": "stderr",
     "output_type": "stream",
     "text": [
      "Train:  93%|█████████▎| 79/85 [00:00<00:00, 152.18it/s, accuracy=0.156, train_loss=4.26]\n",
      "Evaluation:  44%|████▍     | 4/9 [00:00<00:00,  8.30it/s]\n",
      "Train:   0%|          | 0/85 [00:00<?, ?it/s, accuracy=0.125, train_loss=4.37] "
     ]
    },
    {
     "name": "stdout",
     "output_type": "stream",
     "text": [
      "\t - Recall@10 epoch 12: 0.250000\n",
      "\t - MRR@10    epoch 12: 0.136483\n",
      "\n"
     ]
    },
    {
     "name": "stderr",
     "output_type": "stream",
     "text": [
      "Train:  93%|█████████▎| 79/85 [00:00<00:00, 154.10it/s, accuracy=0.25, train_loss=4.14]\n",
      "Evaluation:  44%|████▍     | 4/9 [00:00<00:00,  8.15it/s]\n",
      "Train:   0%|          | 0/85 [00:00<?, ?it/s, accuracy=0.125, train_loss=4.15] "
     ]
    },
    {
     "name": "stdout",
     "output_type": "stream",
     "text": [
      "\t - Recall@10 epoch 13: 0.242188\n",
      "\t - MRR@10    epoch 13: 0.132788\n",
      "\n"
     ]
    },
    {
     "name": "stderr",
     "output_type": "stream",
     "text": [
      "Train:  93%|█████████▎| 79/85 [00:00<00:00, 149.91it/s, accuracy=0.25, train_loss=4.05]\n",
      "Evaluation:  44%|████▍     | 4/9 [00:00<00:00,  8.16it/s]\n",
      "Train:   0%|          | 0/85 [00:00<?, ?it/s, accuracy=0.0625, train_loss=4.31]"
     ]
    },
    {
     "name": "stdout",
     "output_type": "stream",
     "text": [
      "\t - Recall@10 epoch 14: 0.250000\n",
      "\t - MRR@10    epoch 14: 0.144572\n",
      "\n"
     ]
    },
    {
     "name": "stderr",
     "output_type": "stream",
     "text": [
      "Train:  93%|█████████▎| 79/85 [00:00<00:00, 150.05it/s, accuracy=0.188, train_loss=4.03]\n",
      "Evaluation:  44%|████▍     | 4/9 [00:00<00:00,  8.48it/s]\n",
      "Train:   0%|          | 0/85 [00:00<?, ?it/s, accuracy=0.156, train_loss=4.08] "
     ]
    },
    {
     "name": "stdout",
     "output_type": "stream",
     "text": [
      "\t - Recall@10 epoch 15: 0.250000\n",
      "\t - MRR@10    epoch 15: 0.150651\n",
      "\n"
     ]
    },
    {
     "name": "stderr",
     "output_type": "stream",
     "text": [
      "Train:  93%|█████████▎| 79/85 [00:00<00:00, 151.39it/s, accuracy=0.219, train_loss=3.95]\n",
      "Evaluation:  44%|████▍     | 4/9 [00:00<00:00,  8.38it/s]\n",
      "Train:   0%|          | 0/85 [00:00<?, ?it/s, accuracy=0.156, train_loss=3.91] "
     ]
    },
    {
     "name": "stdout",
     "output_type": "stream",
     "text": [
      "\t - Recall@10 epoch 16: 0.250000\n",
      "\t - MRR@10    epoch 16: 0.153385\n",
      "\n"
     ]
    },
    {
     "name": "stderr",
     "output_type": "stream",
     "text": [
      "Train:  93%|█████████▎| 79/85 [00:00<00:00, 153.98it/s, accuracy=0.219, train_loss=3.84]\n",
      "Evaluation:  44%|████▍     | 4/9 [00:00<00:00,  8.43it/s]\n",
      "Train:   0%|          | 0/85 [00:00<?, ?it/s, accuracy=0.125, train_loss=3.83] "
     ]
    },
    {
     "name": "stdout",
     "output_type": "stream",
     "text": [
      "\t - Recall@10 epoch 17: 0.257812\n",
      "\t - MRR@10    epoch 17: 0.150908\n",
      "\n"
     ]
    },
    {
     "name": "stderr",
     "output_type": "stream",
     "text": [
      "Train:  93%|█████████▎| 79/85 [00:00<00:00, 151.18it/s, accuracy=0.156, train_loss=3.72]\n",
      "Evaluation:  44%|████▍     | 4/9 [00:00<00:00,  8.27it/s]\n",
      "Train:   0%|          | 0/85 [00:00<?, ?it/s, accuracy=0.188, train_loss=3.82] "
     ]
    },
    {
     "name": "stdout",
     "output_type": "stream",
     "text": [
      "\t - Recall@10 epoch 18: 0.265625\n",
      "\t - MRR@10    epoch 18: 0.153764\n",
      "\n"
     ]
    },
    {
     "name": "stderr",
     "output_type": "stream",
     "text": [
      "Train:  93%|█████████▎| 79/85 [00:00<00:00, 154.82it/s, accuracy=0.188, train_loss=3.77]\n",
      "Evaluation:  44%|████▍     | 4/9 [00:00<00:00,  8.73it/s]\n",
      "Train:   0%|          | 0/85 [00:00<?, ?it/s, accuracy=0.125, train_loss=3.74] "
     ]
    },
    {
     "name": "stdout",
     "output_type": "stream",
     "text": [
      "\t - Recall@10 epoch 19: 0.265625\n",
      "\t - MRR@10    epoch 19: 0.154402\n",
      "\n"
     ]
    },
    {
     "name": "stderr",
     "output_type": "stream",
     "text": [
      "Train:  93%|█████████▎| 79/85 [00:00<00:00, 150.39it/s, accuracy=0.219, train_loss=3.74]\n",
      "Evaluation:  44%|████▍     | 4/9 [00:00<00:00,  8.53it/s]\n",
      "Evaluation:  11%|█         | 1/9 [00:00<00:01,  5.06it/s]"
     ]
    },
    {
     "name": "stdout",
     "output_type": "stream",
     "text": [
      "\t - Recall@10 epoch 20: 0.265625\n",
      "\t - MRR@10    epoch 20: 0.156495\n",
      "\n",
      "\t - Recall@10: 0.281250\n",
      "\t - MRR@10: 0.161892\n",
      "\n"
     ]
    },
    {
     "name": "stderr",
     "output_type": "stream",
     "text": [
      "\n"
     ]
    }
   ],
   "source": [
    "args = Args(tr, val, test, batch_size=32, hsz=70, drop_rate=0.3, lr=0.001, epochs=20, k=10)\n",
    "model = create_model(args)\n",
    "train_model(model, args)\n",
    "test_model(model, args, test)"
   ]
  },
  {
   "cell_type": "markdown",
   "metadata": {},
   "source": [
    "* 기존보다 MRR이 좀 높아짐, Recall은 감소했다."
   ]
  },
  {
   "cell_type": "code",
   "execution_count": 226,
   "metadata": {
    "scrolled": false
   },
   "outputs": [
    {
     "name": "stderr",
     "output_type": "stream",
     "text": [
      "\r",
      "Train:   0%|          | 0/85 [00:00<?, ?it/s]"
     ]
    },
    {
     "name": "stdout",
     "output_type": "stream",
     "text": [
      "Model: \"model_72\"\n",
      "_________________________________________________________________\n",
      "Layer (type)                 Output Shape              Param #   \n",
      "=================================================================\n",
      "input_73 (InputLayer)        [(32, 1, 153)]            0         \n",
      "_________________________________________________________________\n",
      "GRU (GRU)                    [(32, 70), (32, 70)]      47250     \n",
      "_________________________________________________________________\n",
      "dropout_72 (Dropout)         (32, 70)                  0         \n",
      "_________________________________________________________________\n",
      "dense_72 (Dense)             (32, 153)                 10863     \n",
      "=================================================================\n",
      "Total params: 58,113\n",
      "Trainable params: 58,113\n",
      "Non-trainable params: 0\n",
      "_________________________________________________________________\n"
     ]
    },
    {
     "name": "stderr",
     "output_type": "stream",
     "text": [
      "Train:  93%|█████████▎| 79/85 [00:01<00:00, 46.40it/s, accuracy=0, train_loss=5.01]    \n",
      "Evaluation:  44%|████▍     | 4/9 [00:01<00:02,  2.09it/s]\n",
      "Train:   0%|          | 0/85 [00:00<?, ?it/s, accuracy=0.0312, train_loss=5.01]"
     ]
    },
    {
     "name": "stdout",
     "output_type": "stream",
     "text": [
      "\t - Recall@60 epoch 1: 0.492188\n",
      "\t - MRR@60    epoch 1: 0.039320\n",
      "\n"
     ]
    },
    {
     "name": "stderr",
     "output_type": "stream",
     "text": [
      "Train:  93%|█████████▎| 79/85 [00:00<00:00, 149.36it/s, accuracy=0.0312, train_loss=4.99]\n",
      "Evaluation:  44%|████▍     | 4/9 [00:01<00:02,  2.48it/s]\n",
      "Train:   0%|          | 0/85 [00:00<?, ?it/s, accuracy=0.0625, train_loss=4.98]"
     ]
    },
    {
     "name": "stdout",
     "output_type": "stream",
     "text": [
      "\t - Recall@60 epoch 2: 0.507812\n",
      "\t - MRR@60    epoch 2: 0.062276\n",
      "\n"
     ]
    },
    {
     "name": "stderr",
     "output_type": "stream",
     "text": [
      "Train:  93%|█████████▎| 79/85 [00:00<00:00, 151.63it/s, accuracy=0.0312, train_loss=4.95]\n",
      "Evaluation:  44%|████▍     | 4/9 [00:01<00:01,  2.51it/s]\n",
      "Train:   0%|          | 0/85 [00:00<?, ?it/s, accuracy=0.0625, train_loss=4.96]"
     ]
    },
    {
     "name": "stdout",
     "output_type": "stream",
     "text": [
      "\t - Recall@60 epoch 3: 0.523438\n",
      "\t - MRR@60    epoch 3: 0.073621\n",
      "\n"
     ]
    },
    {
     "name": "stderr",
     "output_type": "stream",
     "text": [
      "Train:  93%|█████████▎| 79/85 [00:00<00:00, 152.79it/s, accuracy=0.0312, train_loss=4.91]\n",
      "Evaluation:  44%|████▍     | 4/9 [00:01<00:02,  2.45it/s]\n",
      "Train:   0%|          | 0/85 [00:00<?, ?it/s, accuracy=0.0312, train_loss=4.94]"
     ]
    },
    {
     "name": "stdout",
     "output_type": "stream",
     "text": [
      "\t - Recall@60 epoch 4: 0.500000\n",
      "\t - MRR@60    epoch 4: 0.075670\n",
      "\n"
     ]
    },
    {
     "name": "stderr",
     "output_type": "stream",
     "text": [
      "Train:  93%|█████████▎| 79/85 [00:00<00:00, 153.89it/s, accuracy=0.0625, train_loss=4.84]\n",
      "Evaluation:  44%|████▍     | 4/9 [00:01<00:01,  2.55it/s]\n",
      "Train:   0%|          | 0/85 [00:00<?, ?it/s, accuracy=0.0938, train_loss=4.85]"
     ]
    },
    {
     "name": "stdout",
     "output_type": "stream",
     "text": [
      "\t - Recall@60 epoch 5: 0.523438\n",
      "\t - MRR@60    epoch 5: 0.088977\n",
      "\n"
     ]
    },
    {
     "name": "stderr",
     "output_type": "stream",
     "text": [
      "Train:  93%|█████████▎| 79/85 [00:00<00:00, 149.52it/s, accuracy=0.0625, train_loss=4.76]\n",
      "Evaluation:  44%|████▍     | 4/9 [00:01<00:01,  2.62it/s]\n",
      "Train:   0%|          | 0/85 [00:00<?, ?it/s, accuracy=0.0312, train_loss=4.78]"
     ]
    },
    {
     "name": "stdout",
     "output_type": "stream",
     "text": [
      "\t - Recall@60 epoch 6: 0.531250\n",
      "\t - MRR@60    epoch 6: 0.098912\n",
      "\n"
     ]
    },
    {
     "name": "stderr",
     "output_type": "stream",
     "text": [
      "Train:  93%|█████████▎| 79/85 [00:00<00:00, 153.03it/s, accuracy=0.0312, train_loss=4.66]\n",
      "Evaluation:  44%|████▍     | 4/9 [00:01<00:01,  2.59it/s]\n",
      "Train:   0%|          | 0/85 [00:00<?, ?it/s, accuracy=0.0938, train_loss=4.67]"
     ]
    },
    {
     "name": "stdout",
     "output_type": "stream",
     "text": [
      "\t - Recall@60 epoch 7: 0.554688\n",
      "\t - MRR@60    epoch 7: 0.103995\n",
      "\n"
     ]
    },
    {
     "name": "stderr",
     "output_type": "stream",
     "text": [
      "Train:  93%|█████████▎| 79/85 [00:00<00:00, 151.38it/s, accuracy=0.0625, train_loss=4.53]\n",
      "Evaluation:  44%|████▍     | 4/9 [00:01<00:01,  2.74it/s]\n",
      "Train:   0%|          | 0/85 [00:00<?, ?it/s, accuracy=0.0938, train_loss=4.59]"
     ]
    },
    {
     "name": "stdout",
     "output_type": "stream",
     "text": [
      "\t - Recall@60 epoch 8: 0.609375\n",
      "\t - MRR@60    epoch 8: 0.122348\n",
      "\n"
     ]
    },
    {
     "name": "stderr",
     "output_type": "stream",
     "text": [
      "Train:  93%|█████████▎| 79/85 [00:00<00:00, 152.76it/s, accuracy=0.0938, train_loss=4.52]\n",
      "Evaluation:  44%|████▍     | 4/9 [00:01<00:01,  2.74it/s]\n",
      "Train:   0%|          | 0/85 [00:00<?, ?it/s, accuracy=0.156, train_loss=4.48] "
     ]
    },
    {
     "name": "stdout",
     "output_type": "stream",
     "text": [
      "\t - Recall@60 epoch 9: 0.601562\n",
      "\t - MRR@60    epoch 9: 0.128882\n",
      "\n"
     ]
    },
    {
     "name": "stderr",
     "output_type": "stream",
     "text": [
      "Train:  93%|█████████▎| 79/85 [00:00<00:00, 152.62it/s, accuracy=0.0625, train_loss=4.44]\n",
      "Evaluation:  44%|████▍     | 4/9 [00:01<00:01,  2.79it/s]\n",
      "Evaluation:  11%|█         | 1/9 [00:00<00:01,  5.61it/s]"
     ]
    },
    {
     "name": "stdout",
     "output_type": "stream",
     "text": [
      "\t - Recall@60 epoch 10: 0.585938\n",
      "\t - MRR@60    epoch 10: 0.131985\n",
      "\n",
      "\t - Recall@60: 0.406250\n",
      "\t - MRR@60: 0.164503\n",
      "\n"
     ]
    },
    {
     "name": "stderr",
     "output_type": "stream",
     "text": [
      "\n"
     ]
    }
   ],
   "source": [
    "args = Args(tr, val, test, batch_size=32, hsz=70, drop_rate=0.25, lr=0.001, epochs=10, k=60)\n",
    "model = create_model(args)\n",
    "train_model(model, args)\n",
    "test_model(model, args, test)"
   ]
  },
  {
   "cell_type": "markdown",
   "metadata": {},
   "source": [
    "* 둘 다 증가하였다!"
   ]
  },
  {
   "cell_type": "markdown",
   "metadata": {},
   "source": [
    "# 회고"
   ]
  },
  {
   "cell_type": "markdown",
   "metadata": {},
   "source": [
    "### 1. 여러 실험 결과"
   ]
  },
  {
   "cell_type": "markdown",
   "metadata": {},
   "source": [
    "|순서|데이터 개수(약 3년치 중 몇년치?)|val,test(일)|least_click|평점3점대이하 삭제|batch_size|hsz|drop_rate|lr|epochs|k|Recall@k|MRR|\n",
    "|---|---|---|---|---|---|---|---|---|---|---|---|---|\n",
    "|1|1년치|30,30|5|X|64|50|0.1|0.001|20|20|0.039062|0.013897|\n",
    "|2|1년치|30,30|20|X|32|50|0.1|0.001|20|20|0.312500|0.140393|\n",
    "|3|2년치|90,90|20|X|64|50|0.1|0.001|20|20|0.162642|0.055901|\n",
    "|4|2년치|90,90|20|X|32|50|0.1|0.001|20|20|0.181641|0.060916|\n",
    "|5|2년치|30,30|20|X|32|50|0.1|0.001|20|20|0.160156|0.053640|\n",
    "|6|2년치|30,30|20|X|32|50|0.2|0.001|20|20|0.160156|0.047193|\n",
    "|7|3년치|90,90|20|X|64|50|0.2|0.001|20|20|0.190104|0.065721|\n",
    "|8|3년치|30,30|20|O|64|50|0.2|0.001|20|20|0.162946|0.061167|\n",
    "|9|1년치|30,30|20|X|32|70|0.3|0.001|20|20|0.375000|0.146947|\n",
    "|10|1년치|30,30|20|X|32|70|0.3|0.001|20|10|0.281250|0.161892|\n",
    "|11|1년치|30,30|20|X|32|70|0.25|0.001|10|60|0.406250|0.164503|"
   ]
  },
  {
   "cell_type": "markdown",
   "metadata": {},
   "source": [
    "* least_click을 5에서 20으로 높여주니 성능이 확 올랐다. 아마 클릭 수 평균이 39이니깐 20이하도 적게 클릭한 것이기 때문에 없애줘야되는 것 같다.\n",
    "* Recall@K 는 K 개 추천했을때, 추천되어야했을 relevant한 item이 몇개 추천되어져 있느냐를 나타내는 measure이라고 한다. \n",
    "    * k=20일 때, 9번째 결과가 제일 성능이 좋았다 (recall@20 : 0.375000\t/ MRR : 0.146947)\n",
    "    * 전체적으론 11번째 결과가 제일 성능이 좋았다. (recall@20 : 0.406250\t/ MRR : 0.164503)\n",
    "    * => 아마 추천한 개수가 많을수록 relevant한 item이 포함될 확률이 높아서 그런게 아닐까? 싶다.."
   ]
  },
  {
   "cell_type": "markdown",
   "metadata": {},
   "source": [
    "### 느낀점"
   ]
  },
  {
   "cell_type": "markdown",
   "metadata": {},
   "source": [
    "* 전처리가 중요한 거 같다. 클릭 수가 이상하게 많은 데이터들을 삭제하지 않았는데 아마 삭제했으면 성능이 더 좋아지지 않았을까?"
   ]
  },
  {
   "cell_type": "markdown",
   "metadata": {},
   "source": [
    "* 각 row의 시간차이를 보면 보통 10분이내인 거 같아서 크게 30분으로 잡고 시간차이가 30분보다 크면 같은 user라도 다른 session이라고 생각했다. 아니면 user_id가 바뀌면 다른 session으로 생각하고 session_id 컬럼을 만들어주었다. 시간이 좀 더 있었으면 여기서 더 합리적으로 세션을 나눠보고 싶었는데 아쉽다."
   ]
  },
  {
   "cell_type": "markdown",
   "metadata": {},
   "source": [
    "* 노드에 영화나 드라마도 소비자들의 패턴이 금방 바껴서 최근 트렌드를 봐야된다고 했는데 최근 트렌드 기준을 잘 모르겠다. 생각해보면 영화는 사람마다 취향이 확고한 편이여서 소비패턴이 그렇게 자주 바뀔까 싶기도 하고.. 위의 결과에서는 3년치 데이터를 썼을 때보단 1년치 데이터를 썼을 때 더 성능이 좋긴했지만 아마 세션을 나누는 기준을 다르게 하거나 전처리를 다르게 했으면 이것도 달라졌을 것 같다."
   ]
  },
  {
   "cell_type": "markdown",
   "metadata": {},
   "source": [
    "* 노드대로 따라하긴 했는데 어려웠다.. 이해를 제대로 못해서 그런것 같으니 다시 차근차근 보면서 내걸로 만들어야겠다."
   ]
  }
 ],
 "metadata": {
  "kernelspec": {
   "display_name": "Python 3",
   "language": "python",
   "name": "python3"
  },
  "language_info": {
   "codemirror_mode": {
    "name": "ipython",
    "version": 3
   },
   "file_extension": ".py",
   "mimetype": "text/x-python",
   "name": "python",
   "nbconvert_exporter": "python",
   "pygments_lexer": "ipython3",
   "version": "3.8.3"
  },
  "toc": {
   "base_numbering": 1,
   "nav_menu": {},
   "number_sections": true,
   "sideBar": true,
   "skip_h1_title": false,
   "title_cell": "Table of Contents",
   "title_sidebar": "Contents",
   "toc_cell": false,
   "toc_position": {},
   "toc_section_display": true,
   "toc_window_display": false
  }
 },
 "nbformat": 4,
 "nbformat_minor": 5
}
