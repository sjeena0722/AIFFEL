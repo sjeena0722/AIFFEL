{
 "cells": [
  {
   "cell_type": "markdown",
   "id": "discrete-cheat",
   "metadata": {},
   "source": [
    "# 미니프로젝트 : 가위바위보 분류기를 만들자"
   ]
  },
  {
   "cell_type": "markdown",
   "id": "popular-times",
   "metadata": {},
   "source": [
    "## 1. 데이터 불러오기 + Resize 하기"
   ]
  },
  {
   "cell_type": "markdown",
   "id": "rising-puzzle",
   "metadata": {},
   "source": [
    "#### PIL 라이브러리 불러오기"
   ]
  },
  {
   "cell_type": "code",
   "execution_count": 439,
   "id": "caroline-chaos",
   "metadata": {
    "scrolled": true
   },
   "outputs": [
    {
     "name": "stdout",
     "output_type": "stream",
     "text": [
      "PIL 라이브러리 import 완료!\n"
     ]
    }
   ],
   "source": [
    "from PIL import Image\n",
    "import os, glob\n",
    "\n",
    "print(\"PIL 라이브러리 import 완료!\")"
   ]
  },
  {
   "cell_type": "markdown",
   "id": "spread-guide",
   "metadata": {},
   "source": [
    "#### 가위 - 이미지의 크기 28x28로 변경하기"
   ]
  },
  {
   "cell_type": "code",
   "execution_count": 440,
   "id": "nearby-hacker",
   "metadata": {},
   "outputs": [
    {
     "name": "stdout",
     "output_type": "stream",
     "text": [
      "2421  images to be resized.\n",
      "2421  images resized.\n",
      "가위 이미지 resize 완료!\n"
     ]
    }
   ],
   "source": [
    "import os\n",
    "\n",
    "def resize_images(img_path):\n",
    "    images=glob.glob(img_path + \"/*.jpg\")  \n",
    "    \n",
    "    print(len(images), \" images to be resized.\")\n",
    "\n",
    "    # 파일마다 모두 28x28 사이즈로 바꾸어 저장합니다.\n",
    "    target_size=(28,28)\n",
    "    for img in images:\n",
    "        old_img=Image.open(img)\n",
    "        new_img=old_img.resize(target_size,Image.ANTIALIAS)\n",
    "        new_img.save(img, \"JPEG\")\n",
    "    \n",
    "    print(len(images), \" images resized.\")\n",
    "\n",
    "# 가위 이미지가 저장된 디렉토리 아래의 모든 jpg 파일을 읽어들여서\n",
    "image_dir_path = os.getenv(\"HOME\") + \"/aiffel/rock_scissor_paper/scissor\"\n",
    "resize_images(image_dir_path)\n",
    "\n",
    "print(\"가위 이미지 resize 완료!\")"
   ]
  },
  {
   "cell_type": "markdown",
   "id": "aboriginal-opinion",
   "metadata": {},
   "source": [
    "#### 바위 - 이미지의 크기 28x28로 변경하기"
   ]
  },
  {
   "cell_type": "code",
   "execution_count": 441,
   "id": "threaded-start",
   "metadata": {},
   "outputs": [
    {
     "name": "stdout",
     "output_type": "stream",
     "text": [
      "2439  images to be resized.\n",
      "2439  images resized.\n",
      "바위 이미지 resize 완료!\n"
     ]
    }
   ],
   "source": [
    "# 바위 이미지가 저장된 디렉토리 아래의 모든 jpg 파일을 읽어들여서\n",
    "image_dir_path = os.getenv(\"HOME\") + \"/aiffel/rock_scissor_paper/rock\"\n",
    "# 파일마다 모두 28x28 사이즈로 바꾸어 저장합니다.\n",
    "resize_images(image_dir_path)\n",
    "\n",
    "print(\"바위 이미지 resize 완료!\")"
   ]
  },
  {
   "cell_type": "markdown",
   "id": "miniature-electricity",
   "metadata": {},
   "source": [
    "#### 보 - 이미지의 크기 28x28로 변경하기"
   ]
  },
  {
   "cell_type": "code",
   "execution_count": 442,
   "id": "endless-commonwealth",
   "metadata": {
    "scrolled": true
   },
   "outputs": [
    {
     "name": "stdout",
     "output_type": "stream",
     "text": [
      "2455  images to be resized.\n",
      "2455  images resized.\n",
      "보 이미지 resize 완료!\n"
     ]
    }
   ],
   "source": [
    "# 보 이미지가 저장된 디렉토리 아래의 모든 jpg 파일을 읽어들여서\n",
    "image_dir_path = os.getenv(\"HOME\") + \"/aiffel/rock_scissor_paper/paper\"\n",
    "# 파일마다 모두 28x28 사이즈로 바꾸어 저장합니다.\n",
    "resize_images(image_dir_path)\n",
    "\n",
    "print(\"보 이미지 resize 완료!\")"
   ]
  },
  {
   "cell_type": "markdown",
   "id": "periodic-castle",
   "metadata": {},
   "source": [
    "#### 데이터읽기 및 라벨링"
   ]
  },
  {
   "cell_type": "code",
   "execution_count": 498,
   "id": "occupational-chase",
   "metadata": {
    "scrolled": true
   },
   "outputs": [
    {
     "name": "stdout",
     "output_type": "stream",
     "text": [
      "학습데이터(x_train)의 이미지 개수는 7315 입니다.\n",
      "x_train shape: (7315, 28, 28, 3)\n",
      "y_train shape: (7315,)\n"
     ]
    }
   ],
   "source": [
    "import numpy as np\n",
    "\n",
    "def load_data(img_path, number_of_data=7315):  # 가위바위보 이미지 개수 총합에 주의하세요.\n",
    "    # 가위 : 0, 바위 : 1, 보 : 2\n",
    "    img_size=28\n",
    "    color=3\n",
    "    #이미지 데이터와 라벨(가위 : 0, 바위 : 1, 보 : 2) 데이터를 담을 행렬(matrix) 영역을 생성합니다.\n",
    "    imgs=np.zeros(number_of_data*img_size*img_size*color,dtype=np.int32).reshape(number_of_data,img_size,img_size,color)\n",
    "    labels=np.zeros(number_of_data,dtype=np.int32)\n",
    "\n",
    "    idx=0\n",
    "    for file in glob.iglob(img_path+'/scissor/*.jpg'):\n",
    "        img = np.array(Image.open(file),dtype=np.int32)\n",
    "        imgs[idx,:,:,:]=img    # 데이터 영역에 이미지 행렬을 복사\n",
    "        labels[idx]=0   # 가위 : 0\n",
    "        idx=idx+1\n",
    "\n",
    "    for file in glob.iglob(img_path+'/rock/*.jpg'):\n",
    "        img = np.array(Image.open(file),dtype=np.int32)\n",
    "        imgs[idx,:,:,:]=img    # 데이터 영역에 이미지 행렬을 복사\n",
    "        labels[idx]=1   # 바위 : 1\n",
    "        idx=idx+1  \n",
    "    \n",
    "    for file in glob.iglob(img_path+'/paper/*.jpg'):\n",
    "        img = np.array(Image.open(file),dtype=np.int32)\n",
    "        imgs[idx,:,:,:]=img    # 데이터 영역에 이미지 행렬을 복사\n",
    "        labels[idx]=2   # 보 : 2\n",
    "        idx=idx+1\n",
    "        \n",
    "    print(\"학습데이터(x_train)의 이미지 개수는\", idx,\"입니다.\")\n",
    "    return imgs, labels\n",
    "\n",
    "image_dir_path = os.getenv(\"HOME\") + \"/aiffel/rock_scissor_paper\"\n",
    "(x_train, y_train)=load_data(image_dir_path)\n",
    "x_train_norm = x_train/255.0   # 입력은 0~1 사이의 값으로 정규화\n",
    "\n",
    "print(\"x_train shape: {}\".format(x_train.shape))\n",
    "print(\"y_train shape: {}\".format(y_train.shape))"
   ]
  },
  {
   "cell_type": "markdown",
   "id": "excess-reproduction",
   "metadata": {},
   "source": [
    "#### 이미지 불러오기 (x_train[0])"
   ]
  },
  {
   "cell_type": "code",
   "execution_count": 499,
   "id": "pacific-genre",
   "metadata": {
    "scrolled": true
   },
   "outputs": [
    {
     "name": "stdout",
     "output_type": "stream",
     "text": [
      "라벨:  0\n"
     ]
    },
    {
     "data": {
      "image/png": "[encoded data removed]",
      "text/plain": [
       "<Figure size 432x288 with 1 Axes>"
      ]
     },
     "metadata": {
      "needs_background": "light"
     },
     "output_type": "display_data"
    }
   ],
   "source": [
    "import matplotlib.pyplot as plt\n",
    "plt.imshow(x_train[0])\n",
    "print('라벨: ', y_train[0])"
   ]
  },
  {
   "cell_type": "markdown",
   "id": "continuing-pathology",
   "metadata": {},
   "source": [
    "## 딥러닝 네트워크 설계하기"
   ]
  },
  {
   "cell_type": "code",
   "execution_count": 500,
   "id": "progressive-council",
   "metadata": {},
   "outputs": [],
   "source": [
    "import tensorflow as tf\n",
    "from tensorflow import keras\n",
    "import numpy as np"
   ]
  },
  {
   "cell_type": "code",
   "execution_count": 501,
   "id": "indonesian-breed",
   "metadata": {},
   "outputs": [],
   "source": [
    "# 랜덤시드 고정시키기\n",
    "np.random.seed(3)\n"
   ]
  },
  {
   "cell_type": "markdown",
   "id": "developing-radiation",
   "metadata": {},
   "source": [
    "#### 모델 만들기"
   ]
  },
  {
   "cell_type": "markdown",
   "id": "spoken-classification",
   "metadata": {},
   "source": [
    "n_channel_1=20\n",
    "n_channel_2=20\n",
    "n_channel_3=40\n",
    "n_dense=16\n",
    "n_train_epoch=13"
   ]
  },
  {
   "cell_type": "code",
   "execution_count": 502,
   "id": "fewer-sponsorship",
   "metadata": {
    "scrolled": false
   },
   "outputs": [
    {
     "name": "stdout",
     "output_type": "stream",
     "text": [
      "Model에 추가된 Layer 개수:  9\n",
      "Model: \"sequential_40\"\n",
      "_________________________________________________________________\n",
      "Layer (type)                 Output Shape              Param #   \n",
      "=================================================================\n",
      "conv2d_116 (Conv2D)          (None, 26, 26, 20)        560       \n",
      "_________________________________________________________________\n",
      "max_pooling2d_116 (MaxPoolin (None, 13, 13, 20)        0         \n",
      "_________________________________________________________________\n",
      "conv2d_117 (Conv2D)          (None, 11, 11, 40)        7240      \n",
      "_________________________________________________________________\n",
      "max_pooling2d_117 (MaxPoolin (None, 5, 5, 40)          0         \n",
      "_________________________________________________________________\n",
      "conv2d_118 (Conv2D)          (None, 3, 3, 30)          10830     \n",
      "_________________________________________________________________\n",
      "max_pooling2d_118 (MaxPoolin (None, 1, 1, 30)          0         \n",
      "_________________________________________________________________\n",
      "flatten_40 (Flatten)         (None, 30)                0         \n",
      "_________________________________________________________________\n",
      "dense_80 (Dense)             (None, 16)                496       \n",
      "_________________________________________________________________\n",
      "dense_81 (Dense)             (None, 3)                 51        \n",
      "=================================================================\n",
      "Total params: 19,177\n",
      "Trainable params: 19,177\n",
      "Non-trainable params: 0\n",
      "_________________________________________________________________\n"
     ]
    }
   ],
   "source": [
    "\n",
    "\"\"\"\n",
    "n_channel_1=8\n",
    "n_channel_2=16\n",
    "n_channel_3=16\n",
    "n_dense=10\n",
    "\"\"\"\n",
    "\n",
    "n_channel_1=20\n",
    "n_channel_2=40\n",
    "n_channel_3=30\n",
    "n_dense=16\n",
    "n_train_epoch=10\n",
    "\n",
    "# ,padding=\"SAME\"\n",
    "model=keras.models.Sequential()\n",
    "model.add(keras.layers.Conv2D(n_channel_1, (3,3), activation='relu', input_shape=(28,28,3)))\n",
    "model.add(keras.layers.MaxPool2D(2,2))\n",
    "model.add(keras.layers.Conv2D(n_channel_2, (3,3), activation='relu'))\n",
    "model.add(keras.layers.MaxPooling2D((2,2)))\n",
    "model.add(keras.layers.Conv2D(n_channel_3, (3,3), activation='relu'))\n",
    "model.add(keras.layers.MaxPooling2D((2,2)))\n",
    "model.add(keras.layers.Flatten())\n",
    "model.add(keras.layers.Dense(n_dense, activation='relu'))\n",
    "model.add(keras.layers.Dense(3, activation='softmax'))\n",
    "\n",
    "print('Model에 추가된 Layer 개수: ', len(model.layers))\n",
    "model.summary()  "
   ]
  },
  {
   "cell_type": "markdown",
   "id": "liquid-blanket",
   "metadata": {},
   "source": [
    "## 3. 딥러닝 네트워크 학습시키기"
   ]
  },
  {
   "cell_type": "markdown",
   "id": "indian-gazette",
   "metadata": {},
   "source": [
    "#### 채널수에 대한 정보를 넣기위해 reshape 해주기 => 기존에 채널 수에 대한 정보가 존재하므로 생략해도 상관없어보인다"
   ]
  },
  {
   "cell_type": "code",
   "execution_count": 503,
   "id": "radical-photography",
   "metadata": {},
   "outputs": [
    {
     "name": "stdout",
     "output_type": "stream",
     "text": [
      "Before Reshape - x_train_norm shape: (7315, 28, 28, 3)\n",
      "After Reshape - x_train_reshaped shape: (7315, 28, 28, 3)\n"
     ]
    }
   ],
   "source": [
    "print(\"Before Reshape - x_train_norm shape: {}\".format(x_train_norm.shape))\n",
    "\n",
    "\n",
    "x_train_reshaped=x_train_norm.reshape(-1, 28, 28, 3)  # 데이터갯수에 -1을 쓰면 reshape시 자동계산됩니다.\n",
    "\n",
    "\n",
    "print(\"After Reshape - x_train_reshaped shape: {}\".format(x_train_reshaped.shape))\n",
    "\n"
   ]
  },
  {
   "cell_type": "markdown",
   "id": "annual-storm",
   "metadata": {},
   "source": [
    "#### x_train 학습데이터로 딥러닝 네트워크 학습시키기"
   ]
  },
  {
   "cell_type": "code",
   "execution_count": 504,
   "id": "inside-network",
   "metadata": {
    "scrolled": true
   },
   "outputs": [],
   "source": [
    "model.compile(optimizer='adam',\n",
    "             loss='sparse_categorical_crossentropy',\n",
    "             metrics=['accuracy'])\n"
   ]
  },
  {
   "cell_type": "markdown",
   "id": "electric-establishment",
   "metadata": {},
   "source": [
    "#### 이미지 증강(Image Augmentation) :  알고리즘이 이미지의 불변하는 표현(invariant representation)을 학습하는 것"
   ]
  },
  {
   "cell_type": "code",
   "execution_count": 505,
   "id": "amended-flight",
   "metadata": {},
   "outputs": [
    {
     "name": "stdout",
     "output_type": "stream",
     "text": [
      "Epoch 1/10\n",
      "228/228 - 24s - loss: 1.0974 - accuracy: 0.3459\n",
      "Epoch 2/10\n",
      "228/228 - 3s - loss: 1.0548 - accuracy: 0.4185\n",
      "Epoch 3/10\n",
      "228/228 - 3s - loss: 0.8711 - accuracy: 0.5896\n",
      "Epoch 4/10\n",
      "228/228 - 3s - loss: 0.7706 - accuracy: 0.6528\n",
      "Epoch 5/10\n",
      "228/228 - 3s - loss: 0.6888 - accuracy: 0.6922\n",
      "Epoch 6/10\n",
      "228/228 - 3s - loss: 0.6331 - accuracy: 0.7259\n",
      "Epoch 7/10\n",
      "228/228 - 3s - loss: 0.5815 - accuracy: 0.7531\n",
      "Epoch 8/10\n",
      "228/228 - 3s - loss: 0.5499 - accuracy: 0.7636\n",
      "Epoch 9/10\n",
      "228/228 - 3s - loss: 0.5054 - accuracy: 0.7918\n",
      "Epoch 10/10\n",
      "228/228 - 3s - loss: 0.4847 - accuracy: 0.7980\n"
     ]
    },
    {
     "data": {
      "text/plain": [
       "<tensorflow.python.keras.callbacks.History at 0x7efd1c0b48d0>"
      ]
     },
     "execution_count": 505,
     "metadata": {},
     "output_type": "execute_result"
    }
   ],
   "source": [
    "from tensorflow.keras.preprocessing.image import ImageDataGenerator\n",
    "\n",
    "datagen = ImageDataGenerator( rotation_range=10,shear_range=0.5,width_shift_range=0.15, height_shift_range=0.10, horizontal_flip=True)\n",
    "\n",
    "\n",
    "\n",
    "model.fit_generator(datagen.flow(x_train_reshaped, y_train,batch_size=32),\n",
    "                    steps_per_epoch=x_train_reshaped.shape[0]//32,epochs=n_train_epoch,verbose=2)\n",
    "        \n",
    "#model.fit(x_train_reshaped, y_train,epochs=n_train_epoch)        "
   ]
  },
  {
   "cell_type": "markdown",
   "id": "square-night",
   "metadata": {},
   "source": [
    "## 4. 얼마나 잘 만들었지 확인하기"
   ]
  },
  {
   "cell_type": "markdown",
   "id": "optional-australia",
   "metadata": {},
   "source": [
    "#### test셋으로 얼마나 잘 만들었는지 확인하기"
   ]
  },
  {
   "cell_type": "markdown",
   "id": "manual-event",
   "metadata": {},
   "source": [
    "#### test용 데이터 불러오기 + Resize 하기"
   ]
  },
  {
   "cell_type": "code",
   "execution_count": 506,
   "id": "capital-antenna",
   "metadata": {
    "scrolled": false
   },
   "outputs": [
    {
     "name": "stdout",
     "output_type": "stream",
     "text": [
      "509  images to be resized.\n",
      "509  images resized.\n",
      "가위 이미지 resize 완료!\n",
      "509  images to be resized.\n",
      "509  images resized.\n",
      "바위 이미지 resize 완료!\n",
      "509  images to be resized.\n",
      "509  images resized.\n",
      "보 이미지 resize 완료!\n",
      "테스트데이터(x_train)의 이미지 개수는 1527 입니다.\n",
      "x_test shape: (1527, 28, 28, 3)\n",
      "y_test shape: (1527,)\n"
     ]
    }
   ],
   "source": [
    "# 가위 이미지가 저장된 디렉토리 아래의 모든 jpg 파일을 읽어들여서\n",
    "image_dir_path = os.getenv(\"HOME\") + \"/aiffel/rock_scissor_paper/test2/scissor\"\n",
    "resize_images(image_dir_path)\n",
    "\n",
    "print(\"가위 이미지 resize 완료!\")\n",
    "\n",
    "\n",
    "image_dir_path = os.getenv(\"HOME\") + \"/aiffel/rock_scissor_paper/test2/rock\"\n",
    "# 파일마다 모두 28x28 사이즈로 바꾸어 저장합니다.\n",
    "# [[YOUR CODE]]\n",
    "resize_images(image_dir_path)\n",
    "\n",
    "print(\"바위 이미지 resize 완료!\")\n",
    "\n",
    "image_dir_path = os.getenv(\"HOME\") + \"/aiffel/rock_scissor_paper/test2/paper\"\n",
    "# 파일마다 모두 28x28 사이즈로 바꾸어 저장합니다.\n",
    "# [[YOUR CODE]]\n",
    "resize_images(image_dir_path)\n",
    "\n",
    "print(\"보 이미지 resize 완료!\")\n",
    "\n",
    "\n",
    "def load_data(img_path, number_of_data=1527):  # 가위바위보 이미지 개수 총합에 주의하세요.\n",
    "    # 가위 : 0, 바위 : 1, 보 : 2\n",
    "    img_size=28\n",
    "    color=3\n",
    "    #이미지 데이터와 라벨(가위 : 0, 바위 : 1, 보 : 2) 데이터를 담을 행렬(matrix) 영역을 생성합니다.\n",
    "    imgs=np.zeros(number_of_data*img_size*img_size*color,dtype=np.int32).reshape(number_of_data,img_size,img_size,color)\n",
    "    labels=np.zeros(number_of_data,dtype=np.int32)\n",
    "\n",
    "    idx=0\n",
    "    for file in glob.iglob(img_path+'/scissor/*.jpg'):\n",
    "        img = np.array(Image.open(file),dtype=np.int32)\n",
    "        imgs[idx,:,:,:]=img    # 데이터 영역에 이미지 행렬을 복사\n",
    "        labels[idx]=0   # 가위 : 0\n",
    "        idx=idx+1\n",
    "\n",
    "    for file in glob.iglob(img_path+'/rock/*.jpg'):\n",
    "        img = np.array(Image.open(file),dtype=np.int32)\n",
    "        imgs[idx,:,:,:]=img    # 데이터 영역에 이미지 행렬을 복사\n",
    "        labels[idx]=1   # 바위 : 1\n",
    "        idx=idx+1  \n",
    "    \n",
    "    for file in glob.iglob(img_path+'/paper/*.jpg'):\n",
    "        img = np.array(Image.open(file),dtype=np.int32)\n",
    "        imgs[idx,:,:,:]=img    # 데이터 영역에 이미지 행렬을 복사\n",
    "        labels[idx]=2   # 보 : 2\n",
    "        idx=idx+1\n",
    "        \n",
    "    print(\"테스트데이터(x_train)의 이미지 개수는\", idx,\"입니다.\")\n",
    "    return imgs, labels\n",
    "\n",
    "image_dir_path = os.getenv(\"HOME\") + \"/aiffel/rock_scissor_paper/test2\"\n",
    "(x_test, y_test)=load_data(image_dir_path)\n",
    "x_test_norm = x_test/255.0   # 입력은 0~1 사이의 값으로 정규화\n",
    "\n",
    "print(\"x_test shape: {}\".format(x_test.shape))\n",
    "print(\"y_test shape: {}\".format(y_test.shape))"
   ]
  },
  {
   "cell_type": "markdown",
   "id": "thick-yacht",
   "metadata": {},
   "source": [
    "#### 이미지 불러오기(x_test[457])"
   ]
  },
  {
   "cell_type": "code",
   "execution_count": 507,
   "id": "cathedral-oakland",
   "metadata": {},
   "outputs": [
    {
     "name": "stdout",
     "output_type": "stream",
     "text": [
      "라벨:  0\n"
     ]
    },
    {
     "data": {
      "image/png": "[encoded data removed]",
      "text/plain": [
       "<Figure size 432x288 with 1 Axes>"
      ]
     },
     "metadata": {
      "needs_background": "light"
     },
     "output_type": "display_data"
    }
   ],
   "source": [
    "import matplotlib.pyplot as plt\n",
    "plt.imshow(x_test[457])\n",
    "print('라벨: ', y_test[457])"
   ]
  },
  {
   "cell_type": "markdown",
   "id": "happy-money",
   "metadata": {},
   "source": [
    "#### 훈련시킨 model을 사용하여 test_accuracy 측정하기"
   ]
  },
  {
   "cell_type": "code",
   "execution_count": 508,
   "id": "great-lindsay",
   "metadata": {},
   "outputs": [
    {
     "name": "stdout",
     "output_type": "stream",
     "text": [
      "48/48 - 4s - loss: 0.9302 - accuracy: 0.6929\n",
      "test_loss: 0.9301647543907166 \n",
      "test_accuracy: 0.692861795425415\n"
     ]
    }
   ],
   "source": [
    "test_loss, test_accuracy = model.evaluate(x_test_norm,y_test, verbose=2)\n",
    "print(\"test_loss: {} \".format(test_loss))\n",
    "print(\"test_accuracy: {}\".format(test_accuracy))"
   ]
  },
  {
   "cell_type": "markdown",
   "id": "israeli-palestinian",
   "metadata": {},
   "source": [
    "****"
   ]
  },
  {
   "cell_type": "markdown",
   "id": "exceptional-brother",
   "metadata": {},
   "source": [
    "## <회고>"
   ]
  },
  {
   "cell_type": "markdown",
   "id": "alpha-administration",
   "metadata": {},
   "source": [
    "여러분 오늘 노드에도 옥의 티가 있는데 찾으셨나요ㅎㅎ? 12-4 파일 경로와 12-7의 파일 경로가 달라 코드를 조금 수정해줄 필요가 있습니다. 이 부분 주의해서 노드 진행해 주시면 되겠습니다!"
   ]
  },
  {
   "cell_type": "code",
   "execution_count": null,
   "id": "informational-jurisdiction",
   "metadata": {},
   "outputs": [],
   "source": []
  },
  {
   "cell_type": "markdown",
   "id": "devoted-radical",
   "metadata": {},
   "source": [
    "1. train set 불균형 ? 가위의 데이터보다 바위와 보의 데이터 개수가 150개정도 많아서 대충 맞춰주었다 => 0.38~0.42 왔다갔다\n",
    "2. 필터 개수를 늘리니 정확도가 올라감 => 모델이 복잡해질수록 오버피팅의 확률이 높아진다고 하여 다른 방법을 찾아봄 ==> 0.60 정도\n",
    "3. 층을 하나 더 만들어줌 (층이 깊어질수록 정확도가 좋아진다고 하여) =>정확도가 올라감 \n",
    "3. train set 개수가 적은거 같아 데이터증강을 하였음 => 정확도가 올라감 ==> 조금..?\n",
    "4. train데이터를 자체를 추가해서 더 증가시켜봄 (양재캠퍼스 데이터까지 합하기) => 증강없애고 적용,,, 좀 올라감 0.48정도..? 많이 되면 \n",
    "7. test set을  train set과 전혀 다른, 새로운 데이터 2명의 데이터를 가져왓다 너무 일반화된..? test set인거 같다=> test set 이 다양하지 않은 거 같으므로 여러명(5명)의데이터를 test set으로 사용하고자 함 => 0.57~0.6나옴\n",
    "8. 이미지 증강적용 => 올랐다\n",
    "9. \n",
    "14. 보류. 패딩 파라미터 추가"
   ]
  },
  {
   "cell_type": "markdown",
   "id": "human-chorus",
   "metadata": {},
   "source": []
  },
  {
   "cell_type": "markdown",
   "id": "fifth-ensemble",
   "metadata": {},
   "source": []
  },
  {
   "cell_type": "markdown",
   "id": "mysterious-discussion",
   "metadata": {},
   "source": []
  },
  {
   "cell_type": "markdown",
   "id": "mature-little",
   "metadata": {},
   "source": []
  },
  {
   "cell_type": "markdown",
   "id": "built-bahrain",
   "metadata": {},
   "source": [
    "* 에폭이 높다고 좋은것이 아니다\n",
    "* 정확도가 높다고 테스트 정확도가 높은건 아니다\n",
    "* n_channel_1=20\n",
    "n_channel_2=40\n",
    "n_channel_3=40\n",
    "n_dense=16\n",
    "n_train_epoch=10 에폭을 줄였는데 228/228 - 3s - loss: 0.5056 - accuracy: 0.7920 => 테스트 정확도 0.6797642707824707\n",
    "/늘렸을때는 마지막에 99퍼가 나왔지만 test정확도는 더 떨어졌다\n"
   ]
  },
  {
   "cell_type": "code",
   "execution_count": null,
   "id": "certified-milwaukee",
   "metadata": {},
   "outputs": [],
   "source": []
  }
 ],
 "metadata": {
  "kernelspec": {
   "display_name": "Python 3",
   "language": "python",
   "name": "python3"
  },
  "language_info": {
   "codemirror_mode": {
    "name": "ipython",
    "version": 3
   },
   "file_extension": ".py",
   "mimetype": "text/x-python",
   "name": "python",
   "nbconvert_exporter": "python",
   "pygments_lexer": "ipython3",
   "version": "3.7.9"
  }
 },
 "nbformat": 4,
 "nbformat_minor": 5
}
