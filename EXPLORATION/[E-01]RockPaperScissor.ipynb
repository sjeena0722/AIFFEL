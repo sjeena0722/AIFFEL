{
 "cells": [
  {
   "cell_type": "markdown",
   "id": "communist-reply",
   "metadata": {},
   "source": [
    "# 미니프로젝트 : 가위바위보 분류기를 만들자"
   ]
  },
  {
   "cell_type": "markdown",
   "id": "recreational-kazakhstan",
   "metadata": {},
   "source": [
    "## 1. 데이터 불러오기 + Resize 하기"
   ]
  },
  {
   "cell_type": "markdown",
   "id": "necessary-exception",
   "metadata": {},
   "source": [
    "#### PIL 라이브러리 불러오기"
   ]
  },
  {
   "cell_type": "code",
   "execution_count": 42,
   "id": "familiar-dispute",
   "metadata": {
    "scrolled": true
   },
   "outputs": [
    {
     "name": "stdout",
     "output_type": "stream",
     "text": [
      "PIL 라이브러리 import 완료!\n"
     ]
    }
   ],
   "source": [
    "from PIL import Image\n",
    "import os, glob\n",
    "\n",
    "print(\"PIL 라이브러리 import 완료!\")"
   ]
  },
  {
   "cell_type": "markdown",
   "id": "handy-agriculture",
   "metadata": {},
   "source": [
    "#### 가위 - 이미지의 크기 28x28로 변경하기"
   ]
  },
  {
   "cell_type": "code",
   "execution_count": 43,
   "id": "worse-street",
   "metadata": {},
   "outputs": [
    {
     "name": "stdout",
     "output_type": "stream",
     "text": [
      "1294  images to be resized.\n",
      "1294  images resized.\n",
      "가위 이미지 resize 완료!\n"
     ]
    }
   ],
   "source": [
    "import os\n",
    "\n",
    "def resize_images(img_path):\n",
    "    images=glob.glob(img_path + \"/*.jpg\")  \n",
    "    \n",
    "    print(len(images), \" images to be resized.\")\n",
    "\n",
    "    # 파일마다 모두 28x28 사이즈로 바꾸어 저장합니다.\n",
    "    target_size=(28,28)\n",
    "    for img in images:\n",
    "        old_img=Image.open(img)\n",
    "        new_img=old_img.resize(target_size,Image.ANTIALIAS)\n",
    "        new_img.save(img, \"JPEG\")\n",
    "    \n",
    "    print(len(images), \" images resized.\")\n",
    "\n",
    "# 가위 이미지가 저장된 디렉토리 아래의 모든 jpg 파일을 읽어들여서\n",
    "image_dir_path = os.getenv(\"HOME\") + \"/aiffel/rock_scissor_paper/scissor\"\n",
    "resize_images(image_dir_path)\n",
    "\n",
    "print(\"가위 이미지 resize 완료!\")"
   ]
  },
  {
   "cell_type": "markdown",
   "id": "continent-blair",
   "metadata": {},
   "source": [
    "#### 바위 - 이미지의 크기 28x28로 변경하기"
   ]
  },
  {
   "cell_type": "code",
   "execution_count": 44,
   "id": "vietnamese-trinity",
   "metadata": {},
   "outputs": [
    {
     "name": "stdout",
     "output_type": "stream",
     "text": [
      "1405  images to be resized.\n",
      "1405  images resized.\n",
      "바위 이미지 resize 완료!\n"
     ]
    }
   ],
   "source": [
    "# 바위 이미지가 저장된 디렉토리 아래의 모든 jpg 파일을 읽어들여서\n",
    "image_dir_path = os.getenv(\"HOME\") + \"/aiffel/rock_scissor_paper/rock\"\n",
    "# 파일마다 모두 28x28 사이즈로 바꾸어 저장합니다.\n",
    "resize_images(image_dir_path)\n",
    "\n",
    "print(\"바위 이미지 resize 완료!\")"
   ]
  },
  {
   "cell_type": "markdown",
   "id": "stuck-direction",
   "metadata": {},
   "source": [
    "#### 보 - 이미지의 크기 28x28로 변경하기"
   ]
  },
  {
   "cell_type": "code",
   "execution_count": 87,
   "id": "limited-maria",
   "metadata": {
    "scrolled": true
   },
   "outputs": [
    {
     "name": "stdout",
     "output_type": "stream",
     "text": [
      "1408  images to be resized.\n",
      "1408  images resized.\n",
      "보 이미지 resize 완료!\n"
     ]
    }
   ],
   "source": [
    "# 보 이미지가 저장된 디렉토리 아래의 모든 jpg 파일을 읽어들여서\n",
    "image_dir_path = os.getenv(\"HOME\") + \"/aiffel/rock_scissor_paper/paper\"\n",
    "# 파일마다 모두 28x28 사이즈로 바꾸어 저장합니다.\n",
    "resize_images(image_dir_path)\n",
    "\n",
    "print(\"보 이미지 resize 완료!\")"
   ]
  },
  {
   "cell_type": "markdown",
   "id": "upset-arrangement",
   "metadata": {},
   "source": [
    "#### 데이터읽기 및 라벨링"
   ]
  },
  {
   "cell_type": "code",
   "execution_count": 161,
   "id": "powerful-rating",
   "metadata": {
    "scrolled": true
   },
   "outputs": [
    {
     "name": "stdout",
     "output_type": "stream",
     "text": [
      "학습데이터(x_train)의 이미지 개수는 4107 입니다.\n",
      "x_train shape: (4107, 28, 28, 3)\n",
      "y_train shape: (4107,)\n"
     ]
    }
   ],
   "source": [
    "import numpy as np\n",
    "\n",
    "def load_data(img_path, number_of_data=4107):  # 가위바위보 이미지 개수 총합에 주의하세요.\n",
    "    # 가위 : 0, 바위 : 1, 보 : 2\n",
    "    img_size=28\n",
    "    color=3\n",
    "    #이미지 데이터와 라벨(가위 : 0, 바위 : 1, 보 : 2) 데이터를 담을 행렬(matrix) 영역을 생성합니다.\n",
    "    imgs=np.zeros(number_of_data*img_size*img_size*color,dtype=np.int32).reshape(number_of_data,img_size,img_size,color)\n",
    "    labels=np.zeros(number_of_data,dtype=np.int32)\n",
    "\n",
    "    idx=0\n",
    "    for file in glob.iglob(img_path+'/scissor/*.jpg'):\n",
    "        img = np.array(Image.open(file),dtype=np.int32)\n",
    "        imgs[idx,:,:,:]=img    # 데이터 영역에 이미지 행렬을 복사\n",
    "        labels[idx]=0   # 가위 : 0\n",
    "        idx=idx+1\n",
    "\n",
    "    for file in glob.iglob(img_path+'/rock/*.jpg'):\n",
    "        img = np.array(Image.open(file),dtype=np.int32)\n",
    "        imgs[idx,:,:,:]=img    # 데이터 영역에 이미지 행렬을 복사\n",
    "        labels[idx]=1   # 바위 : 1\n",
    "        idx=idx+1  \n",
    "    \n",
    "    for file in glob.iglob(img_path+'/paper/*.jpg'):\n",
    "        img = np.array(Image.open(file),dtype=np.int32)\n",
    "        imgs[idx,:,:,:]=img    # 데이터 영역에 이미지 행렬을 복사\n",
    "        labels[idx]=2   # 보 : 2\n",
    "        idx=idx+1\n",
    "        \n",
    "    print(\"학습데이터(x_train)의 이미지 개수는\", idx,\"입니다.\")\n",
    "    return imgs, labels\n",
    "\n",
    "image_dir_path = os.getenv(\"HOME\") + \"/aiffel/rock_scissor_paper\"\n",
    "(x_train, y_train)=load_data(image_dir_path)\n",
    "x_train_norm = x_train/255.0   # 입력은 0~1 사이의 값으로 정규화\n",
    "\n",
    "print(\"x_train shape: {}\".format(x_train.shape))\n",
    "print(\"y_train shape: {}\".format(y_train.shape))"
   ]
  },
  {
   "cell_type": "markdown",
   "id": "dental-earth",
   "metadata": {},
   "source": [
    "#### 이미지 불러오기 (x_train[0])"
   ]
  },
  {
   "cell_type": "code",
   "execution_count": 162,
   "id": "outstanding-recall",
   "metadata": {
    "scrolled": true
   },
   "outputs": [
    {
     "name": "stdout",
     "output_type": "stream",
     "text": [
      "라벨:  0\n"
     ]
    },
    {
     "data": {
      "image/png": "[encoded data removed]",
      "text/plain": [
       "<Figure size 432x288 with 1 Axes>"
      ]
     },
     "metadata": {
      "needs_background": "light"
     },
     "output_type": "display_data"
    }
   ],
   "source": [
    "import matplotlib.pyplot as plt\n",
    "plt.imshow(x_train[0])\n",
    "print('라벨: ', y_train[0])"
   ]
  },
  {
   "cell_type": "markdown",
   "id": "wrong-antigua",
   "metadata": {},
   "source": [
    "## 딥러닝 네트워크 설계하기"
   ]
  },
  {
   "cell_type": "code",
   "execution_count": 163,
   "id": "incident-acrylic",
   "metadata": {},
   "outputs": [],
   "source": [
    "import tensorflow as tf\n",
    "from tensorflow import keras\n",
    "import numpy as np"
   ]
  },
  {
   "cell_type": "markdown",
   "id": "tamil-recipient",
   "metadata": {},
   "source": [
    "#### 모델 만들기"
   ]
  },
  {
   "cell_type": "code",
   "execution_count": 165,
   "id": "dynamic-shaft",
   "metadata": {
    "scrolled": false
   },
   "outputs": [
    {
     "name": "stdout",
     "output_type": "stream",
     "text": [
      "Model에 추가된 Layer 개수:  9\n",
      "Model: \"sequential_13\"\n",
      "_________________________________________________________________\n",
      "Layer (type)                 Output Shape              Param #   \n",
      "=================================================================\n",
      "conv2d_31 (Conv2D)           (None, 26, 26, 256)       7168      \n",
      "_________________________________________________________________\n",
      "max_pooling2d_31 (MaxPooling (None, 13, 13, 256)       0         \n",
      "_________________________________________________________________\n",
      "conv2d_32 (Conv2D)           (None, 11, 11, 512)       1180160   \n",
      "_________________________________________________________________\n",
      "max_pooling2d_32 (MaxPooling (None, 5, 5, 512)         0         \n",
      "_________________________________________________________________\n",
      "conv2d_33 (Conv2D)           (None, 3, 3, 512)         2359808   \n",
      "_________________________________________________________________\n",
      "max_pooling2d_33 (MaxPooling (None, 1, 1, 512)         0         \n",
      "_________________________________________________________________\n",
      "flatten_13 (Flatten)         (None, 512)               0         \n",
      "_________________________________________________________________\n",
      "dense_26 (Dense)             (None, 50)                25650     \n",
      "_________________________________________________________________\n",
      "dense_27 (Dense)             (None, 3)                 153       \n",
      "=================================================================\n",
      "Total params: 3,572,939\n",
      "Trainable params: 3,572,939\n",
      "Non-trainable params: 0\n",
      "_________________________________________________________________\n"
     ]
    }
   ],
   "source": [
    "\n",
    "n_channel_1=256\n",
    "n_channel_2=512\n",
    "n_channel_3=512\n",
    "n_dense=50\n",
    "n_train_epoch=19\n",
    "\n",
    "model=keras.models.Sequential()\n",
    "model.add(keras.layers.Conv2D(n_channel_1, (3,3), activation='relu', input_shape=(28,28,3)))\n",
    "model.add(keras.layers.MaxPool2D(2,2))\n",
    "model.add(keras.layers.Conv2D(n_channel_2, (3,3), activation='relu'))\n",
    "model.add(keras.layers.MaxPooling2D((2,2)))\n",
    "model.add(keras.layers.Conv2D(n_channel_3, (3,3), activation='relu'))\n",
    "model.add(keras.layers.MaxPooling2D((2,2)))\n",
    "model.add(keras.layers.Flatten())\n",
    "model.add(keras.layers.Dense(n_dense, activation='relu'))\n",
    "#model.add(keras.layers.Dropout(rate=0.3))\n",
    "model.add(keras.layers.Dense(3, activation='softmax'))\n",
    "\n",
    "print('Model에 추가된 Layer 개수: ', len(model.layers))\n",
    "model.summary()  \n"
   ]
  },
  {
   "cell_type": "markdown",
   "id": "widespread-level",
   "metadata": {},
   "source": [
    "## 3. 딥러닝 네트워크 학습시키기"
   ]
  },
  {
   "cell_type": "markdown",
   "id": "healthy-lending",
   "metadata": {},
   "source": [
    "#### 채널수에 대한 정보를 넣기위해 reshape 해주기 => 기존에 채널 수에 대한 정보가 존재하므로 생략해도 상관없어보인다"
   ]
  },
  {
   "cell_type": "code",
   "execution_count": 166,
   "id": "affected-blend",
   "metadata": {},
   "outputs": [
    {
     "name": "stdout",
     "output_type": "stream",
     "text": [
      "Before Reshape - x_train_norm shape: (4107, 28, 28, 3)\n",
      "After Reshape - x_train_reshaped shape: (4107, 28, 28, 3)\n"
     ]
    }
   ],
   "source": [
    "print(\"Before Reshape - x_train_norm shape: {}\".format(x_train_norm.shape))\n",
    "\n",
    "\n",
    "x_train_reshaped=x_train_norm.reshape(-1, 28, 28, 3)  # 데이터갯수에 -1을 쓰면 reshape시 자동계산됩니다.\n",
    "\n",
    "\n",
    "print(\"After Reshape - x_train_reshaped shape: {}\".format(x_train_reshaped.shape))\n",
    "\n"
   ]
  },
  {
   "cell_type": "markdown",
   "id": "cubic-security",
   "metadata": {},
   "source": [
    "#### x_train 학습데이터로 딥러닝 네트워크 학습시키기"
   ]
  },
  {
   "cell_type": "code",
   "execution_count": 167,
   "id": "unknown-diamond",
   "metadata": {
    "scrolled": true
   },
   "outputs": [],
   "source": [
    "model.compile(optimizer='adam',\n",
    "             loss='sparse_categorical_crossentropy',\n",
    "             metrics=['accuracy'])\n"
   ]
  },
  {
   "cell_type": "markdown",
   "id": "advised-grace",
   "metadata": {},
   "source": [
    "#### 이미지 증강(Image Augmentation) :  알고리즘이 이미지의 불변하는 표현(invariant representation)을 학습하는 것"
   ]
  },
  {
   "cell_type": "code",
   "execution_count": 168,
   "id": "stopped-entrepreneur",
   "metadata": {},
   "outputs": [
    {
     "name": "stdout",
     "output_type": "stream",
     "text": [
      "Epoch 1/19\n",
      "128/128 - 24s - loss: 1.0936 - accuracy: 0.3644\n",
      "Epoch 2/19\n",
      "128/128 - 3s - loss: 1.0056 - accuracy: 0.4685\n",
      "Epoch 3/19\n",
      "128/128 - 3s - loss: 0.8258 - accuracy: 0.6133\n",
      "Epoch 4/19\n",
      "128/128 - 3s - loss: 0.6767 - accuracy: 0.7077\n",
      "Epoch 5/19\n",
      "128/128 - 3s - loss: 0.5342 - accuracy: 0.7745\n",
      "Epoch 6/19\n",
      "128/128 - 3s - loss: 0.4359 - accuracy: 0.8270\n",
      "Epoch 7/19\n",
      "128/128 - 3s - loss: 0.3461 - accuracy: 0.8650\n",
      "Epoch 8/19\n",
      "128/128 - 3s - loss: 0.3272 - accuracy: 0.8670\n",
      "Epoch 9/19\n",
      "128/128 - 3s - loss: 0.2706 - accuracy: 0.8935\n",
      "Epoch 10/19\n",
      "128/128 - 3s - loss: 0.2549 - accuracy: 0.8989\n",
      "Epoch 11/19\n",
      "128/128 - 3s - loss: 0.2255 - accuracy: 0.9114\n",
      "Epoch 12/19\n",
      "128/128 - 3s - loss: 0.1937 - accuracy: 0.9244\n",
      "Epoch 13/19\n",
      "128/128 - 3s - loss: 0.1975 - accuracy: 0.9202\n",
      "Epoch 14/19\n",
      "128/128 - 3s - loss: 0.1931 - accuracy: 0.9261\n",
      "Epoch 15/19\n",
      "128/128 - 3s - loss: 0.1481 - accuracy: 0.9423\n",
      "Epoch 16/19\n",
      "128/128 - 3s - loss: 0.1432 - accuracy: 0.9416\n",
      "Epoch 17/19\n",
      "128/128 - 3s - loss: 0.1395 - accuracy: 0.9485\n",
      "Epoch 18/19\n",
      "128/128 - 3s - loss: 0.1349 - accuracy: 0.9475\n",
      "Epoch 19/19\n",
      "128/128 - 3s - loss: 0.1376 - accuracy: 0.9482\n"
     ]
    },
    {
     "data": {
      "text/plain": [
       "<tensorflow.python.keras.callbacks.History at 0x7f8dc790e150>"
      ]
     },
     "execution_count": 168,
     "metadata": {},
     "output_type": "execute_result"
    }
   ],
   "source": [
    "from tensorflow.keras.preprocessing.image import ImageDataGenerator\n",
    "\n",
    "datagen = ImageDataGenerator( rotation_range=10,shear_range=0.5, \n",
    "                             width_shift_range=0.10, height_shift_range=0.10, horizontal_flip=True)\n",
    "\n",
    "\n",
    "\n",
    "model.fit_generator(datagen.flow(x_train_reshaped, y_train,batch_size=32),\n",
    "                    steps_per_epoch=x_train_reshaped.shape[0]//32,epochs=n_train_epoch,\n",
    "                   verbose=2)"
   ]
  },
  {
   "cell_type": "markdown",
   "id": "russian-homework",
   "metadata": {},
   "source": [
    "## 4. 얼마나 잘 만들었지 확인하기"
   ]
  },
  {
   "cell_type": "markdown",
   "id": "improved-alias",
   "metadata": {},
   "source": [
    "#### test셋으로 얼마나 잘 만들었는지 확인하기"
   ]
  },
  {
   "cell_type": "markdown",
   "id": "continent-boulder",
   "metadata": {},
   "source": [
    "#### test용 데이터 불러오기 + Resize 하기"
   ]
  },
  {
   "cell_type": "code",
   "execution_count": 170,
   "id": "expanded-excuse",
   "metadata": {
    "scrolled": false
   },
   "outputs": [
    {
     "name": "stdout",
     "output_type": "stream",
     "text": [
      "209  images to be resized.\n",
      "209  images resized.\n",
      "가위 이미지 resize 완료!\n",
      "209  images to be resized.\n",
      "209  images resized.\n",
      "바위 이미지 resize 완료!\n",
      "209  images to be resized.\n",
      "209  images resized.\n",
      "보 이미지 resize 완료!\n",
      "테스트데이터(x_train)의 이미지 개수는 627 입니다.\n",
      "x_test shape: (627, 28, 28, 3)\n",
      "y_test shape: (627,)\n"
     ]
    }
   ],
   "source": [
    "# 가위 이미지가 저장된 디렉토리 아래의 모든 jpg 파일을 읽어들여서\n",
    "image_dir_path = os.getenv(\"HOME\") + \"/aiffel/rock_scissor_paper/test/scissor\"\n",
    "resize_images(image_dir_path)\n",
    "\n",
    "print(\"가위 이미지 resize 완료!\")\n",
    "\n",
    "\n",
    "image_dir_path = os.getenv(\"HOME\") + \"/aiffel/rock_scissor_paper/test/rock\"\n",
    "# 파일마다 모두 28x28 사이즈로 바꾸어 저장합니다.\n",
    "# [[YOUR CODE]]\n",
    "resize_images(image_dir_path)\n",
    "\n",
    "print(\"바위 이미지 resize 완료!\")\n",
    "\n",
    "image_dir_path = os.getenv(\"HOME\") + \"/aiffel/rock_scissor_paper/test/paper\"\n",
    "# 파일마다 모두 28x28 사이즈로 바꾸어 저장합니다.\n",
    "# [[YOUR CODE]]\n",
    "resize_images(image_dir_path)\n",
    "\n",
    "print(\"보 이미지 resize 완료!\")\n",
    "\n",
    "\n",
    "def load_data(img_path, number_of_data=627):  # 가위바위보 이미지 개수 총합에 주의하세요.\n",
    "    # 가위 : 0, 바위 : 1, 보 : 2\n",
    "    img_size=28\n",
    "    color=3\n",
    "    #이미지 데이터와 라벨(가위 : 0, 바위 : 1, 보 : 2) 데이터를 담을 행렬(matrix) 영역을 생성합니다.\n",
    "    imgs=np.zeros(number_of_data*img_size*img_size*color,dtype=np.int32).reshape(number_of_data,img_size,img_size,color)\n",
    "    labels=np.zeros(number_of_data,dtype=np.int32)\n",
    "\n",
    "    idx=0\n",
    "    for file in glob.iglob(img_path+'/scissor/*.jpg'):\n",
    "        img = np.array(Image.open(file),dtype=np.int32)\n",
    "        imgs[idx,:,:,:]=img    # 데이터 영역에 이미지 행렬을 복사\n",
    "        labels[idx]=0   # 가위 : 0\n",
    "        idx=idx+1\n",
    "\n",
    "    for file in glob.iglob(img_path+'/rock/*.jpg'):\n",
    "        img = np.array(Image.open(file),dtype=np.int32)\n",
    "        imgs[idx,:,:,:]=img    # 데이터 영역에 이미지 행렬을 복사\n",
    "        labels[idx]=1   # 바위 : 1\n",
    "        idx=idx+1  \n",
    "    \n",
    "    for file in glob.iglob(img_path+'/paper/*.jpg'):\n",
    "        img = np.array(Image.open(file),dtype=np.int32)\n",
    "        imgs[idx,:,:,:]=img    # 데이터 영역에 이미지 행렬을 복사\n",
    "        labels[idx]=2   # 보 : 2\n",
    "        idx=idx+1\n",
    "        \n",
    "    print(\"테스트데이터(x_train)의 이미지 개수는\", idx,\"입니다.\")\n",
    "    return imgs, labels\n",
    "\n",
    "image_dir_path = os.getenv(\"HOME\") + \"/aiffel/rock_scissor_paper/test\"\n",
    "(x_test, y_test)=load_data(image_dir_path)\n",
    "x_test_norm = x_test/255.0   # 입력은 0~1 사이의 값으로 정규화\n",
    "\n",
    "print(\"x_test shape: {}\".format(x_test.shape))\n",
    "print(\"y_test shape: {}\".format(y_test.shape))"
   ]
  },
  {
   "cell_type": "markdown",
   "id": "speaking-stanley",
   "metadata": {},
   "source": [
    "#### 이미지 불러오기(x_test[58])"
   ]
  },
  {
   "cell_type": "code",
   "execution_count": 173,
   "id": "equipped-moderator",
   "metadata": {},
   "outputs": [
    {
     "name": "stdout",
     "output_type": "stream",
     "text": [
      "라벨:  0\n"
     ]
    },
    {
     "data": {
      "image/png": "[encoded data removed]",
      "text/plain": [
       "<Figure size 432x288 with 1 Axes>"
      ]
     },
     "metadata": {
      "needs_background": "light"
     },
     "output_type": "display_data"
    }
   ],
   "source": [
    "import matplotlib.pyplot as plt\n",
    "plt.imshow(x_test[58])\n",
    "print('라벨: ', y_test[58])"
   ]
  },
  {
   "cell_type": "markdown",
   "id": "simple-pregnancy",
   "metadata": {},
   "source": [
    "#### 훈련시킨 model을 사용하여 test_accuracy 측정하기"
   ]
  },
  {
   "cell_type": "code",
   "execution_count": 172,
   "id": "threatened-harmony",
   "metadata": {},
   "outputs": [
    {
     "name": "stdout",
     "output_type": "stream",
     "text": [
      "20/20 - 5s - loss: 2.4817 - accuracy: 0.6013\n",
      "test_loss: 2.481746196746826 \n",
      "test_accuracy: 0.6012759208679199\n"
     ]
    }
   ],
   "source": [
    "test_loss, test_accuracy = model.evaluate(x_test_norm,y_test, verbose=2)\n",
    "print(\"test_loss: {} \".format(test_loss))\n",
    "print(\"test_accuracy: {}\".format(test_accuracy))"
   ]
  },
  {
   "cell_type": "code",
   "execution_count": null,
   "id": "substantial-america",
   "metadata": {},
   "outputs": [],
   "source": []
  },
  {
   "cell_type": "markdown",
   "id": "resistant-monthly",
   "metadata": {},
   "source": [
    "## <회고>"
   ]
  },
  {
   "cell_type": "markdown",
   "id": "caring-interpretation",
   "metadata": {},
   "source": []
  },
  {
   "cell_type": "code",
   "execution_count": null,
   "id": "sporting-consent",
   "metadata": {},
   "outputs": [],
   "source": []
  },
  {
   "cell_type": "code",
   "execution_count": null,
   "id": "harmful-category",
   "metadata": {},
   "outputs": [],
   "source": []
  },
  {
   "cell_type": "code",
   "execution_count": null,
   "id": "mineral-scholar",
   "metadata": {},
   "outputs": [],
   "source": []
  }
 ],
 "metadata": {
  "kernelspec": {
   "display_name": "Python 3",
   "language": "python",
   "name": "python3"
  },
  "language_info": {
   "codemirror_mode": {
    "name": "ipython",
    "version": 3
   },
   "file_extension": ".py",
   "mimetype": "text/x-python",
   "name": "python",
   "nbconvert_exporter": "python",
   "pygments_lexer": "ipython3",
   "version": "3.7.9"
  }
 },
 "nbformat": 4,
 "nbformat_minor": 5
}
